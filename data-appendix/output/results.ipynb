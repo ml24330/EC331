{
 "cells": [
  {
   "cell_type": "code",
   "execution_count": 1,
   "metadata": {},
   "outputs": [],
   "source": [
    "import sys\n",
    "import numpy as np\n",
    "import json\n",
    "import os\n",
    "\n",
    "sys.path.append('../')\n",
    "\n",
    "from functions import *"
   ]
  },
  {
   "cell_type": "code",
   "execution_count": 11,
   "metadata": {},
   "outputs": [],
   "source": [
    "prefixed = [filename for filename in os.listdir(\"./final dumps\") if filename.startswith(\"bootstrap_main\")]\n",
    "\n",
    "results = []\n",
    "\n",
    "for name in prefixed:\n",
    "    with open(f\"./final dumps/{name}\", \"r\") as f:\n",
    "        d = json.load(f)\n",
    "        covariates = d[\"covariates\"]\n",
    "        median_lower = d[\"lower\"]\n",
    "        median_upper = d[\"upper\"]\n",
    "        results.append((covariates, median_lower, median_upper))"
   ]
  },
  {
   "cell_type": "code",
   "execution_count": 13,
   "metadata": {},
   "outputs": [],
   "source": [
    "percentile = lambda p: np.percentile(np.array(covariates), p)\n",
    "\n",
    "cef1 = lambda c, cov: c[0]*(1-cov[0])+c[1]*cov[0]+c[2]*cov[1]*(1-cov[0])+c[3]*cov[1]*cov[0]\n",
    "n_cov1 = 4\n",
    "\n",
    "def cef2(c, cov):\n",
    "    low = int(cov[1] >= percentile(0) and cov[1] < percentile(91.5))\n",
    "    high = int(cov[1] >= percentile(91.5) and cov[1] <= percentile(100))\n",
    "    return c[0]*cov[0] + c[1]*(1-cov[0]) + c[2]*cov[0]*high + c[3]*(1-cov[0])*high\n",
    "n_cov2 = 4\n",
    "\n",
    "def cef3(c,cov):\n",
    "    feedback = np.exp(cov[1])-1\n",
    "    return c[0]*(1-cov[0]) + c[1]*cov[0] + c[2]*feedback*(1-cov[0]) + c[3]*feedback*cov[0] + \\\n",
    "        c[4]*feedback**2*(1-cov[0]) + c[5]*feedback**2*cov[0]\n",
    "n_cov3 = 6\n",
    "\n",
    "def cef4(c,cov):\n",
    "    feedback = np.exp(cov[1])-1\n",
    "    return c[0]*(1-cov[0]) + c[1]*cov[0] + c[2]*feedback*(1-cov[0]) + c[3]*feedback*cov[0] + \\\n",
    "        c[4]*feedback**2*(1-cov[0]) + c[5]*feedback**2*cov[0] + c[6]*feedback**3*(1-cov[0]) + \\\n",
    "        c[7]*feedback**3*cov[0]\n",
    "n_cov3 = 8"
   ]
  },
  {
   "cell_type": "code",
   "execution_count": 19,
   "metadata": {},
   "outputs": [],
   "source": [
    "def loss_function2(c):\n",
    "    cef = lambda cov: cef2(c, cov)\n",
    "    print(c)\n",
    "    return get_loss_function(results[1][0], results[1][1], results[1][2], cef)"
   ]
  },
  {
   "cell_type": "code",
   "execution_count": 27,
   "metadata": {},
   "outputs": [
    {
     "name": "stdout",
     "output_type": "stream",
     "text": [
      "0.0005822129987791413\n"
     ]
    }
   ],
   "source": [
    "from time import perf_counter\n",
    "\n",
    "s = perf_counter()\n",
    "for i in range(700):\n",
    "    i**3\n",
    "print(perf_counter()-s)"
   ]
  },
  {
   "cell_type": "code",
   "execution_count": 22,
   "metadata": {},
   "outputs": [
    {
     "name": "stdout",
     "output_type": "stream",
     "text": [
      "[1, 1, 1, 1]\n"
     ]
    },
    {
     "data": {
      "text/plain": [
       "1085.0864849835634"
      ]
     },
     "execution_count": 22,
     "metadata": {},
     "output_type": "execute_result"
    }
   ],
   "source": [
    "from time import perf_counter\n",
    "\n",
    "loss_function2([1,1,1,1])"
   ]
  },
  {
   "cell_type": "code",
   "execution_count": 16,
   "metadata": {},
   "outputs": [],
   "source": [
    "estimates1 = []\n",
    "estimates2 = []\n",
    "\n",
    "for i, result in enumerate(results):\n",
    "    \n",
    "    def loss_function1(c):\n",
    "        cef = lambda cov: cef1(c, cov)\n",
    "        return get_loss_function(result[0], result[1], result[2], cef)\n",
    "    \n",
    "    point1, interval1 = get_estimates(loss_function1, n_cov1)\n",
    "#     print(interval1)\n",
    "    \n",
    "    estimates1.append(interval1)\n",
    "    \n",
    "    \n",
    "#     def loss_function2(c):\n",
    "#         cef = lambda cov: cef2(c, cov)\n",
    "#         return get_loss_function(result[0], result[1], result[2], cef)\n",
    "    \n",
    "#     point2, interval2 = get_estimates(loss_function2, n_cov2)\n",
    "#     print(interval2)\n",
    "    \n",
    "#     estimates2.append(interval2)\n",
    "    "
   ]
  },
  {
   "cell_type": "code",
   "execution_count": 17,
   "metadata": {},
   "outputs": [
    {
     "name": "stdout",
     "output_type": "stream",
     "text": [
      "95% confidence interval for a:\n",
      "[-1.1865814956398697, -0.2569725435499196]\n",
      "95% confidence interval for a2:\n",
      "[-3.354556926711658, 0.008372027502344021]\n",
      "95% confidence interval for b:\n",
      "[0.02163135485781623, 0.15772463467297296]\n",
      "95% confidence interval for b2:\n",
      "[-0.007395051600975394, 0.308763513574974]\n"
     ]
    }
   ],
   "source": [
    "a_lower = [e[0] for e in estimates1]\n",
    "a_upper = [e[1] for e in estimates1]\n",
    "a2_lower = [e[2] for e in estimates1]\n",
    "a2_upper = [e[3] for e in estimates1]\n",
    "b_lower = [e[4] for e in estimates1]\n",
    "b_upper = [e[5] for e in estimates1]\n",
    "b2_lower = [e[6] for e in estimates1]\n",
    "b2_upper = [e[7] for e in estimates1]\n",
    "\n",
    "print(\"95% confidence interval for a:\")\n",
    "print(f\"[{np.percentile(a_lower, 2.5)}, {np.percentile(a_upper, 97.5)}]\")\n",
    "\n",
    "print(\"95% confidence interval for a2:\")\n",
    "print(f\"[{np.percentile(a2_lower, 2.5)}, {np.percentile(a2_upper, 97.5)}]\")\n",
    "\n",
    "print(\"95% confidence interval for b:\")\n",
    "print(f\"[{np.percentile(b_lower, 2.5)}, {np.percentile(b_upper, 97.5)}]\")\n",
    "\n",
    "print(\"95% confidence interval for b2:\")\n",
    "print(f\"[{np.percentile(b2_lower, 2.5)}, {np.percentile(b2_upper, 97.5)}]\")"
   ]
  },
  {
   "cell_type": "code",
   "execution_count": 31,
   "metadata": {},
   "outputs": [],
   "source": [
    "c0_lower1 = [e[0] for e in estimates1]\n",
    "c0_upper1 = [e[1] for e in estimates1]\n",
    "c1_lower1 = [e[2] for e in estimates1]\n",
    "c1_upper1 = [e[3] for e in estimates1]\n",
    "c2_lower1 = [e[4] for e in estimates1]\n",
    "c2_upper1 = [e[5] for e in estimates1]\n",
    "c3_lower1 = [e[6] for e in estimates1]\n",
    "c3_upper1 = [e[7] for e in estimates1]"
   ]
  },
  {
   "cell_type": "code",
   "execution_count": 34,
   "metadata": {},
   "outputs": [
    {
     "name": "stdout",
     "output_type": "stream",
     "text": [
      "c0: [-1.1438769546955532, -0.21484968075437189]\n",
      "c1: [-3.007696430111329, -0.2498179077796555]\n",
      "c2: [0.031010737447792085, 0.14820856783630998]\n",
      "c3: [0.009367319324892874, 0.2720486568158093]\n"
     ]
    }
   ],
   "source": [
    "print(f\"c0: [{np.percentile(c0_lower1, 2.5)}, {np.percentile(c0_upper1, 97.5)}]\")\n",
    "print(f\"c1: [{np.percentile(c1_lower1, 2.5)}, {np.percentile(c1_upper1, 97.5)}]\")\n",
    "print(f\"c2: [{np.percentile(c2_lower1, 2.5)}, {np.percentile(c2_upper1, 97.5)}]\")\n",
    "print(f\"c3: [{np.percentile(c3_lower1, 2.5)}, {np.percentile(c3_upper1, 97.5)}]\")"
   ]
  },
  {
   "cell_type": "code",
   "execution_count": 35,
   "metadata": {},
   "outputs": [
    {
     "name": "stdout",
     "output_type": "stream",
     "text": [
      "c0: [-1.0824604248970362, -0.3167180977774851]\n",
      "c1: [-2.887517630330213, -0.28083685174924744]\n",
      "c2: [0.040184967400121174, 0.1359385262146973]\n",
      "c3: [0.011351974696634532, 0.2601844999718078]\n"
     ]
    }
   ],
   "source": [
    "print(f\"c0: [{np.percentile(c0_lower1, 5)}, {np.percentile(c0_upper1, 95)}]\")\n",
    "print(f\"c1: [{np.percentile(c1_lower1, 5)}, {np.percentile(c1_upper1, 95)}]\")\n",
    "print(f\"c2: [{np.percentile(c2_lower1, 5)}, {np.percentile(c2_upper1, 95)}]\")\n",
    "print(f\"c3: [{np.percentile(c3_lower1, 5)}, {np.percentile(c3_upper1, 95)}]\")"
   ]
  },
  {
   "cell_type": "code",
   "execution_count": null,
   "metadata": {},
   "outputs": [],
   "source": [
    "c0_lower2 = [e[0] for e in estimates2]\n",
    "c0_upper2 = [e[1] for e in estimates2]\n",
    "c1_lower2 = [e[2] for e in estimates2]\n",
    "c1_upper2 = [e[3] for e in estimates2]\n",
    "c2_lower2 = [e[4] for e in estimates2]\n",
    "c2_upper2 = [e[5] for e in estimates2]\n",
    "c3_lower2 = [e[6] for e in estimates2]\n",
    "c3_upper2 = [e[7] for e in estimates2]"
   ]
  },
  {
   "cell_type": "code",
   "execution_count": null,
   "metadata": {},
   "outputs": [],
   "source": [
    "print(f\"c0: [{np.percentile(c0_lower2, 2.5)}, {np.percentile(c0_upper2, 97.5)}]\")\n",
    "print(f\"c1: [{np.percentile(c1_lower2, 2.5)}, {np.percentile(c1_upper2, 97.5)}]\")\n",
    "print(f\"c2: [{np.percentile(c2_lower2, 2.5)}, {np.percentile(c2_upper2, 97.5)}]\")\n",
    "print(f\"c3: [{np.percentile(c3_lower2, 2.5)}, {np.percentile(c3_upper2, 97.5)}]\")"
   ]
  },
  {
   "cell_type": "code",
   "execution_count": 9,
   "metadata": {},
   "outputs": [
    {
     "name": "stdout",
     "output_type": "stream",
     "text": [
      "[-0.62927241 -0.68833565  0.2191079   0.21371192]\n",
      "[-0.6310305399130508, -0.6275197196464853, -0.6903548399814075, -0.6863105212481744, 0.21664061440503107, 0.22157520490644744, 0.21097234125906592, 0.2164515191710961]\n"
     ]
    }
   ],
   "source": [
    "def loss_function2(c):\n",
    "    cef = lambda cov: cef2(c, cov)\n",
    "    return get_loss_function(covariates, median_upper, median_lower, cef)\n",
    "\n",
    "point2, interval2 = get_estimates(loss_function2, n_cov2)\n",
    "\n",
    "print(point2)\n",
    "print(interval2)"
   ]
  },
  {
   "cell_type": "code",
   "execution_count": null,
   "metadata": {},
   "outputs": [],
   "source": [
    "def loss_function3(c):\n",
    "    cef = lambda cov: cef3(c, cov)\n",
    "    return get_loss_function(covariates, median_upper, median_lower, cef)\n",
    "\n",
    "point3, interval3 = get_estimates(loss_function3, n_cov3)\n",
    "\n",
    "print(point3)\n",
    "print(interval3)"
   ]
  },
  {
   "cell_type": "code",
   "execution_count": null,
   "metadata": {},
   "outputs": [],
   "source": [
    "def loss_function4(c):\n",
    "    cef = lambda cov: cef3(c, cov)\n",
    "    return get_loss_function(covariates, median_upper, median_lower, cef)\n",
    "\n",
    "point4, interval4 = get_estimates(loss_function4, n_cov4)\n",
    "\n",
    "print(point4)\n",
    "print(interval4)"
   ]
  }
 ],
 "metadata": {
  "kernelspec": {
   "display_name": "Python 3",
   "language": "python",
   "name": "python3"
  },
  "language_info": {
   "codemirror_mode": {
    "name": "ipython",
    "version": 3
   },
   "file_extension": ".py",
   "mimetype": "text/x-python",
   "name": "python",
   "nbconvert_exporter": "python",
   "pygments_lexer": "ipython3",
   "version": "3.8.5"
  }
 },
 "nbformat": 4,
 "nbformat_minor": 5
}
