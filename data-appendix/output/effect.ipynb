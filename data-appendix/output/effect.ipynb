{
 "cells": [
  {
   "cell_type": "code",
   "execution_count": 2,
   "metadata": {},
   "outputs": [
    {
     "name": "stderr",
     "output_type": "stream",
     "text": [
      "/Users/liumukun/anaconda3/lib/python3.8/site-packages/pandas/core/computation/expressions.py:20: UserWarning: Pandas requires version '2.7.3' or newer of 'numexpr' (version '2.7.1' currently installed).\n",
      "  from pandas.core.computation.check import NUMEXPR_INSTALLED\n"
     ]
    }
   ],
   "source": [
    "import sys\n",
    "import pandas as pd\n",
    " \n",
    "sys.path.append('../')\n",
    "\n",
    "from functions import *\n",
    "\n",
    "df = pd.read_csv(\"../../data/listings.csv\", usecols=[\"id\", \"apple\", \"samsung\", \"amazon\", \"others\", \"sellerFeedbackScore\", \"isSold\", \"isPolice\", \"price\"])\n",
    "df = df[(df.isPolice == 0) & (df.isSold == 1)]"
   ]
  },
  {
   "cell_type": "code",
   "execution_count": 3,
   "metadata": {},
   "outputs": [],
   "source": [
    "def calculate(row):\n",
    "    R = row.sellerFeedbackScore\n",
    "    min_cost_c = max(0.2-0.107*R,0)\n",
    "    min_cost = max(0.458-0.078*R,0)\n",
    "    max_cost = max(0.661-0.074*R,0)\n",
    "    max_cost_c = max(0.76-0.011*R,0)\n",
    "    \n",
    "    std = 0\n",
    "    \n",
    "    if row.apple == 1:\n",
    "        std = 298.1\n",
    "    elif row.samsung == 1:\n",
    "        std = 47.758\n",
    "    elif row.amazon == 1:\n",
    "        std = 17.49\n",
    "    elif row.others == 1:\n",
    "        std = 21.31\n",
    "        \n",
    "    min_cost_c = min_cost_c*std\n",
    "    min_cost = min_cost*std\n",
    "    max_cost = max_cost*std\n",
    "    max_cost_c = max_cost_c*std\n",
    "    \n",
    "    return (min_cost_c, min_cost, max_cost, max_cost_c)"
   ]
  },
  {
   "cell_type": "code",
   "execution_count": 4,
   "metadata": {},
   "outputs": [],
   "source": [
    "df2 = df.apply(calculate, axis=1, result_type=\"expand\")\n",
    "df2.columns = (\"min_cost_c\", \"min_cost\", \"max_cost\", \"max_cost_c\")\n",
    "\n",
    "df = pd.concat([df, df2], axis=1)"
   ]
  },
  {
   "cell_type": "code",
   "execution_count": 5,
   "metadata": {},
   "outputs": [],
   "source": [
    "apple = df[df.apple == 1]\n",
    "amazon = df[df.amazon == 1]\n",
    "samsung = df[df.samsung == 1]\n",
    "others = df[df.others == 1]"
   ]
  },
  {
   "cell_type": "markdown",
   "metadata": {},
   "source": [
    "Table 9 Total - Percentage"
   ]
  },
  {
   "cell_type": "code",
   "execution_count": 6,
   "metadata": {
    "scrolled": true
   },
   "outputs": [
    {
     "data": {
      "text/plain": [
       "min_cost_c      0.129712\n",
       "min_cost        0.655698\n",
       "max_cost        1.358268\n",
       "max_cost_c      5.388223\n",
       "price         100.000000\n",
       "dtype: float64"
      ]
     },
     "execution_count": 6,
     "metadata": {},
     "output_type": "execute_result"
    }
   ],
   "source": [
    "df[[\"min_cost_c\", \"min_cost\", \"max_cost\", \"max_cost_c\", \"price\"]].sum()*100/df.price.sum()"
   ]
  },
  {
   "cell_type": "markdown",
   "metadata": {},
   "source": [
    "Table 9 Total - Nominal"
   ]
  },
  {
   "cell_type": "code",
   "execution_count": 9,
   "metadata": {},
   "outputs": [
    {
     "data": {
      "text/plain": [
       "min_cost_c      0.247388\n",
       "min_cost        1.250549\n",
       "max_cost        2.590492\n",
       "max_cost_c     10.276431\n",
       "price         190.720214\n",
       "dtype: float64"
      ]
     },
     "execution_count": 9,
     "metadata": {},
     "output_type": "execute_result"
    }
   ],
   "source": [
    "df[[\"min_cost_c\", \"min_cost\", \"max_cost\", \"max_cost_c\", \"price\"]].sum()/df.shape[0]"
   ]
  },
  {
   "cell_type": "markdown",
   "metadata": {},
   "source": [
    "Table 9 Others - Percentage"
   ]
  },
  {
   "cell_type": "code",
   "execution_count": 7,
   "metadata": {
    "scrolled": true
   },
   "outputs": [
    {
     "data": {
      "text/plain": [
       "min_cost_c      0.187821\n",
       "min_cost        0.537181\n",
       "max_cost        0.932695\n",
       "max_cost_c      3.984627\n",
       "price         100.000000\n",
       "dtype: float64"
      ]
     },
     "execution_count": 7,
     "metadata": {},
     "output_type": "execute_result"
    }
   ],
   "source": [
    "others[[\"min_cost_c\", \"min_cost\", \"max_cost\", \"max_cost_c\", \"price\"]].sum()*100/others.price.sum()"
   ]
  },
  {
   "cell_type": "markdown",
   "metadata": {},
   "source": [
    "Table 9 Others - Nominal"
   ]
  },
  {
   "cell_type": "code",
   "execution_count": 11,
   "metadata": {},
   "outputs": [
    {
     "data": {
      "text/plain": [
       "min_cost_c     0.069376\n",
       "min_cost       0.198420\n",
       "max_cost       0.344512\n",
       "max_cost_c     1.471811\n",
       "price         36.937222\n",
       "dtype: float64"
      ]
     },
     "execution_count": 11,
     "metadata": {},
     "output_type": "execute_result"
    }
   ],
   "source": [
    "others[[\"min_cost_c\", \"min_cost\", \"max_cost\", \"max_cost_c\", \"price\"]].sum()/others.shape[0]"
   ]
  },
  {
   "cell_type": "markdown",
   "metadata": {},
   "source": [
    "Table 9 Apple - Percentage"
   ]
  },
  {
   "cell_type": "code",
   "execution_count": 9,
   "metadata": {
    "scrolled": false
   },
   "outputs": [
    {
     "data": {
      "text/plain": [
       "min_cost_c      0.133272\n",
       "min_cost        0.706168\n",
       "max_cost        1.489260\n",
       "max_cost_c      5.704342\n",
       "price         100.000000\n",
       "dtype: float64"
      ]
     },
     "execution_count": 9,
     "metadata": {},
     "output_type": "execute_result"
    }
   ],
   "source": [
    "apple[[\"min_cost_c\", \"min_cost\", \"max_cost\", \"max_cost_c\", \"price\"]].sum()*100/apple.price.sum()"
   ]
  },
  {
   "cell_type": "markdown",
   "metadata": {},
   "source": [
    "Table 9 Apple - Nominal"
   ]
  },
  {
   "cell_type": "code",
   "execution_count": 12,
   "metadata": {},
   "outputs": [
    {
     "data": {
      "text/plain": [
       "min_cost_c      0.722319\n",
       "min_cost        3.827354\n",
       "max_cost        8.071631\n",
       "max_cost_c     30.916931\n",
       "price         541.989441\n",
       "dtype: float64"
      ]
     },
     "execution_count": 12,
     "metadata": {},
     "output_type": "execute_result"
    }
   ],
   "source": [
    "apple[[\"min_cost_c\", \"min_cost\", \"max_cost\", \"max_cost_c\", \"price\"]].sum()/apple.shape[0]"
   ]
  },
  {
   "cell_type": "markdown",
   "metadata": {},
   "source": [
    "Table 9 Amazon - Percentage"
   ]
  },
  {
   "cell_type": "code",
   "execution_count": 15,
   "metadata": {
    "scrolled": true
   },
   "outputs": [
    {
     "data": {
      "text/plain": [
       "min_cost_c      0.012818\n",
       "min_cost        0.175865\n",
       "max_cost        0.411270\n",
       "max_cost_c      3.023609\n",
       "price         100.000000\n",
       "dtype: float64"
      ]
     },
     "execution_count": 15,
     "metadata": {},
     "output_type": "execute_result"
    }
   ],
   "source": [
    "amazon[[\"min_cost_c\", \"min_cost\", \"max_cost\", \"max_cost_c\", \"price\"]].sum()*100/amazon.price.sum()"
   ]
  },
  {
   "cell_type": "markdown",
   "metadata": {},
   "source": [
    "Table 9 Amazon - Nominal"
   ]
  },
  {
   "cell_type": "code",
   "execution_count": 13,
   "metadata": {},
   "outputs": [
    {
     "data": {
      "text/plain": [
       "min_cost_c     0.004292\n",
       "min_cost       0.058885\n",
       "max_cost       0.137705\n",
       "max_cost_c     1.012389\n",
       "price         33.482823\n",
       "dtype: float64"
      ]
     },
     "execution_count": 13,
     "metadata": {},
     "output_type": "execute_result"
    }
   ],
   "source": [
    "amazon[[\"min_cost_c\", \"min_cost\", \"max_cost\", \"max_cost_c\", \"price\"]].sum()/amazon.shape[0]"
   ]
  },
  {
   "cell_type": "markdown",
   "metadata": {},
   "source": [
    "Table 9 Samsung - Percentage"
   ]
  },
  {
   "cell_type": "code",
   "execution_count": 11,
   "metadata": {},
   "outputs": [
    {
     "data": {
      "text/plain": [
       "min_cost_c      0.176208\n",
       "min_cost        0.571322\n",
       "max_cost        0.925542\n",
       "max_cost_c      4.486082\n",
       "price         100.000000\n",
       "dtype: float64"
      ]
     },
     "execution_count": 11,
     "metadata": {},
     "output_type": "execute_result"
    }
   ],
   "source": [
    "samsung[[\"min_cost_c\", \"min_cost\", \"max_cost\", \"max_cost_c\", \"price\"]].sum()*100/samsung.price.sum()"
   ]
  },
  {
   "cell_type": "markdown",
   "metadata": {},
   "source": [
    "Table 9 Samsung - Nominal"
   ]
  },
  {
   "cell_type": "code",
   "execution_count": 14,
   "metadata": {},
   "outputs": [
    {
     "data": {
      "text/plain": [
       "min_cost_c     0.124383\n",
       "min_cost       0.403290\n",
       "max_cost       0.653329\n",
       "max_cost_c     3.166674\n",
       "price         70.588844\n",
       "dtype: float64"
      ]
     },
     "execution_count": 14,
     "metadata": {},
     "output_type": "execute_result"
    }
   ],
   "source": [
    "samsung[[\"min_cost_c\", \"min_cost\", \"max_cost\", \"max_cost_c\", \"price\"]].sum()/samsung.shape[0]"
   ]
  }
 ],
 "metadata": {
  "kernelspec": {
   "display_name": "Python 3",
   "language": "python",
   "name": "python3"
  },
  "language_info": {
   "codemirror_mode": {
    "name": "ipython",
    "version": 3
   },
   "file_extension": ".py",
   "mimetype": "text/x-python",
   "name": "python",
   "nbconvert_exporter": "python",
   "pygments_lexer": "ipython3",
   "version": "3.8.5"
  }
 },
 "nbformat": 4,
 "nbformat_minor": 4
}
