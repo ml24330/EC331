{
 "cells": [
  {
   "cell_type": "markdown",
   "metadata": {},
   "source": [
    "Here we estimate the following conditional expectation function:\n",
    "$$\n",
    "\\mathbb{E}[valuation_i|ispolice_i]=\\alpha+\\beta_1 ispolice_i,\n",
    "$$\n",
    "using listings of apple tablets where the number of bids received is strictly between 3 and 12."
   ]
  },
  {
   "cell_type": "code",
   "execution_count": 1,
   "metadata": {},
   "outputs": [],
   "source": [
    "import pandas as pd\n",
    "import numpy as np\n",
    "from scipy import optimize\n",
    "from main import estimate_mean, get_loss_function\n",
    "\n",
    "data = pd.read_csv(\"../../data/demeaned.csv\")\n",
    "df = data.groupby([\"id\", \"ispolice\", \"sellerfeedbackscore\", \"bidcount\", \"apple\", \"amazon\"])[\"bids\"].apply(lambda x: x.values).reset_index()"
   ]
  },
  {
   "cell_type": "code",
   "execution_count": 2,
   "metadata": {},
   "outputs": [],
   "source": [
    "apple_bids = list(df[(df.apple == 1) & (df.ispolice == 1)].bidcount.value_counts().index)\n",
    "include = df[(df.bidcount > 3) & (df.bidcount < 12) & (df.apple == 1) & (df.bidcount.isin(apple_bids))]\n",
    "\n",
    "bids = list(include.bids)\n",
    "covariates = [[cov] for cov in list(include.ispolice)]"
   ]
  },
  {
   "cell_type": "code",
   "execution_count": 3,
   "metadata": {},
   "outputs": [
    {
     "name": "stdout",
     "output_type": "stream",
     "text": [
      "calculating values for covariate: [0] (1/100)\n",
      "total time elapsed: 0.00021305900000001543s\n"
     ]
    },
    {
     "name": "stderr",
     "output_type": "stream",
     "text": [
      "/Users/liumukun/anaconda3/lib/python3.8/site-packages/scipy/stats/_distn_infrastructure.py:1695: IntegrationWarning: The maximum number of subdivisions (50) has been achieved.\n",
      "  If increasing the limit yields no improvement it is advised to analyze \n",
      "  the integrand in order to determine the difficulties.  If the position of a \n",
      "  local difficulty can be determined (singularity, discontinuity) one will \n",
      "  probably gain from splitting up the interval and calling the integrator \n",
      "  on the subranges.  Perhaps a special-purpose integrator should be used.\n",
      "  return integrate.quad(self._mom_integ1, 0, 1, args=(m,)+args)[0]\n"
     ]
    },
    {
     "name": "stdout",
     "output_type": "stream",
     "text": [
      "calculating values for covariate: [1] (2/100)\n",
      "total time elapsed: 44.186143634s\n"
     ]
    }
   ],
   "source": [
    "expected_upper, expected_lower = estimate_mean(bids, covariates, (0,9))"
   ]
  },
  {
   "cell_type": "code",
   "execution_count": 4,
   "metadata": {},
   "outputs": [],
   "source": [
    "def loss_function(c):\n",
    "    a, b = c\n",
    "    cef = lambda cov: a+b*cov[0]\n",
    "    return get_loss_function(covariates, expected_upper, expected_lower, cef)\n",
    "\n",
    "b_hat = optimize.brute(loss_function, ranges=[(0,2), (-1,1)])\n",
    "# interval_lower = optimize.newton(lambda a_l, b_l: loss_function(a_l, b_l)-loss_function(b_hat)-10, b_hat-0.1)\n",
    "# interval_upper = optimize.newton(lambda b_l, b_u: loss_function(b_l, b_u)-loss_function(b_hat)-10, b_hat+0.1)"
   ]
  },
  {
   "cell_type": "code",
   "execution_count": 10,
   "metadata": {},
   "outputs": [
    {
     "data": {
      "text/plain": [
       "array([0.47368421, 0.65131579])"
      ]
     },
     "execution_count": 10,
     "metadata": {},
     "output_type": "execute_result"
    }
   ],
   "source": [
    "b_hat"
   ]
  },
  {
   "cell_type": "code",
   "execution_count": 5,
   "metadata": {},
   "outputs": [],
   "source": [
    "import matplotlib.pyplot as plt\n",
    "\n",
    "plt.style.use('seaborn-pastel')\n",
    "plt.rcParams['figure.figsize'] = (8,5)\n",
    "plt.rcParams['figure.dpi'] = 500\n",
    "plt.rcParams['text.color'] = 'black'\n",
    "plt.rcParams['axes.labelcolor'] = 'black'\n",
    "plt.rcParams['xtick.color'] = 'black'\n",
    "plt.rcParams['ytick.color'] = 'black'\n",
    "plt.rcParams['axes.titlepad'] = 10\n",
    "plt.rcParams['axes.titleweight'] = 1000\n",
    "plt.rcParams['axes.labelpad'] = 5\n",
    "plt.rcParams['font.family'] = 'serif'\n",
    "plt.rcParams['axes.facecolor'] = 'white'"
   ]
  },
  {
   "cell_type": "code",
   "execution_count": 9,
   "metadata": {
    "scrolled": true
   },
   "outputs": [],
   "source": [
    "from scipy import interpolate\n",
    "import matplotlib.pyplot as plt\n",
    "\n",
    "fig, ax = plt.subplots()\n",
    "\n",
    "vals = np.linspace(0,5,num=100)\n",
    "\n",
    "int_cdf_u_police = interpolate.interp1d(np.linspace(0,9,num=100), u_cdfs[\"[1]\"], bounds_error=False, fill_value=(0,1))\n",
    "plt.plot(vals, [int_cdf_u_police(v) for v in vals], label=\"Police auctions upper bound\", color=\"red\")\n",
    "\n",
    "int_cdf_l_police = interpolate.interp1d(np.linspace(0,9,num=100), l_cdfs[\"[1]\"], bounds_error=False, fill_value=(0,1))\n",
    "plt.plot(vals, [int_cdf_l_police(v) for v in vals], label=\"Police auctions lower bound\", color=\"red\", linestyle=\"--\")\n",
    "\n",
    "int_cdf_u_not = interpolate.interp1d(np.linspace(0,9,num=100), u_cdfs[\"[0]\"], bounds_error=False, fill_value=(0,1))\n",
    "plt.plot(vals, [int_cdf_u_not(v) for v in vals], label=\"Non-police auctions upper bound\", color=\"blue\")\n",
    "\n",
    "int_cdf_l_not = interpolate.interp1d(np.linspace(0,9,num=100), l_cdfs[\"[0]\"], bounds_error=False, fill_value=(0,1))\n",
    "plt.plot(vals, [int_cdf_l_not(v) for v in vals], label=\"Non-police auctions lower bound\", color=\"blue\", linestyle=\"--\")\n",
    "\n",
    "plt.ylabel(\"Cumulative probability\")\n",
    "plt.xlabel(\"Bidder valuation\")\n",
    "plt.legend()\n",
    "\n",
    "plt.tight_layout()\n",
    "fig.savefig(\"cef1_apple.png\", dpi=fig.dpi, bbox_inches=\"tight\")\n",
    "plt.close(fig)"
   ]
  }
 ],
 "metadata": {
  "kernelspec": {
   "display_name": "Python 3",
   "language": "python",
   "name": "python3"
  },
  "language_info": {
   "codemirror_mode": {
    "name": "ipython",
    "version": 3
   },
   "file_extension": ".py",
   "mimetype": "text/x-python",
   "name": "python",
   "nbconvert_exporter": "python",
   "pygments_lexer": "ipython3",
   "version": "3.8.5"
  }
 },
 "nbformat": 4,
 "nbformat_minor": 4
}
