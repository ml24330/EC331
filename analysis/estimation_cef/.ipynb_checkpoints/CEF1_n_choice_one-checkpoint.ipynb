{
 "cells": [
  {
   "cell_type": "markdown",
   "metadata": {},
   "source": [
    "Here we estimate the following conditional expectation function:\n",
    "$$\n",
    "\\mathbb{E}[valuation_i|ispolice_i]=\\alpha+\\beta_1 ispolice_i,\n",
    "$$\n",
    "using the entire sample where the number of bids received is equal to 6."
   ]
  },
  {
   "cell_type": "code",
   "execution_count": 1,
   "metadata": {},
   "outputs": [],
   "source": [
    "import pandas as pd\n",
    "import numpy as np\n",
    "from scipy import optimize, integrate\n",
    "from main import estimate_mean, get_loss_function, estimate_median, get_order_statistic_pdfs, get_cdf, FastMean, cdf\n",
    "\n",
    "data = pd.read_csv(\"../../data/demeaned.csv\")\n",
    "df = data.groupby([\"id\", \"ispolice\", \"sellerfeedbackscore\", \"bidcount\", \"apple\", \"amazon\"])[\"bids\"].apply(lambda x: x.values).reset_index()"
   ]
  },
  {
   "cell_type": "code",
   "execution_count": 2,
   "metadata": {},
   "outputs": [],
   "source": [
    "include = df[df.bidcount == 6]\n",
    "\n",
    "bids = list(include.bids)\n",
    "covariates = [[cov] for cov in list(include.ispolice)]"
   ]
  },
  {
   "cell_type": "code",
   "execution_count": 3,
   "metadata": {
    "scrolled": true
   },
   "outputs": [
    {
     "name": "stdout",
     "output_type": "stream",
     "text": [
      "calculating values for covariate: [0] (1/2)\n",
      "total time elapsed: 8.922799999933062e-05s\n"
     ]
    },
    {
     "name": "stderr",
     "output_type": "stream",
     "text": [
      "/Users/liumukun/anaconda3/lib/python3.8/site-packages/scipy/stats/_distn_infrastructure.py:1695: IntegrationWarning: The maximum number of subdivisions (50) has been achieved.\n",
      "  If increasing the limit yields no improvement it is advised to analyze \n",
      "  the integrand in order to determine the difficulties.  If the position of a \n",
      "  local difficulty can be determined (singularity, discontinuity) one will \n",
      "  probably gain from splitting up the interval and calling the integrator \n",
      "  on the subranges.  Perhaps a special-purpose integrator should be used.\n",
      "  return integrate.quad(self._mom_integ1, 0, 1, args=(m,)+args)[0]\n"
     ]
    },
    {
     "name": "stdout",
     "output_type": "stream",
     "text": [
      "calculating values for covariate: [1] (2/2)\n",
      "total time elapsed: 151.620206593s\n"
     ]
    }
   ],
   "source": [
    "expected_upper, expected_lower, u_cdfs, l_cdfs = estimate_mean(bids, covariates, (0,9))"
   ]
  },
  {
   "cell_type": "code",
   "execution_count": 4,
   "metadata": {},
   "outputs": [],
   "source": [
    "def loss_function(c):\n",
    "    a, b = c\n",
    "    cef = lambda cov: a+b*cov[0]\n",
    "    return get_loss_function(covariates, expected_upper, expected_lower, cef)\n",
    "\n",
    "b_hat = optimize.brute(loss_function, ranges=[(0,2), (-1,1)])\n",
    "# interval_lower = optimize.newton(lambda a_l, b_l: loss_function(a_l, b_l)-loss_function(b_hat)-10, b_hat-0.1)\n",
    "# interval_upper = optimize.newton(lambda b_l, b_u: loss_function(b_l, b_u)-loss_function(b_hat)-10, b_hat+0.1)"
   ]
  },
  {
   "cell_type": "code",
   "execution_count": 5,
   "metadata": {},
   "outputs": [
    {
     "data": {
      "text/plain": [
       "array([1.04029106, 0.34914495])"
      ]
     },
     "execution_count": 5,
     "metadata": {},
     "output_type": "execute_result"
    }
   ],
   "source": [
    "b_hat"
   ]
  },
  {
   "cell_type": "code",
   "execution_count": 6,
   "metadata": {
    "scrolled": true
   },
   "outputs": [
    {
     "data": {
      "text/plain": [
       "<matplotlib.legend.Legend at 0x7fa3afdecf70>"
      ]
     },
     "execution_count": 6,
     "metadata": {},
     "output_type": "execute_result"
    },
    {
     "data": {
      "image/png": "[encoded data removed]",
      "text/plain": [
       "<Figure size 432x288 with 1 Axes>"
      ]
     },
     "metadata": {
      "needs_background": "light"
     },
     "output_type": "display_data"
    }
   ],
   "source": [
    "from scipy import interpolate\n",
    "import matplotlib.pyplot as plt\n",
    "\n",
    "fig, ax = plt.subplots()\n",
    "\n",
    "vals = np.linspace(0,5,num=100)\n",
    "\n",
    "int_cdf_u_police = interpolate.interp1d(np.linspace(0,9,num=100), u_cdfs[\"[1]\"], bounds_error=False, fill_value=(0,1))\n",
    "plt.plot(vals, [int_cdf_u_police(v) for v in vals], label=\"Police auctions upper bound\", color=\"red\")\n",
    "\n",
    "int_cdf_l_police = interpolate.interp1d(np.linspace(0,9,num=100), l_cdfs[\"[1]\"], bounds_error=False, fill_value=(0,1))\n",
    "plt.plot(vals, [int_cdf_l_police(v) for v in vals], label=\"Police auctions lower bound\", color=\"red\", linestyle=\"--\")\n",
    "\n",
    "int_cdf_u_not = interpolate.interp1d(np.linspace(0,9,num=100), u_cdfs[\"[0]\"], bounds_error=False, fill_value=(0,1))\n",
    "plt.plot(vals, [int_cdf_u_not(v) for v in vals], label=\"Non-police auctions upper bound\", color=\"blue\")\n",
    "\n",
    "int_cdf_l_not = interpolate.interp1d(np.linspace(0,9,num=100), l_cdfs[\"[0]\"], bounds_error=False, fill_value=(0,1))\n",
    "plt.plot(vals, [int_cdf_l_not(v) for v in vals], label=\"Non-police auctions lower bound\", color=\"blue\", linestyle=\"--\")\n",
    "\n",
    "plt.ylabel(\"Cumulative probability\")\n",
    "plt.xlabel(\"Bidder valuation\")\n",
    "plt.legend()"
   ]
  },
  {
   "cell_type": "code",
   "execution_count": 7,
   "metadata": {
    "scrolled": true
   },
   "outputs": [],
   "source": [
    "pdfs, pdfs_delta = get_order_statistic_pdfs(bids, covariates)\n",
    "x_val = [0]\n",
    "interpolation_range=(0,9)"
   ]
  },
  {
   "cell_type": "code",
   "execution_count": 8,
   "metadata": {},
   "outputs": [
    {
     "name": "stderr",
     "output_type": "stream",
     "text": [
      "<ipython-input-8-e9dc84d66d7a>:24: IntegrationWarning: The maximum number of subdivisions (50) has been achieved.\n",
      "  If increasing the limit yields no improvement it is advised to analyze \n",
      "  the integrand in order to determine the difficulties.  If the position of a \n",
      "  local difficulty can be determined (singularity, discontinuity) one will \n",
      "  probably gain from splitting up the interval and calling the integrator \n",
      "  on the subranges.  Perhaps a special-purpose integrator should be used.\n",
      "  weight = integrate.quad(conditional_pdf_i_N, a=0, b=np.inf)[0]\n"
     ]
    }
   ],
   "source": [
    "x0, x1 = interpolation_range\n",
    "\n",
    "conditional_pdfs = {key: [pdf(x_val) for pdf in value] for key, value in pdfs.items()}\n",
    "conditional_pdfs_delta = {key: pdf(x_val) for key, pdf in pdfs_delta.items()}\n",
    "\n",
    "parent_cdf_estimates_upper = []\n",
    "parent_cdf_estimates_lower = []\n",
    "\n",
    "conditional_cdfs = []\n",
    "\n",
    "for key in conditional_pdfs:\n",
    "\n",
    "    N_BIDS = int(key)\n",
    "\n",
    "    # weight = integrate.quad(conditional_pdfs[key][0], a=0, b=np.inf)[0]\n",
    "    weight = 1\n",
    "\n",
    "    conditional_pdf_N = [lambda y, pdf=pdf: pdf(y)/weight for pdf in conditional_pdfs[key]]\n",
    "\n",
    "\n",
    "    for i in range(N_BIDS):\n",
    "\n",
    "        conditional_pdf_i_N = conditional_pdf_N[i]\n",
    "        weight = integrate.quad(conditional_pdf_i_N, a=0, b=np.inf)[0]\n",
    "        conditional_cdf_i_N = lambda y, weight=weight, conditional_pdf_i_N=conditional_pdf_i_N: integrate.quad(conditional_pdf_i_N, a=0, b=y)[0]/weight\n",
    "        \n",
    "        conditional_cdfs.append(conditional_cdf_i_N)\n",
    "        \n",
    "        parent_conditional_cdf_from_i_N = lambda x, i=i, conditional_cdf_i_N=conditional_cdf_i_N: cdf(x, conditional_cdf_i_N, i+1, N_BIDS)/cdf(x1, conditional_cdf_i_N, i+1, N_BIDS)\n",
    "\n",
    "        parent_cdf_estimates_upper.append(parent_conditional_cdf_from_i_N)\n",
    "\n",
    "        if i == N_BIDS - 1:\n",
    "\n",
    "            conditional_pdf_delta_N = conditional_pdfs_delta[key]\n",
    "            conditional_cdf_delta_N = lambda y, conditional_pdf_delta_N=conditional_pdf_delta_N: integrate.quad(conditional_pdf_delta_N, a=0, b=y)[0]\n",
    "\n",
    "            parent_conditional_cdf_delta_from_N = lambda x, i=i: get_cdf(conditional_cdf_delta_N, i+1, N_BIDS)(x)/get_cdf(conditional_cdf_delta_N, i+1, N_BIDS)(x1)\n",
    "\n",
    "            parent_cdf_estimates_lower.append(parent_conditional_cdf_delta_from_N)"
   ]
  },
  {
   "cell_type": "code",
   "execution_count": 9,
   "metadata": {},
   "outputs": [],
   "source": [
    "values = np.linspace(0,5,num=50)"
   ]
  },
  {
   "cell_type": "code",
   "execution_count": 11,
   "metadata": {},
   "outputs": [],
   "source": [
    "pdfs_0 = [pdf([0]) for pdf in pdfs[\"6\"]]"
   ]
  },
  {
   "cell_type": "code",
   "execution_count": null,
   "metadata": {
    "scrolled": false
   },
   "outputs": [],
   "source": [
    "vals = np.linspace(0,10,num=100)\n",
    "\n",
    "j = 3\n",
    "weight = integrate.quad(pdfs_0[j], a=0, b=np.inf)[0]\n",
    "conditional_pdf_i_N = lambda y: pdfs_0[j](y)/weight\n",
    "conditional_cdf_i_N = lambda y, conditional_pdf_i_N=conditional_pdf_i_N: integrate.quad(conditional_pdf_i_N, a=0, b=y)[0]\n",
    "\n",
    "parent_conditional_cdf_from_i_N_ = get_cdf(conditional_cdf_i_N, j+1, N_BIDS)\n",
    "parent_conditional_cdf_from_i_N = lambda x: parent_conditional_cdf_from_i_N_(x)\n",
    "\n",
    "plt.plot(vals, [parent_conditional_cdf_from_i_N_(v) for v in vals])\n"
   ]
  },
  {
   "cell_type": "code",
   "execution_count": null,
   "metadata": {},
   "outputs": [],
   "source": [
    "import matplotlib.pyplot as plt\n",
    "\n",
    "for t, func in enumerate(conditional_cdfs):\n",
    "    plt.plot(values, [cdf(v, func, t+1, 11)/cdf(10, func, t+1, 11) for v in values], label=t)\n",
    "plt.legend()"
   ]
  },
  {
   "cell_type": "code",
   "execution_count": null,
   "metadata": {},
   "outputs": [],
   "source": [
    "import matplotlib.pyplot as plt\n",
    "\n",
    "\n",
    "values = np.linspace(0,5,num=50)\n",
    "for t, func in enumerate(parent_cdf_estimates_upper):\n",
    "    plt.plot(values, [func(v) for v in values], label=t)\n",
    "plt.legend()"
   ]
  },
  {
   "cell_type": "code",
   "execution_count": null,
   "metadata": {},
   "outputs": [],
   "source": [
    "import pandas as pd\n",
    "\n",
    "pd.DataFrame([item for sublist in bids for item in sublist]).describe()"
   ]
  }
 ],
 "metadata": {
  "kernelspec": {
   "display_name": "Python 3",
   "language": "python",
   "name": "python3"
  },
  "language_info": {
   "codemirror_mode": {
    "name": "ipython",
    "version": 3
   },
   "file_extension": ".py",
   "mimetype": "text/x-python",
   "name": "python",
   "nbconvert_exporter": "python",
   "pygments_lexer": "ipython3",
   "version": "3.8.5"
  }
 },
 "nbformat": 4,
 "nbformat_minor": 4
}
