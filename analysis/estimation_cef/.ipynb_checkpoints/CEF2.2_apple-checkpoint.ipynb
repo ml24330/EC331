{
 "cells": [
  {
   "cell_type": "markdown",
   "metadata": {},
   "source": [
    "Here we estimate the following conditional expectation function:\n",
    "$$\n",
    "\\mathbb{E}[valuation_i|ispolice_i, log\\_sellerfeedbackscore_i]=\\alpha+\\beta_1 ispolice_i+\\beta_2 log\\_sellerfeedbackscore_i\n",
    "$$\n",
    "using listings of apple tablets where the number of bids received is strictly between 3 and 12."
   ]
  },
  {
   "cell_type": "code",
   "execution_count": 1,
   "metadata": {},
   "outputs": [],
   "source": [
    "import pandas as pd\n",
    "import numpy as np\n",
    "from scipy import optimize\n",
    "from main import estimate_median, get_loss_function, transform_covariates\n",
    "\n",
    "data = pd.read_csv(\"../../data/demeaned.csv\")\n",
    "df = data.groupby([\"id\", \"ispolice\", \"sellerfeedbackscore\", \"bidcount\", \"apple\", \"amazon\"])[\"bids\"].apply(lambda x: x.values).reset_index()"
   ]
  },
  {
   "cell_type": "code",
   "execution_count": 2,
   "metadata": {},
   "outputs": [
    {
     "name": "stderr",
     "output_type": "stream",
     "text": [
      "/Users/liumukun/Desktop/projects/eme/analysis/estimation/main.py:300: RuntimeWarning: Mean of empty slice.\n",
      "  covariates[order] = covariates[order].mean()\n",
      "/Users/liumukun/anaconda3/lib/python3.8/site-packages/numpy/core/_methods.py:189: RuntimeWarning: invalid value encountered in double_scalars\n",
      "  ret = ret.dtype.type(ret / rcount)\n",
      "/Users/liumukun/anaconda3/lib/python3.8/site-packages/pandas/core/generic.py:5168: SettingWithCopyWarning: \n",
      "A value is trying to be set on a copy of a slice from a DataFrame.\n",
      "Try using .loc[row_indexer,col_indexer] = value instead\n",
      "\n",
      "See the caveats in the documentation: https://pandas.pydata.org/pandas-docs/stable/user_guide/indexing.html#returning-a-view-versus-a-copy\n",
      "  self[name] = value\n"
     ]
    }
   ],
   "source": [
    "apple_bids = list(df[(df.apple == 1) & (df.ispolice == 1)].bidcount.value_counts().index)\n",
    "include = df[(df.bidcount > 3) & (df.bidcount < 12) & (df.apple == 1) & (df.bidcount.isin(apple_bids))]\n",
    "\n",
    "bids = list(include.bids)\n",
    "\n",
    "logged_feedback = np.log(include.sellerfeedbackscore+1)\n",
    "logged_feedback = transform_covariates(logged_feedback, 100)\n",
    "include.sellerfeedbackscore = logged_feedback\n",
    "\n",
    "covariates = np.array(include[[\"ispolice\", \"sellerfeedbackscore\"]])\n",
    "covariates = list([list(cov) for cov in covariates])"
   ]
  },
  {
   "cell_type": "code",
   "execution_count": 3,
   "metadata": {},
   "outputs": [
    {
     "name": "stdout",
     "output_type": "stream",
     "text": [
      "calculating values for covariate: [1.0, 9.962043589246067] (1/100)\n",
      "total time elapsed: 0.00045846200000010384s\n"
     ]
    },
    {
     "name": "stderr",
     "output_type": "stream",
     "text": [
      "/Users/liumukun/anaconda3/lib/python3.8/site-packages/scipy/stats/_distn_infrastructure.py:1695: IntegrationWarning: The maximum number of subdivisions (50) has been achieved.\n",
      "  If increasing the limit yields no improvement it is advised to analyze \n",
      "  the integrand in order to determine the difficulties.  If the position of a \n",
      "  local difficulty can be determined (singularity, discontinuity) one will \n",
      "  probably gain from splitting up the interval and calling the integrator \n",
      "  on the subranges.  Perhaps a special-purpose integrator should be used.\n",
      "  return integrate.quad(self._mom_integ1, 0, 1, args=(m,)+args)[0]\n"
     ]
    },
    {
     "name": "stdout",
     "output_type": "stream",
     "text": [
      "calculating values for covariate: [0.0, 5.602118820879701] (2/100)\n",
      "total time elapsed: 49.654754234s\n",
      "calculating values for covariate: [0.0, 1.791759469228055] (3/100)\n",
      "total time elapsed: 95.906465216s\n",
      "calculating values for covariate: [0.0, 4.795790545596741] (4/100)\n",
      "total time elapsed: 149.424620993s\n",
      "calculating values for covariate: [0.0, 6.070737728002491] (5/100)\n",
      "total time elapsed: 205.398089943s\n",
      "calculating values for covariate: [0.0, 3.912023005428146] (6/100)\n",
      "total time elapsed: 254.85261978800003s\n",
      "calculating values for covariate: [0.0, 5.529429087511423] (7/100)\n",
      "total time elapsed: 304.548315229s\n",
      "calculating values for covariate: [0.0, 3.713572066704308] (8/100)\n",
      "total time elapsed: 354.918927834s\n",
      "calculating values for covariate: [0.0, 3.4965075614664802] (9/100)\n",
      "total time elapsed: 404.494109241s\n",
      "calculating values for covariate: [0.0, 5.575949103146316] (10/100)\n",
      "total time elapsed: 454.794881331s\n",
      "calculating values for covariate: [0.0, 1.9459101490553132] (11/100)\n",
      "total time elapsed: 505.9672142s\n",
      "calculating values for covariate: [0.0, 2.6390573296152584] (12/100)\n",
      "total time elapsed: 556.609336149s\n",
      "calculating values for covariate: [0.0, 6.467698726104353] (13/100)\n",
      "total time elapsed: 606.14066651s\n",
      "calculating values for covariate: [0.0, 7.0587581525186645] (14/100)\n",
      "total time elapsed: 655.8588563989999s\n",
      "calculating values for covariate: [0.0, 5.3471075307174685] (15/100)\n",
      "total time elapsed: 705.7353497239999s\n",
      "calculating values for covariate: [0.0, 4.31748811353631] (16/100)\n",
      "total time elapsed: 755.416424239s\n",
      "calculating values for covariate: [0.0, 9.481255893085342] (17/100)\n",
      "total time elapsed: 805.383135112s\n",
      "calculating values for covariate: [0.0, 6.236369590203704] (18/100)\n",
      "total time elapsed: 853.531302022s\n",
      "calculating values for covariate: [0.0, 6.329720905522696] (19/100)\n",
      "total time elapsed: 904.3938858869999s\n",
      "calculating values for covariate: [0.0, 1.3862943611198906] (20/100)\n",
      "total time elapsed: 954.1632822639999s\n",
      "calculating values for covariate: [0.0, 4.30406509320417] (21/100)\n",
      "total time elapsed: 1003.7019632729999s\n",
      "calculating values for covariate: [0.0, 3.295836866004329] (22/100)\n",
      "total time elapsed: 1053.052528475s\n",
      "calculating values for covariate: [0.0, 3.5553480614894135] (23/100)\n",
      "total time elapsed: 1103.004842804s\n",
      "calculating values for covariate: [0.0, 1.6094379124341003] (24/100)\n",
      "total time elapsed: 1152.582754675s\n",
      "calculating values for covariate: [0.0, 7.313015299394591] (25/100)\n",
      "total time elapsed: 1204.3509083019999s\n",
      "calculating values for covariate: [0.0, 3.6375861597263857] (26/100)\n",
      "total time elapsed: 1254.2731748869999s\n",
      "calculating values for covariate: [0.0, 3.4011973816621555] (27/100)\n",
      "total time elapsed: 1305.4996985379998s\n",
      "calculating values for covariate: [0.0, 4.61512051684126] (28/100)\n",
      "total time elapsed: 1357.1665674649998s\n",
      "calculating values for covariate: [0.0, 4.859812404361672] (29/100)\n",
      "total time elapsed: 1412.30204392s\n",
      "calculating values for covariate: [0.0, 4.219507705176107] (30/100)\n",
      "total time elapsed: 1465.769778548s\n",
      "calculating values for covariate: [0.0, 6.161207321695076] (31/100)\n",
      "total time elapsed: 1516.3927595569999s\n",
      "calculating values for covariate: [0.0, 6.107022887742254] (32/100)\n",
      "total time elapsed: 1568.019590826s\n",
      "calculating values for covariate: [0.0, 6.601230118728877] (33/100)\n",
      "total time elapsed: 1621.712876681s\n",
      "calculating values for covariate: [0.0, 4.867534450455582] (34/100)\n",
      "total time elapsed: 1675.626676964s\n",
      "calculating values for covariate: [0.0, 5.971261839790462] (35/100)\n",
      "total time elapsed: 1727.578944847s\n",
      "calculating values for covariate: [0.0, 7.171656822768514] (36/100)\n",
      "total time elapsed: 1779.225093957s\n",
      "calculating values for covariate: [0.0, 7.589162312923845] (37/100)\n",
      "total time elapsed: 1830.78525732s\n",
      "calculating values for covariate: [0.0, 5.429345628954441] (38/100)\n",
      "total time elapsed: 1884.928474804s\n",
      "calculating values for covariate: [0.0, 5.627621113690637] (39/100)\n",
      "total time elapsed: 1936.04313558s\n",
      "calculating values for covariate: [0.0, 4.564348191467836] (40/100)\n",
      "total time elapsed: 1987.692240098s\n",
      "calculating values for covariate: [0.0, 7.668093709082406] (41/100)\n",
      "total time elapsed: 2038.8710606079999s\n",
      "calculating values for covariate: [0.0, 5.877735781779639] (42/100)\n",
      "total time elapsed: 2090.432959919s\n",
      "calculating values for covariate: [0.0, 5.337538079701318] (43/100)\n",
      "total time elapsed: 2142.224065286s\n",
      "calculating values for covariate: [0.0, 7.528331766707247] (44/100)\n",
      "total time elapsed: 2193.620739398s\n",
      "calculating values for covariate: [0.0, 4.584967478670572] (45/100)\n",
      "total time elapsed: 2244.9761304529998s\n",
      "calculating values for covariate: [0.0, 4.624972813284271] (46/100)\n",
      "total time elapsed: 2295.9789532639998s\n",
      "calculating values for covariate: [0.0, 6.551080335043405] (47/100)\n",
      "total time elapsed: 2347.527086767s\n",
      "calculating values for covariate: [0.0, 6.538139823767669] (48/100)\n",
      "total time elapsed: 2401.968091182s\n",
      "calculating values for covariate: [0.0, 7.983098940710892] (49/100)\n",
      "total time elapsed: 2453.866259269s\n",
      "calculating values for covariate: [0.0, 6.192362489474872] (50/100)\n",
      "total time elapsed: 2503.075016365s\n",
      "calculating values for covariate: [0.0, 5.25227342804663] (51/100)\n",
      "total time elapsed: 2551.882792884s\n",
      "calculating values for covariate: [0.0, 5.4116460518550396] (52/100)\n",
      "total time elapsed: 2603.456088204s\n",
      "calculating values for covariate: [0.0, 6.1224928095143865] (53/100)\n",
      "total time elapsed: 2650.8782514219997s\n",
      "calculating values for covariate: [0.0, 3.6635616461296463] (54/100)\n",
      "total time elapsed: 2692.558268973s\n",
      "calculating values for covariate: [0.0, 6.342121418721152] (55/100)\n",
      "total time elapsed: 2734.3881424319998s\n",
      "calculating values for covariate: [0.0, 9.487024917706549] (56/100)\n",
      "total time elapsed: 2774.864616545s\n",
      "calculating values for covariate: [1.0, 8.741755575710727] (57/100)\n",
      "total time elapsed: 2817.677715536s\n",
      "calculating values for covariate: [0.0, 5.8916442118257715] (58/100)\n",
      "total time elapsed: 2870.389677239s\n",
      "calculating values for covariate: [1.0, 9.955277308666151] (59/100)\n",
      "total time elapsed: 2918.406685681s\n",
      "calculating values for covariate: [0.0, 0.0] (60/100)\n",
      "total time elapsed: 2965.987054499s\n",
      "calculating values for covariate: [0.0, 8.195885391314796] (61/100)\n",
      "total time elapsed: 3013.100094523s\n",
      "calculating values for covariate: [0.0, 10.693511775638694] (62/100)\n",
      "total time elapsed: 3059.832188369s\n",
      "calculating values for covariate: [0.0, 8.289539484624141] (63/100)\n",
      "total time elapsed: 3109.900930095s\n",
      "calculating values for covariate: [0.0, 8.155362120328135] (64/100)\n",
      "total time elapsed: 3157.325505361s\n",
      "calculating values for covariate: [0.0, 6.865891074883438] (65/100)\n",
      "total time elapsed: 3206.830965055s\n",
      "calculating values for covariate: [0.0, 4.912654885736052] (66/100)\n",
      "total time elapsed: 3256.619885537s\n",
      "calculating values for covariate: [0.0, 3.4657359027997265] (67/100)\n",
      "total time elapsed: 3306.894618484s\n",
      "calculating values for covariate: [0.0, 4.820281565605037] (68/100)\n",
      "total time elapsed: 3355.716066324s\n",
      "calculating values for covariate: [0.0, 7.213031659834869] (69/100)\n",
      "total time elapsed: 3407.765036414s\n"
     ]
    }
   ],
   "source": [
    "expected_upper, expected_lower = estimate_mean(bids, covariates, (0,9))"
   ]
  },
  {
   "cell_type": "code",
   "execution_count": 4,
   "metadata": {},
   "outputs": [],
   "source": [
    "def loss_function(c):\n",
    "    a, b1, b2 = c\n",
    "    cef = lambda cov: a+b1*cov[0]+b2*cov[1]\n",
    "    return get_loss_function(covariates, expected_upper, expected_lower, cef)\n",
    "\n",
    "b_hat = optimize.brute(loss_function, ranges=[(0,2), (-1,1), (-1,1)])\n",
    "# interval_lower = optimize.newton(lambda a_l, b_l: loss_function(a_l, b_l)-loss_function(b_hat)-10, b_hat-0.1)\n",
    "# interval_upper = optimize.newton(lambda b_l, b_u: loss_function(b_l, b_u)-loss_function(b_hat)-10, b_hat+0.1)"
   ]
  },
  {
   "cell_type": "code",
   "execution_count": 5,
   "metadata": {
    "scrolled": true
   },
   "outputs": [
    {
     "data": {
      "text/plain": [
       "array([ 0.76410628,  0.43918193, -0.0051102 ])"
      ]
     },
     "execution_count": 5,
     "metadata": {},
     "output_type": "execute_result"
    }
   ],
   "source": [
    "b_hat"
   ]
  },
  {
   "cell_type": "code",
   "execution_count": 6,
   "metadata": {},
   "outputs": [],
   "source": [
    "def loss_function(c):\n",
    "    a, b1, b2, b3 = c\n",
    "    cef = lambda cov: a+b1*cov[0]+b2*cov[1]+b3*cov[0]*cov[1]\n",
    "    return get_loss_function(covariates, expected_upper, expected_lower, cef)\n",
    "\n",
    "b_hat_2 = optimize.brute(loss_function, ranges=[(0,2), (-1,1), (-1,1), (-1,1)])\n",
    "# interval_lower = optimize.newton(lambda a_l, b_l: loss_function(a_l, b_l)-loss_function(b_hat)-10, b_hat-0.1)\n",
    "# interval_upper = optimize.newton(lambda b_l, b_u: loss_function(b_l, b_u)-loss_function(b_hat)-10, b_hat+0.1)"
   ]
  },
  {
   "cell_type": "code",
   "execution_count": 7,
   "metadata": {},
   "outputs": [
    {
     "data": {
      "text/plain": [
       "array([ 0.7641037 ,  0.10040117, -0.00511256,  0.03313733])"
      ]
     },
     "execution_count": 7,
     "metadata": {},
     "output_type": "execute_result"
    }
   ],
   "source": [
    "b_hat_2"
   ]
  }
 ],
 "metadata": {
  "kernelspec": {
   "display_name": "Python 3",
   "language": "python",
   "name": "python3"
  },
  "language_info": {
   "codemirror_mode": {
    "name": "ipython",
    "version": 3
   },
   "file_extension": ".py",
   "mimetype": "text/x-python",
   "name": "python",
   "nbconvert_exporter": "python",
   "pygments_lexer": "ipython3",
   "version": "3.8.5"
  }
 },
 "nbformat": 4,
 "nbformat_minor": 4
}
