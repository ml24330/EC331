{
 "cells": [
  {
   "cell_type": "markdown",
   "metadata": {},
   "source": [
    "Here we estimate the following conditional expectation function:\n",
    "$$\n",
    "\\mathbb{E}[valuation_i|log\\_sellerfeedbackscore_i]=\\alpha+\\beta_1 log\\_sellerfeedbackscore_i,\n",
    "$$\n",
    "using the entire sample where the number of bids received is equal to 6."
   ]
  },
  {
   "cell_type": "code",
   "execution_count": 1,
   "metadata": {},
   "outputs": [],
   "source": [
    "import pandas as pd\n",
    "import numpy as np\n",
    "from scipy import optimize\n",
    "from main import estimate_median, get_loss_function, transform_covariates\n",
    "\n",
    "data = pd.read_csv(\"../../data/demeaned.csv\")\n",
    "df = data.groupby([\"id\", \"ispolice\", \"sellerfeedbackscore\", \"bidcount\", \"apple\", \"amazon\"])[\"bids\"].apply(lambda x: x.values).reset_index()"
   ]
  },
  {
   "cell_type": "code",
   "execution_count": 2,
   "metadata": {},
   "outputs": [
    {
     "name": "stderr",
     "output_type": "stream",
     "text": [
      "/Users/liumukun/Desktop/projects/eme/analysis/estimation/main.py:300: RuntimeWarning: Mean of empty slice.\n",
      "  covariates[order] = covariates[order].mean()\n",
      "/Users/liumukun/anaconda3/lib/python3.8/site-packages/numpy/core/_methods.py:189: RuntimeWarning: invalid value encountered in double_scalars\n",
      "  ret = ret.dtype.type(ret / rcount)\n"
     ]
    }
   ],
   "source": [
    "include = df[df.bidcount == 6]\n",
    "\n",
    "bids = list(include.bids)\n",
    "\n",
    "logged_feedback = np.log(include.sellerfeedbackscore+1)\n",
    "covariates = [[cov] for cov in list(logged_feedback)]\n",
    "\n",
    "covariates = [[cov] for cov in transform_covariates([cov[0] for cov in covariates],100)]"
   ]
  },
  {
   "cell_type": "code",
   "execution_count": 3,
   "metadata": {},
   "outputs": [
    {
     "name": "stdout",
     "output_type": "stream",
     "text": [
      "calculating values for covariate: [5.659482215759621] (1/100)\n",
      "total time elapsed: 0.00044243399999999156s\n"
     ]
    },
    {
     "name": "stderr",
     "output_type": "stream",
     "text": [
      "/Users/liumukun/anaconda3/lib/python3.8/site-packages/scipy/stats/_distn_infrastructure.py:1695: IntegrationWarning: The maximum number of subdivisions (50) has been achieved.\n",
      "  If increasing the limit yields no improvement it is advised to analyze \n",
      "  the integrand in order to determine the difficulties.  If the position of a \n",
      "  local difficulty can be determined (singularity, discontinuity) one will \n",
      "  probably gain from splitting up the interval and calling the integrator \n",
      "  on the subranges.  Perhaps a special-purpose integrator should be used.\n",
      "  return integrate.quad(self._mom_integ1, 0, 1, args=(m,)+args)[0]\n"
     ]
    },
    {
     "name": "stdout",
     "output_type": "stream",
     "text": [
      "calculating values for covariate: [6.401917196727186] (2/100)\n",
      "total time elapsed: 26.306901317s\n",
      "calculating values for covariate: [5.293304824724492] (3/100)\n",
      "total time elapsed: 54.134620514s\n",
      "calculating values for covariate: [4.9487598903781675] (4/100)\n",
      "total time elapsed: 77.106994481s\n",
      "calculating values for covariate: [9.955277308666151] (5/100)\n",
      "total time elapsed: 99.267867986s\n",
      "calculating values for covariate: [4.6443908991413725] (6/100)\n",
      "total time elapsed: 126.42123411700001s\n",
      "calculating values for covariate: [3.828641396489095] (7/100)\n",
      "total time elapsed: 146.76263187200001s\n",
      "calculating values for covariate: [1.0986122886681098] (8/100)\n",
      "total time elapsed: 166.340080247s\n",
      "calculating values for covariate: [6.778784897685177] (9/100)\n",
      "total time elapsed: 186.509541606s\n",
      "calculating values for covariate: [7.304515946460155] (10/100)\n",
      "total time elapsed: 210.538129378s\n",
      "calculating values for covariate: [9.487024917706549] (11/100)\n",
      "total time elapsed: 232.798955101s\n",
      "calculating values for covariate: [5.017279836814924] (12/100)\n",
      "total time elapsed: 255.49544900100003s\n",
      "calculating values for covariate: [6.61046362201656] (13/100)\n",
      "total time elapsed: 278.758439227s\n",
      "calculating values for covariate: [6.1882641230825906] (14/100)\n",
      "total time elapsed: 304.855591346s\n",
      "calculating values for covariate: [4.060443010546419] (15/100)\n",
      "total time elapsed: 330.09112734099995s\n",
      "calculating values for covariate: [4.653960350157523] (16/100)\n",
      "total time elapsed: 353.953559006s\n",
      "calculating values for covariate: [5.910796644040528] (17/100)\n",
      "total time elapsed: 376.03552406499995s\n",
      "calculating values for covariate: [0.6931471805599453] (18/100)\n",
      "total time elapsed: 398.257292373s\n",
      "calculating values for covariate: [2.0794415416798357] (19/100)\n",
      "total time elapsed: 420.493389407s\n",
      "calculating values for covariate: [1.3862943611198906] (20/100)\n",
      "total time elapsed: 442.17139380699996s\n",
      "calculating values for covariate: [6.7464121285733745] (21/100)\n",
      "total time elapsed: 464.30439424599996s\n",
      "calculating values for covariate: [6.061456918928017] (22/100)\n",
      "total time elapsed: 486.203342009s\n",
      "calculating values for covariate: [6.823286122355687] (23/100)\n",
      "total time elapsed: 508.221429715s\n",
      "calculating values for covariate: [7.7142311448490855] (24/100)\n",
      "total time elapsed: 530.277741022s\n",
      "calculating values for covariate: [4.110873864173311] (25/100)\n",
      "total time elapsed: 552.319163967s\n",
      "calculating values for covariate: [6.093569770045136] (26/100)\n",
      "total time elapsed: 574.111014167s\n",
      "calculating values for covariate: [2.302585092994046] (27/100)\n",
      "total time elapsed: 596.438241972s\n",
      "calculating values for covariate: [4.700480365792417] (28/100)\n",
      "total time elapsed: 618.4405873210001s\n",
      "calculating values for covariate: [5.8916442118257715] (29/100)\n",
      "total time elapsed: 640.24203457s\n",
      "calculating values for covariate: [7.6290038896529575] (30/100)\n",
      "total time elapsed: 661.8683440550001s\n",
      "calculating values for covariate: [5.605802066295998] (31/100)\n",
      "total time elapsed: 684.028516063s\n",
      "calculating values for covariate: [6.882437470997846] (32/100)\n",
      "total time elapsed: 706.250943965s\n",
      "calculating values for covariate: [3.8918202981106265] (33/100)\n",
      "total time elapsed: 729.986154061s\n",
      "calculating values for covariate: [7.789868559054706] (34/100)\n",
      "total time elapsed: 755.399828858s\n",
      "calculating values for covariate: [5.420534999272286] (35/100)\n",
      "total time elapsed: 783.898136267s\n",
      "calculating values for covariate: [6.410174881966167] (36/100)\n",
      "total time elapsed: 821.2131753460001s\n",
      "calculating values for covariate: [5.545177444479562] (37/100)\n",
      "total time elapsed: 857.412738393s\n",
      "calculating values for covariate: [6.862757913051401] (38/100)\n",
      "total time elapsed: 889.558481422s\n",
      "calculating values for covariate: [5.768320995793772] (39/100)\n",
      "total time elapsed: 918.8267493320001s\n",
      "calculating values for covariate: [8.41027590907016] (40/100)\n",
      "total time elapsed: 946.90962471s\n",
      "calculating values for covariate: [7.480992162869525] (41/100)\n",
      "total time elapsed: 977.845425934s\n",
      "calculating values for covariate: [5.288267030694535] (42/100)\n",
      "total time elapsed: 1005.968982407s\n",
      "calculating values for covariate: [4.983606621708336] (43/100)\n",
      "total time elapsed: 1032.882675436s\n",
      "calculating values for covariate: [5.627621113690637] (44/100)\n",
      "total time elapsed: 1057.819636066s\n",
      "calculating values for covariate: [2.1972245773362196] (45/100)\n",
      "total time elapsed: 1084.330391167s\n",
      "calculating values for covariate: [6.33682573114644] (46/100)\n",
      "total time elapsed: 1108.049675913s\n",
      "calculating values for covariate: [10.693511775638694] (47/100)\n",
      "total time elapsed: 1134.003818611s\n",
      "calculating values for covariate: [9.803145478962218] (48/100)\n",
      "total time elapsed: 1159.573683256s\n",
      "calculating values for covariate: [10.753805903787349] (49/100)\n",
      "total time elapsed: 1183.700199208s\n",
      "calculating values for covariate: [6.194405391104673] (50/100)\n",
      "total time elapsed: 1209.18178309s\n",
      "calculating values for covariate: [6.606935861605327] (51/100)\n",
      "total time elapsed: 1237.405437078s\n",
      "calculating values for covariate: [3.091042453358316] (52/100)\n",
      "total time elapsed: 1262.15239673s\n",
      "calculating values for covariate: [2.6390573296152584] (53/100)\n",
      "total time elapsed: 1286.699015398s\n",
      "calculating values for covariate: [5.176149732573829] (54/100)\n",
      "total time elapsed: 1310.6833200170001s\n",
      "calculating values for covariate: [5.003946305945459] (55/100)\n",
      "total time elapsed: 1335.201314143s\n",
      "calculating values for covariate: [8.182559264068663] (56/100)\n",
      "total time elapsed: 1364.064287588s\n",
      "calculating values for covariate: [12.689765831250803] (57/100)\n",
      "total time elapsed: 1401.075690526s\n",
      "calculating values for covariate: [9.481255893085342] (58/100)\n",
      "total time elapsed: 1427.551334638s\n",
      "calculating values for covariate: [4.543294782270004] (59/100)\n",
      "total time elapsed: 1453.627176064s\n",
      "calculating values for covariate: [3.5263605246161616] (60/100)\n",
      "total time elapsed: 1474.255179927s\n",
      "calculating values for covariate: [6.492239835020471] (61/100)\n",
      "total time elapsed: 1493.853843949s\n",
      "calculating values for covariate: [4.007333185232471] (62/100)\n",
      "total time elapsed: 1512.711883018s\n",
      "calculating values for covariate: [4.30406509320417] (63/100)\n",
      "total time elapsed: 1536.903625695s\n",
      "calculating values for covariate: [5.4638318050256105] (64/100)\n",
      "total time elapsed: 1557.299721544s\n",
      "calculating values for covariate: [5.820082930352362] (65/100)\n",
      "total time elapsed: 1581.2521678370001s\n",
      "calculating values for covariate: [6.669498089857879] (66/100)\n",
      "total time elapsed: 1604.001684151s\n",
      "calculating values for covariate: [7.805882040228622] (67/100)\n",
      "total time elapsed: 1624.54557094s\n",
      "calculating values for covariate: [5.758901773877281] (68/100)\n",
      "total time elapsed: 1646.399471334s\n",
      "calculating values for covariate: [6.9726062513017535] (69/100)\n",
      "total time elapsed: 1667.50894049s\n",
      "calculating values for covariate: [5.267858159063328] (70/100)\n",
      "total time elapsed: 1686.633162142s\n",
      "calculating values for covariate: [4.330733340286331] (71/100)\n",
      "total time elapsed: 1706.758927295s\n",
      "calculating values for covariate: [5.877735781779639] (72/100)\n",
      "total time elapsed: 1728.243968594s\n",
      "calculating values for covariate: [8.27614021955846] (73/100)\n",
      "total time elapsed: 1747.4863160080001s\n",
      "calculating values for covariate: [5.509388336627977] (74/100)\n",
      "total time elapsed: 1766.813551398s\n",
      "calculating values for covariate: [6.056784013228625] (75/100)\n",
      "total time elapsed: 1787.1664135400001s\n",
      "calculating values for covariate: [6.570882962339584] (76/100)\n",
      "total time elapsed: 1810.032273758s\n",
      "calculating values for covariate: [7.809135398120539] (77/100)\n",
      "total time elapsed: 1831.547320944s\n",
      "calculating values for covariate: [13.293416061617572] (78/100)\n",
      "total time elapsed: 1851.834229297s\n",
      "calculating values for covariate: [6.954638864880987] (79/100)\n",
      "total time elapsed: 1872.109496495s\n",
      "calculating values for covariate: [6.049733455231958] (80/100)\n",
      "total time elapsed: 1894.158417447s\n",
      "calculating values for covariate: [8.155362120328135] (81/100)\n",
      "total time elapsed: 1914.4601814520001s\n",
      "calculating values for covariate: [3.4657359027997265] (82/100)\n",
      "total time elapsed: 1940.478294657s\n",
      "calculating values for covariate: [7.412160334945206] (83/100)\n",
      "total time elapsed: 1960.340038806s\n",
      "calculating values for covariate: [9.568023907115768] (84/100)\n",
      "total time elapsed: 1978.609815111s\n"
     ]
    },
    {
     "name": "stdout",
     "output_type": "stream",
     "text": [
      "calculating values for covariate: [8.033999530910515] (85/100)\n",
      "total time elapsed: 1997.120439086s\n"
     ]
    }
   ],
   "source": [
    "expected_upper, expected_lower = estimate_mean(bids, covariates, (0,9))"
   ]
  },
  {
   "cell_type": "code",
   "execution_count": 4,
   "metadata": {},
   "outputs": [],
   "source": [
    "def loss_function(c):\n",
    "    a, b = c\n",
    "    cef = lambda cov: a+b*cov[0]\n",
    "    return get_loss_function(covariates, expected_upper, expected_lower, cef)\n",
    "\n",
    "b_hat = optimize.brute(loss_function, ranges=[(0,2), (-1,1)])\n",
    "# interval_lower = optimize.newton(lambda a_l, b_l: loss_function(a_l, b_l)-loss_function(b_hat)-10, b_hat-0.1)\n",
    "# interval_upper = optimize.newton(lambda b_l, b_u: loss_function(b_l, b_u)-loss_function(b_hat)-10, b_hat+0.1)"
   ]
  },
  {
   "cell_type": "code",
   "execution_count": 5,
   "metadata": {},
   "outputs": [
    {
     "data": {
      "text/plain": [
       "array([6.03581327e-01, 3.88902779e-04])"
      ]
     },
     "execution_count": 5,
     "metadata": {},
     "output_type": "execute_result"
    }
   ],
   "source": [
    "b_hat"
   ]
  }
 ],
 "metadata": {
  "kernelspec": {
   "display_name": "Python 3",
   "language": "python",
   "name": "python3"
  },
  "language_info": {
   "codemirror_mode": {
    "name": "ipython",
    "version": 3
   },
   "file_extension": ".py",
   "mimetype": "text/x-python",
   "name": "python",
   "nbconvert_exporter": "python",
   "pygments_lexer": "ipython3",
   "version": "3.8.5"
  }
 },
 "nbformat": 4,
 "nbformat_minor": 4
}
