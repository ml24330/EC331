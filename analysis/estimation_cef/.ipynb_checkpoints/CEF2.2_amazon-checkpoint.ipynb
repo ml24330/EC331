{
 "cells": [
  {
   "cell_type": "markdown",
   "metadata": {},
   "source": [
    "Here we estimate the following conditional expectation function:\n",
    "$$\n",
    "\\mathbb{E}[valuation_i|ispolice_i, sellerfeedbackscore_i]=\\alpha+\\beta_1 ispolice_i+\\beta_2 sellerfeedbackscore_i\n",
    "$$\n",
    "using listings of amazon tablets where the number of bids received is strictly between 3 and 12."
   ]
  },
  {
   "cell_type": "code",
   "execution_count": 1,
   "metadata": {},
   "outputs": [],
   "source": [
    "import pandas as pd\n",
    "import numpy as np\n",
    "from scipy import optimize\n",
    "from main import estimate_median, get_loss_function, transform_covariates\n",
    "\n",
    "data = pd.read_csv(\"../../data/demeaned.csv\")\n",
    "df = data.groupby([\"id\", \"ispolice\", \"sellerfeedbackscore\", \"bidcount\", \"apple\", \"amazon\"])[\"bids\"].apply(lambda x: x.values).reset_index()"
   ]
  },
  {
   "cell_type": "code",
   "execution_count": 3,
   "metadata": {
    "scrolled": true
   },
   "outputs": [
    {
     "name": "stderr",
     "output_type": "stream",
     "text": [
      "/Users/liumukun/anaconda3/lib/python3.8/site-packages/pandas/core/generic.py:5168: SettingWithCopyWarning: \n",
      "A value is trying to be set on a copy of a slice from a DataFrame.\n",
      "Try using .loc[row_indexer,col_indexer] = value instead\n",
      "\n",
      "See the caveats in the documentation: https://pandas.pydata.org/pandas-docs/stable/user_guide/indexing.html#returning-a-view-versus-a-copy\n",
      "  self[name] = value\n"
     ]
    }
   ],
   "source": [
    "amazon_bids = list(df[(df.amazon == 1) & (df.ispolice == 1)].bidcount.value_counts().index)\n",
    "\n",
    "include = df[(df.bidcount > 3) & (df.bidcount < 12) & (df.amazon == 1) & (df.bidcount.isin(amazon_bids))]\n",
    "\n",
    "bids = list(include.bids)\n",
    "\n",
    "logged_feedback = np.log(include.sellerfeedbackscore+1)\n",
    "logged_feedback = transform_covariates(logged_feedback, 100)\n",
    "include.sellerfeedbackscore = logged_feedback\n",
    "\n",
    "covariates = np.array(include[[\"ispolice\", \"sellerfeedbackscore\"]])\n",
    "covariates = list([list(cov) for cov in covariates])"
   ]
  },
  {
   "cell_type": "code",
   "execution_count": 4,
   "metadata": {},
   "outputs": [
    {
     "name": "stdout",
     "output_type": "stream",
     "text": [
      "calculating values for covariate: [0.0, 6.411818267709897] (1/100)\n",
      "total time elapsed: 0.00027485800000004446s\n"
     ]
    },
    {
     "name": "stderr",
     "output_type": "stream",
     "text": [
      "/Users/liumukun/anaconda3/lib/python3.8/site-packages/scipy/stats/_distn_infrastructure.py:1695: IntegrationWarning: The maximum number of subdivisions (50) has been achieved.\n",
      "  If increasing the limit yields no improvement it is advised to analyze \n",
      "  the integrand in order to determine the difficulties.  If the position of a \n",
      "  local difficulty can be determined (singularity, discontinuity) one will \n",
      "  probably gain from splitting up the interval and calling the integrator \n",
      "  on the subranges.  Perhaps a special-purpose integrator should be used.\n",
      "  return integrate.quad(self._mom_integ1, 0, 1, args=(m,)+args)[0]\n"
     ]
    },
    {
     "name": "stdout",
     "output_type": "stream",
     "text": [
      "calculating values for covariate: [0.0, 6.882437470997846] (2/100)\n",
      "total time elapsed: 37.131329965s\n",
      "calculating values for covariate: [0.0, 6.079765600547129] (3/100)\n",
      "total time elapsed: 72.527327082s\n",
      "calculating values for covariate: [0.0, 9.26416545867109] (4/100)\n",
      "total time elapsed: 108.652126492s\n",
      "calculating values for covariate: [0.0, 6.741700694652055] (5/100)\n",
      "total time elapsed: 144.761459916s\n",
      "calculating values for covariate: [0.0, 6.133398042996649] (6/100)\n",
      "total time elapsed: 187.20196385399998s\n",
      "calculating values for covariate: [0.0, 8.031710375322042] (7/100)\n",
      "total time elapsed: 225.255064993s\n",
      "calculating values for covariate: [0.0, 6.054436591076521] (8/100)\n",
      "total time elapsed: 264.016385141s\n",
      "calculating values for covariate: [0.0, 6.895682697747867] (9/100)\n",
      "total time elapsed: 303.046652176s\n",
      "calculating values for covariate: [0.0, 6.7464121285733745] (10/100)\n",
      "total time elapsed: 344.217850157s\n",
      "calculating values for covariate: [0.0, 7.4360278163518485] (11/100)\n",
      "total time elapsed: 383.0327959s\n",
      "calculating values for covariate: [0.0, 2.1972245773362196] (12/100)\n",
      "total time elapsed: 421.690248396s\n",
      "calculating values for covariate: [0.0, 6.526494859570789] (13/100)\n",
      "total time elapsed: 469.25898016499997s\n",
      "calculating values for covariate: [0.0, 2.3937458713910233] (14/100)\n",
      "total time elapsed: 532.232452121s\n",
      "calculating values for covariate: [0.0, 9.054154288786854] (15/100)\n",
      "total time elapsed: 591.841741572s\n",
      "calculating values for covariate: [0.0, 6.242223265455165] (16/100)\n",
      "total time elapsed: 640.397996994s\n",
      "calculating values for covariate: [0.0, 8.126518168780708] (17/100)\n",
      "total time elapsed: 696.32271751s\n",
      "calculating values for covariate: [0.0, 5.178966641432957] (18/100)\n",
      "total time elapsed: 757.143100414s\n",
      "calculating values for covariate: [0.0, 6.33682573114644] (19/100)\n",
      "total time elapsed: 816.500251233s\n",
      "calculating values for covariate: [0.0, 4.905247342843482] (20/100)\n",
      "total time elapsed: 871.134898283s\n",
      "calculating values for covariate: [0.0, 9.803145478962218] (21/100)\n",
      "total time elapsed: 926.135783547s\n",
      "calculating values for covariate: [0.0, 5.310590496757037] (22/100)\n",
      "total time elapsed: 980.267349338s\n",
      "calculating values for covariate: [0.0, 7.312553498102598] (23/100)\n",
      "total time elapsed: 1034.545366532s\n",
      "calculating values for covariate: [0.0, 6.902742737158593] (24/100)\n",
      "total time elapsed: 1088.790699283s\n",
      "calculating values for covariate: [0.0, 12.689765831250803] (25/100)\n",
      "total time elapsed: 1142.241016139s\n",
      "calculating values for covariate: [0.0, 7.160845906664298] (26/100)\n",
      "total time elapsed: 1199.4626487369999s\n",
      "calculating values for covariate: [0.0, 4.952293473989714] (27/100)\n",
      "total time elapsed: 1276.705456328s\n",
      "calculating values for covariate: [0.0, 6.9726062513017535] (28/100)\n",
      "total time elapsed: 1359.330322762s\n",
      "calculating values for covariate: [0.0, 5.803025721479856] (29/100)\n",
      "total time elapsed: 1430.966136974s\n",
      "calculating values for covariate: [0.0, 4.6959141240107805] (30/100)\n",
      "total time elapsed: 1498.299807375s\n",
      "calculating values for covariate: [0.0, 5.277997506814689] (31/100)\n",
      "total time elapsed: 1560.559630596s\n",
      "calculating values for covariate: [0.0, 0.8958797346140275] (32/100)\n",
      "total time elapsed: 1622.58712192s\n",
      "calculating values for covariate: [0.0, 5.864687329495856] (33/100)\n",
      "total time elapsed: 1685.019373826s\n",
      "calculating values for covariate: [0.0, 6.152732694704104] (34/100)\n",
      "total time elapsed: 1747.513267383s\n",
      "calculating values for covariate: [0.0, 4.731327150295087] (35/100)\n",
      "total time elapsed: 1809.87648214s\n",
      "calculating values for covariate: [0.0, 5.629145623282325] (36/100)\n",
      "total time elapsed: 1887.999391177s\n",
      "calculating values for covariate: [0.0, 4.398320729470457] (37/100)\n",
      "total time elapsed: 1941.16191827s\n",
      "calculating values for covariate: [0.0, 5.4293071540977405] (38/100)\n",
      "total time elapsed: 1994.019113823s\n",
      "calculating values for covariate: [0.0, 7.039660349862076] (39/100)\n",
      "total time elapsed: 2050.244803771s\n",
      "calculating values for covariate: [0.0, 6.498282149476434] (40/100)\n",
      "total time elapsed: 2102.382400681s\n",
      "calculating values for covariate: [0.0, 7.809135398120539] (41/100)\n",
      "total time elapsed: 2151.721405662s\n",
      "calculating values for covariate: [0.0, 13.293416061617572] (42/100)\n",
      "total time elapsed: 2201.881602724s\n",
      "calculating values for covariate: [0.0, 6.64639051484773] (43/100)\n",
      "total time elapsed: 2251.7549433870004s\n",
      "calculating values for covariate: [0.0, 6.490723534502507] (44/100)\n",
      "total time elapsed: 2302.8943595150004s\n",
      "calculating values for covariate: [0.0, 4.609154270812679] (45/100)\n",
      "total time elapsed: 2354.019286696s\n",
      "calculating values for covariate: [0.0, 4.17141990213573] (46/100)\n",
      "total time elapsed: 2409.8066257660003s\n",
      "calculating values for covariate: [1.0, 9.962043589246067] (47/100)\n",
      "total time elapsed: 2456.55945109s\n",
      "calculating values for covariate: [0.0, 5.917526220727529] (48/100)\n",
      "total time elapsed: 2497.645750897s\n",
      "calculating values for covariate: [0.0, 6.677083461247136] (49/100)\n",
      "total time elapsed: 2535.763357653s\n",
      "calculating values for covariate: [0.0, 8.182559264068663] (50/100)\n",
      "total time elapsed: 2568.8692836540004s\n",
      "calculating values for covariate: [0.0, 9.481255893085342] (51/100)\n",
      "total time elapsed: 2601.8748621950003s\n",
      "calculating values for covariate: [0.0, 6.206575926724928] (52/100)\n",
      "total time elapsed: 2648.832585254s\n",
      "calculating values for covariate: [0.0, 6.473890696352274] (53/100)\n",
      "total time elapsed: 2690.252481332s\n",
      "calculating values for covariate: [0.0, 6.669498089857879] (54/100)\n",
      "total time elapsed: 2728.79068202s\n",
      "calculating values for covariate: [0.0, 6.230481447578482] (55/100)\n",
      "total time elapsed: 2762.296912278s\n",
      "calculating values for covariate: [0.0, 7.691200097522863] (56/100)\n",
      "total time elapsed: 2798.85935435s\n",
      "calculating values for covariate: [0.0, 6.103076089325427] (57/100)\n",
      "total time elapsed: 2833.6143089390002s\n",
      "calculating values for covariate: [0.0, 6.169610732491456] (58/100)\n",
      "total time elapsed: 2871.227135084s\n",
      "calculating values for covariate: [0.0, 5.706558089675363] (59/100)\n",
      "total time elapsed: 2908.816560257s\n",
      "calculating values for covariate: [0.0, 6.685860947068359] (60/100)\n",
      "total time elapsed: 2945.137272118s\n",
      "calculating values for covariate: [0.0, 6.51025834052315] (61/100)\n",
      "total time elapsed: 2977.8790264880004s\n",
      "calculating values for covariate: [0.0, 6.340359303727752] (62/100)\n",
      "total time elapsed: 3015.652870413s\n",
      "calculating values for covariate: [0.0, 3.9874384502794378] (63/100)\n",
      "total time elapsed: 3054.023819387s\n",
      "calculating values for covariate: [0.0, 4.504601450462294] (64/100)\n",
      "total time elapsed: 3091.0775265690004s\n",
      "calculating values for covariate: [0.0, 2.8919125911648687] (65/100)\n",
      "total time elapsed: 3123.930682139s\n",
      "calculating values for covariate: [0.0, 7.412160334945206] (66/100)\n",
      "total time elapsed: 3156.640270923s\n",
      "calculating values for covariate: [0.0, 6.1675164908883415] (67/100)\n",
      "total time elapsed: 3189.5688240590002s\n",
      "calculating values for covariate: [0.0, 6.748759547491679] (68/100)\n",
      "total time elapsed: 3222.251801891s\n",
      "calculating values for covariate: [0.0, 4.317399216745251] (69/100)\n",
      "total time elapsed: 3254.845226845s\n",
      "calculating values for covariate: [0.0, 5.238812973256936] (70/100)\n",
      "total time elapsed: 3287.7238914430004s\n",
      "calculating values for covariate: [0.0, 6.401917196727186] (71/100)\n",
      "total time elapsed: 3320.51866624s\n",
      "calculating values for covariate: [0.0, 5.106023078897017] (72/100)\n",
      "total time elapsed: 3353.1122876450004s\n",
      "calculating values for covariate: [0.0, 8.140315540159985] (73/100)\n",
      "total time elapsed: 3386.0735592970004s\n",
      "calculating values for covariate: [0.0, 6.88653164253051] (74/100)\n",
      "total time elapsed: 3419.5737844910004s\n",
      "calculating values for covariate: [0.0, 6.823286122355687] (75/100)\n",
      "total time elapsed: 3452.3185167250003s\n",
      "calculating values for covariate: [0.0, 7.7142311448490855] (76/100)\n",
      "total time elapsed: 3485.2241114030003s\n",
      "calculating values for covariate: [0.0, 6.736966958001855] (77/100)\n",
      "total time elapsed: 3517.9624540470004s\n",
      "calculating values for covariate: [0.0, 6.591673732008658] (78/100)\n",
      "total time elapsed: 3550.5735029280004s\n",
      "calculating values for covariate: [0.0, 5.551688515712215] (79/100)\n",
      "total time elapsed: 3583.427916636s\n",
      "calculating values for covariate: [1.0, 9.955277308666151] (80/100)\n",
      "total time elapsed: 3616.8484652740003s\n"
     ]
    },
    {
     "name": "stdout",
     "output_type": "stream",
     "text": [
      "calculating values for covariate: [0.0, 6.5250296578434615] (81/100)\n",
      "total time elapsed: 3648.961371444s\n",
      "calculating values for covariate: [0.0, 4.787179145085087] (82/100)\n",
      "total time elapsed: 3681.6215595000003s\n",
      "calculating values for covariate: [0.0, 13.275246150920841] (83/100)\n",
      "total time elapsed: 3715.29117841s\n",
      "calculating values for covariate: [0.0, 6.173786103901937] (84/100)\n",
      "total time elapsed: 3747.1520388540002s\n",
      "calculating values for covariate: [0.0, 6.043802187577048] (85/100)\n",
      "total time elapsed: 3779.746160864s\n",
      "calculating values for covariate: [0.0, 5.016731314478937] (86/100)\n",
      "total time elapsed: 3812.4726732010004s\n",
      "calculating values for covariate: [0.0, 6.234410725718371] (87/100)\n",
      "total time elapsed: 3845.246504481s\n"
     ]
    }
   ],
   "source": [
    "expected_upper, expected_lower = estimate_mean(bids, covariates, (0,9))"
   ]
  },
  {
   "cell_type": "code",
   "execution_count": 5,
   "metadata": {},
   "outputs": [],
   "source": [
    "def loss_function(c):\n",
    "    a, b1, b2 = c\n",
    "    cef = lambda cov: a+b1*cov[0]+b2*cov[1]\n",
    "    return get_loss_function(covariates, expected_upper, expected_lower, cef)\n",
    "\n",
    "b_hat = optimize.brute(loss_function, ranges=[(0,2), (-1,1), (-1,1)])\n",
    "# interval_lower = optimize.newton(lambda a_l, b_l: loss_function(a_l, b_l)-loss_function(b_hat)-10, b_hat-0.1)\n",
    "# interval_upper = optimize.newton(lambda b_l, b_u: loss_function(b_l, b_u)-loss_function(b_hat)-10, b_hat+0.1)"
   ]
  },
  {
   "cell_type": "code",
   "execution_count": 6,
   "metadata": {},
   "outputs": [
    {
     "data": {
      "text/plain": [
       "array([-0.08790365,  2.12122365,  0.12223487])"
      ]
     },
     "execution_count": 6,
     "metadata": {},
     "output_type": "execute_result"
    }
   ],
   "source": [
    "b_hat"
   ]
  },
  {
   "cell_type": "code",
   "execution_count": 7,
   "metadata": {},
   "outputs": [],
   "source": [
    "def loss_function(c):\n",
    "    a, b1, b2, b3 = c\n",
    "    cef = lambda cov: a+b1*cov[0]+b2*cov[1]+b3*cov[0]*cov[1]\n",
    "    return get_loss_function(covariates, expected_upper, expected_lower, cef)\n",
    "\n",
    "b_hat_2 = optimize.brute(loss_function, ranges=[(0,2), (-1,1), (-1,1), (-1,1)])\n",
    "# interval_lower = optimize.newton(lambda a_l, b_l: loss_function(a_l, b_l)-loss_function(b_hat)-10, b_hat-0.1)\n",
    "# interval_upper = optimize.newton(lambda b_l, b_u: loss_function(b_l, b_u)-loss_function(b_hat)-10, b_hat+0.1)"
   ]
  },
  {
   "cell_type": "code",
   "execution_count": 8,
   "metadata": {},
   "outputs": [
    {
     "data": {
      "text/plain": [
       "array([-0.08793775, -0.30354177,  0.12223971,  0.23259789])"
      ]
     },
     "execution_count": 8,
     "metadata": {},
     "output_type": "execute_result"
    }
   ],
   "source": [
    "b_hat_2"
   ]
  }
 ],
 "metadata": {
  "kernelspec": {
   "display_name": "Python 3",
   "language": "python",
   "name": "python3"
  },
  "language_info": {
   "codemirror_mode": {
    "name": "ipython",
    "version": 3
   },
   "file_extension": ".py",
   "mimetype": "text/x-python",
   "name": "python",
   "nbconvert_exporter": "python",
   "pygments_lexer": "ipython3",
   "version": "3.8.5"
  }
 },
 "nbformat": 4,
 "nbformat_minor": 4
}
