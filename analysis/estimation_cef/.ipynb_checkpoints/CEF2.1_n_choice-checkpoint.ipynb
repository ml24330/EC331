{
 "cells": [
  {
   "cell_type": "markdown",
   "metadata": {},
   "source": [
    "Here we estimate the following conditional expectation function:\n",
    "$$\n",
    "\\mathbb{E}[valuation_i|sellerfeedbackscore_i]=\\alpha+\\beta_1 sellerfeedbackscore_i,\n",
    "$$\n",
    "using the entire sample without considering the number of bids received."
   ]
  },
  {
   "cell_type": "code",
   "execution_count": 1,
   "metadata": {},
   "outputs": [],
   "source": [
    "import pandas as pd\n",
    "import numpy as np\n",
    "from scipy import optimize\n",
    "from main import get_estimated_means, get_order_statistic_pdfs, transform_covariates\n",
    "\n",
    "def get_loss_function(covariates, upper_dict, lower_dict, cef):\n",
    "    _sum = 0\n",
    "    for covariate in covariates:\n",
    "        upper = upper_dict[f\"{covariate}\"]\n",
    "        lower = lower_dict[f\"{covariate}\"]\n",
    "        if cef(covariate) > upper:\n",
    "            _sum += (cef(covariate)-upper)**2\n",
    "        if cef(covariate) < lower:\n",
    "            _sum += (cef(covariate)-lower)**2\n",
    "    return _sum\n",
    "\n",
    "data = pd.read_csv(\"../../data/demeaned.csv\")\n",
    "df = data.groupby([\"id\", \"ispolice\", \"sellerfeedbackscore\", \"bidcount\", \"apple\", \"amazon\"])[\"bids\"].apply(lambda x: x.values).reset_index()"
   ]
  },
  {
   "cell_type": "code",
   "execution_count": 5,
   "metadata": {},
   "outputs": [],
   "source": [
    "compatible_bids = list(df[df.ispolice == 1].bidcount.value_counts().index)\n",
    "include = df[df.bidcount.isin(compatible_bids)]\n",
    "\n",
    "bids = list(include.bids)\n",
    "covariates = [[cov] for cov in list(include.sellerfeedbackscore)]"
   ]
  },
  {
   "cell_type": "code",
   "execution_count": null,
   "metadata": {},
   "outputs": [],
   "source": [
    "pdfs, pdfs_delta = get_order_statistic_pdfs(bids, covariates)\n",
    "\n",
    "expected_upper = {}\n",
    "expected_lower = {}\n",
    "unique_covariates = [list(x) for x in set(tuple(x) for x in covariates)]\n",
    "\n",
    "for covariate in unique_covariates:\n",
    "    lower, upper = get_estimated_means(pdfs, pdfs_delta, covariate, (-1,9))\n",
    "    expected_upper[f\"{covariate}\"] = upper\n",
    "    expected_lower[f\"{covariate}\"] = lower"
   ]
  },
  {
   "cell_type": "code",
   "execution_count": null,
   "metadata": {},
   "outputs": [],
   "source": [
    "def loss_function(c):\n",
    "    a, b = c\n",
    "    cef = lambda cov: a+b*cov[0]\n",
    "    return get_loss_function(covariates, expected_upper, expected_lower, cef)\n",
    "\n",
    "b_hat = optimize.brute(loss_function, ranges=[(0,2), (-1,1)])\n",
    "# interval_lower = optimize.newton(lambda a_l, b_l: loss_function(a_l, b_l)-loss_function(b_hat)-10, b_hat-0.1)\n",
    "# interval_upper = optimize.newton(lambda b_l, b_u: loss_function(b_l, b_u)-loss_function(b_hat)-10, b_hat+0.1)"
   ]
  }
 ],
 "metadata": {
  "kernelspec": {
   "display_name": "Python 3",
   "language": "python",
   "name": "python3"
  },
  "language_info": {
   "codemirror_mode": {
    "name": "ipython",
    "version": 3
   },
   "file_extension": ".py",
   "mimetype": "text/x-python",
   "name": "python",
   "nbconvert_exporter": "python",
   "pygments_lexer": "ipython3",
   "version": "3.8.5"
  }
 },
 "nbformat": 4,
 "nbformat_minor": 4
}
