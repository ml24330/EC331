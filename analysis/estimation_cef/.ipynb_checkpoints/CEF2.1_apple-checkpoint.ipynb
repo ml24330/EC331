{
 "cells": [
  {
   "cell_type": "markdown",
   "metadata": {},
   "source": [
    "Here we estimate the following conditional expectation function:\n",
    "$$\n",
    "\\mathbb{E}[valuation_i|log\\_sellerfeedbackscore_i]=\\alpha+\\beta_1 log\\_sellerfeedbackscore_i,\n",
    "$$\n",
    "using listings of apple tablets where the number of bids received is strictly between 3 and 12."
   ]
  },
  {
   "cell_type": "code",
   "execution_count": 6,
   "metadata": {},
   "outputs": [],
   "source": [
    "import pandas as pd\n",
    "import numpy as np\n",
    "from scipy import optimize\n",
    "from main import estimate_median, get_loss_function, transform_covariates\n",
    "\n",
    "data = pd.read_csv(\"../../data/demeaned.csv\")\n",
    "df = data.groupby([\"id\", \"ispolice\", \"sellerfeedbackscore\", \"bidcount\", \"apple\", \"amazon\"])[\"bids\"].apply(lambda x: x.values).reset_index()"
   ]
  },
  {
   "cell_type": "code",
   "execution_count": 2,
   "metadata": {},
   "outputs": [
    {
     "name": "stderr",
     "output_type": "stream",
     "text": [
      "/Users/liumukun/Desktop/projects/eme/analysis/estimation/main.py:300: RuntimeWarning: Mean of empty slice.\n",
      "  covariates[order] = covariates[order].mean()\n",
      "/Users/liumukun/anaconda3/lib/python3.8/site-packages/numpy/core/_methods.py:189: RuntimeWarning: invalid value encountered in double_scalars\n",
      "  ret = ret.dtype.type(ret / rcount)\n"
     ]
    }
   ],
   "source": [
    "apple_bids = list(df[(df.apple == 1) & (df.ispolice == 1)].bidcount.value_counts().index)\n",
    "include = df[(df.bidcount > 3) & (df.bidcount < 12) & (df.apple == 1) & (df.bidcount.isin(apple_bids))]\n",
    "\n",
    "bids = list(include.bids)\n",
    "logged_feedback = np.log(include.sellerfeedbackscore+1)\n",
    "covariates = [[cov] for cov in list(logged_feedback)]\n",
    "\n",
    "covariates = [[cov] for cov in transform_covariates([cov[0] for cov in covariates],100)]"
   ]
  },
  {
   "cell_type": "code",
   "execution_count": 3,
   "metadata": {},
   "outputs": [
    {
     "name": "stdout",
     "output_type": "stream",
     "text": [
      "calculating values for covariate: [6.467698726104353] (1/100)\n",
      "total time elapsed: 0.00021927899999996114s\n"
     ]
    },
    {
     "name": "stderr",
     "output_type": "stream",
     "text": [
      "/Users/liumukun/anaconda3/lib/python3.8/site-packages/scipy/stats/_distn_infrastructure.py:1695: IntegrationWarning: The maximum number of subdivisions (50) has been achieved.\n",
      "  If increasing the limit yields no improvement it is advised to analyze \n",
      "  the integrand in order to determine the difficulties.  If the position of a \n",
      "  local difficulty can be determined (singularity, discontinuity) one will \n",
      "  probably gain from splitting up the interval and calling the integrator \n",
      "  on the subranges.  Perhaps a special-purpose integrator should be used.\n",
      "  return integrate.quad(self._mom_integ1, 0, 1, args=(m,)+args)[0]\n"
     ]
    },
    {
     "name": "stdout",
     "output_type": "stream",
     "text": [
      "calculating values for covariate: [9.481255893085342] (2/100)\n",
      "total time elapsed: 54.418174871s\n",
      "calculating values for covariate: [5.3471075307174685] (3/100)\n",
      "total time elapsed: 96.973789484s\n",
      "calculating values for covariate: [4.31748811353631] (4/100)\n",
      "total time elapsed: 143.44676848600002s\n",
      "calculating values for covariate: [6.236369590203704] (5/100)\n",
      "total time elapsed: 202.37861991800003s\n",
      "calculating values for covariate: [6.329720905522696] (6/100)\n",
      "total time elapsed: 249.94151110800001s\n",
      "calculating values for covariate: [3.5553480614894135] (7/100)\n",
      "total time elapsed: 295.35027310699996s\n",
      "calculating values for covariate: [1.3862943611198906] (8/100)\n",
      "total time elapsed: 340.07867600599997s\n",
      "calculating values for covariate: [4.30406509320417] (9/100)\n",
      "total time elapsed: 383.186163015s\n",
      "calculating values for covariate: [3.295836866004329] (10/100)\n",
      "total time elapsed: 435.89026462199996s\n",
      "calculating values for covariate: [7.313015299394591] (11/100)\n",
      "total time elapsed: 491.456383464s\n",
      "calculating values for covariate: [1.6094379124341003] (12/100)\n",
      "total time elapsed: 535.590056139s\n",
      "calculating values for covariate: [3.6375861597263857] (13/100)\n",
      "total time elapsed: 579.7361772209999s\n",
      "calculating values for covariate: [3.4011973816621555] (14/100)\n",
      "total time elapsed: 626.946945603s\n",
      "calculating values for covariate: [4.61512051684126] (15/100)\n",
      "total time elapsed: 671.035990134s\n",
      "calculating values for covariate: [4.859812404361672] (16/100)\n",
      "total time elapsed: 715.975068793s\n",
      "calculating values for covariate: [4.219507705176107] (17/100)\n",
      "total time elapsed: 760.551201708s\n",
      "calculating values for covariate: [6.161207321695076] (18/100)\n",
      "total time elapsed: 808.375426811s\n",
      "calculating values for covariate: [8.741755575710727] (19/100)\n",
      "total time elapsed: 856.620589255s\n",
      "calculating values for covariate: [9.955277308666151] (20/100)\n",
      "total time elapsed: 902.0478671459999s\n",
      "calculating values for covariate: [6.107022887742254] (21/100)\n",
      "total time elapsed: 947.7140948699999s\n",
      "calculating values for covariate: [6.601230118728877] (22/100)\n",
      "total time elapsed: 997.374516349s\n",
      "calculating values for covariate: [4.867534450455582] (23/100)\n",
      "total time elapsed: 1045.335569908s\n",
      "calculating values for covariate: [5.971261839790462] (24/100)\n",
      "total time elapsed: 1090.560950296s\n",
      "calculating values for covariate: [6.538139823767669] (25/100)\n",
      "total time elapsed: 1139.8710170630002s\n",
      "calculating values for covariate: [7.589162312923845] (26/100)\n",
      "total time elapsed: 1185.76933095s\n",
      "calculating values for covariate: [5.429345628954441] (27/100)\n",
      "total time elapsed: 1230.336679384s\n",
      "calculating values for covariate: [4.624972813284271] (28/100)\n",
      "total time elapsed: 1274.0738336900001s\n",
      "calculating values for covariate: [5.627621113690637] (29/100)\n",
      "total time elapsed: 1319.967460534s\n",
      "calculating values for covariate: [4.564348191467836] (30/100)\n",
      "total time elapsed: 1366.1873704440002s\n",
      "calculating values for covariate: [7.668093709082406] (31/100)\n",
      "total time elapsed: 1409.037359572s\n",
      "calculating values for covariate: [5.877735781779639] (32/100)\n",
      "total time elapsed: 1452.855959207s\n",
      "calculating values for covariate: [9.962043589246067] (33/100)\n",
      "total time elapsed: 1520.7596641950001s\n",
      "calculating values for covariate: [5.337538079701318] (34/100)\n",
      "total time elapsed: 1581.87555434s\n",
      "calculating values for covariate: [7.528331766707247] (35/100)\n",
      "total time elapsed: 1637.7906561690002s\n",
      "calculating values for covariate: [4.584967478670572] (36/100)\n",
      "total time elapsed: 1687.7581978320002s\n",
      "calculating values for covariate: [6.551080335043405] (37/100)\n",
      "total time elapsed: 1739.00226096s\n",
      "calculating values for covariate: [7.983098940710892] (38/100)\n",
      "total time elapsed: 1790.6984714330001s\n",
      "calculating values for covariate: [6.192362489474872] (39/100)\n",
      "total time elapsed: 1838.778268427s\n",
      "calculating values for covariate: [5.25227342804663] (40/100)\n",
      "total time elapsed: 1895.063750532s\n",
      "calculating values for covariate: [3.4965075614664802] (41/100)\n",
      "total time elapsed: 1946.6193230380002s\n",
      "calculating values for covariate: [5.4116460518550396] (42/100)\n",
      "total time elapsed: 1998.266854442s\n",
      "calculating values for covariate: [6.1224928095143865] (43/100)\n",
      "total time elapsed: 2044.0644376470002s\n",
      "calculating values for covariate: [3.6635616461296463] (44/100)\n",
      "total time elapsed: 2090.991270307s\n",
      "calculating values for covariate: [9.487024917706549] (45/100)\n",
      "total time elapsed: 2142.7932667180003s\n",
      "calculating values for covariate: [0.0] (46/100)\n",
      "total time elapsed: 2192.287617559s\n",
      "calculating values for covariate: [5.8916442118257715] (47/100)\n",
      "total time elapsed: 2243.029673252s\n",
      "calculating values for covariate: [8.195885391314796] (48/100)\n",
      "total time elapsed: 2294.9794309530002s\n",
      "calculating values for covariate: [6.865891074883438] (49/100)\n",
      "total time elapsed: 2346.477002532s\n",
      "calculating values for covariate: [10.693511775638694] (50/100)\n",
      "total time elapsed: 2397.407030677s\n",
      "calculating values for covariate: [8.289539484624141] (51/100)\n",
      "total time elapsed: 2446.045271107s\n",
      "calculating values for covariate: [8.155362120328135] (52/100)\n",
      "total time elapsed: 2498.0459526160002s\n",
      "calculating values for covariate: [3.4657359027997265] (53/100)\n",
      "total time elapsed: 2542.883209251s\n",
      "calculating values for covariate: [4.912654885736052] (54/100)\n",
      "total time elapsed: 2586.8636381260003s\n",
      "calculating values for covariate: [4.820281565605037] (55/100)\n",
      "total time elapsed: 2632.641732525s\n",
      "calculating values for covariate: [7.171656822768514] (56/100)\n",
      "total time elapsed: 2676.203834066s\n",
      "calculating values for covariate: [7.213031659834869] (57/100)\n",
      "total time elapsed: 2726.73156673s\n",
      "calculating values for covariate: [5.529429087511423] (58/100)\n",
      "total time elapsed: 2774.163079877s\n",
      "calculating values for covariate: [3.912023005428146] (59/100)\n",
      "total time elapsed: 2818.772976047s\n",
      "calculating values for covariate: [5.602118820879701] (60/100)\n",
      "total time elapsed: 2862.6617395410003s\n",
      "calculating values for covariate: [1.791759469228055] (61/100)\n",
      "total time elapsed: 2908.582740221s\n",
      "calculating values for covariate: [4.795790545596741] (62/100)\n",
      "total time elapsed: 2958.103799094s\n",
      "calculating values for covariate: [6.070737728002491] (63/100)\n",
      "total time elapsed: 3007.149352722s\n",
      "calculating values for covariate: [3.713572066704308] (64/100)\n",
      "total time elapsed: 3053.254254194s\n",
      "calculating values for covariate: [5.575949103146316] (65/100)\n",
      "total time elapsed: 3099.280998178s\n",
      "calculating values for covariate: [2.6390573296152584] (66/100)\n",
      "total time elapsed: 3171.1025534220003s\n",
      "calculating values for covariate: [6.342121418721152] (67/100)\n",
      "total time elapsed: 3226.05054006s\n",
      "calculating values for covariate: [7.0587581525186645] (68/100)\n",
      "total time elapsed: 3275.8045850490003s\n",
      "calculating values for covariate: [1.9459101490553132] (69/100)\n",
      "total time elapsed: 3339.729617636s\n"
     ]
    }
   ],
   "source": [
    "expected_upper, expected_lower = estimate_mean(bids, covariates, (0,9))"
   ]
  },
  {
   "cell_type": "code",
   "execution_count": 7,
   "metadata": {},
   "outputs": [],
   "source": [
    "def loss_function(c):\n",
    "    a, b = c\n",
    "    cef = lambda cov: a+b*cov[0]\n",
    "    return get_loss_function(covariates, expected_upper, expected_lower, cef)\n",
    "\n",
    "b_hat = optimize.brute(loss_function, ranges=[(0,2), (-1,1)])\n",
    "# interval_lower = optimize.newton(lambda a_l, b_l: loss_function(a_l, b_l)-loss_function(b_hat)-10, b_hat-0.1)\n",
    "# interval_upper = optimize.newton(lambda b_l, b_u: loss_function(b_l, b_u)-loss_function(b_hat)-10, b_hat+0.1)"
   ]
  },
  {
   "cell_type": "code",
   "execution_count": 8,
   "metadata": {},
   "outputs": [
    {
     "data": {
      "text/plain": [
       "array([0.70420163, 0.00736892])"
      ]
     },
     "execution_count": 8,
     "metadata": {},
     "output_type": "execute_result"
    }
   ],
   "source": [
    "b_hat"
   ]
  }
 ],
 "metadata": {
  "kernelspec": {
   "display_name": "Python 3",
   "language": "python",
   "name": "python3"
  },
  "language_info": {
   "codemirror_mode": {
    "name": "ipython",
    "version": 3
   },
   "file_extension": ".py",
   "mimetype": "text/x-python",
   "name": "python",
   "nbconvert_exporter": "python",
   "pygments_lexer": "ipython3",
   "version": "3.8.5"
  }
 },
 "nbformat": 4,
 "nbformat_minor": 4
}
