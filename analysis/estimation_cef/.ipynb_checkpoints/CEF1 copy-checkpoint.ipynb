{
 "cells": [
  {
   "cell_type": "markdown",
   "metadata": {},
   "source": [
    "Here we estimate the following conditional expectation function:\n",
    "$$\n",
    "\\mathbb{E}[valuation_i|ispolice_i]=\\alpha+\\beta_1 ispolice_i,\n",
    "$$\n",
    "using the entire sample where the number of bids received is strictly between 3 and 12."
   ]
  },
  {
   "cell_type": "code",
   "execution_count": 1,
   "metadata": {},
   "outputs": [],
   "source": [
    "import sys\n",
    "import pandas as pd\n",
    "import re\n",
    "\n",
    "sys.path.append('../')\n",
    "\n",
    "from functions import *\n",
    "\n",
    "df = pd.read_csv(\"../../data/simulated.csv\")\n",
    "\n",
    "def comma(s):\n",
    "    add_comma = lambda match: match.group(0).replace(\" \", \", \")\n",
    "    \n",
    "    s = s.replace(\"\\n\", \"\")\n",
    "\n",
    "    s = re.sub(r\"([0-9\\.]+\\s)\", add_comma, s)\n",
    "    \n",
    "    return eval(s)\n",
    "\n",
    "df.bids = df.bids.apply(comma)"
   ]
  },
  {
   "cell_type": "code",
   "execution_count": 2,
   "metadata": {},
   "outputs": [],
   "source": [
    "include = df[df.bidcount == 6]\n",
    "\n",
    "bids = list(include.bids)\n",
    "covariates = [[cov] for cov in list(include.ispolice)]"
   ]
  },
  {
   "cell_type": "code",
   "execution_count": 3,
   "metadata": {
    "scrolled": false
   },
   "outputs": [
    {
     "data": {
      "text/plain": [
       "<matplotlib.legend.Legend at 0x7fa29759b490>"
      ]
     },
     "execution_count": 3,
     "metadata": {},
     "output_type": "execute_result"
    },
    {
     "data": {
      "image/png": "[encoded data removed]",
      "text/plain": [
       "<Figure size 432x288 with 1 Axes>"
      ]
     },
     "metadata": {
      "needs_background": "light"
     },
     "output_type": "display_data"
    }
   ],
   "source": [
    "import matplotlib.pyplot as plt\n",
    "\n",
    "pdfs, pdfs_delta = get_order_statistic_pdfs(bids, covariates)\n",
    "\n",
    "x_val = [0]\n",
    "\n",
    "x0, x1 = (0,9)\n",
    "\n",
    "conditional_pdfs = {key: [pdf(x_val) for pdf in value] for key, value in pdfs.items()}\n",
    "conditional_pdfs_delta = {key: pdf(x_val) for key, pdf in pdfs_delta.items()}\n",
    "\n",
    "parent_cdf_estimates_upper = []\n",
    "parent_cdf_estimates_lower = []\n",
    "\n",
    "for key in conditional_pdfs:\n",
    "\n",
    "    N_BIDS = int(key)\n",
    "\n",
    "    # weight = integrate.quad(conditional_pdfs[key][0], a=0, b=np.inf)[0]\n",
    "    weight = 1\n",
    "\n",
    "    conditional_pdf_N = [lambda y, pdf=pdf: pdf(y)/weight for pdf in conditional_pdfs[key]]\n",
    "\n",
    "\n",
    "    for i in range(N_BIDS):\n",
    "\n",
    "        conditional_pdf_i_N = conditional_pdf_N[i]\n",
    "        conditional_cdf_i_N = lambda y, conditional_pdf_i_N=conditional_pdf_i_N: integrate.quad(conditional_pdf_i_N, a=0, b=y)[0]\n",
    "\n",
    "        parent_conditional_cdf_from_i_N = lambda x, i=i, conditional_cdf_i_N=conditional_cdf_i_N: cdf(x, conditional_cdf_i_N, i+1, N_BIDS)/cdf(x1, conditional_cdf_i_N, i+1, N_BIDS)\n",
    "\n",
    "        parent_cdf_estimates_upper.append(parent_conditional_cdf_from_i_N)\n",
    "\n",
    "        if i == N_BIDS - 1:\n",
    "\n",
    "            conditional_pdf_delta_N = conditional_pdfs_delta[key]\n",
    "            conditional_cdf_delta_N = lambda y, conditional_pdf_delta_N=conditional_pdf_delta_N: integrate.quad(conditional_pdf_delta_N, a=0, b=y)[0]\n",
    "\n",
    "            parent_conditional_cdf_delta_from_N = lambda x, i=i: cdf(x, conditional_cdf_delta_N, i+1, N_BIDS)/cdf(x1, conditional_cdf_delta_N, i+1, N_BIDS)\n",
    "\n",
    "            parent_cdf_estimates_lower.append(parent_conditional_cdf_delta_from_N)\n",
    "\n",
    "values = np.linspace(0,9,num=50)\n",
    "for idx, f in enumerate(parent_cdf_estimates_upper):\n",
    "    plt.plot(values, [f(v) for v in values], label=idx)\n",
    "    \n",
    "plt.legend()"
   ]
  },
  {
   "cell_type": "code",
   "execution_count": null,
   "metadata": {},
   "outputs": [
    {
     "name": "stdout",
     "output_type": "stream",
     "text": [
      "calculating values for covariate: [0.0] (1/2)\n",
      "total time elapsed: 0.00044504099999898017s\n"
     ]
    }
   ],
   "source": [
    "expected_upper, expected_lower, u_cdfs, l_cdfs = estimate_mean(bids, covariates, (0,9))"
   ]
  },
  {
   "cell_type": "code",
   "execution_count": null,
   "metadata": {},
   "outputs": [],
   "source": [
    "def loss_function(c):\n",
    "    a, b = c\n",
    "    cef = lambda cov: a+b*cov[0]\n",
    "    return get_loss_function(covariates, expected_upper, expected_lower, cef)\n",
    "\n",
    "b_hat = optimize.brute(loss_function, ranges=[(0,2), (-1,1)])\n",
    "# interval_lower = optimize.newton(lambda a_l, b_l: loss_function(a_l, b_l)-loss_function(b_hat)-10, b_hat-0.1)\n",
    "# interval_upper = optimize.newton(lambda b_l, b_u: loss_function(b_l, b_u)-loss_function(b_hat)-10, b_hat+0.1)"
   ]
  },
  {
   "cell_type": "code",
   "execution_count": null,
   "metadata": {},
   "outputs": [],
   "source": [
    "b_hat"
   ]
  },
  {
   "cell_type": "code",
   "execution_count": null,
   "metadata": {
    "scrolled": false
   },
   "outputs": [],
   "source": [
    "import matplotlib.pyplot as plt\n",
    "\n",
    "x_points = np.linspace(-1,2,num=50)\n",
    "y_points = np.linspace(-1,1,num=50)\n",
    "\n",
    "fig = plt.figure(figsize = (10,10))\n",
    "ax = plt.axes(projection='3d')\n",
    "\n",
    "X, Y = np.meshgrid(x_points, y_points)\n",
    "dps = ([np.ravel(X), np.ravel(Y)])\n",
    "zs = np.array([loss_function(pair) for pair in list(zip(np.ravel(X), np.ravel(Y)))])\n",
    "Z = zs.reshape(X.shape)\n",
    "\n",
    "ax.plot_surface(X,Y,Z)\n",
    "ax.set_ylabel(r\"$\\beta_1$\")\n",
    "ax.set_xlabel(r\"$\\beta_0$\")\n",
    "ax.set_zlabel(r\"Loss function\")\n",
    "\n",
    "# plt.tight_layout()\n",
    "# fig.savefig(\"loss_func.png\", dpi=fig.dpi, bbox_inches=\"tight\")\n",
    "# plt.close()"
   ]
  },
  {
   "cell_type": "code",
   "execution_count": null,
   "metadata": {},
   "outputs": [],
   "source": [
    "import matplotlib.pyplot as plt\n",
    "\n",
    "plt.style.use('seaborn-pastel')\n",
    "plt.rcParams['figure.figsize'] = (8,5)\n",
    "plt.rcParams['figure.dpi'] = 500\n",
    "plt.rcParams['text.color'] = 'black'\n",
    "plt.rcParams['axes.labelcolor'] = 'black'\n",
    "plt.rcParams['xtick.color'] = 'black'\n",
    "plt.rcParams['ytick.color'] = 'black'\n",
    "plt.rcParams['axes.titlepad'] = 10\n",
    "plt.rcParams['axes.titleweight'] = 1000\n",
    "plt.rcParams['axes.labelpad'] = 5\n",
    "plt.rcParams['font.family'] = 'serif'\n",
    "plt.rcParams['axes.facecolor'] = 'white'"
   ]
  },
  {
   "cell_type": "code",
   "execution_count": null,
   "metadata": {
    "scrolled": false
   },
   "outputs": [],
   "source": [
    "from scipy import interpolate\n",
    "import matplotlib.pyplot as plt\n",
    "\n",
    "fig, ax = plt.subplots()\n",
    "\n",
    "vals = np.linspace(0,8,num=100)\n",
    "\n",
    "int_cdf_u_police = interpolate.interp1d(np.linspace(0,9,num=100), u_cdfs[\"[1.0]\"], bounds_error=False, fill_value=(0,1))\n",
    "plt.plot(vals, [int_cdf_u_police(v) for v in vals], label=\"Police auctions upper bound\", color=\"red\")\n",
    "\n",
    "int_cdf_l_police = interpolate.interp1d(np.linspace(0,9,num=100), l_cdfs[\"[1.0]\"], bounds_error=False, fill_value=(0,1))\n",
    "plt.plot(vals, [int_cdf_l_police(v) for v in vals], label=\"Police auctions lower bound\", color=\"red\", linestyle=\"--\")\n",
    "\n",
    "int_cdf_u_not = interpolate.interp1d(np.linspace(0,9,num=100), u_cdfs[\"[0.0]\"], bounds_error=False, fill_value=(0,1))\n",
    "plt.plot(vals, [int_cdf_u_not(v) for v in vals], label=\"Non-police auctions upper bound\", color=\"blue\")\n",
    "\n",
    "int_cdf_l_not = interpolate.interp1d(np.linspace(0,9,num=100), l_cdfs[\"[0.0]\"], bounds_error=False, fill_value=(0,1))\n",
    "plt.plot(vals, [int_cdf_l_not(v) for v in vals], label=\"Non-police auctions lower bound\", color=\"blue\", linestyle=\"--\")\n",
    "\n",
    "plt.ylabel(\"Cumulative probability\")\n",
    "plt.xlabel(\"Bidder valuation\")\n",
    "plt.legend()\n",
    "\n",
    "# plt.tight_layout()\n",
    "# fig.savefig(\"cef1_base.png\", dpi=fig.dpi, bbox_inches=\"tight\")\n",
    "# plt.close(fig)"
   ]
  },
  {
   "cell_type": "code",
   "execution_count": null,
   "metadata": {},
   "outputs": [],
   "source": [
    "from random import choices\n",
    "\n",
    "def bootstrap(bids, covariates, repetition):\n",
    "    \n",
    "    estimates_lower = []\n",
    "    estimates_upper = []\n",
    "    data_pairs = [(bid, covariate) for bid, covariate in zip(bids, covariates)]\n",
    "    \n",
    "    for _ in range(repetition):\n",
    "        resampled = choices(data_pairs, k=len(bids))\n",
    "    \n",
    "        bids = [r[0] for r in resampled]\n",
    "        covariates = [r[1] for r in resampled]\n",
    "\n",
    "        pdfs, pdfs_delta = get_order_statistic_pdfs(bids, covariates)\n",
    "        \n",
    "        expected_upper = {}\n",
    "        expected_lower = {}\n",
    "        \n",
    "        for covariate in np.unique(covariates):\n",
    "            lower, upper = get_estimated_means(pdfs, pdfs_delta, covariate, (-1,9))\n",
    "            expected_upper[f\"{covariate}\"] = upper\n",
    "            expected_lower[f\"{covariate}\"] = lower\n",
    "        \n",
    "        estimate = optimize.brute(lambda b: loss_function(covariates, expected_upper, expected_lower, b), ranges=[(0,2)])\n",
    "        interval_lower = optimize.newton(lambda b_l: loss_function(b_l)-loss_function(estimate)-10, estimate-0.1)\n",
    "        interval_upper = optimize.newton(lambda b_l: loss_function(b_l)-loss_function(estimate)-10, estimate+0.1)\n",
    "        \n",
    "        estimates_lower.append(interval_lower)\n",
    "        estimates_upper.append(interval_upper)\n",
    "        \n",
    "    return (estimates_lower, estimates_upper)\n",
    "    "
   ]
  },
  {
   "cell_type": "code",
   "execution_count": null,
   "metadata": {},
   "outputs": [],
   "source": [
    "interval_lower_b = optimize.newton(lambda b_l: loss_function([b_hat[0], b_l])-loss_function(b_hat)-1, b_hat[1]-0.1)\n",
    "interval_upper_b = optimize.newton(lambda b_l: loss_function([b_hat[0], b_l])-loss_function(b_hat)-1, b_hat[1]+0.1)\n",
    "\n",
    "interval_lower_a = optimize.newton(lambda b_l: loss_function([b_l, b_hat[1]])-loss_function(b_hat)-1, b_hat[0]-0.1)\n",
    "interval_upper_a = optimize.newton(lambda b_l: loss_function([b_l, b_hat[1]])-loss_function(b_hat)-1, b_hat[0]+0.1)\n",
    "\n",
    "interval_lower_a, interval_upper_a, interval_lower_b, interval_upper_b"
   ]
  }
 ],
 "metadata": {
  "kernelspec": {
   "display_name": "Python 3",
   "language": "python",
   "name": "python3"
  },
  "language_info": {
   "codemirror_mode": {
    "name": "ipython",
    "version": 3
   },
   "file_extension": ".py",
   "mimetype": "text/x-python",
   "name": "python",
   "nbconvert_exporter": "python",
   "pygments_lexer": "ipython3",
   "version": "3.8.5"
  }
 },
 "nbformat": 4,
 "nbformat_minor": 4
}
