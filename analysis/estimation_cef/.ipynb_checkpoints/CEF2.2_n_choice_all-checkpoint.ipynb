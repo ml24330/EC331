{
 "cells": [
  {
   "cell_type": "markdown",
   "metadata": {},
   "source": [
    "Here we estimate the following conditional expectation function:\n",
    "$$\n",
    "\\mathbb{E}[valuation_i|ispolice_i, sellerfeedbackscore_i]=\\alpha+\\beta_1 ispolice_i + \\beta_2sellerfeedbackscore_i,\n",
    "$$\n",
    "using the entire sample without considering the number of bids received."
   ]
  },
  {
   "cell_type": "code",
   "execution_count": 1,
   "metadata": {},
   "outputs": [],
   "source": [
    "import pandas as pd\n",
    "import numpy as np\n",
    "from scipy import optimize\n",
    "from main import estimate_median, get_loss_function, transform_covariates\n",
    "\n",
    "data = pd.read_csv(\"../../data/demeaned.csv\")\n",
    "df = data.groupby([\"id\", \"ispolice\", \"sellerfeedbackscore\", \"bidcount\", \"apple\", \"amazon\"])[\"bids\"].apply(lambda x: x.values).reset_index()"
   ]
  },
  {
   "cell_type": "code",
   "execution_count": 2,
   "metadata": {},
   "outputs": [
    {
     "name": "stderr",
     "output_type": "stream",
     "text": [
      "/Users/liumukun/anaconda3/lib/python3.8/site-packages/pandas/core/generic.py:5168: SettingWithCopyWarning: \n",
      "A value is trying to be set on a copy of a slice from a DataFrame.\n",
      "Try using .loc[row_indexer,col_indexer] = value instead\n",
      "\n",
      "See the caveats in the documentation: https://pandas.pydata.org/pandas-docs/stable/user_guide/indexing.html#returning-a-view-versus-a-copy\n",
      "  self[name] = value\n"
     ]
    }
   ],
   "source": [
    "compatible_bids = list(df[df.ispolice == 1].bidcount.value_counts().index)\n",
    "include = df[df.bidcount.isin(compatible_bids)]\n",
    "\n",
    "bids = list(include.bids)\n",
    "\n",
    "logged_feedback = np.log(include.sellerfeedbackscore+1)\n",
    "logged_feedback = transform_covariates(logged_feedback, 100)\n",
    "include.sellerfeedbackscore = logged_feedback\n",
    "\n",
    "covariates = np.array(include[[\"ispolice\", \"sellerfeedbackscore\"]])\n",
    "covariates = list([list(cov) for cov in covariates])"
   ]
  },
  {
   "cell_type": "code",
   "execution_count": 3,
   "metadata": {
    "scrolled": true
   },
   "outputs": [
    {
     "name": "stdout",
     "output_type": "stream",
     "text": [
      "calculating values for covariate: [0.0, 7.5643505225246495] (1/100)\n",
      "total time elapsed: 0.0002913659999999041s\n"
     ]
    },
    {
     "name": "stderr",
     "output_type": "stream",
     "text": [
      "/Users/liumukun/anaconda3/lib/python3.8/site-packages/scipy/stats/_distn_infrastructure.py:1695: IntegrationWarning: The maximum number of subdivisions (50) has been achieved.\n",
      "  If increasing the limit yields no improvement it is advised to analyze \n",
      "  the integrand in order to determine the difficulties.  If the position of a \n",
      "  local difficulty can be determined (singularity, discontinuity) one will \n",
      "  probably gain from splitting up the interval and calling the integrator \n",
      "  on the subranges.  Perhaps a special-purpose integrator should be used.\n",
      "  return integrate.quad(self._mom_integ1, 0, 1, args=(m,)+args)[0]\n"
     ]
    },
    {
     "name": "stdout",
     "output_type": "stream",
     "text": [
      "calculating values for covariate: [0.0, 5.66892376443991] (2/100)\n",
      "total time elapsed: 285.29934601900004s\n",
      "calculating values for covariate: [0.0, 4.206434182253519] (3/100)\n",
      "total time elapsed: 620.708989173s\n",
      "calculating values for covariate: [0.0, 9.436794237468936] (4/100)\n",
      "total time elapsed: 979.1227334299999s\n",
      "calculating values for covariate: [0.0, 5.620782532867282] (5/100)\n",
      "total time elapsed: 1400.358966102s\n",
      "calculating values for covariate: [1.0, 9.955277308666153] (6/100)\n",
      "total time elapsed: 1766.9347300660002s\n",
      "calculating values for covariate: [0.0, 4.63829374083503] (7/100)\n",
      "total time elapsed: 2066.474696679s\n",
      "calculating values for covariate: [0.0, 5.165054621323595] (8/100)\n",
      "total time elapsed: 2318.256439163s\n",
      "calculating values for covariate: [0.0, 9.484552478583174] (9/100)\n",
      "total time elapsed: 2552.871486917s\n",
      "calculating values for covariate: [0.0, 2.28815873655513] (10/100)\n",
      "total time elapsed: 2777.637248435s\n",
      "calculating values for covariate: [0.0, 6.775978638583625] (11/100)\n",
      "total time elapsed: 2981.047174454s\n",
      "calculating values for covariate: [1.0, 9.69370293408745] (12/100)\n",
      "total time elapsed: 3179.384847725s\n",
      "calculating values for covariate: [0.0, 3.6427829616722454] (13/100)\n",
      "total time elapsed: 3372.4010655350003s\n",
      "calculating values for covariate: [0.0, 5.3692759266075605] (14/100)\n",
      "total time elapsed: 3581.615969346s\n",
      "calculating values for covariate: [0.0, 0.25993019270997947] (15/100)\n",
      "total time elapsed: 3802.47294752s\n",
      "calculating values for covariate: [0.0, 7.071841727763689] (16/100)\n",
      "total time elapsed: 4030.612665559s\n",
      "calculating values for covariate: [0.0, 3.2237784140123606] (17/100)\n",
      "total time elapsed: 4240.303428173999s\n",
      "calculating values for covariate: [0.0, 6.201247042837766] (18/100)\n",
      "total time elapsed: 4473.262981364999s\n",
      "calculating values for covariate: [0.0, 4.927135898745242] (19/100)\n",
      "total time elapsed: 4689.449956926s\n",
      "calculating values for covariate: [0.0, 6.382462599402439] (20/100)\n",
      "total time elapsed: 4915.428242549s\n",
      "calculating values for covariate: [0.0, 3.9595968567839526] (21/100)\n",
      "total time elapsed: 5131.072467219999s\n",
      "calculating values for covariate: [0.0, 6.548848250422037] (22/100)\n",
      "total time elapsed: 5367.837432527999s\n",
      "calculating values for covariate: [0.0, 10.006479679462197] (23/100)\n",
      "total time elapsed: 5585.34259529s\n",
      "calculating values for covariate: [0.0, 7.853349184091726] (24/100)\n",
      "total time elapsed: 5788.655210755999s\n",
      "calculating values for covariate: [0.0, 6.599439716505273] (25/100)\n",
      "total time elapsed: 6037.238160868s\n",
      "calculating values for covariate: [0.0, 6.18073393366106] (26/100)\n",
      "total time elapsed: 6256.0443716459995s\n",
      "calculating values for covariate: [0.0, 4.07496572905667] (27/100)\n",
      "total time elapsed: 6470.793570649999s\n",
      "calculating values for covariate: [0.0, 6.149430350712189] (28/100)\n",
      "total time elapsed: 6681.84954467s\n",
      "calculating values for covariate: [0.0, 8.89711766135026] (29/100)\n",
      "total time elapsed: 6875.7982846449995s\n",
      "calculating values for covariate: [0.0, 5.4235444455003545] (30/100)\n",
      "total time elapsed: 7088.635328525999s\n",
      "calculating values for covariate: [0.0, 5.743941437996736] (31/100)\n",
      "total time elapsed: 7295.528033805999s\n",
      "calculating values for covariate: [0.0, 11.33844375855547] (32/100)\n",
      "total time elapsed: 7486.032179297999s\n",
      "calculating values for covariate: [0.0, 6.439596388697101] (33/100)\n",
      "total time elapsed: 7704.53858075s\n",
      "calculating values for covariate: [0.0, 8.153212608875544] (34/100)\n",
      "total time elapsed: 7939.203903592999s\n",
      "calculating values for covariate: [0.0, 5.835066362946046] (35/100)\n",
      "total time elapsed: 8158.359668151s\n",
      "calculating values for covariate: [0.0, 5.1997305895185315] (36/100)\n",
      "total time elapsed: 8364.138114944s\n",
      "calculating values for covariate: [0.0, 4.424560699360533] (37/100)\n",
      "total time elapsed: 8582.087761953999s\n",
      "calculating values for covariate: [0.0, 10.75380590378735] (38/100)\n",
      "total time elapsed: 8802.842008176s\n",
      "calculating values for covariate: [0.0, 7.407673760418058] (39/100)\n",
      "total time elapsed: 9024.747819064s\n",
      "calculating values for covariate: [1.0, 8.89711766135026] (40/100)\n",
      "total time elapsed: 9244.907105572s\n",
      "calculating values for covariate: [0.0, 1.2277304454369522] (41/100)\n",
      "total time elapsed: 9465.373395605s\n",
      "calculating values for covariate: [0.0, 5.93276490629531] (42/100)\n",
      "total time elapsed: 9690.765744295999s\n",
      "calculating values for covariate: [0.0, 6.617297006879771] (43/100)\n",
      "total time elapsed: 9903.401708588s\n",
      "calculating values for covariate: [0.0, 2.119673090808945] (44/100)\n",
      "total time elapsed: 10119.525051096s\n",
      "calculating values for covariate: [0.0, 6.081863851886263] (45/100)\n",
      "total time elapsed: 10339.537455144s\n",
      "calculating values for covariate: [0.0, 7.710150199345256] (46/100)\n",
      "total time elapsed: 10560.151264621s\n",
      "calculating values for covariate: [0.0, 5.078001361280696] (47/100)\n",
      "total time elapsed: 10783.800135903999s\n",
      "calculating values for covariate: [0.0, 4.525454164522782] (48/100)\n",
      "total time elapsed: 10995.993246357s\n",
      "calculating values for covariate: [0.0, 6.900064209655852] (49/100)\n",
      "total time elapsed: 11212.057095372s\n",
      "calculating values for covariate: [0.0, 1.7619265553871364] (50/100)\n",
      "total time elapsed: 11427.771481042999s\n",
      "calculating values for covariate: [0.0, 6.0414077151549455] (51/100)\n",
      "total time elapsed: 11641.656936374s\n",
      "calculating values for covariate: [0.0, 5.979787415449747] (52/100)\n",
      "total time elapsed: 11857.352627365999s\n",
      "calculating values for covariate: [0.0, 9.481255893085342] (53/100)\n",
      "total time elapsed: 12075.793728352s\n",
      "calculating values for covariate: [0.0, 2.533449658204007] (54/100)\n",
      "total time elapsed: 12284.48634252s\n",
      "calculating values for covariate: [0.0, 4.3320091121662205] (55/100)\n",
      "total time elapsed: 12506.945253949s\n",
      "calculating values for covariate: [1.0, 10.006479679462197] (56/100)\n",
      "total time elapsed: 12718.764087231999s\n",
      "calculating values for covariate: [0.0, 6.950685674976283] (57/100)\n",
      "total time elapsed: 12939.398050004s\n",
      "calculating values for covariate: [0.0, 7.271272950468081] (58/100)\n",
      "total time elapsed: 13158.074831021999s\n",
      "calculating values for covariate: [0.0, 8.012520509835065] (59/100)\n",
      "total time elapsed: 13373.638769795s\n",
      "calculating values for covariate: [0.0, 5.580993455214383] (60/100)\n",
      "total time elapsed: 13600.555794531s\n",
      "calculating values for covariate: [0.0, 5.521842139625886] (61/100)\n",
      "total time elapsed: 13820.015861300999s\n",
      "calculating values for covariate: [0.0, 3.8277916524436253] (62/100)\n",
      "total time elapsed: 14025.007022007s\n",
      "calculating values for covariate: [0.0, 6.509992393040078] (63/100)\n",
      "total time elapsed: 14222.513505888s\n",
      "calculating values for covariate: [0.0, 7.205471171836157] (64/100)\n",
      "total time elapsed: 14444.836877359s\n",
      "calculating values for covariate: [0.0, 3.492086285073702] (65/100)\n",
      "total time elapsed: 14676.985912179s\n",
      "calculating values for covariate: [0.0, 5.481585222520285] (66/100)\n",
      "total time elapsed: 14918.8507622s\n",
      "calculating values for covariate: [0.0, 5.261364567330008] (67/100)\n",
      "total time elapsed: 15108.571837217s\n",
      "calculating values for covariate: [0.0, 6.486513019671136] (68/100)\n",
      "total time elapsed: 15297.083643263s\n",
      "calculating values for covariate: [0.0, 9.487024917706549] (69/100)\n",
      "total time elapsed: 15485.472683611s\n",
      "calculating values for covariate: [0.0, 6.8388384000963995] (70/100)\n",
      "total time elapsed: 15675.567969618s\n",
      "calculating values for covariate: [0.0, 8.069807973999874] (71/100)\n",
      "total time elapsed: 15862.83495042s\n",
      "calculating values for covariate: [0.0, 7.320708614691379] (72/100)\n",
      "total time elapsed: 16054.555496289s\n",
      "calculating values for covariate: [0.0, 10.714726007498367] (73/100)\n",
      "total time elapsed: 16243.358627262s\n",
      "calculating values for covariate: [0.0, 6.252981466966596] (74/100)\n",
      "total time elapsed: 16436.073736745002s\n",
      "calculating values for covariate: [0.0, 6.660344901031666] (75/100)\n",
      "total time elapsed: 16624.634734042s\n",
      "calculating values for covariate: [0.0, 7.139713580370823] (76/100)\n",
      "total time elapsed: 16816.590681616002s\n",
      "calculating values for covariate: [0.0, 4.796521066437497] (77/100)\n",
      "total time elapsed: 17008.968034581s\n",
      "calculating values for covariate: [0.0, 4.978901938846929] (78/100)\n",
      "total time elapsed: 17203.294456799s\n",
      "calculating values for covariate: [0.0, 7.482556959512772] (79/100)\n",
      "total time elapsed: 17395.713076496002s\n"
     ]
    },
    {
     "name": "stdout",
     "output_type": "stream",
     "text": [
      "calculating values for covariate: [0.0, 9.69370293408745] (80/100)\n",
      "total time elapsed: 17587.752047342s\n",
      "calculating values for covariate: [0.0, 3.3524442662096194] (81/100)\n",
      "total time elapsed: 17779.731492221003s\n",
      "calculating values for covariate: [0.0, 4.707890119869979] (82/100)\n",
      "total time elapsed: 17973.303141105s\n",
      "calculating values for covariate: [0.0, 8.283085105665934] (83/100)\n",
      "total time elapsed: 18165.125533059003s\n",
      "calculating values for covariate: [0.0, 7.954475519512463] (84/100)\n",
      "total time elapsed: 18358.65386994s\n",
      "calculating values for covariate: [0.0, 5.888120972371637] (85/100)\n",
      "total time elapsed: 18551.964618707003s\n",
      "calculating values for covariate: [0.0, 7.010766195476258] (86/100)\n",
      "total time elapsed: 18740.013911521s\n",
      "calculating values for covariate: [0.0, 2.824449727261541] (87/100)\n",
      "total time elapsed: 18926.639500032s\n",
      "calculating values for covariate: [0.0, 4.588530380982284] (88/100)\n",
      "total time elapsed: 19115.818785738s\n",
      "calculating values for covariate: [0.0, 12.927696006587961] (89/100)\n",
      "total time elapsed: 19303.451276402s\n",
      "calculating values for covariate: [0.0, 6.116139732806552] (90/100)\n",
      "total time elapsed: 19518.040892104s\n",
      "calculating values for covariate: [0.0, 6.694515345972271] (91/100)\n",
      "total time elapsed: 19739.223061037002s\n",
      "calculating values for covariate: [0.0, 8.482173698698947] (92/100)\n",
      "total time elapsed: 19959.246292072003s\n",
      "calculating values for covariate: [0.0, 4.865390032106561] (93/100)\n",
      "total time elapsed: 20168.905602422s\n",
      "calculating values for covariate: [0.0, 8.190342801842357] (94/100)\n",
      "total time elapsed: 20385.614136865002s\n",
      "calculating values for covariate: [0.0, 6.739325217231219] (95/100)\n",
      "total time elapsed: 20613.524257557s\n",
      "calculating values for covariate: [0.0, 6.329437001671614] (96/100)\n",
      "total time elapsed: 20829.614446033s\n",
      "calculating values for covariate: [0.0, 5.786362310653337] (97/100)\n",
      "total time elapsed: 21048.491416268s\n",
      "calculating values for covariate: [0.0, 5.308710991538947] (98/100)\n",
      "total time elapsed: 21265.8676879s\n"
     ]
    }
   ],
   "source": [
    "expected_upper, expected_lower = estimate_mean(bids, covariates, (0,9))"
   ]
  },
  {
   "cell_type": "code",
   "execution_count": 4,
   "metadata": {},
   "outputs": [],
   "source": [
    "def loss_function(c):\n",
    "    a, b1, b2 = c\n",
    "    cef = lambda cov: a+b1*cov[0]+b2*cov[1]\n",
    "    return get_loss_function(covariates, expected_upper, expected_lower, cef)\n",
    "\n",
    "b_hat = optimize.brute(loss_function, ranges=[(0,2), (-1,1), (-1,1)])\n",
    "# interval_lower = optimize.newton(lambda a_l, b_l: loss_function(a_l, b_l)-loss_function(b_hat)-10, b_hat-0.1)\n",
    "# interval_upper = optimize.newton(lambda b_l, b_u: loss_function(b_l, b_u)-loss_function(b_hat)-10, b_hat+0.1)"
   ]
  },
  {
   "cell_type": "code",
   "execution_count": 6,
   "metadata": {},
   "outputs": [
    {
     "data": {
      "text/plain": [
       "array([0.70028711, 0.3793633 , 0.0452895 ])"
      ]
     },
     "execution_count": 6,
     "metadata": {},
     "output_type": "execute_result"
    }
   ],
   "source": [
    "b_hat"
   ]
  },
  {
   "cell_type": "code",
   "execution_count": 7,
   "metadata": {},
   "outputs": [],
   "source": [
    "def loss_function(c):\n",
    "    a, b1, b2, b3 = c\n",
    "    cef = lambda cov: a+b1*cov[0]+b2*cov[1]+b3*cov[0]*cov[1]\n",
    "    return get_loss_function(covariates, expected_upper, expected_lower, cef)\n",
    "\n",
    "b_hat_2 = optimize.brute(loss_function, ranges=[(0,2), (-1,1), (-1,1), (-1,1)])\n",
    "# interval_lower = optimize.newton(lambda a_l, b_l: loss_function(a_l, b_l)-loss_function(b_hat)-10, b_hat-0.1)\n",
    "# interval_upper = optimize.newton(lambda b_l, b_u: loss_function(b_l, b_u)-loss_function(b_hat)-10, b_hat+0.1)"
   ]
  },
  {
   "cell_type": "code",
   "execution_count": 8,
   "metadata": {},
   "outputs": [
    {
     "data": {
      "text/plain": [
       "array([ 0.7002562 , -0.15997289,  0.04529115,  0.0528367 ])"
      ]
     },
     "execution_count": 8,
     "metadata": {},
     "output_type": "execute_result"
    }
   ],
   "source": [
    "b_hat_2"
   ]
  }
 ],
 "metadata": {
  "kernelspec": {
   "display_name": "Python 3",
   "language": "python",
   "name": "python3"
  },
  "language_info": {
   "codemirror_mode": {
    "name": "ipython",
    "version": 3
   },
   "file_extension": ".py",
   "mimetype": "text/x-python",
   "name": "python",
   "nbconvert_exporter": "python",
   "pygments_lexer": "ipython3",
   "version": "3.8.5"
  }
 },
 "nbformat": 4,
 "nbformat_minor": 4
}
