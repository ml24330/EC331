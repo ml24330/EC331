{
 "cells": [
  {
   "cell_type": "markdown",
   "metadata": {},
   "source": [
    "Here we estimate the following conditional expectation function:\n",
    "$$\n",
    "\\mathbb{E}[valuation_i|ispolice_i]=\\alpha+\\beta_1 ispolice_i,\n",
    "$$\n",
    "using the entire sample where the number of bids received is strictly between 3 and 12."
   ]
  },
  {
   "cell_type": "code",
   "execution_count": 1,
   "metadata": {},
   "outputs": [],
   "source": [
    "import pandas as pd\n",
    "import numpy as np\n",
    "from scipy import optimize\n",
    "from main import estimate_median\n",
    "\n",
    "def get_loss_function(covariates, upper_dict, lower_dict, cef):\n",
    "    _sum = 0\n",
    "    for covariate in covariates:\n",
    "        upper = upper_dict[f\"{covariate}\"]\n",
    "        lower = lower_dict[f\"{covariate}\"]\n",
    "        if cef(covariate) > upper:\n",
    "            _sum += (cef(covariate)-upper)**2\n",
    "        if cef(covariate) < lower:\n",
    "            _sum += (cef(covariate)-lower)**2\n",
    "    return _sum\n",
    "\n",
    "data = pd.read_csv(\"../../data/demeaned.csv\")\n",
    "df = data.groupby([\"id\", \"ispolice\", \"sellerfeedbackscore\", \"bidcount\", \"apple\", \"amazon\"])[\"bids\"].apply(lambda x: x.values).reset_index()"
   ]
  },
  {
   "cell_type": "code",
   "execution_count": 2,
   "metadata": {
    "scrolled": true
   },
   "outputs": [
    {
     "name": "stderr",
     "output_type": "stream",
     "text": [
      "/Users/liumukun/anaconda3/lib/python3.8/site-packages/pandas/core/indexing.py:1745: SettingWithCopyWarning: \n",
      "A value is trying to be set on a copy of a slice from a DataFrame.\n",
      "Try using .loc[row_indexer,col_indexer] = value instead\n",
      "\n",
      "See the caveats in the documentation: https://pandas.pydata.org/pandas-docs/stable/user_guide/indexing.html#returning-a-view-versus-a-copy\n",
      "  isetter(ilocs[0], value)\n"
     ]
    }
   ],
   "source": [
    "include = df[(df.bidcount > 5) & (df.bidcount < 12)]\n",
    "\n",
    "p = np.random.permutation(len(include))\n",
    "\n",
    "l1 = include.ispolice.values\n",
    "l2 = include.bidcount.values\n",
    "l1 = l1[p]\n",
    "l2 = l2[p]\n",
    "include.loc[:,\"ispolice\"] = l1\n",
    "include.loc[:,\"bidcount\"] = l2\n",
    "\n",
    "bids = list(include.bids)\n",
    "covariates = [[cov] for cov in list(include.ispolice)]"
   ]
  },
  {
   "cell_type": "code",
   "execution_count": 3,
   "metadata": {},
   "outputs": [
    {
     "name": "stdout",
     "output_type": "stream",
     "text": [
      "calculating values for covariate: [0] (1/2)\n",
      "total time elapsed: 0.00016762200000020044s\n",
      "calculating values for covariate: [1] (2/2)\n",
      "total time elapsed: 15.213898440000001s\n"
     ]
    }
   ],
   "source": [
    "median_upper, median_lower = estimate_median(bids, covariates, (0,9))"
   ]
  },
  {
   "cell_type": "code",
   "execution_count": 4,
   "metadata": {},
   "outputs": [],
   "source": [
    "def loss_function(c):\n",
    "    a, b = c\n",
    "    cef = lambda cov: a+b*cov[0]\n",
    "    return get_loss_function(covariates, median_upper, median_lower, cef)\n",
    "\n",
    "b_hat = optimize.brute(loss_function, ranges=[(0,2), (-1,1)])\n",
    "# interval_lower = optimize.newton(lambda a_l, b_l: loss_function(a_l, b_l)-loss_function(b_hat)-10, b_hat-0.1)\n",
    "# interval_upper = optimize.newton(lambda b_l, b_u: loss_function(b_l, b_u)-loss_function(b_hat)-10, b_hat+0.1)"
   ]
  },
  {
   "cell_type": "code",
   "execution_count": 5,
   "metadata": {},
   "outputs": [
    {
     "data": {
      "text/plain": [
       "array([0.0043125 , 0.04037829])"
      ]
     },
     "execution_count": 5,
     "metadata": {},
     "output_type": "execute_result"
    }
   ],
   "source": [
    "b_hat"
   ]
  },
  {
   "cell_type": "code",
   "execution_count": 6,
   "metadata": {},
   "outputs": [
    {
     "data": {
      "text/plain": [
       "({'[0]': 0.00494384765625, '[1]': 0.06866455078125},\n",
       " {'[0]': 0.00384521484375, '[1]': 0.04229736328125})"
      ]
     },
     "execution_count": 6,
     "metadata": {},
     "output_type": "execute_result"
    }
   ],
   "source": [
    "median_upper, median_lower"
   ]
  },
  {
   "cell_type": "code",
   "execution_count": 7,
   "metadata": {},
   "outputs": [],
   "source": [
    "import matplotlib.pyplot as plt\n",
    "\n",
    "x_points = np.linspace(-1,1,num=50)\n",
    "y_points = np.linspace(-1,1,num=50)\n",
    "\n",
    "fig = plt.figure(figsize = (10,10))\n",
    "ax = plt.axes(projection='3d')\n",
    "\n",
    "X, Y = np.meshgrid(x_points, y_points)\n",
    "dps = ([np.ravel(X), np.ravel(Y)])\n",
    "zs = np.array([loss_function(pair) for pair in list(zip(np.ravel(X), np.ravel(Y)))])\n",
    "Z = zs.reshape(X.shape)\n",
    "\n",
    "ax.plot_surface(X,Y,Z)\n",
    "ax.set_ylabel(r\"$\\beta_1$\")\n",
    "ax.set_xlabel(r\"$\\beta_0$\")\n",
    "ax.set_zlabel(r\"Loss function\")\n",
    "\n",
    "plt.tight_layout()\n",
    "fig.savefig(\"loss_func.png\", dpi=fig.dpi, bbox_inches=\"tight\")\n",
    "plt.close()"
   ]
  }
 ],
 "metadata": {
  "kernelspec": {
   "display_name": "Python 3",
   "language": "python",
   "name": "python3"
  },
  "language_info": {
   "codemirror_mode": {
    "name": "ipython",
    "version": 3
   },
   "file_extension": ".py",
   "mimetype": "text/x-python",
   "name": "python",
   "nbconvert_exporter": "python",
   "pygments_lexer": "ipython3",
   "version": "3.8.5"
  }
 },
 "nbformat": 4,
 "nbformat_minor": 4
}
