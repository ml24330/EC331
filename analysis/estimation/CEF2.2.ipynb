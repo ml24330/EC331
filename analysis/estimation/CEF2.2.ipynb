{
 "cells": [
  {
   "cell_type": "markdown",
   "metadata": {},
   "source": [
    "Here we estimate the following conditional expectation function:\n",
    "$$\n",
    "\\mathbb{E}[valuation_i|ispolice_i, sellerfeedbackscore_i]=\\alpha+\\beta_1 ispolice_i+\\beta_2 sellerfeedbackscore_i\n",
    "$$\n",
    "using the entire sample where the number of bids received is strictly between 3 and 12."
   ]
  },
  {
   "cell_type": "code",
   "execution_count": 1,
   "metadata": {},
   "outputs": [],
   "source": [
    "import pandas as pd\n",
    "import numpy as np\n",
    "from scipy import optimize\n",
    "from main import estimate_mean, get_loss_function\n",
    "\n",
    "data = pd.read_csv(\"../../data/demeaned.csv\")\n",
    "df = data.groupby([\"id\", \"ispolice\", \"sellerfeedbackscore\", \"bidcount\", \"apple\", \"amazon\"])[\"bids\"].apply(lambda x: x.values).reset_index()"
   ]
  },
  {
   "cell_type": "code",
   "execution_count": 2,
   "metadata": {},
   "outputs": [
    {
     "name": "stderr",
     "output_type": "stream",
     "text": [
      "/Users/liumukun/anaconda3/lib/python3.8/site-packages/pandas/core/generic.py:5168: SettingWithCopyWarning: \n",
      "A value is trying to be set on a copy of a slice from a DataFrame.\n",
      "Try using .loc[row_indexer,col_indexer] = value instead\n",
      "\n",
      "See the caveats in the documentation: https://pandas.pydata.org/pandas-docs/stable/user_guide/indexing.html#returning-a-view-versus-a-copy\n",
      "  self[name] = value\n"
     ]
    }
   ],
   "source": [
    "include = df[(df.bidcount > 3) & (df.bidcount < 12)]\n",
    "\n",
    "bids = list(include.bids)\n",
    "\n",
    "logged_feedback = np.log(include.sellerfeedbackscore+1)\n",
    "logged_feedback = transform_covariates(logged_feedback, 100)\n",
    "include.sellerfeedbackscore = logged_feedback\n",
    "\n",
    "covariates = np.array(include[[\"ispolice\", \"sellerfeedbackscore\"]])\n",
    "covariates = list([list(cov) for cov in covariates])"
   ]
  },
  {
   "cell_type": "code",
   "execution_count": 3,
   "metadata": {
    "scrolled": true
   },
   "outputs": [
    {
     "name": "stdout",
     "output_type": "stream",
     "text": [
      "calculating values for covariate: [0.0, 9.869815537797194] (1/100)\n",
      "total time elapsed: 0.00020939699999988903s\n"
     ]
    },
    {
     "name": "stderr",
     "output_type": "stream",
     "text": [
      "/Users/liumukun/anaconda3/lib/python3.8/site-packages/scipy/stats/_distn_infrastructure.py:1695: IntegrationWarning: The maximum number of subdivisions (50) has been achieved.\n",
      "  If increasing the limit yields no improvement it is advised to analyze \n",
      "  the integrand in order to determine the difficulties.  If the position of a \n",
      "  local difficulty can be determined (singularity, discontinuity) one will \n",
      "  probably gain from splitting up the interval and calling the integrator \n",
      "  on the subranges.  Perhaps a special-purpose integrator should be used.\n",
      "  return integrate.quad(self._mom_integ1, 0, 1, args=(m,)+args)[0]\n"
     ]
    },
    {
     "name": "stdout",
     "output_type": "stream",
     "text": [
      "calculating values for covariate: [0.0, 3.4599452524466194] (2/100)\n",
      "total time elapsed: 86.89877515s\n",
      "calculating values for covariate: [0.0, 5.3228978543165555] (3/100)\n",
      "total time elapsed: 175.726371385s\n",
      "calculating values for covariate: [0.0, 5.439956999893489] (4/100)\n",
      "total time elapsed: 257.99094324000004s\n",
      "calculating values for covariate: [0.0, 1.4606755448912938] (5/100)\n",
      "total time elapsed: 345.391337946s\n",
      "calculating values for covariate: [0.0, 5.724391198805521] (6/100)\n",
      "total time elapsed: 432.27053192s\n",
      "calculating values for covariate: [0.0, 3.5636780469053466] (7/100)\n",
      "total time elapsed: 526.769724695s\n",
      "calculating values for covariate: [0.0, 2.440017827490736] (8/100)\n",
      "total time elapsed: 611.7945327040001s\n",
      "calculating values for covariate: [0.0, 6.926257377649698] (9/100)\n",
      "total time elapsed: 701.071301622s\n",
      "calculating values for covariate: [0.0, 4.257356013476545] (10/100)\n",
      "total time elapsed: 786.871487624s\n",
      "calculating values for covariate: [0.0, 9.326772384676856] (11/100)\n",
      "total time elapsed: 873.228597839s\n",
      "calculating values for covariate: [0.0, 8.152854356966778] (12/100)\n",
      "total time elapsed: 957.258807742s\n",
      "calculating values for covariate: [0.0, 2.6382048128374636] (13/100)\n",
      "total time elapsed: 1039.9835969829999s\n",
      "calculating values for covariate: [0.0, 5.5305814555449] (14/100)\n",
      "total time elapsed: 1125.550556406s\n",
      "calculating values for covariate: [0.0, 6.477198688929868] (15/100)\n",
      "total time elapsed: 1206.824550906s\n",
      "calculating values for covariate: [0.0, 8.065994060969556] (16/100)\n",
      "total time elapsed: 1292.507354737s\n",
      "calculating values for covariate: [0.0, 6.1847907076514455] (17/100)\n",
      "total time elapsed: 1376.545568409s\n",
      "calculating values for covariate: [0.0, 3.788964368618553] (18/100)\n",
      "total time elapsed: 1459.0470101039998s\n",
      "calculating values for covariate: [0.0, 4.524991125708574] (19/100)\n",
      "total time elapsed: 1544.73284301s\n",
      "calculating values for covariate: [0.0, 0.41415110829800006] (20/100)\n",
      "total time elapsed: 1628.63135014s\n",
      "calculating values for covariate: [0.0, 5.279759127133993] (21/100)\n",
      "total time elapsed: 1715.6494131539998s\n",
      "calculating values for covariate: [1.0, 9.869815537797194] (22/100)\n",
      "total time elapsed: 1800.2981683019998s\n",
      "calculating values for covariate: [0.0, 4.629835190084681] (23/100)\n",
      "total time elapsed: 1913.473615493s\n",
      "calculating values for covariate: [0.0, 3.068021212980124] (24/100)\n",
      "total time elapsed: 2013.827416911s\n",
      "calculating values for covariate: [0.0, 4.671045179100367] (25/100)\n",
      "total time elapsed: 2118.421717509s\n",
      "calculating values for covariate: [0.0, 6.209200480046122] (26/100)\n",
      "total time elapsed: 2208.0380218319997s\n",
      "calculating values for covariate: [0.0, 6.529878897592179] (27/100)\n",
      "total time elapsed: 2291.180637009s\n",
      "calculating values for covariate: [0.0, 5.991300162400525] (28/100)\n",
      "total time elapsed: 2372.698159539s\n",
      "calculating values for covariate: [0.0, 4.854573442825112] (29/100)\n",
      "total time elapsed: 2454.3391742169997s\n",
      "calculating values for covariate: [0.0, 8.614192444326441] (30/100)\n",
      "total time elapsed: 2537.951092574s\n",
      "calculating values for covariate: [0.0, 6.770959824175819] (31/100)\n",
      "total time elapsed: 2621.2899219309998s\n",
      "calculating values for covariate: [0.0, 4.9077165238076725] (32/100)\n",
      "total time elapsed: 2702.694871055s\n",
      "calculating values for covariate: [0.0, 5.024759016353102] (33/100)\n",
      "total time elapsed: 2786.179693165s\n",
      "calculating values for covariate: [0.0, 8.19617291542806] (34/100)\n",
      "total time elapsed: 2870.03457941s\n",
      "calculating values for covariate: [0.0, 4.036995642605026] (35/100)\n",
      "total time elapsed: 2953.2624177499997s\n",
      "calculating values for covariate: [0.0, 1.9586675592637988] (36/100)\n",
      "total time elapsed: 3038.3297745699997s\n",
      "calculating values for covariate: [0.0, 4.428487623303901] (37/100)\n",
      "total time elapsed: 3123.8927538059997s\n",
      "calculating values for covariate: [0.0, 5.766751125474357] (38/100)\n",
      "total time elapsed: 3208.320166762s\n",
      "calculating values for covariate: [0.0, 3.914989883079457] (39/100)\n",
      "total time elapsed: 3289.869716187s\n",
      "calculating values for covariate: [0.0, 6.496501923204321] (40/100)\n",
      "total time elapsed: 3374.73496596s\n",
      "calculating values for covariate: [0.0, 6.6168343069380064] (41/100)\n",
      "total time elapsed: 3452.551108953s\n",
      "calculating values for covariate: [0.0, 10.753805903787349] (42/100)\n",
      "total time elapsed: 3533.738640642s\n",
      "calculating values for covariate: [0.0, 10.394073463078007] (43/100)\n",
      "total time elapsed: 3612.893052173s\n",
      "calculating values for covariate: [0.0, 2.214784663279191] (44/100)\n",
      "total time elapsed: 3692.5082160899997s\n",
      "calculating values for covariate: [0.0, 7.547578938867713] (45/100)\n",
      "total time elapsed: 3774.850550486s\n",
      "calculating values for covariate: [0.0, 6.664737647261995] (46/100)\n",
      "total time elapsed: 3852.630305111s\n",
      "calculating values for covariate: [0.0, 5.487479969875509] (47/100)\n",
      "total time elapsed: 3928.859142403s\n",
      "calculating values for covariate: [1.0, 9.956630564782134] (48/100)\n",
      "total time elapsed: 4005.468654855s\n",
      "calculating values for covariate: [0.0, 6.10671937212663] (49/100)\n",
      "total time elapsed: 4108.342416733s\n",
      "calculating values for covariate: [0.0, 9.481255893085342] (50/100)\n",
      "total time elapsed: 4186.759632804s\n",
      "calculating values for covariate: [0.0, 5.664566951481543] (51/100)\n",
      "total time elapsed: 4272.083981554s\n",
      "calculating values for covariate: [0.0, 4.7432581672086735] (52/100)\n",
      "total time elapsed: 4349.730300106s\n",
      "calculating values for covariate: [0.0, 6.130073340709003] (53/100)\n",
      "total time elapsed: 4429.020482993001s\n",
      "calculating values for covariate: [0.0, 5.902142456688845] (54/100)\n",
      "total time elapsed: 4505.906882283s\n",
      "calculating values for covariate: [0.0, 5.8185067592433874] (55/100)\n",
      "total time elapsed: 4582.387702598s\n",
      "calculating values for covariate: [0.0, 9.546066487834448] (56/100)\n",
      "total time elapsed: 4659.055713135001s\n",
      "calculating values for covariate: [0.0, 5.619738966403259] (57/100)\n",
      "total time elapsed: 4737.264381804001s\n",
      "calculating values for covariate: [0.0, 6.041815672014075] (58/100)\n",
      "total time elapsed: 4813.999178383s\n",
      "calculating values for covariate: [0.0, 6.603441216193141] (59/100)\n",
      "total time elapsed: 4889.41173725s\n",
      "calculating values for covariate: [0.0, 4.32625977490886] (60/100)\n",
      "total time elapsed: 4968.478206301001s\n",
      "calculating values for covariate: [0.0, 13.165418051265528] (61/100)\n",
      "total time elapsed: 5046.083267321001s\n",
      "calculating values for covariate: [0.0, 11.68206575054986] (62/100)\n",
      "total time elapsed: 5120.972566615001s\n",
      "calculating values for covariate: [0.0, 6.264731630328883] (63/100)\n",
      "total time elapsed: 5196.804767953s\n",
      "calculating values for covariate: [0.0, 4.960181290315768] (64/100)\n",
      "total time elapsed: 5271.215932557s\n",
      "calculating values for covariate: [0.0, 6.429454348161926] (65/100)\n",
      "total time elapsed: 5347.4058175810005s\n",
      "calculating values for covariate: [0.0, 5.144745708587448] (66/100)\n",
      "total time elapsed: 5421.809787977s\n",
      "calculating values for covariate: [0.0, 7.8389144152221] (67/100)\n",
      "total time elapsed: 5497.380876758s\n",
      "calculating values for covariate: [0.0, 5.869154893191772] (68/100)\n",
      "total time elapsed: 5573.292410329001s\n",
      "calculating values for covariate: [0.0, 7.219781812527486] (69/100)\n",
      "total time elapsed: 5647.9551067990005s\n",
      "calculating values for covariate: [0.0, 9.487024917706549] (70/100)\n",
      "total time elapsed: 5722.839932319001s\n",
      "calculating values for covariate: [0.0, 4.118494243165093] (71/100)\n",
      "total time elapsed: 5798.866594979s\n",
      "calculating values for covariate: [0.0, 6.994899757932196] (72/100)\n",
      "total time elapsed: 5876.180662281s\n",
      "calculating values for covariate: [1.0, 8.614192444326441] (73/100)\n",
      "total time elapsed: 5959.825996586001s\n",
      "calculating values for covariate: [0.0, 5.19096600654078] (74/100)\n",
      "total time elapsed: 6084.780638349001s\n",
      "calculating values for covariate: [0.0, 7.3678710667543355] (75/100)\n",
      "total time elapsed: 6178.847640106001s\n",
      "calculating values for covariate: [0.0, 3.2814532169047825] (76/100)\n",
      "total time elapsed: 6278.777359103s\n",
      "calculating values for covariate: [0.0, 5.585861746144869] (77/100)\n",
      "total time elapsed: 6375.980018123s\n",
      "calculating values for covariate: [0.0, 6.72282706079569] (78/100)\n",
      "total time elapsed: 6468.367871953001s\n",
      "calculating values for covariate: [0.0, 7.461911921004982] (79/100)\n",
      "total time elapsed: 6563.321629448001s\n"
     ]
    },
    {
     "name": "stdout",
     "output_type": "stream",
     "text": [
      "calculating values for covariate: [0.0, 6.164360431972145] (80/100)\n",
      "total time elapsed: 6657.422606262s\n",
      "calculating values for covariate: [0.0, 8.288236466386568] (81/100)\n",
      "total time elapsed: 6750.041824473s\n",
      "calculating values for covariate: [0.0, 6.3836558487392425] (82/100)\n",
      "total time elapsed: 6844.996687732s\n",
      "calculating values for covariate: [0.0, 7.307635641656483] (83/100)\n",
      "total time elapsed: 6938.515677316001s\n",
      "calculating values for covariate: [0.0, 6.882170651082656] (84/100)\n",
      "total time elapsed: 7032.320352211001s\n",
      "calculating values for covariate: [1.0, 10.394073463078007] (85/100)\n",
      "total time elapsed: 7124.5859430010005s\n",
      "calculating values for covariate: [0.0, 8.007850269063637] (86/100)\n",
      "total time elapsed: 7251.496651836001s\n",
      "calculating values for covariate: [0.0, 6.33767709149798] (87/100)\n",
      "total time elapsed: 7345.743183941s\n",
      "calculating values for covariate: [0.0, 6.07562674059974] (88/100)\n",
      "total time elapsed: 7441.431616639s\n",
      "calculating values for covariate: [0.0, 5.25221821313404] (89/100)\n",
      "total time elapsed: 7544.025705488s\n",
      "calculating values for covariate: [0.0, 7.680821506025506] (90/100)\n",
      "total time elapsed: 7638.9825310020005s\n",
      "calculating values for covariate: [0.0, 5.382785465251274] (91/100)\n",
      "total time elapsed: 7741.214391863s\n",
      "calculating values for covariate: [0.0, 7.087856994191715] (92/100)\n",
      "total time elapsed: 7838.2452248750005s\n",
      "calculating values for covariate: [0.0, 4.8079701103174095] (93/100)\n",
      "total time elapsed: 7937.78285045s\n",
      "calculating values for covariate: [0.0, 5.940066707879528] (94/100)\n",
      "total time elapsed: 8036.202269198s\n",
      "calculating values for covariate: [0.0, 4.579683341430985] (95/100)\n",
      "total time elapsed: 8131.694051903s\n",
      "calculating values for covariate: [1.0, 9.955277308666151] (96/100)\n",
      "total time elapsed: 8230.351777716s\n",
      "calculating values for covariate: [0.0, 6.559323467581696] (97/100)\n",
      "total time elapsed: 8357.913713609001s\n"
     ]
    }
   ],
   "source": [
    "expected_upper, expected_lower = estimate_mean(bids, covariates, (0,9))"
   ]
  },
  {
   "cell_type": "code",
   "execution_count": 9,
   "metadata": {},
   "outputs": [],
   "source": [
    "def loss_function(c):\n",
    "    a, b1, b2 = c\n",
    "    cef = lambda cov: a+b1*cov[0]+b2*cov[1]\n",
    "    return get_loss_function(covariates, expected_upper, expected_lower, cef)\n",
    "\n",
    "b_hat = optimize.brute(loss_function, ranges=[(0,2), (-1,1), (-1,1)])\n",
    "# interval_lower = optimize.newton(lambda a_l, b_l: loss_function(a_l, b_l)-loss_function(b_hat)-10, b_hat-0.1)\n",
    "# interval_upper = optimize.newton(lambda b_l, b_u: loss_function(b_l, b_u)-loss_function(b_hat)-10, b_hat+0.1)"
   ]
  },
  {
   "cell_type": "code",
   "execution_count": 48,
   "metadata": {},
   "outputs": [
    {
     "name": "stdout",
     "output_type": "stream",
     "text": [
      "[0.27967938 0.27855938 0.04257074]\n",
      "[0.07791318 0.07614375 0.03040485]\n"
     ]
    }
   ],
   "source": [
    "def fun(c):\n",
    "    return loss_function(c)-loss_function(b_hat)-10\n",
    "\n",
    "print(optimize.newton(fun, [b_hat[0]+5,b_hat[1]+5,b_hat[2]+4]))\n",
    "print(optimize.newton(fun, [b_hat[0]-2,b_hat[1]-2,b_hat[2]-2]))"
   ]
  },
  {
   "cell_type": "code",
   "execution_count": 16,
   "metadata": {},
   "outputs": [
    {
     "data": {
      "text/plain": [
       "50.94494942026856"
      ]
     },
     "execution_count": 16,
     "metadata": {},
     "output_type": "execute_result"
    }
   ],
   "source": [
    "loss_function([0.13918062, 0.13635494, 0.06331243])"
   ]
  },
  {
   "cell_type": "code",
   "execution_count": 5,
   "metadata": {},
   "outputs": [
    {
     "data": {
      "text/plain": [
       "array([0.18091567, 0.17550602, 0.03566906])"
      ]
     },
     "execution_count": 5,
     "metadata": {},
     "output_type": "execute_result"
    }
   ],
   "source": [
    "b_hat"
   ]
  },
  {
   "cell_type": "code",
   "execution_count": 7,
   "metadata": {},
   "outputs": [],
   "source": [
    "def loss_function(c):\n",
    "    a, b1, b2, b3 = c\n",
    "    cef = lambda cov: a+b1*cov[0]+b2*cov[1]+b3*cov[0]*cov[1]\n",
    "    return get_loss_function(covariates, expected_upper, expected_lower, cef)\n",
    "\n",
    "b_hat_2 = optimize.brute(loss_function, ranges=[(0,2), (-1,1), (-1,1), (-1,1)])\n",
    "# interval_lower = optimize.newton(lambda a_l, b_l: loss_function(a_l, b_l)-loss_function(b_hat)-10, b_hat-0.1)\n",
    "# interval_upper = optimize.newton(lambda b_l, b_u: loss_function(b_l, b_u)-loss_function(b_hat)-10, b_hat+0.1)"
   ]
  },
  {
   "cell_type": "code",
   "execution_count": 8,
   "metadata": {},
   "outputs": [
    {
     "data": {
      "text/plain": [
       "array([ 0.18091552,  0.71680167,  0.03566808, -0.0552502 ])"
      ]
     },
     "execution_count": 8,
     "metadata": {},
     "output_type": "execute_result"
    }
   ],
   "source": [
    "b_hat_2"
   ]
  }
 ],
 "metadata": {
  "kernelspec": {
   "display_name": "Python 3",
   "language": "python",
   "name": "python3"
  },
  "language_info": {
   "codemirror_mode": {
    "name": "ipython",
    "version": 3
   },
   "file_extension": ".py",
   "mimetype": "text/x-python",
   "name": "python",
   "nbconvert_exporter": "python",
   "pygments_lexer": "ipython3",
   "version": "3.8.5"
  }
 },
 "nbformat": 4,
 "nbformat_minor": 4
}
