{
 "cells": [
  {
   "cell_type": "markdown",
   "metadata": {},
   "source": [
    "Here we estimate the following conditional expectation function:\n",
    "$$\n",
    "\\mathbb{E}[valuation_i|ispolice_i]=\\alpha+\\beta_1 ispolice_i,\n",
    "$$\n",
    "using the entire sample where the number of bids received is strictly between 3 and 12."
   ]
  },
  {
   "cell_type": "code",
   "execution_count": 1,
   "metadata": {},
   "outputs": [],
   "source": [
    "import pandas as pd\n",
    "import numpy as np\n",
    "from scipy import optimize\n",
    "from main import estimate_mean, get_loss_function\n",
    "\n",
    "data = pd.read_csv(\"../../data/demeaned.csv\")\n",
    "df = data.groupby([\"id\", \"ispolice\", \"sellerfeedbackscore\", \"bidcount\", \"apple\", \"amazon\"])[\"bids\"].apply(lambda x: x.values).reset_index()"
   ]
  },
  {
   "cell_type": "code",
   "execution_count": 2,
   "metadata": {},
   "outputs": [],
   "source": [
    "include = df[(df.bidcount > 3) & (df.bidcount < 12)]\n",
    "\n",
    "bids = list(include.bids)\n",
    "covariates = [[cov] for cov in list(include.ispolice)]"
   ]
  },
  {
   "cell_type": "code",
   "execution_count": 3,
   "metadata": {},
   "outputs": [
    {
     "name": "stdout",
     "output_type": "stream",
     "text": [
      "calculating values for covariate: [0] (1/2)\n",
      "total time elapsed: 0.00012973999999932317s\n"
     ]
    },
    {
     "name": "stderr",
     "output_type": "stream",
     "text": [
      "/Users/liumukun/anaconda3/lib/python3.8/site-packages/scipy/stats/_distn_infrastructure.py:1695: IntegrationWarning: The maximum number of subdivisions (50) has been achieved.\n",
      "  If increasing the limit yields no improvement it is advised to analyze \n",
      "  the integrand in order to determine the difficulties.  If the position of a \n",
      "  local difficulty can be determined (singularity, discontinuity) one will \n",
      "  probably gain from splitting up the interval and calling the integrator \n",
      "  on the subranges.  Perhaps a special-purpose integrator should be used.\n",
      "  return integrate.quad(self._mom_integ1, 0, 1, args=(m,)+args)[0]\n"
     ]
    },
    {
     "name": "stdout",
     "output_type": "stream",
     "text": [
      "calculating values for covariate: [1] (2/2)\n",
      "total time elapsed: 129.638270698s\n"
     ]
    }
   ],
   "source": [
    "expected_upper, expected_lower = estimate_mean(bids, covariates, (0,9))"
   ]
  },
  {
   "cell_type": "code",
   "execution_count": 4,
   "metadata": {},
   "outputs": [],
   "source": [
    "def loss_function(c):\n",
    "    a, b = c\n",
    "    cef = lambda cov: a+b*cov[0]\n",
    "    return get_loss_function(covariates, expected_upper, expected_lower, cef)\n",
    "\n",
    "b_hat = optimize.brute(loss_function, ranges=[(0,2), (-1,1)])\n",
    "# interval_lower = optimize.newton(lambda a_l, b_l: loss_function(a_l, b_l)-loss_function(b_hat)-10, b_hat-0.1)\n",
    "# interval_upper = optimize.newton(lambda b_l, b_u: loss_function(b_l, b_u)-loss_function(b_hat)-10, b_hat+0.1)"
   ]
  },
  {
   "cell_type": "code",
   "execution_count": 5,
   "metadata": {
    "scrolled": true
   },
   "outputs": [
    {
     "ename": "NameError",
     "evalue": "name 'plt' is not defined",
     "output_type": "error",
     "traceback": [
      "\u001b[0;31m---------------------------------------------------------------------------\u001b[0m",
      "\u001b[0;31mNameError\u001b[0m                                 Traceback (most recent call last)",
      "\u001b[0;32m<ipython-input-5-4ca1dfca70f9>\u001b[0m in \u001b[0;36m<module>\u001b[0;34m\u001b[0m\n\u001b[1;32m      2\u001b[0m \u001b[0my_points\u001b[0m \u001b[0;34m=\u001b[0m \u001b[0mnp\u001b[0m\u001b[0;34m.\u001b[0m\u001b[0mlinspace\u001b[0m\u001b[0;34m(\u001b[0m\u001b[0;34m-\u001b[0m\u001b[0;36m1\u001b[0m\u001b[0;34m,\u001b[0m\u001b[0;36m1\u001b[0m\u001b[0;34m,\u001b[0m\u001b[0mnum\u001b[0m\u001b[0;34m=\u001b[0m\u001b[0;36m50\u001b[0m\u001b[0;34m)\u001b[0m\u001b[0;34m\u001b[0m\u001b[0;34m\u001b[0m\u001b[0m\n\u001b[1;32m      3\u001b[0m \u001b[0;34m\u001b[0m\u001b[0m\n\u001b[0;32m----> 4\u001b[0;31m \u001b[0mfig\u001b[0m \u001b[0;34m=\u001b[0m \u001b[0mplt\u001b[0m\u001b[0;34m.\u001b[0m\u001b[0mfigure\u001b[0m\u001b[0;34m(\u001b[0m\u001b[0mfigsize\u001b[0m \u001b[0;34m=\u001b[0m \u001b[0;34m(\u001b[0m\u001b[0;36m10\u001b[0m\u001b[0;34m,\u001b[0m\u001b[0;36m10\u001b[0m\u001b[0;34m)\u001b[0m\u001b[0;34m)\u001b[0m\u001b[0;34m\u001b[0m\u001b[0;34m\u001b[0m\u001b[0m\n\u001b[0m\u001b[1;32m      5\u001b[0m \u001b[0max\u001b[0m \u001b[0;34m=\u001b[0m \u001b[0mplt\u001b[0m\u001b[0;34m.\u001b[0m\u001b[0maxes\u001b[0m\u001b[0;34m(\u001b[0m\u001b[0mprojection\u001b[0m\u001b[0;34m=\u001b[0m\u001b[0;34m'3d'\u001b[0m\u001b[0;34m)\u001b[0m\u001b[0;34m\u001b[0m\u001b[0;34m\u001b[0m\u001b[0m\n\u001b[1;32m      6\u001b[0m \u001b[0;34m\u001b[0m\u001b[0m\n",
      "\u001b[0;31mNameError\u001b[0m: name 'plt' is not defined"
     ]
    }
   ],
   "source": [
    "x_points = np.linspace(-1,1,num=50)\n",
    "y_points = np.linspace(-1,1,num=50)\n",
    "\n",
    "fig = plt.figure(figsize = (10,10))\n",
    "ax = plt.axes(projection='3d')\n",
    "\n",
    "X, Y = np.meshgrid(x_points, y_points)\n",
    "dps = ([np.ravel(X), np.ravel(Y)])\n",
    "zs = np.array([loss_function(pair) for pair in list(zip(np.ravel(X), np.ravel(Y)))])\n",
    "Z = zs.reshape(X.shape)\n",
    "\n",
    "ax.plot_surface(X,Y,Z)\n",
    "ax.set_ylabel(r\"$\\beta_1$\")\n",
    "ax.set_xlabel(r\"$\\beta_0$\")\n",
    "ax.set_zlabel(r\"Loss function\")\n",
    "\n",
    "plt.tight_layout()\n",
    "fig.savefig(\"loss_func.png\", dpi=fig.dpi, bbox_inches=\"tight\")\n",
    "plt.close()"
   ]
  },
  {
   "cell_type": "code",
   "execution_count": null,
   "metadata": {},
   "outputs": [],
   "source": [
    "import matplotlib.pyplot as plt\n",
    "\n",
    "plt.style.use('seaborn-pastel')\n",
    "plt.rcParams['figure.figsize'] = (8,5)\n",
    "plt.rcParams['figure.dpi'] = 500\n",
    "plt.rcParams['text.color'] = 'black'\n",
    "plt.rcParams['axes.labelcolor'] = 'black'\n",
    "plt.rcParams['xtick.color'] = 'black'\n",
    "plt.rcParams['ytick.color'] = 'black'\n",
    "plt.rcParams['axes.titlepad'] = 10\n",
    "plt.rcParams['axes.titleweight'] = 1000\n",
    "plt.rcParams['axes.labelpad'] = 5\n",
    "plt.rcParams['font.family'] = 'serif'\n",
    "plt.rcParams['axes.facecolor'] = 'white'"
   ]
  },
  {
   "cell_type": "code",
   "execution_count": null,
   "metadata": {
    "scrolled": false
   },
   "outputs": [],
   "source": [
    "from scipy import interpolate\n",
    "import matplotlib.pyplot as plt\n",
    "\n",
    "fig, ax = plt.subplots()\n",
    "\n",
    "vals = np.linspace(0,5,num=100)\n",
    "\n",
    "int_cdf_u_police = interpolate.interp1d(np.linspace(0,9,num=100), u_cdfs[\"[1]\"], bounds_error=False, fill_value=(0,1))\n",
    "plt.plot(vals, [int_cdf_u_police(v) for v in vals], label=\"Police auctions upper bound\", color=\"red\")\n",
    "\n",
    "int_cdf_l_police = interpolate.interp1d(np.linspace(0,9,num=100), l_cdfs[\"[1]\"], bounds_error=False, fill_value=(0,1))\n",
    "plt.plot(vals, [int_cdf_l_police(v) for v in vals], label=\"Police auctions lower bound\", color=\"red\", linestyle=\"--\")\n",
    "\n",
    "int_cdf_u_not = interpolate.interp1d(np.linspace(0,9,num=100), u_cdfs[\"[0]\"], bounds_error=False, fill_value=(0,1))\n",
    "plt.plot(vals, [int_cdf_u_not(v) for v in vals], label=\"Non-police auctions upper bound\", color=\"blue\")\n",
    "\n",
    "int_cdf_l_not = interpolate.interp1d(np.linspace(0,9,num=100), l_cdfs[\"[0]\"], bounds_error=False, fill_value=(0,1))\n",
    "plt.plot(vals, [int_cdf_l_not(v) for v in vals], label=\"Non-police auctions lower bound\", color=\"blue\", linestyle=\"--\")\n",
    "\n",
    "plt.ylabel(\"Cumulative probability\")\n",
    "plt.xlabel(\"Bidder valuation\")\n",
    "plt.legend()\n",
    "\n",
    "plt.tight_layout()\n",
    "fig.savefig(\"cef1_base.png\", dpi=fig.dpi, bbox_inches=\"tight\")\n",
    "plt.close(fig)"
   ]
  },
  {
   "cell_type": "code",
   "execution_count": null,
   "metadata": {},
   "outputs": [],
   "source": [
    "from random import choices\n",
    "\n",
    "def bootstrap(bids, covariates, repetition):\n",
    "    \n",
    "    estimates_lower = []\n",
    "    estimates_upper = []\n",
    "    data_pairs = [(bid, covariate) for bid, covariate in zip(bids, covariates)]\n",
    "    \n",
    "    for _ in range(repetition):\n",
    "        resampled = choices(data_pairs, k=len(bids))\n",
    "    \n",
    "        bids = [r[0] for r in resampled]\n",
    "        covariates = [r[1] for r in resampled]\n",
    "\n",
    "        pdfs, pdfs_delta = get_order_statistic_pdfs(bids, covariates)\n",
    "        \n",
    "        expected_upper = {}\n",
    "        expected_lower = {}\n",
    "        \n",
    "        for covariate in np.unique(covariates):\n",
    "            lower, upper = get_estimated_means(pdfs, pdfs_delta, covariate, (-1,9))\n",
    "            expected_upper[f\"{covariate}\"] = upper\n",
    "            expected_lower[f\"{covariate}\"] = lower\n",
    "        \n",
    "        estimate = optimize.brute(lambda b: loss_function(covariates, expected_upper, expected_lower, b), ranges=[(0,2)])\n",
    "        interval_lower = optimize.newton(lambda b_l: loss_function(b_l)-loss_function(estimate)-10, estimate-0.1)\n",
    "        interval_upper = optimize.newton(lambda b_l: loss_function(b_l)-loss_function(estimate)-10, estimate+0.1)\n",
    "        \n",
    "        estimates_lower.append(interval_lower)\n",
    "        estimates_upper.append(interval_upper)\n",
    "        \n",
    "    return (estimates_lower, estimates_upper)\n",
    "    "
   ]
  },
  {
   "cell_type": "code",
   "execution_count": null,
   "metadata": {
    "scrolled": true
   },
   "outputs": [],
   "source": [
    "def fun(c):\n",
    "    return loss_function(c)-loss_function(b_hat)-10\n",
    "\n",
    "print(optimize.newton(fun, [b_hat[0]+2,b_hat[1]+2]))\n",
    "print(optimize.newton(fun, [b_hat[0]-2,b_hat[1]-2]))"
   ]
  },
  {
   "cell_type": "code",
   "execution_count": null,
   "metadata": {},
   "outputs": [],
   "source": [
    "b_hat"
   ]
  }
 ],
 "metadata": {
  "kernelspec": {
   "display_name": "Python 3",
   "language": "python",
   "name": "python3"
  },
  "language_info": {
   "codemirror_mode": {
    "name": "ipython",
    "version": 3
   },
   "file_extension": ".py",
   "mimetype": "text/x-python",
   "name": "python",
   "nbconvert_exporter": "python",
   "pygments_lexer": "ipython3",
   "version": "3.8.5"
  }
 },
 "nbformat": 4,
 "nbformat_minor": 4
}
