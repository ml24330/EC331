{
 "cells": [
  {
   "cell_type": "code",
   "execution_count": 59,
   "metadata": {},
   "outputs": [],
   "source": [
    "import sympy as sp\n",
    "import scipy.stats as stats\n",
    "import numpy as np\n",
    "from statsmodels.distributions.empirical_distribution import ECDF\n",
    "import statsmodels.nonparametric as nonparametric\n",
    "import matplotlib.pyplot as plt\n",
    "import statsmodels.api as sm\n",
    "from scipy import interpolate\n",
    "import time\n",
    "\n",
    "class KDEDist(stats.rv_continuous):\n",
    "    \n",
    "    def __init__(self, kde, *args, **kwargs):\n",
    "        super().__init__(*args, **kwargs)\n",
    "        self._kde = kde\n",
    "        self.make_discrete_cdf()\n",
    "    \n",
    "    def _pdf(self, x):\n",
    "        return self._kde.pdf(x)\n",
    "    \n",
    "    def make_discrete_cdf(self):\n",
    "        smallest = -4\n",
    "        largest = 4\n",
    "#         smallest = np.math.floor(self.ppf(0.0005))\n",
    "#         largest = np.math.ceil(self.ppf(0.9995))\n",
    "        vals = np.linspace(smallest, largest, num=100)\n",
    "        self.vals = vals\n",
    "        array = self.cdf(vals)\n",
    "        self.discrete_cdf = array\n",
    "    \n",
    "\n",
    "class FastMean(stats.rv_continuous):\n",
    "    \n",
    "    def __init__(self, kde, discrete_cdf, vals, *args, **kwargs):\n",
    "        super().__init__(*args, **kwargs)\n",
    "        self.discrete_cdf = discrete_cdf\n",
    "        self.vals = vals\n",
    "        \n",
    "    def _cdf(self, x):\n",
    "        cdf = interpolate.interp1d(vals, self.discrete_cdf, bounds_error=False, fill_value=\"extrapolate\")\n",
    "        return cdf(x)\n",
    "    \n",
    "    def _ppf(self, y):\n",
    "        ppf = interpolate.interp1d(self.discrete_cdf, vals, bounds_error=False, fill_value=\"extrapolate\")\n",
    "        return ppf(y)\n",
    "    "
   ]
  },
  {
   "cell_type": "code",
   "execution_count": 60,
   "metadata": {},
   "outputs": [
    {
     "data": {
      "text/plain": [
       "-0.02255643190149"
      ]
     },
     "execution_count": 60,
     "metadata": {},
     "output_type": "execute_result"
    }
   ],
   "source": [
    "data = stats.norm.rvs(size=500)\n",
    "kde = stats.gaussian_kde(data)\n",
    "\n",
    "def get_mean(kde):\n",
    "    rv = KDEDist(kde)\n",
    "\n",
    "    discrete_cdf = rv.discrete_cdf\n",
    "    vals = rv.vals\n",
    "\n",
    "    rv2 = FastMean(kde, discrete_cdf, vals)\n",
    "    return rv2.mean()\n",
    "\n",
    "get_mean(kde)"
   ]
  },
  {
   "cell_type": "code",
   "execution_count": 61,
   "metadata": {},
   "outputs": [],
   "source": [
    "def cdf(F, i, n):\n",
    "    t = sp.Symbol('t')\n",
    "    f = sp.Symbol('f')\n",
    "    outside = np.math.factorial(n)/(np.math.factorial(i-1)*np.math.factorial(n-i))\n",
    "    integrand = (t**(i-1)) * ((1-t)**(n-i))\n",
    "\n",
    "    func = sp.integrate(integrand, (t,0,f))\n",
    "    exp = outside*func-F\n",
    "    try:\n",
    "        ans = [s for s in sp.real_roots(exp) if 0<=s<=1][0]\n",
    "    except:\n",
    "        print(exp)\n",
    "        print(sp.real_roots(exp))\n",
    "        ans = 1\n",
    "    \n",
    "    \n",
    "    return float(ans)"
   ]
  },
  {
   "cell_type": "code",
   "execution_count": 77,
   "metadata": {},
   "outputs": [],
   "source": [
    "def smooth(ecdfs, p):\n",
    "    def func(x):\n",
    "        vals = [ecdf(x) for ecdf in ecdfs]\n",
    "        tot = sum([np.exp(g*p) for g in vals if g >= 0])\n",
    "        result = sum([g*np.exp(g*p) for g in vals if g >= 0])/tot\n",
    "        return result\n",
    "    return func"
   ]
  },
  {
   "cell_type": "code",
   "execution_count": 89,
   "metadata": {
    "scrolled": false
   },
   "outputs": [
    {
     "data": {
      "text/plain": [
       "<matplotlib.legend.Legend at 0x7fe1e15d88e0>"
      ]
     },
     "execution_count": 89,
     "metadata": {},
     "output_type": "execute_result"
    },
    {
     "data": {
      "image/png": "[encoded data removed]",
      "text/plain": [
       "<Figure size 432x288 with 1 Axes>"
      ]
     },
     "metadata": {
      "needs_background": "light"
     },
     "output_type": "display_data"
    }
   ],
   "source": [
    "N = 4\n",
    "rvs = [stats.norm.rvs(size=N) for _ in range(30)]\n",
    "r_cdf = stats.norm.cdf\n",
    "\n",
    "_ecdfs = [ECDF([sorted(l)[i-1] for l in rvs]) for i in range(1,N+1)]\n",
    "smoothed = smooth(_ecdfs, 1)\n",
    "smooth_ecdfs = [smoothed(x) for x in np.linspace(-2,2,num=100)]\n",
    "plt.plot(smooth_ecdfs, label=\"smooth\")\n",
    "\n",
    "\n",
    "for i in range(1,N+1):\n",
    "    il = [sorted(l)[i-1] for l in rvs]\n",
    "    e_cdf = ECDF(il)\n",
    "    ecdfs = [cdf(e_cdf(x), i, N) for x in np.linspace(-2,2,num=100)]\n",
    "        \n",
    "    plt.plot(ecdfs, label=i)\n",
    "\n",
    "plt.plot()\n",
    "                 \n",
    "real_ecdfs = [r_cdf(x) for x in np.linspace(-2,2,num=100)]\n",
    "\n",
    "plt.plot(real_ecdfs, label=\"real\")\n",
    "plt.legend()"
   ]
  },
  {
   "cell_type": "code",
   "execution_count": 94,
   "metadata": {},
   "outputs": [
    {
     "data": {
      "text/plain": [
       "<matplotlib.legend.Legend at 0x7fe1e2a68eb0>"
      ]
     },
     "execution_count": 94,
     "metadata": {},
     "output_type": "execute_result"
    },
    {
     "data": {
      "image/png": "[encoded data removed]",
      "text/plain": [
       "<Figure size 432x288 with 1 Axes>"
      ]
     },
     "metadata": {
      "needs_background": "light"
     },
     "output_type": "display_data"
    }
   ],
   "source": [
    "N = 4\n",
    "rvs = [stats.norm.rvs(size=N) for _ in range(50)]\n",
    "r_cdf = stats.norm.cdf\n",
    "\n",
    "_ecdfs = [KDEDist(stats.gaussian_kde([sorted(l)[i-1] for l in rvs])).cdf for i in range(1,N+1)]\n",
    "smoothed = smooth(_ecdfs, 0)\n",
    "smooth_ecdfs = [smoothed(x) for x in np.linspace(-2,2,num=100)]\n",
    "plt.plot(smooth_ecdfs, label=\"smooth\")\n",
    "\n",
    "# for i in range(1,N+1):\n",
    "#     il = [sorted(l)[i-1] for l in rvs]\n",
    "#     e_cdf = KDEDist(stats.gaussian_kde(il)).cdf\n",
    "#     ecdfs = [cdf(e_cdf(x), i, N) for x in np.linspace(-2,2,num=100)]\n",
    "        \n",
    "#     plt.plot(ecdfs, label=i)\n",
    "   \n",
    "\\\n",
    "real_ecdfs = [r_cdf(x) for x in np.linspace(-2,2,num=100)]\n",
    "\n",
    "plt.plot(real_ecdfs, label=\"real\")\n",
    "plt.legend()"
   ]
  },
  {
   "cell_type": "code",
   "execution_count": 13,
   "metadata": {},
   "outputs": [
    {
     "data": {
      "text/plain": [
       "<matplotlib.legend.Legend at 0x7ff0a2ebbf10>"
      ]
     },
     "execution_count": 13,
     "metadata": {},
     "output_type": "execute_result"
    },
    {
     "data": {
      "image/png": "[encoded data removed]",
      "text/plain": [
       "<Figure size 432x288 with 1 Axes>"
      ]
     },
     "metadata": {
      "needs_background": "light"
     },
     "output_type": "display_data"
    }
   ],
   "source": [
    "kde = KDEDist(stats.gaussian_kde(stats.norm.rvs(size=1000)))\n",
    "\n",
    "cdf_vs = []\n",
    "for j in range(-100,100,2):\n",
    "    x = j/50\n",
    "    cdf_vs.append(stats.norm.cdf(x))\n",
    "    \n",
    "cdf_vss = []\n",
    "for j in range(-100,100,2):\n",
    "    x = j/50\n",
    "    cdf_vss.append(kde.cdf(x))\n",
    "    \n",
    "plt.plot(cdf_vss, label=\"real\")\n",
    "plt.plot(cdf_vs, label=\"kde\")\n",
    "plt.legend()"
   ]
  },
  {
   "cell_type": "code",
   "execution_count": 14,
   "metadata": {},
   "outputs": [
    {
     "data": {
      "text/plain": [
       "0.043066077273968266"
      ]
     },
     "execution_count": 14,
     "metadata": {},
     "output_type": "execute_result"
    }
   ],
   "source": [
    "kde.mean()"
   ]
  },
  {
   "cell_type": "code",
   "execution_count": 20,
   "metadata": {},
   "outputs": [],
   "source": [
    "data = stats.norm.rvs(size=1000)\n",
    "kde = stats.gaussian_kde(data)\n",
    "rv = KDEDist(kde)"
   ]
  },
  {
   "cell_type": "code",
   "execution_count": 40,
   "metadata": {
    "scrolled": true
   },
   "outputs": [],
   "source": [
    "vals = np.linspace(-2,2,num=100)\n",
    "discrete_cdf = rv.cdf(np.linspace(-2,2,num=100))\n",
    "\n",
    "ppf = interpolate.interp1d(discrete_cdf, vals)"
   ]
  },
  {
   "cell_type": "code",
   "execution_count": 42,
   "metadata": {},
   "outputs": [
    {
     "ename": "ValueError",
     "evalue": "A value in x_new is below the interpolation range.",
     "output_type": "error",
     "traceback": [
      "\u001b[0;31m---------------------------------------------------------------------------\u001b[0m",
      "\u001b[0;31mValueError\u001b[0m                                Traceback (most recent call last)",
      "\u001b[0;32m<ipython-input-42-8b7638d37a92>\u001b[0m in \u001b[0;36m<module>\u001b[0;34m\u001b[0m\n\u001b[0;32m----> 1\u001b[0;31m \u001b[0mplt\u001b[0m\u001b[0;34m.\u001b[0m\u001b[0mplot\u001b[0m\u001b[0;34m(\u001b[0m\u001b[0mppf\u001b[0m\u001b[0;34m(\u001b[0m\u001b[0mnp\u001b[0m\u001b[0;34m.\u001b[0m\u001b[0mlinspace\u001b[0m\u001b[0;34m(\u001b[0m\u001b[0;36m0\u001b[0m\u001b[0;34m,\u001b[0m\u001b[0;36m1\u001b[0m\u001b[0;34m,\u001b[0m\u001b[0mnum\u001b[0m\u001b[0;34m=\u001b[0m\u001b[0;36m100\u001b[0m\u001b[0;34m)\u001b[0m\u001b[0;34m)\u001b[0m\u001b[0;34m)\u001b[0m\u001b[0;34m\u001b[0m\u001b[0;34m\u001b[0m\u001b[0m\n\u001b[0m",
      "\u001b[0;32m~/anaconda3/lib/python3.8/site-packages/scipy/interpolate/polyint.py\u001b[0m in \u001b[0;36m__call__\u001b[0;34m(self, x)\u001b[0m\n\u001b[1;32m     77\u001b[0m         \"\"\"\n\u001b[1;32m     78\u001b[0m         \u001b[0mx\u001b[0m\u001b[0;34m,\u001b[0m \u001b[0mx_shape\u001b[0m \u001b[0;34m=\u001b[0m \u001b[0mself\u001b[0m\u001b[0;34m.\u001b[0m\u001b[0m_prepare_x\u001b[0m\u001b[0;34m(\u001b[0m\u001b[0mx\u001b[0m\u001b[0;34m)\u001b[0m\u001b[0;34m\u001b[0m\u001b[0;34m\u001b[0m\u001b[0m\n\u001b[0;32m---> 79\u001b[0;31m         \u001b[0my\u001b[0m \u001b[0;34m=\u001b[0m \u001b[0mself\u001b[0m\u001b[0;34m.\u001b[0m\u001b[0m_evaluate\u001b[0m\u001b[0;34m(\u001b[0m\u001b[0mx\u001b[0m\u001b[0;34m)\u001b[0m\u001b[0;34m\u001b[0m\u001b[0;34m\u001b[0m\u001b[0m\n\u001b[0m\u001b[1;32m     80\u001b[0m         \u001b[0;32mreturn\u001b[0m \u001b[0mself\u001b[0m\u001b[0;34m.\u001b[0m\u001b[0m_finish_y\u001b[0m\u001b[0;34m(\u001b[0m\u001b[0my\u001b[0m\u001b[0;34m,\u001b[0m \u001b[0mx_shape\u001b[0m\u001b[0;34m)\u001b[0m\u001b[0;34m\u001b[0m\u001b[0;34m\u001b[0m\u001b[0m\n\u001b[1;32m     81\u001b[0m \u001b[0;34m\u001b[0m\u001b[0m\n",
      "\u001b[0;32m~/anaconda3/lib/python3.8/site-packages/scipy/interpolate/interpolate.py\u001b[0m in \u001b[0;36m_evaluate\u001b[0;34m(self, x_new)\u001b[0m\n\u001b[1;32m    661\u001b[0m         \u001b[0my_new\u001b[0m \u001b[0;34m=\u001b[0m \u001b[0mself\u001b[0m\u001b[0;34m.\u001b[0m\u001b[0m_call\u001b[0m\u001b[0;34m(\u001b[0m\u001b[0mself\u001b[0m\u001b[0;34m,\u001b[0m \u001b[0mx_new\u001b[0m\u001b[0;34m)\u001b[0m\u001b[0;34m\u001b[0m\u001b[0;34m\u001b[0m\u001b[0m\n\u001b[1;32m    662\u001b[0m         \u001b[0;32mif\u001b[0m \u001b[0;32mnot\u001b[0m \u001b[0mself\u001b[0m\u001b[0;34m.\u001b[0m\u001b[0m_extrapolate\u001b[0m\u001b[0;34m:\u001b[0m\u001b[0;34m\u001b[0m\u001b[0;34m\u001b[0m\u001b[0m\n\u001b[0;32m--> 663\u001b[0;31m             \u001b[0mbelow_bounds\u001b[0m\u001b[0;34m,\u001b[0m \u001b[0mabove_bounds\u001b[0m \u001b[0;34m=\u001b[0m \u001b[0mself\u001b[0m\u001b[0;34m.\u001b[0m\u001b[0m_check_bounds\u001b[0m\u001b[0;34m(\u001b[0m\u001b[0mx_new\u001b[0m\u001b[0;34m)\u001b[0m\u001b[0;34m\u001b[0m\u001b[0;34m\u001b[0m\u001b[0m\n\u001b[0m\u001b[1;32m    664\u001b[0m             \u001b[0;32mif\u001b[0m \u001b[0mlen\u001b[0m\u001b[0;34m(\u001b[0m\u001b[0my_new\u001b[0m\u001b[0;34m)\u001b[0m \u001b[0;34m>\u001b[0m \u001b[0;36m0\u001b[0m\u001b[0;34m:\u001b[0m\u001b[0;34m\u001b[0m\u001b[0;34m\u001b[0m\u001b[0m\n\u001b[1;32m    665\u001b[0m                 \u001b[0;31m# Note fill_value must be broadcast up to the proper size\u001b[0m\u001b[0;34m\u001b[0m\u001b[0;34m\u001b[0m\u001b[0;34m\u001b[0m\u001b[0m\n",
      "\u001b[0;32m~/anaconda3/lib/python3.8/site-packages/scipy/interpolate/interpolate.py\u001b[0m in \u001b[0;36m_check_bounds\u001b[0;34m(self, x_new)\u001b[0m\n\u001b[1;32m    690\u001b[0m         \u001b[0;31m# !! Could provide more information about which values are out of bounds\u001b[0m\u001b[0;34m\u001b[0m\u001b[0;34m\u001b[0m\u001b[0;34m\u001b[0m\u001b[0m\n\u001b[1;32m    691\u001b[0m         \u001b[0;32mif\u001b[0m \u001b[0mself\u001b[0m\u001b[0;34m.\u001b[0m\u001b[0mbounds_error\u001b[0m \u001b[0;32mand\u001b[0m \u001b[0mbelow_bounds\u001b[0m\u001b[0;34m.\u001b[0m\u001b[0many\u001b[0m\u001b[0;34m(\u001b[0m\u001b[0;34m)\u001b[0m\u001b[0;34m:\u001b[0m\u001b[0;34m\u001b[0m\u001b[0;34m\u001b[0m\u001b[0m\n\u001b[0;32m--> 692\u001b[0;31m             raise ValueError(\"A value in x_new is below the interpolation \"\n\u001b[0m\u001b[1;32m    693\u001b[0m                              \"range.\")\n\u001b[1;32m    694\u001b[0m         \u001b[0;32mif\u001b[0m \u001b[0mself\u001b[0m\u001b[0;34m.\u001b[0m\u001b[0mbounds_error\u001b[0m \u001b[0;32mand\u001b[0m \u001b[0mabove_bounds\u001b[0m\u001b[0;34m.\u001b[0m\u001b[0many\u001b[0m\u001b[0;34m(\u001b[0m\u001b[0;34m)\u001b[0m\u001b[0;34m:\u001b[0m\u001b[0;34m\u001b[0m\u001b[0;34m\u001b[0m\u001b[0m\n",
      "\u001b[0;31mValueError\u001b[0m: A value in x_new is below the interpolation range."
     ]
    }
   ],
   "source": [
    "plt.plot(ppf(np.linspace(0,1,num=100)))"
   ]
  }
 ],
 "metadata": {
  "kernelspec": {
   "display_name": "Python 3",
   "language": "python",
   "name": "python3"
  },
  "language_info": {
   "codemirror_mode": {
    "name": "ipython",
    "version": 3
   },
   "file_extension": ".py",
   "mimetype": "text/x-python",
   "name": "python",
   "nbconvert_exporter": "python",
   "pygments_lexer": "ipython3",
   "version": "3.8.5"
  }
 },
 "nbformat": 4,
 "nbformat_minor": 4
}
