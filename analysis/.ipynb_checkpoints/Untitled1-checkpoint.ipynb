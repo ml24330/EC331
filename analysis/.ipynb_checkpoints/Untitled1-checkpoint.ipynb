{
 "cells": [
  {
   "cell_type": "code",
   "execution_count": 1,
   "metadata": {
    "scrolled": true
   },
   "outputs": [],
   "source": [
    "from main import get_estimated_means, get_order_statistic_pdfs, transform_covariates\n",
    "import numpy as np\n",
    "from scipy import stats, integrate, interpolate, optimize\n",
    "import matplotlib.pyplot as plt\n",
    "import sympy as sp"
   ]
  },
  {
   "cell_type": "code",
   "execution_count": 2,
   "metadata": {
    "scrolled": false
   },
   "outputs": [
    {
     "name": "stderr",
     "output_type": "stream",
     "text": [
      "/Users/liumukun/anaconda3/lib/python3.8/site-packages/numpy/core/fromnumeric.py:1859: VisibleDeprecationWarning: Creating an ndarray from ragged nested sequences (which is a list-or-tuple of lists-or-tuples-or ndarrays with different lengths or shapes) is deprecated. If you meant to do this, you must specify 'dtype=object' when creating the ndarray.\n",
      "  return asanyarray(a).ravel(order=order)\n"
     ]
    }
   ],
   "source": [
    "covariates = [[cov1, cov2] for cov1, cov2 in zip(np.random.uniform(0, 1, size=40), np.random.uniform(0, 1, size=40))]\n",
    "bids = []\n",
    "bids.append([stats.norm.rvs(loc=2*x[0], scale=1, size=10) for x, _ in zip(covariates[:20], range(20))])\n",
    "bids.append([stats.norm.rvs(loc=2*x[0], scale=1, size=5) for x, _ in zip(covariates[20:], range(20))])\n",
    "bids = np.ravel(bids)\n",
    "# covariates = transform_covariates(covariates, 20)"
   ]
  },
  {
   "cell_type": "code",
   "execution_count": null,
   "metadata": {},
   "outputs": [
    {
     "name": "stderr",
     "output_type": "stream",
     "text": [
      "/Users/liumukun/anaconda3/lib/python3.8/site-packages/scipy/stats/_distn_infrastructure.py:1695: IntegrationWarning: The maximum number of subdivisions (50) has been achieved.\n",
      "  If increasing the limit yields no improvement it is advised to analyze \n",
      "  the integrand in order to determine the difficulties.  If the position of a \n",
      "  local difficulty can be determined (singularity, discontinuity) one will \n",
      "  probably gain from splitting up the interval and calling the integrator \n",
      "  on the subranges.  Perhaps a special-purpose integrator should be used.\n",
      "  return integrate.quad(self._mom_integ1, 0, 1, args=(m,)+args)[0]\n"
     ]
    }
   ],
   "source": [
    "pdfs, pdfs_delta = get_order_statistic_pdfs(bids, covariates)\n",
    "\n",
    "expected_upper = {}\n",
    "expected_lower = {}\n",
    "unique_covariates = [list(x) for x in set(tuple(x) for x in covariates)]\n",
    "\n",
    "for covariate in unique_covariates:\n",
    "    lower, upper = get_estimated_means(pdfs, pdfs_delta, covariate, (-2,2))\n",
    "    expected_upper[f\"{covariate}\"] = upper\n",
    "    expected_lower[f\"{covariate}\"] = lower"
   ]
  },
  {
   "cell_type": "code",
   "execution_count": null,
   "metadata": {
    "scrolled": false
   },
   "outputs": [],
   "source": [
    "def get_loss_function(covariates, upper_dict, lower_dict, a, beta):\n",
    "    _sum = 0\n",
    "    for covariate in covariates:\n",
    "        upper = upper_dict[f\"{covariate}\"]\n",
    "        lower = lower_dict[f\"{covariate}\"]\n",
    "        if beta*covariate[0] > upper:\n",
    "            _sum += (beta*covariate[0]-upper)**2\n",
    "        if beta*covariate[0] < lower:\n",
    "            _sum += (beta*covariate[0]-lower)**2\n",
    "    return _sum\n",
    "\n",
    "def loss_function(c):\n",
    "    a,b = c\n",
    "    return get_loss_function(covariates, expected_upper, expected_lower, a, b)\n",
    "\n",
    "b_hat = optimize.brute(loss_function, ranges=[(0,2),(-1,1)])\n",
    "# interval_lower = optimize.newton(lambda b_l: loss_function(b_l)-loss_function(b_hat)-10, b_hat-0.1)\n",
    "# interval_upper = optimize.newton(lambda b_u: loss_function(b_u)-loss_function(b_hat)-10, b_hat+0.1)\n",
    "\n",
    "# print(b_hat, interval_lower, interval_upper)"
   ]
  },
  {
   "cell_type": "code",
   "execution_count": null,
   "metadata": {},
   "outputs": [],
   "source": [
    "import matplotlib.pyplot as plt\n",
    "\n",
    "r = np.linspace(-1,9,num=200)\n",
    "\n",
    "print(b_hat)\n",
    "plt.plot(r, [loss_function(b) for b in r])"
   ]
  },
  {
   "cell_type": "code",
   "execution_count": null,
   "metadata": {},
   "outputs": [],
   "source": [
    "from random import choices\n",
    "\n",
    "def bootstrap(bids, covariates, repetition):\n",
    "    \n",
    "    estimates_lower = []\n",
    "    estimates_upper = []\n",
    "    data_pairs = [(bid, covariate) for bid, covariate in zip(bids, covariates)]\n",
    "    \n",
    "    for _ in range(repetition):\n",
    "        resampled = choices(data_pairs, k=len(bids))\n",
    "\n",
    "        bids, covariates = resampled\n",
    "        pdfs, pdfs_delta = get_order_statistic_pdfs(bids, covariates)\n",
    "        \n",
    "        expected_upper = {}\n",
    "        expected_lower = {}\n",
    "        \n",
    "        for covariate in np.unique(covariates):\n",
    "            lower, upper = get_estimated_means(pdfs, pdfs_delta, covariate)\n",
    "            expected_upper[f\"{covariate}\"] = upper\n",
    "            expected_lower[f\"{covariate}\"] = lower\n",
    "        \n",
    "        estimate = optimize.brute(lambda b: loss_function(covariates, expected_upper, expected_lower, b), ranges=[(0,2)])\n",
    "        interval_lower = optimize.newton(lambda b_l: loss_function(b_l)-loss_function(estimate)-10, estimate-0.1)\n",
    "        interval_upper = optimize.newton(lambda b_l: loss_function(b_l)-loss_function(estimate)-10, estimate+0.1)\n",
    "        \n",
    "        estimates_lower.append(interval_lower)\n",
    "        estimates_upper.append(interval_upper)\n",
    "        \n",
    "    return (estimates_lower, estimates_upper)\n",
    "    "
   ]
  },
  {
   "cell_type": "code",
   "execution_count": null,
   "metadata": {},
   "outputs": [],
   "source": [
    "bootstrap(bids, covariates, 1)"
   ]
  }
 ],
 "metadata": {
  "kernelspec": {
   "display_name": "Python 3",
   "language": "python",
   "name": "python3"
  },
  "language_info": {
   "codemirror_mode": {
    "name": "ipython",
    "version": 3
   },
   "file_extension": ".py",
   "mimetype": "text/x-python",
   "name": "python",
   "nbconvert_exporter": "python",
   "pygments_lexer": "ipython3",
   "version": "3.8.5"
  }
 },
 "nbformat": 4,
 "nbformat_minor": 4
}
