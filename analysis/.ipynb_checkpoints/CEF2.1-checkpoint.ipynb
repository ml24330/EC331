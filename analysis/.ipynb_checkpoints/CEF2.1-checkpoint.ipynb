{
 "cells": [
  {
   "cell_type": "code",
   "execution_count": 13,
   "metadata": {},
   "outputs": [],
   "source": [
    "import pandas as pd\n",
    "import numpy as np\n",
    "from scipy import optimize\n",
    "from main import get_estimated_means, get_order_statistic_pdfs, transform_covariates\n",
    "\n",
    "data = pd.read_csv(\"../data/demeaned.csv\")\n",
    "df = data.groupby([\"id\", \"ispolice\", \"sellerfeedbackscore\", \"bidcount\"])[\"bids\"].apply(lambda x: x.values).reset_index()"
   ]
  },
  {
   "cell_type": "code",
   "execution_count": 20,
   "metadata": {},
   "outputs": [],
   "source": [
    "include = df[(df.bidcount > 2) & (df.bidcount < 10)]\n",
    "\n",
    "bids = list(include.bids)\n",
    "covariates = [[cov] for cov in list(include.sellerfeedbackscore)]"
   ]
  },
  {
   "cell_type": "code",
   "execution_count": null,
   "metadata": {},
   "outputs": [],
   "source": [
    "pdfs, pdfs_delta = get_order_statistic_pdfs(bids, covariates)\n",
    "\n",
    "expected_upper = {}\n",
    "expected_lower = {}\n",
    "unique_covariates = [list(x) for x in set(tuple(x) for x in covariates)]\n",
    "\n",
    "for covariate in unique_covariates:\n",
    "    lower, upper = get_estimated_means(pdfs, pdfs_delta, covariate, (-1,9))\n",
    "    expected_upper[f\"{covariate}\"] = upper\n",
    "    expected_lower[f\"{covariate}\"] = lower"
   ]
  },
  {
   "cell_type": "code",
   "execution_count": null,
   "metadata": {},
   "outputs": [],
   "source": [
    "def get_loss_function(covariates, upper_dict, lower_dict, a, b):\n",
    "    _sum = 0\n",
    "    for covariate in covariates:\n",
    "        upper = upper_dict[f\"{covariate}\"]\n",
    "        lower = lower_dict[f\"{covariate}\"]\n",
    "        if a+b*covariate > upper:\n",
    "            _sum += (a+b*covariate-upper)**2\n",
    "        if a+b*covariate < lower:\n",
    "            _sum += (a+b*covariate-lower)**2\n",
    "    return _sum\n",
    "\n",
    "def loss_function(c):\n",
    "    a, b = c\n",
    "    return get_loss_function(covariates, expected_upper, expected_lower, a, b)\n",
    "\n",
    "b_hat = optimize.brute(loss_function, ranges=[(0,2), (-1,1)])\n",
    "# interval_lower = optimize.newton(lambda a_l, b_l: loss_function(a_l, b_l)-loss_function(b_hat)-10, b_hat-0.1)\n",
    "# interval_upper = optimize.newton(lambda b_l, b_u: loss_function(b_l, b_u)-loss_function(b_hat)-10, b_hat+0.1)"
   ]
  }
 ],
 "metadata": {
  "kernelspec": {
   "display_name": "Python 3",
   "language": "python",
   "name": "python3"
  },
  "language_info": {
   "codemirror_mode": {
    "name": "ipython",
    "version": 3
   },
   "file_extension": ".py",
   "mimetype": "text/x-python",
   "name": "python",
   "nbconvert_exporter": "python",
   "pygments_lexer": "ipython3",
   "version": "3.8.5"
  }
 },
 "nbformat": 4,
 "nbformat_minor": 4
}
