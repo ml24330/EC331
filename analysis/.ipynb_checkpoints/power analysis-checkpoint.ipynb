{
 "cells": [
  {
   "cell_type": "code",
   "execution_count": 1,
   "metadata": {},
   "outputs": [
    {
     "name": "stderr",
     "output_type": "stream",
     "text": [
      "/Users/liumukun/anaconda3/lib/python3.8/site-packages/pandas/core/computation/expressions.py:20: UserWarning: Pandas requires version '2.7.3' or newer of 'numexpr' (version '2.7.1' currently installed).\n",
      "  from pandas.core.computation.check import NUMEXPR_INSTALLED\n"
     ]
    }
   ],
   "source": [
    "import pandas as pd\n",
    "import numpy as np\n",
    "from scipy import stats\n",
    "from functions import *\n",
    "from ast import literal_eval\n",
    "\n",
    "data = pd.read_csv(\"../data/bids.csv\")\n",
    "df = data.groupby([\"id\", \"ruleTriggered\", \"sellerFeedbackScore\", \"bidCount\"])[\"bids\"].apply(lambda x: x.values).reset_index()\n",
    "P_JUMP = 1 - df.ruleTriggered.mean()\n",
    "\n",
    "df.sellerFeedbackScore = np.log(df.sellerFeedbackScore+1)\n",
    "mean = df.sellerFeedbackScore.mean()\n",
    "std = df.sellerFeedbackScore.std()\n",
    "\n",
    "max_bidcount = df.bidCount.max()\n",
    "\n",
    "def EBAY_INCREMENT(current):\n",
    "    if current < 1:\n",
    "        return current + 0.05\n",
    "    elif current < 5:\n",
    "        return current + 0.2\n",
    "    elif current < 15:\n",
    "        return current + 0.5\n",
    "    elif current < 60:\n",
    "        return current + 1\n",
    "    elif current < 150:\n",
    "        return current + 2\n",
    "    elif current < 300:\n",
    "        return current + 5\n",
    "    elif current < 600:\n",
    "        return current + 10\n",
    "    elif current < 1500:\n",
    "        return current + 20\n",
    "    elif current < 3000:\n",
    "        return current + 50\n",
    "    else:\n",
    "        return current + 100"
   ]
  },
  {
   "cell_type": "code",
   "execution_count": 2,
   "metadata": {},
   "outputs": [],
   "source": [
    "def bid(CURRENT_PRICE, ACTIVE_BIDDERS, INCREMENT, HISTORY, P_JUMP):\n",
    "    if len(ACTIVE_BIDDERS) < 2:\n",
    "        return HISTORY\n",
    "    else:\n",
    "        POSSIBLE_BIDDERS = ACTIVE_BIDDERS[:]\n",
    "        if HISTORY:\n",
    "            POSSIBLE_BIDDERS.remove(HISTORY[-1][\"bidder\"])\n",
    "        bidder = POSSIBLE_BIDDERS[np.random.randint(len(POSSIBLE_BIDDERS))]\n",
    "        if bidder < INCREMENT(CURRENT_PRICE):\n",
    "            ACTIVE_BIDDERS.remove(bidder)\n",
    "            return bid(CURRENT_PRICE, ACTIVE_BIDDERS, INCREMENT, HISTORY, P_JUMP)\n",
    "        else:\n",
    "            jump = np.random.random() < P_JUMP\n",
    "            \n",
    "            if jump:\n",
    "                new_bid = np.random.uniform(INCREMENT(CURRENT_PRICE), bidder)\n",
    "            else:\n",
    "                new_bid = INCREMENT(CURRENT_PRICE)\n",
    "                \n",
    "            HISTORY.append({\n",
    "                \"bidder\": bidder,\n",
    "                \"bid\": new_bid\n",
    "            })\n",
    "                \n",
    "            return bid(new_bid, ACTIVE_BIDDERS, INCREMENT, HISTORY, P_JUMP)\n",
    "\n",
    "def simulate(VALUES, INCREMENT, P_JUMP, SILENT=1):\n",
    "    BIDDERS = [round(bidder, 2) for bidder in VALUES]\n",
    "    \n",
    "    result = bid(0, BIDDERS, INCREMENT, [], P_JUMP)\n",
    "    \n",
    "    recorded_bids = {}\n",
    "    for b in result:\n",
    "        recorded_bids[b[\"bidder\"]] = b[\"bid\"]\n",
    "        recorded_bids = dict(sorted(recorded_bids.items(), key=lambda item: item[1]))\n",
    "    \n",
    "    if not SILENT:\n",
    "        print(\"The auction has ended.\")\n",
    "        print(f\"There were {len(VALUES)} potential bidders, and {len(recorded_bids)} of them submitted bids.\")\n",
    "        print(f\"{len(result)} rounds of bidding occured.\")\n",
    "        print(f\"The recorded bids are as follows:\")\n",
    "\n",
    "        for bidder, _bid in recorded_bids.items():\n",
    "            print(f\"The final bid of {bidder} is {_bid}.\")\n",
    "\n",
    "    return list(recorded_bids.values())"
   ]
  },
  {
   "cell_type": "code",
   "execution_count": 3,
   "metadata": {},
   "outputs": [],
   "source": [
    "def estimate(N):\n",
    "    for j in range(10):\n",
    "        feedbacks = stats.lognorm.rvs(loc=mean, scale=std, s=1, size=N)\n",
    "        include = pd.DataFrame()\n",
    "\n",
    "        for feedback in feedbacks:\n",
    "            valuations = stats.norm.rvs(loc=feedback*0.5, scale=1, size=max_bidcount)\n",
    "            bids = simulate(valuations, EBAY_INCREMENT, P_JUMP)\n",
    "            bidcount = len(bids)\n",
    "            include = pd.concat([include, pd.DataFrame([[feedback, bids, bidcount]])])\n",
    "\n",
    "        include.columns = [\"feedback\", \"bid\", \"bidcount\"]\n",
    "\n",
    "        keep = include.bidcount.value_counts().values > 2\n",
    "        valid_bids = include.bidcount.value_counts()[keep].index\n",
    "\n",
    "        include = include[include.bidcount.isin(valid_bids)]\n",
    "\n",
    "        bids = list(include.bid)\n",
    "        covariates = [[cov] for cov in list(include.feedback)]\n",
    "\n",
    "        covariates = [[round(cov, 5)] for cov in transform_covariates([cov[0] for cov in covariates],100)]\n",
    "\n",
    "        incremented = [EBAY_INCREMENT(b[-1]) for b in bids]\n",
    "\n",
    "        max_support = round(include.explode(\"bid\").bid.max())\n",
    "\n",
    "        cef = lambda c, cov: c[0]*cov[0]\n",
    "        n_cov = 1\n",
    "\n",
    "        results = bootstrap2(include, bids, covariates, incremented, (0,max_support), [n_cov], [cef], 10, f\"power_{N}_{j}\")\n",
    "\n",
    "        a_lower, a_upper = [[a[i] for a in results[0]] for i in range(2)]\n",
    "        \n",
    "        print(f\"calculated {j+1}/10 estimates for simulations containing {N} total auctions\")\n",
    "        print(f\"a cf: [{np.percentile(a_lower, 5)}, {np.percentile(a_upper, 95)}]\")\n",
    "        "
   ]
  },
  {
   "cell_type": "code",
   "execution_count": null,
   "metadata": {
    "scrolled": true
   },
   "outputs": [
    {
     "name": "stderr",
     "output_type": "stream",
     "text": [
      "/Users/liumukun/Desktop/projects/eme/analysis/functions/transform_covariates.py:27: RuntimeWarning: Mean of empty slice.\n",
      "  covariates[order] = covariates[order].mean()\n",
      "/Users/liumukun/anaconda3/lib/python3.8/site-packages/numpy/core/_methods.py:189: RuntimeWarning: invalid value encountered in double_scalars\n",
      "  ret = ret.dtype.type(ret / rcount)\n"
     ]
    },
    {
     "name": "stdout",
     "output_type": "stream",
     "text": [
      "calculating values for covariate: [6.93278] (1/63)\n",
      "total time elapsed: 0.00010089400000001802s\n"
     ]
    }
   ],
   "source": [
    "for N in [100,250,500,1000,2500,5000]:\n",
    "    res = estimate(N)"
   ]
  }
 ],
 "metadata": {
  "kernelspec": {
   "display_name": "Python 3",
   "language": "python",
   "name": "python3"
  },
  "language_info": {
   "codemirror_mode": {
    "name": "ipython",
    "version": 3
   },
   "file_extension": ".py",
   "mimetype": "text/x-python",
   "name": "python",
   "nbconvert_exporter": "python",
   "pygments_lexer": "ipython3",
   "version": "3.8.5"
  }
 },
 "nbformat": 4,
 "nbformat_minor": 4
}
