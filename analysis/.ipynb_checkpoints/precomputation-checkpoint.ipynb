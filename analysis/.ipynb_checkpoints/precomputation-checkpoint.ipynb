{
 "cells": [
  {
   "cell_type": "code",
   "execution_count": 4,
   "metadata": {},
   "outputs": [],
   "source": [
    "import sympy as sp\n",
    "import numpy as np\n",
    "import time\n",
    "\n",
    "def cdf(H, i, n):\n",
    "    \"\"\"\n",
    "    Returns the CDF of the parent distribution evaluated at point x given the CDF of the i:n order distribution\n",
    "\n",
    "    Parameters\n",
    "    -------\n",
    "    x : scalar that is within the support of the parent (and thus the order statistic) distribution\n",
    "    order_statistic_cdf : callable that corresponds to the CDF of an order statistic\n",
    "    i : integer that indicates the ith largest order statistic\n",
    "    n : integer that indicates the total number of observations\n",
    "    -------\n",
    "    \"\"\"\n",
    "    t = sp.Symbol('t')\n",
    "    f = sp.Symbol('f')\n",
    "    outside = np.math.factorial(n)/(np.math.factorial(i-1)*np.math.factorial(n-i))\n",
    "    integrand = (t**(i-1)) * ((1-t)**(n-i))\n",
    "\n",
    "    func = sp.integrate(integrand, (t,0,f))\n",
    "    exp = outside*func-H\n",
    "    \n",
    "    try:\n",
    "        ans = [s for s in sp.real_roots(exp) if 0<=s<=1][0]\n",
    "    except:\n",
    "        ans = 1\n",
    "\n",
    "    return float(ans)"
   ]
  },
  {
   "cell_type": "code",
   "execution_count": 3,
   "metadata": {
    "scrolled": true
   },
   "outputs": [],
   "source": [
    "precomputed = {}\n",
    "\n",
    "for n in range(1,19):\n",
    "    for i in range(1,n+1):\n",
    "        for H in np.linspace(0,1,num=5001):\n",
    "            value = cdf(H, i, n)\n",
    "            precomputed[f\"{i}_{n}_{H}\"] = value\n",
    "            \n",
    "            if H*100 % 5 == 0:\n",
    "                print(f\"calculated value for {i}_{n}_{H}, value is {value}\")"
   ]
  },
  {
   "cell_type": "code",
   "execution_count": 6,
   "metadata": {},
   "outputs": [],
   "source": [
    "import math\n",
    "\n",
    "_precomputed = dict()\n",
    "\n",
    "for key in precomputed.keys():\n",
    "    i, n, H = key.split(\"_\")\n",
    "    new_H = round(round(float(H) / 0.0002) * 0.0002, -int(math.floor(math.log10(0.0002))))\n",
    "    _precomputed[f\"{i}_{n}_{new_H}\"] = precomputed[key]"
   ]
  },
  {
   "cell_type": "code",
   "execution_count": 15,
   "metadata": {},
   "outputs": [],
   "source": [
    "import json\n",
    "\n",
    "with open('precomputed_2.json', 'w') as fp:\n",
    "    json.dump(_precomputed, fp)"
   ]
  }
 ],
 "metadata": {
  "kernelspec": {
   "display_name": "Python 3",
   "language": "python",
   "name": "python3"
  },
  "language_info": {
   "codemirror_mode": {
    "name": "ipython",
    "version": 3
   },
   "file_extension": ".py",
   "mimetype": "text/x-python",
   "name": "python",
   "nbconvert_exporter": "python",
   "pygments_lexer": "ipython3",
   "version": "3.8.5"
  }
 },
 "nbformat": 4,
 "nbformat_minor": 4
}
