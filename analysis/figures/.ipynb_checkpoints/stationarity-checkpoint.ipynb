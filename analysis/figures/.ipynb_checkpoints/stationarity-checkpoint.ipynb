{
 "cells": [
  {
   "cell_type": "code",
   "execution_count": 1,
   "metadata": {},
   "outputs": [
    {
     "name": "stderr",
     "output_type": "stream",
     "text": [
      "/Users/liumukun/anaconda3/lib/python3.8/site-packages/pandas/core/computation/expressions.py:20: UserWarning: Pandas requires version '2.7.3' or newer of 'numexpr' (version '2.7.1' currently installed).\n",
      "  from pandas.core.computation.check import NUMEXPR_INSTALLED\n"
     ]
    }
   ],
   "source": [
    "import pandas as pd\n",
    "from statsmodels.tsa import stattools\n",
    "\n",
    "df = pd.read_csv(\"../../data/demeaned.csv\")\n",
    "df[\"time\"] = pd.to_datetime(df.endtime).astype(int)\n",
    "df = df.sort_values(\"time\").reset_index(drop=True)\n",
    "df = df.groupby([\"id\", \"increment_residual\", \"time\"])[\"residual\"].apply(lambda x: x.values).reset_index()"
   ]
  },
  {
   "cell_type": "code",
   "execution_count": 2,
   "metadata": {},
   "outputs": [
    {
     "data": {
      "text/html": [
       "<div>\n",
       "<style scoped>\n",
       "    .dataframe tbody tr th:only-of-type {\n",
       "        vertical-align: middle;\n",
       "    }\n",
       "\n",
       "    .dataframe tbody tr th {\n",
       "        vertical-align: top;\n",
       "    }\n",
       "\n",
       "    .dataframe thead th {\n",
       "        text-align: right;\n",
       "    }\n",
       "</style>\n",
       "<table border=\"1\" class=\"dataframe\">\n",
       "  <thead>\n",
       "    <tr style=\"text-align: right;\">\n",
       "      <th></th>\n",
       "      <th>id</th>\n",
       "      <th>increment_residual</th>\n",
       "      <th>time</th>\n",
       "      <th>residual</th>\n",
       "    </tr>\n",
       "  </thead>\n",
       "  <tbody>\n",
       "    <tr>\n",
       "      <th>0</th>\n",
       "      <td>115546954283</td>\n",
       "      <td>0.573577</td>\n",
       "      <td>1665226321000000000</td>\n",
       "      <td>[-0.1646409, -0.097551584, 0.10371661, 0.17416...</td>\n",
       "    </tr>\n",
       "    <tr>\n",
       "      <th>1</th>\n",
       "      <td>115574542667</td>\n",
       "      <td>0.247052</td>\n",
       "      <td>1666962401000000000</td>\n",
       "      <td>[-0.63238144, 0.1632961, 0.20517385, -0.255481...</td>\n",
       "    </tr>\n",
       "    <tr>\n",
       "      <th>2</th>\n",
       "      <td>115574616316</td>\n",
       "      <td>0.340544</td>\n",
       "      <td>1666620026000000000</td>\n",
       "      <td>[-1.5681492, -1.4775785, -1.1924486, -1.498443...</td>\n",
       "    </tr>\n",
       "    <tr>\n",
       "      <th>3</th>\n",
       "      <td>115580680838</td>\n",
       "      <td>1.884762</td>\n",
       "      <td>1667671201000000000</td>\n",
       "      <td>[1.8428839, 1.7591285, 1.8010062, 1.6334952, 0...</td>\n",
       "    </tr>\n",
       "    <tr>\n",
       "      <th>4</th>\n",
       "      <td>115581757183</td>\n",
       "      <td>0.447254</td>\n",
       "      <td>1667471034000000000</td>\n",
       "      <td>[-0.46760744, -0.010176539, 0.10418129, 0.1613...</td>\n",
       "    </tr>\n",
       "    <tr>\n",
       "      <th>...</th>\n",
       "      <td>...</td>\n",
       "      <td>...</td>\n",
       "      <td>...</td>\n",
       "      <td>...</td>\n",
       "    </tr>\n",
       "    <tr>\n",
       "      <th>1004</th>\n",
       "      <td>404132745682</td>\n",
       "      <td>-0.305690</td>\n",
       "      <td>1675630485000000000</td>\n",
       "      <td>[-0.46992218, -0.77492517, -0.79838693, -0.892...</td>\n",
       "    </tr>\n",
       "    <tr>\n",
       "      <th>1005</th>\n",
       "      <td>404135678003</td>\n",
       "      <td>-0.743165</td>\n",
       "      <td>1676237401000000000</td>\n",
       "      <td>[-0.80034351, -0.85752237, -0.77175409]</td>\n",
       "    </tr>\n",
       "    <tr>\n",
       "      <th>1006</th>\n",
       "      <td>404142493012</td>\n",
       "      <td>-0.038026</td>\n",
       "      <td>1676062134000000000</td>\n",
       "      <td>[-0.21916728, -0.078279585, -0.044734895, -0.0...</td>\n",
       "    </tr>\n",
       "    <tr>\n",
       "      <th>1007</th>\n",
       "      <td>404155888980</td>\n",
       "      <td>-0.366529</td>\n",
       "      <td>1676835001000000000</td>\n",
       "      <td>[-0.40568519, -0.45698541, -0.53131849, -0.636...</td>\n",
       "    </tr>\n",
       "    <tr>\n",
       "      <th>1008</th>\n",
       "      <td>404159194902</td>\n",
       "      <td>1.242735</td>\n",
       "      <td>1676804195000000000</td>\n",
       "      <td>[1.1855567, 1.1283777, 0.89966226, 1.01402]</td>\n",
       "    </tr>\n",
       "  </tbody>\n",
       "</table>\n",
       "<p>1009 rows × 4 columns</p>\n",
       "</div>"
      ],
      "text/plain": [
       "                id  increment_residual                 time   \n",
       "0     115546954283            0.573577  1665226321000000000  \\\n",
       "1     115574542667            0.247052  1666962401000000000   \n",
       "2     115574616316            0.340544  1666620026000000000   \n",
       "3     115580680838            1.884762  1667671201000000000   \n",
       "4     115581757183            0.447254  1667471034000000000   \n",
       "...            ...                 ...                  ...   \n",
       "1004  404132745682           -0.305690  1675630485000000000   \n",
       "1005  404135678003           -0.743165  1676237401000000000   \n",
       "1006  404142493012           -0.038026  1676062134000000000   \n",
       "1007  404155888980           -0.366529  1676835001000000000   \n",
       "1008  404159194902            1.242735  1676804195000000000   \n",
       "\n",
       "                                               residual  \n",
       "0     [-0.1646409, -0.097551584, 0.10371661, 0.17416...  \n",
       "1     [-0.63238144, 0.1632961, 0.20517385, -0.255481...  \n",
       "2     [-1.5681492, -1.4775785, -1.1924486, -1.498443...  \n",
       "3     [1.8428839, 1.7591285, 1.8010062, 1.6334952, 0...  \n",
       "4     [-0.46760744, -0.010176539, 0.10418129, 0.1613...  \n",
       "...                                                 ...  \n",
       "1004  [-0.46992218, -0.77492517, -0.79838693, -0.892...  \n",
       "1005            [-0.80034351, -0.85752237, -0.77175409]  \n",
       "1006  [-0.21916728, -0.078279585, -0.044734895, -0.0...  \n",
       "1007  [-0.40568519, -0.45698541, -0.53131849, -0.636...  \n",
       "1008        [1.1855567, 1.1283777, 0.89966226, 1.01402]  \n",
       "\n",
       "[1009 rows x 4 columns]"
      ]
     },
     "execution_count": 2,
     "metadata": {},
     "output_type": "execute_result"
    }
   ],
   "source": [
    "df"
   ]
  },
  {
   "cell_type": "code",
   "execution_count": 3,
   "metadata": {},
   "outputs": [
    {
     "data": {
      "text/plain": [
       "(-16.14341842781878,\n",
       " 1.2034484846632146e-24,\n",
       " 2,\n",
       " 1006,\n",
       " {'1%': -4.382684806602406,\n",
       "  '5%': -3.83827293477557,\n",
       "  '10%': -3.5569030658394762},\n",
       " 2403.4201555098007)"
      ]
     },
     "execution_count": 3,
     "metadata": {},
     "output_type": "execute_result"
    }
   ],
   "source": [
    "stattools.adfuller(df.residual.apply(lambda x: x[-1]), regression=\"ctt\")"
   ]
  },
  {
   "cell_type": "code",
   "execution_count": 4,
   "metadata": {},
   "outputs": [],
   "source": [
    "import matplotlib\n",
    "import matplotlib.pyplot as plt\n",
    "\n",
    "matplotlib.rcParams.update(matplotlib.rcParamsDefault)\n",
    "plt.style.use('tableau-colorblind10')\n",
    "plt.rcParams['figure.figsize'] = (8,4)\n",
    "plt.rcParams['figure.dpi'] = 300\n",
    "plt.rcParams['text.color'] = 'black'\n",
    "plt.rcParams['axes.labelcolor'] = 'black'\n",
    "plt.rcParams['xtick.color'] = 'black'\n",
    "plt.rcParams['ytick.color'] = 'black'\n",
    "plt.rcParams['axes.titlepad'] = 5\n",
    "plt.rcParams['axes.titlesize'] = 9\n",
    "plt.rcParams['axes.labelsize'] = 8\n",
    "plt.rcParams['axes.labelpad'] = 5\n",
    "plt.rcParams['legend.fontsize'] = 7\n",
    "plt.rcParams['font.family'] = 'serif'\n",
    "plt.rcParams['axes.facecolor'] = 'white'"
   ]
  },
  {
   "cell_type": "code",
   "execution_count": 10,
   "metadata": {},
   "outputs": [],
   "source": [
    "fig, ax = plt.subplots()\n",
    "\n",
    "ax.plot(df.residual.apply(lambda x: x[-1]))\n",
    "ax.set_xlabel(\"Listing Number\")\n",
    "ax.set_ylabel(\"Homogenised Top Bid\")\n",
    "\n",
    "plt.tight_layout()\n",
    "fig.savefig(\"stationarity.png\", dpi=fig.dpi, bbox_inches=\"tight\")"
   ]
  }
 ],
 "metadata": {
  "kernelspec": {
   "display_name": "Python 3",
   "language": "python",
   "name": "python3"
  },
  "language_info": {
   "codemirror_mode": {
    "name": "ipython",
    "version": 3
   },
   "file_extension": ".py",
   "mimetype": "text/x-python",
   "name": "python",
   "nbconvert_exporter": "python",
   "pygments_lexer": "ipython3",
   "version": "3.8.5"
  }
 },
 "nbformat": 4,
 "nbformat_minor": 4
}
