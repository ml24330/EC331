{
 "cells": [
  {
   "cell_type": "code",
   "execution_count": 1,
   "metadata": {},
   "outputs": [],
   "source": [
    "POLICE_CONS = [-0.6, -0.52, -0.5, -0.4]\n",
    "NONPOLICE_CONS = [-0.3, -0.25, -0.23, -0.2]\n",
    "POLICE_COEF = [-0.01, 0, 0.005, 0.01]\n",
    "NONPOLICE_COEF = [0.02, 0.08, 0.1, 0.14]"
   ]
  },
  {
   "cell_type": "code",
   "execution_count": 12,
   "metadata": {},
   "outputs": [
    {
     "data": {
      "text/plain": [
       "-0.5072326583694641"
      ]
     },
     "execution_count": 12,
     "metadata": {},
     "output_type": "execute_result"
    }
   ],
   "source": [
    "import matplotlib.pyplot as plt\n",
    "import numpy as np\n",
    "\n",
    "func = lambda r: NONPOLICE_CONS - POLICE_CONS + NONPOLICE_COEF*np.log(r) - POLICE_COEF*np.log(r)\n",
    "\n",
    "func(0.1)"
   ]
  }
 ],
 "metadata": {
  "kernelspec": {
   "display_name": "Python 3",
   "language": "python",
   "name": "python3"
  },
  "language_info": {
   "codemirror_mode": {
    "name": "ipython",
    "version": 3
   },
   "file_extension": ".py",
   "mimetype": "text/x-python",
   "name": "python",
   "nbconvert_exporter": "python",
   "pygments_lexer": "ipython3",
   "version": "3.8.5"
  }
 },
 "nbformat": 4,
 "nbformat_minor": 4
}
