{
 "cells": [
  {
   "cell_type": "code",
   "execution_count": 1,
   "metadata": {},
   "outputs": [
    {
     "name": "stderr",
     "output_type": "stream",
     "text": [
      "/Users/liumukun/anaconda3/lib/python3.8/site-packages/pandas/core/computation/expressions.py:20: UserWarning: Pandas requires version '2.7.3' or newer of 'numexpr' (version '2.7.1' currently installed).\n",
      "  from pandas.core.computation.check import NUMEXPR_INSTALLED\n"
     ]
    }
   ],
   "source": [
    "import sys\n",
    "import pandas as pd\n",
    "import numpy as np\n",
    "import seaborn as sns\n",
    " \n",
    "sys.path.append('../')\n",
    "\n",
    "from functions import *"
   ]
  },
  {
   "cell_type": "code",
   "execution_count": 2,
   "metadata": {},
   "outputs": [],
   "source": [
    "import matplotlib\n",
    "import matplotlib.pyplot as plt\n",
    "\n",
    "matplotlib.rcParams.update(matplotlib.rcParamsDefault)\n",
    "plt.style.use('tableau-colorblind10')\n",
    "plt.rcParams['figure.figsize'] = (8,8)\n",
    "plt.rcParams['figure.dpi'] = 300\n",
    "plt.rcParams['text.color'] = 'black'\n",
    "plt.rcParams['axes.labelcolor'] = 'black'\n",
    "plt.rcParams['xtick.color'] = 'black'\n",
    "plt.rcParams['ytick.color'] = 'black'\n",
    "plt.rcParams['axes.titlepad'] = 5\n",
    "plt.rcParams['axes.titlesize'] = 9\n",
    "plt.rcParams['axes.labelsize'] = 8\n",
    "plt.rcParams['axes.labelpad'] = 5\n",
    "plt.rcParams['legend.fontsize'] = 7\n",
    "plt.rcParams['font.family'] = 'serif'\n",
    "plt.rcParams['axes.facecolor'] = 'white'"
   ]
  },
  {
   "cell_type": "code",
   "execution_count": 3,
   "metadata": {},
   "outputs": [
    {
     "name": "stderr",
     "output_type": "stream",
     "text": [
      "<ipython-input-3-d73bb938c279>:11: SettingWithCopyWarning: \n",
      "A value is trying to be set on a copy of a slice from a DataFrame.\n",
      "Try using .loc[row_indexer,col_indexer] = value instead\n",
      "\n",
      "See the caveats in the documentation: https://pandas.pydata.org/pandas-docs/stable/user_guide/indexing.html#returning-a-view-versus-a-copy\n",
      "  include.sellerfeedbackscore = logged_feedback\n"
     ]
    }
   ],
   "source": [
    "data = pd.read_csv(\"../../data/demeaned.csv\")\n",
    "df = data.groupby([\"id\", \"ispolice\", \"sellerfeedbackscore\", \"bidcount\", \"apple\", \"amazon\", \"increment_residual\"])[\"residual\"].apply(lambda x: x.values).reset_index()\n",
    "\n",
    "valid_bids = list(df[df.ispolice == 1].bidcount.value_counts().index)\n",
    "include = df[(df.bidcount > 1) & (df.bidcount.isin(valid_bids))]\n",
    "\n",
    "bids = list(include.residual)\n",
    "\n",
    "logged_feedback = np.log(include.sellerfeedbackscore+1)\n",
    "logged_feedback = transform_covariates(logged_feedback, 100)\n",
    "include.sellerfeedbackscore = logged_feedback\n",
    "\n",
    "covariates = np.array(include[[\"ispolice\", \"sellerfeedbackscore\"]])\n",
    "covariates = list([list(cov) for cov in covariates])\n",
    "incremented = list(include.increment_residual)\n",
    "\n",
    "pdfs, pdfs_delta = get_order_statistic_pdfs(bids, covariates, incremented)\n",
    "\n",
    "_min = min([c[1] for c in covariates])\n",
    "median = np.percentile([c[1] for c in covariates], 50)\n",
    "_max = max([c[1] for c in covariates])\n",
    "\n",
    "n_upper_med, n_lower_med = get_estimated_distributions(pdfs, pdfs_delta, [0, median], (-4,6))\n",
    "p_upper_med, p_lower_med = get_estimated_distributions(pdfs, pdfs_delta, [1, median], (-4,6))\n",
    "\n",
    "n_upper_min, n_lower_min = get_estimated_distributions(pdfs, pdfs_delta, [0, _min], (-4,6))\n",
    "p_upper_min, p_lower_min = get_estimated_distributions(pdfs, pdfs_delta, [1, _min], (-4,6))\n",
    "\n",
    "n_upper_max, n_lower_max = get_estimated_distributions(pdfs, pdfs_delta, [0, _max], (-4,6))\n",
    "p_upper_max, p_lower_max = get_estimated_distributions(pdfs, pdfs_delta, [1, _max], (-4,6))\n"
   ]
  },
  {
   "cell_type": "code",
   "execution_count": 4,
   "metadata": {},
   "outputs": [],
   "source": [
    "values = np.linspace(-4,5,num=50)\n",
    "\n",
    "n_upper_vals_med = [n_upper_med(v,-1) for v in values]\n",
    "n_lower_vals_med = [n_lower_med(v,1) for v in values]\n",
    "\n",
    "p_upper_vals_med = [p_upper_med(v,-1) for v in values]\n",
    "p_lower_vals_med = [p_lower_med(v,1) for v in values]\n",
    "\n",
    "\n",
    "n_upper_vals_min = [n_upper_min(v,-1) for v in values]\n",
    "n_lower_vals_min = [n_lower_min(v,1) for v in values]\n",
    "\n",
    "p_upper_vals_min = [p_upper_min(v,-1) for v in values]\n",
    "p_lower_vals_min = [p_lower_min(v,1) for v in values]\n",
    "\n",
    "\n",
    "n_upper_vals_max = [n_upper_max(v,-1) for v in values]\n",
    "n_lower_vals_max = [n_lower_max(v,1) for v in values]\n",
    "\n",
    "p_upper_vals_max = [p_upper_max(v,-1) for v in values]\n",
    "p_lower_vals_max = [p_lower_max(v,1) for v in values]"
   ]
  },
  {
   "cell_type": "code",
   "execution_count": 5,
   "metadata": {},
   "outputs": [],
   "source": [
    "fig, (ax1, ax2, ax3) = plt.subplots(3,1, constrained_layout=True)"
   ]
  },
  {
   "cell_type": "markdown",
   "metadata": {},
   "source": [
    "### Evaluated at minimum"
   ]
  },
  {
   "cell_type": "code",
   "execution_count": 6,
   "metadata": {},
   "outputs": [
    {
     "data": {
      "text/plain": [
       "Text(0.5, 1.0, 'Lowest Feedback')"
      ]
     },
     "execution_count": 6,
     "metadata": {},
     "output_type": "execute_result"
    }
   ],
   "source": [
    "ax1.plot(values, n_upper_vals_min, label=\"Non-police upper bound\", color=\"red\")\n",
    "ax1.plot(values, n_lower_vals_min, label=\"Non-police lower bound\", color=\"red\", linestyle=\"--\")\n",
    "\n",
    "ax1.plot(values, p_upper_vals_min, label=\"Police upper bound\", color=\"blue\")\n",
    "ax1.plot(values, p_lower_vals_min, label=\"Police lower bound\", color=\"blue\", linestyle=\"--\")\n",
    "\n",
    "ax1.set_title(\"Lowest Feedback\")"
   ]
  },
  {
   "cell_type": "markdown",
   "metadata": {},
   "source": [
    "### Evaluated at median"
   ]
  },
  {
   "cell_type": "code",
   "execution_count": 7,
   "metadata": {},
   "outputs": [
    {
     "data": {
      "text/plain": [
       "<matplotlib.legend.Legend at 0x7f9770055550>"
      ]
     },
     "execution_count": 7,
     "metadata": {},
     "output_type": "execute_result"
    }
   ],
   "source": [
    "ax2.plot(values, n_upper_vals_med, label=\"Non-police upper bound\", color=\"red\")\n",
    "ax2.plot(values, n_lower_vals_med, label=\"Non-police lower bound\", color=\"red\", linestyle=\"--\")\n",
    "\n",
    "ax2.plot(values, p_upper_vals_med, label=\"Police upper bound\", color=\"blue\")\n",
    "ax2.plot(values, p_lower_vals_med, label=\"Police lower bound\", color=\"blue\", linestyle=\"--\")\n",
    "\n",
    "ax2.set_ylabel(\"Cumulative probability\")\n",
    "ax2.set_title(\"Median Feedback\")\n",
    "ax2.legend(loc=\"lower right\")"
   ]
  },
  {
   "cell_type": "markdown",
   "metadata": {},
   "source": [
    "### Evaluated at maximum"
   ]
  },
  {
   "cell_type": "code",
   "execution_count": 8,
   "metadata": {},
   "outputs": [
    {
     "data": {
      "text/plain": [
       "Text(0.5, 1.0, 'Highest Feedback')"
      ]
     },
     "execution_count": 8,
     "metadata": {},
     "output_type": "execute_result"
    }
   ],
   "source": [
    "ax3.plot(values, n_upper_vals_max, label=\"Non-police upper bound\", color=\"red\")\n",
    "ax3.plot(values, n_lower_vals_max, label=\"Non-police lower bound\", color=\"red\", linestyle=\"--\")\n",
    "\n",
    "ax3.plot(values, p_upper_vals_max, label=\"Police upper bound\", color=\"blue\")\n",
    "ax3.plot(values, p_lower_vals_max, label=\"Police lower bound\", color=\"blue\", linestyle=\"--\")\n",
    "\n",
    "ax3.set_xlabel(\"(Normalised) Willingness to pay\")\n",
    "ax3.set_title(\"Highest Feedback\")"
   ]
  },
  {
   "cell_type": "code",
   "execution_count": 9,
   "metadata": {},
   "outputs": [
    {
     "name": "stderr",
     "output_type": "stream",
     "text": [
      "<ipython-input-9-8b97bbf4a3aa>:1: UserWarning: This figure was using constrained_layout==True, but that is incompatible with subplots_adjust and or tight_layout: setting constrained_layout==False. \n",
      "  plt.tight_layout()\n"
     ]
    }
   ],
   "source": [
    "plt.tight_layout()\n",
    "\n",
    "fig.savefig(\"bounds.png\", dpi=fig.dpi, bbox_inches=\"tight\")"
   ]
  }
 ],
 "metadata": {
  "kernelspec": {
   "display_name": "Python 3",
   "language": "python",
   "name": "python3"
  },
  "language_info": {
   "codemirror_mode": {
    "name": "ipython",
    "version": 3
   },
   "file_extension": ".py",
   "mimetype": "text/x-python",
   "name": "python",
   "nbconvert_exporter": "python",
   "pygments_lexer": "ipython3",
   "version": "3.8.5"
  }
 },
 "nbformat": 4,
 "nbformat_minor": 4
}
