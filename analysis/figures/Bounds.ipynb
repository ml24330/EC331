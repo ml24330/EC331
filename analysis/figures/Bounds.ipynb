{
 "cells": [
  {
   "cell_type": "code",
   "execution_count": null,
   "metadata": {},
   "outputs": [],
   "source": [
    "import sys\n",
    "import pandas as pd\n",
    "import re\n",
    " \n",
    "sys.path.append('../')\n",
    "\n",
    "from functions import *\n",
    "\n",
    "df = pd.read_csv(\"../../data/simulated.csv\")\n",
    "\n",
    "def comma(s):\n",
    "    add_comma = lambda match: match.group(0).replace(\" \", \", \")\n",
    "    \n",
    "    s = s.replace(\"\\n\", \"\")\n",
    "\n",
    "    s = re.sub(r\"([0-9\\.]+\\s)\", add_comma, s)\n",
    "    \n",
    "    return eval(s)\n",
    "\n",
    "df.residual = df.residual.apply(comma)"
   ]
  },
  {
   "cell_type": "code",
   "execution_count": 2,
   "metadata": {},
   "outputs": [],
   "source": [
    "import matplotlib\n",
    "import matplotlib.pyplot as plt\n",
    "\n",
    "matplotlib.rcParams.update(matplotlib.rcParamsDefault)\n",
    "plt.style.use('tableau-colorblind10')\n",
    "plt.rcParams['figure.figsize'] = (8,8)\n",
    "plt.rcParams['figure.dpi'] = 300\n",
    "plt.rcParams['text.color'] = 'black'\n",
    "plt.rcParams['axes.labelcolor'] = 'black'\n",
    "plt.rcParams['xtick.color'] = 'black'\n",
    "plt.rcParams['ytick.color'] = 'black'\n",
    "plt.rcParams['axes.titlepad'] = 5\n",
    "plt.rcParams['axes.titlesize'] = 9\n",
    "plt.rcParams['axes.labelsize'] = 8\n",
    "plt.rcParams['axes.labelpad'] = 5\n",
    "plt.rcParams['legend.fontsize'] = 7\n",
    "plt.rcParams['font.family'] = 'serif'\n",
    "plt.rcParams['axes.facecolor'] = 'white'"
   ]
  },
  {
   "cell_type": "code",
   "execution_count": 4,
   "metadata": {},
   "outputs": [],
   "source": [
    "include = df\n",
    "\n",
    "bids = list(include.residual)\n",
    "\n",
    "logged_feedback = include.sellerfeedbackscore\n",
    "logged_feedback = transform_covariates(logged_feedback, 100)\n",
    "include.sellerfeedbackscore = logged_feedback\n",
    "\n",
    "covariates = np.array(include[[\"ispolice\", \"sellerfeedbackscore\"]])\n",
    "covariates = list([list(cov) for cov in covariates])\n",
    "incremented = list(include.increment_residual)\n",
    "\n",
    "pdfs, pdfs_delta = get_order_statistic_pdfs(bids, covariates, incremented)\n",
    "\n",
    "_min = np.percentile([c[1] for c in covariates], 10)\n",
    "median = np.percentile([c[1] for c in covariates], 50)\n",
    "_max = np.percentile([c[1] for c in covariates], 90)\n",
    "\n",
    "n_upper_med, n_lower_med = get_estimated_distributions(pdfs, pdfs_delta, [0, median], (-4,6))\n",
    "p_upper_med, p_lower_med = get_estimated_distributions(pdfs, pdfs_delta, [1, median], (-4,6))\n",
    "\n",
    "n_upper_min, n_lower_min = get_estimated_distributions(pdfs, pdfs_delta, [0, _min], (-4,6))\n",
    "p_upper_min, p_lower_min = get_estimated_distributions(pdfs, pdfs_delta, [1, _min], (-4,6))\n",
    "\n",
    "n_upper_max, n_lower_max = get_estimated_distributions(pdfs, pdfs_delta, [0, _max], (-4,6))\n",
    "p_upper_max, p_lower_max = get_estimated_distributions(pdfs, pdfs_delta, [1, _max], (-4,6))"
   ]
  },
  {
   "cell_type": "code",
   "execution_count": 5,
   "metadata": {},
   "outputs": [],
   "source": [
    "values = np.linspace(-3,3,num=35)\n",
    "\n",
    "n_upper_vals_med = [n_upper_med(v,-1) for v in values]\n",
    "n_lower_vals_med = [n_lower_med(v,1) for v in values]\n",
    "\n",
    "p_upper_vals_med = [p_upper_med(v,-1) for v in values]\n",
    "p_lower_vals_med = [p_lower_med(v,1) for v in values]\n",
    "\n",
    "\n",
    "n_upper_vals_min = [n_upper_min(v,-1) for v in values]\n",
    "n_lower_vals_min = [n_lower_min(v,1) for v in values]\n",
    "\n",
    "p_upper_vals_min = [p_upper_min(v,-1) for v in values]\n",
    "p_lower_vals_min = [p_lower_min(v,1) for v in values]\n",
    "\n",
    "\n",
    "n_upper_vals_max = [n_upper_max(v,-1) for v in values]\n",
    "n_lower_vals_max = [n_lower_max(v,1) for v in values]\n",
    "\n",
    "p_upper_vals_max = [p_upper_max(v,-1) for v in values]\n",
    "p_lower_vals_max = [p_lower_max(v,1) for v in values]"
   ]
  },
  {
   "cell_type": "code",
   "execution_count": 12,
   "metadata": {},
   "outputs": [],
   "source": [
    "fig, (ax1, ax2, ax3) = plt.subplots(3,1, constrained_layout=True)"
   ]
  },
  {
   "cell_type": "markdown",
   "metadata": {},
   "source": [
    "### Evaluated at minimum"
   ]
  },
  {
   "cell_type": "code",
   "execution_count": 13,
   "metadata": {},
   "outputs": [
    {
     "data": {
      "text/plain": [
       "Text(0.5, 1.0, '10th Percentile')"
      ]
     },
     "execution_count": 13,
     "metadata": {},
     "output_type": "execute_result"
    }
   ],
   "source": [
    "ax1.plot(values, n_upper_vals_min, label=\"Non-police upper bound\", color=\"red\")\n",
    "ax1.plot(values, n_lower_vals_min, label=\"Non-police lower bound\", color=\"red\", linestyle=\"--\")\n",
    "\n",
    "ax1.plot(values, p_upper_vals_min, label=\"Police upper bound\", color=\"blue\")\n",
    "ax1.plot(values, p_lower_vals_min, label=\"Police lower bound\", color=\"blue\", linestyle=\"--\")\n",
    "\n",
    "ax1.set_xlim(-3,3)\n",
    "ax1.set_title(\"10th Percentile\")"
   ]
  },
  {
   "cell_type": "markdown",
   "metadata": {},
   "source": [
    "### Evaluated at median"
   ]
  },
  {
   "cell_type": "code",
   "execution_count": 14,
   "metadata": {},
   "outputs": [
    {
     "data": {
      "text/plain": [
       "(-3.0, 3.0)"
      ]
     },
     "execution_count": 14,
     "metadata": {},
     "output_type": "execute_result"
    }
   ],
   "source": [
    "ax2.plot(values, n_upper_vals_med, label=\"Non-police upper bound\", color=\"red\")\n",
    "ax2.plot(values, n_lower_vals_med, label=\"Non-police lower bound\", color=\"red\", linestyle=\"--\")\n",
    "\n",
    "ax2.plot(values, p_upper_vals_med, label=\"Police upper bound\", color=\"blue\")\n",
    "ax2.plot(values, p_lower_vals_med, label=\"Police lower bound\", color=\"blue\", linestyle=\"--\")\n",
    "\n",
    "ax2.set_ylabel(\"Cumulative probability\")\n",
    "ax2.set_title(\"Median\")\n",
    "ax2.legend(loc=\"lower right\")\n",
    "\n",
    "ax2.set_xlim(-3,3)"
   ]
  },
  {
   "cell_type": "markdown",
   "metadata": {},
   "source": [
    "### Evaluated at maximum"
   ]
  },
  {
   "cell_type": "code",
   "execution_count": 15,
   "metadata": {},
   "outputs": [
    {
     "data": {
      "text/plain": [
       "(-3.0, 3.0)"
      ]
     },
     "execution_count": 15,
     "metadata": {},
     "output_type": "execute_result"
    }
   ],
   "source": [
    "ax3.plot(values, n_upper_vals_max, label=\"Non-police upper bound\", color=\"red\")\n",
    "ax3.plot(values, n_lower_vals_max, label=\"Non-police lower bound\", color=\"red\", linestyle=\"--\")\n",
    "\n",
    "ax3.plot(values, p_upper_vals_max, label=\"Police upper bound\", color=\"blue\")\n",
    "ax3.plot(values, p_lower_vals_max, label=\"Police lower bound\", color=\"blue\", linestyle=\"--\")\n",
    "\n",
    "ax3.set_xlabel(\"(Normalised) Willingness to pay\")\n",
    "ax3.set_title(\"90th Percentile\")\n",
    "\n",
    "ax3.set_xlim(-3,3)"
   ]
  },
  {
   "cell_type": "code",
   "execution_count": 17,
   "metadata": {
    "scrolled": true
   },
   "outputs": [],
   "source": [
    "fig.savefig(\"bounds.png\", dpi=fig.dpi, bbox_inches=\"tight\")"
   ]
  }
 ],
 "metadata": {
  "kernelspec": {
   "display_name": "Python 3",
   "language": "python",
   "name": "python3"
  },
  "language_info": {
   "codemirror_mode": {
    "name": "ipython",
    "version": 3
   },
   "file_extension": ".py",
   "mimetype": "text/x-python",
   "name": "python",
   "nbconvert_exporter": "python",
   "pygments_lexer": "ipython3",
   "version": "3.8.5"
  }
 },
 "nbformat": 4,
 "nbformat_minor": 4
}
