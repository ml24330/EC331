{
 "cells": [
  {
   "cell_type": "code",
   "execution_count": 119,
   "metadata": {},
   "outputs": [],
   "source": [
    "import sys\n",
    "import pandas as pd\n",
    " \n",
    "sys.path.append('../')\n",
    "\n",
    "from functions import *\n",
    "\n",
    "df = pd.read_csv(\"../../data/listings.csv\", usecols=[\"id\", \"apple\", \"samsung\", \"amazon\", \"others\", \"sellerFeedbackScore\", \"isSold\", \"isPolice\", \"price\"])\n",
    "df = df[(df.isPolice == 0) & (df.isSold == 1)]"
   ]
  },
  {
   "cell_type": "code",
   "execution_count": 143,
   "metadata": {},
   "outputs": [],
   "source": [
    "d = pd.read_csv(\"../../data/demeaned.csv\")\n",
    "d[\"time\"] = pd.to_datetime(d.endtime).astype(int)\n",
    "d = d.sort_values(\"time\").reset_index(drop=True)\n",
    "d = d.groupby([\"id\", \"increment_residual\"])[\"residual\"].apply(lambda x: x.values).reset_index()"
   ]
  },
  {
   "cell_type": "code",
   "execution_count": 111,
   "metadata": {},
   "outputs": [
    {
     "data": {
      "text/plain": [
       "(-14.913559713227855,\n",
       " 8.737074518828281e-24,\n",
       " 2,\n",
       " 1006,\n",
       " {'1%': -4.382684806602406,\n",
       "  '5%': -3.83827293477557,\n",
       "  '10%': -3.5569030658394762},\n",
       " 2592.032267510729)"
      ]
     },
     "execution_count": 111,
     "metadata": {},
     "output_type": "execute_result"
    }
   ],
   "source": [
    "from statsmodels.tsa import stattools\n",
    "\n",
    "stattools.adfuller(d.increment_residual, regression=\"ctt\")"
   ]
  },
  {
   "cell_type": "code",
   "execution_count": 93,
   "metadata": {},
   "outputs": [
    {
     "data": {
      "text/plain": [
       "[<matplotlib.lines.Line2D at 0x7f970678bb50>]"
      ]
     },
     "execution_count": 93,
     "metadata": {},
     "output_type": "execute_result"
    },
    {
     "data": {
      "image/png": "[encoded data removed]",
      "text/plain": [
       "<Figure size 432x288 with 1 Axes>"
      ]
     },
     "metadata": {
      "needs_background": "light"
     },
     "output_type": "display_data"
    }
   ],
   "source": [
    "import matplotlib.pyplot as plt\n",
    "\n",
    "plt.plot(d.increment_residual)"
   ]
  },
  {
   "cell_type": "code",
   "execution_count": 2,
   "metadata": {},
   "outputs": [],
   "source": [
    "def calculate(row):\n",
    "    R = row.sellerFeedbackScore\n",
    "    min_cost_c = max(0.2-0.107*R,0)\n",
    "    min_cost = max(0.458-0.078*R,0)\n",
    "    max_cost = max(0.661-0.074*R,0)\n",
    "    max_cost_c = max(0.76-0.011*R,0)\n",
    "    \n",
    "    std = 0\n",
    "    \n",
    "    if row.apple == 1:\n",
    "        std = 298.1\n",
    "    elif row.samsung == 1:\n",
    "        std = 47.758\n",
    "    elif row.amazon == 1:\n",
    "        std = 17.49\n",
    "    elif row.others == 1:\n",
    "        std = 21.31\n",
    "        \n",
    "    min_cost_c = min_cost_c*std\n",
    "    min_cost = min_cost*std\n",
    "    max_cost = max_cost*std\n",
    "    max_cost_c = max_cost_c*std\n",
    "    \n",
    "    return (min_cost_c, min_cost, max_cost, max_cost_c)"
   ]
  },
  {
   "cell_type": "code",
   "execution_count": 3,
   "metadata": {},
   "outputs": [],
   "source": [
    "def calculate_h(row):\n",
    "    R = 0\n",
    "    min_cost_c = max(0.2-0.107*R,0)\n",
    "    min_cost = max(0.458-0.078*R,0)\n",
    "    max_cost = max(0.661-0.074*R,0)\n",
    "    max_cost_c = max(0.76-0.011*R,0)\n",
    "    \n",
    "    std = 0\n",
    "    \n",
    "    if row.apple == 1:\n",
    "        std = 298.1\n",
    "    elif row.samsung == 1:\n",
    "        std = 47.758\n",
    "    elif row.amazon == 1:\n",
    "        std = 17.49\n",
    "    elif row.others == 1:\n",
    "        std = 21.31\n",
    "        \n",
    "    min_cost_c = min_cost_c*std\n",
    "    min_cost = min_cost*std\n",
    "    max_cost = max_cost*std\n",
    "    max_cost_c = max_cost_c*std\n",
    "    \n",
    "    return (min_cost_c, min_cost, max_cost, max_cost_c)"
   ]
  },
  {
   "cell_type": "code",
   "execution_count": 4,
   "metadata": {},
   "outputs": [],
   "source": [
    "df2 = df.apply(calculate, axis=1, result_type=\"expand\")\n",
    "df2.columns = (\"min_cost_c\", \"min_cost\", \"max_cost\", \"max_cost_c\")\n",
    "\n",
    "df = pd.concat([df, df2], axis=1)"
   ]
  },
  {
   "cell_type": "code",
   "execution_count": 5,
   "metadata": {},
   "outputs": [],
   "source": [
    "df3 = df.apply(calculate_h, axis=1, result_type=\"expand\")\n",
    "df3.columns = (\"h_min_cost_c\", \"h_min_cost\", \"h_max_cost\", \"h_max_cost_c\")\n",
    "\n",
    "df = pd.concat([df, df3], axis=1)"
   ]
  },
  {
   "cell_type": "code",
   "execution_count": 6,
   "metadata": {},
   "outputs": [],
   "source": [
    "apple = df[df.apple == 1]\n",
    "amazon = df[df.amazon == 1]\n",
    "samsung = df[df.samsung == 1]\n",
    "others = df[df.others == 1]"
   ]
  },
  {
   "cell_type": "code",
   "execution_count": 7,
   "metadata": {
    "scrolled": false
   },
   "outputs": [
    {
     "data": {
      "text/plain": [
       "min_cost_c      0.129712\n",
       "min_cost        0.655698\n",
       "max_cost        1.358268\n",
       "max_cost_c      5.388223\n",
       "price         100.000000\n",
       "dtype: float64"
      ]
     },
     "execution_count": 7,
     "metadata": {},
     "output_type": "execute_result"
    }
   ],
   "source": [
    "df[[\"min_cost_c\", \"min_cost\", \"max_cost\", \"max_cost_c\", \"price\"]].sum()*100/df.price.sum()"
   ]
  },
  {
   "cell_type": "code",
   "execution_count": 29,
   "metadata": {},
   "outputs": [
    {
     "data": {
      "text/plain": [
       "h_min_cost_c    0.115385\n",
       "h_min_cost      0.264232\n",
       "h_max_cost      0.381347\n",
       "h_max_cost_c    0.438463\n",
       "price           1.000000\n",
       "dtype: float64"
      ]
     },
     "execution_count": 29,
     "metadata": {},
     "output_type": "execute_result"
    }
   ],
   "source": [
    "others[[\"h_min_cost_c\", \"h_min_cost\", \"h_max_cost\", \"h_max_cost_c\", \"price\"]].sum()/others.price.sum()"
   ]
  },
  {
   "cell_type": "code",
   "execution_count": 9,
   "metadata": {
    "scrolled": true
   },
   "outputs": [
    {
     "data": {
      "text/plain": [
       "min_cost_c      0.133272\n",
       "min_cost        0.706168\n",
       "max_cost        1.489260\n",
       "max_cost_c      5.704342\n",
       "price         100.000000\n",
       "dtype: float64"
      ]
     },
     "execution_count": 9,
     "metadata": {},
     "output_type": "execute_result"
    }
   ],
   "source": [
    "apple[[\"min_cost_c\", \"min_cost\", \"max_cost\", \"max_cost_c\", \"price\"]].sum()*100/apple.price.sum()"
   ]
  },
  {
   "cell_type": "code",
   "execution_count": 15,
   "metadata": {},
   "outputs": [
    {
     "data": {
      "text/plain": [
       "min_cost_c      0.012818\n",
       "min_cost        0.175865\n",
       "max_cost        0.411270\n",
       "max_cost_c      3.023609\n",
       "price         100.000000\n",
       "dtype: float64"
      ]
     },
     "execution_count": 15,
     "metadata": {},
     "output_type": "execute_result"
    }
   ],
   "source": [
    "amazon[[\"min_cost_c\", \"min_cost\", \"max_cost\", \"max_cost_c\", \"price\"]].sum()*100/amazon.price.sum()"
   ]
  },
  {
   "cell_type": "code",
   "execution_count": 11,
   "metadata": {},
   "outputs": [
    {
     "data": {
      "text/plain": [
       "min_cost_c      0.176208\n",
       "min_cost        0.571322\n",
       "max_cost        0.925542\n",
       "max_cost_c      4.486082\n",
       "price         100.000000\n",
       "dtype: float64"
      ]
     },
     "execution_count": 11,
     "metadata": {},
     "output_type": "execute_result"
    }
   ],
   "source": [
    "samsung[[\"min_cost_c\", \"min_cost\", \"max_cost\", \"max_cost_c\", \"price\"]].sum()*100/samsung.price.sum()"
   ]
  },
  {
   "cell_type": "code",
   "execution_count": 12,
   "metadata": {},
   "outputs": [
    {
     "data": {
      "text/plain": [
       "min_cost_c      0.187821\n",
       "min_cost        0.537181\n",
       "max_cost        0.932695\n",
       "max_cost_c      3.984627\n",
       "price         100.000000\n",
       "dtype: float64"
      ]
     },
     "execution_count": 12,
     "metadata": {},
     "output_type": "execute_result"
    }
   ],
   "source": [
    "others[[\"min_cost_c\", \"min_cost\", \"max_cost\", \"max_cost_c\", \"price\"]].sum()*100/others.price.sum()"
   ]
  }
 ],
 "metadata": {
  "kernelspec": {
   "display_name": "Python 3",
   "language": "python",
   "name": "python3"
  },
  "language_info": {
   "codemirror_mode": {
    "name": "ipython",
    "version": 3
   },
   "file_extension": ".py",
   "mimetype": "text/x-python",
   "name": "python",
   "nbconvert_exporter": "python",
   "pygments_lexer": "ipython3",
   "version": "3.8.5"
  }
 },
 "nbformat": 4,
 "nbformat_minor": 4
}
