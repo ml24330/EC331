{
 "cells": [
  {
   "cell_type": "code",
   "execution_count": 1,
   "metadata": {
    "scrolled": false
   },
   "outputs": [
    {
     "name": "stderr",
     "output_type": "stream",
     "text": [
      "/Users/liumukun/anaconda3/lib/python3.8/site-packages/pandas/core/computation/expressions.py:20: UserWarning: Pandas requires version '2.7.3' or newer of 'numexpr' (version '2.7.1' currently installed).\n",
      "  from pandas.core.computation.check import NUMEXPR_INSTALLED\n"
     ]
    }
   ],
   "source": [
    "import json\n",
    "import sys\n",
    "import pandas as pd\n",
    "\n",
    "sys.path.append('../')\n",
    "\n",
    "from functions import *"
   ]
  },
  {
   "cell_type": "code",
   "execution_count": 19,
   "metadata": {},
   "outputs": [],
   "source": [
    "import matplotlib\n",
    "import matplotlib.pyplot as plt\n",
    "\n",
    "matplotlib.rcParams.update(matplotlib.rcParamsDefault)\n",
    "plt.style.use('tableau-colorblind10')\n",
    "plt.rcParams['figure.figsize'] = (8,5)\n",
    "plt.rcParams['figure.dpi'] = 300\n",
    "plt.rcParams['text.color'] = 'black'\n",
    "plt.rcParams['axes.labelcolor'] = 'black'\n",
    "plt.rcParams['xtick.color'] = 'black'\n",
    "plt.rcParams['ytick.color'] = 'black'\n",
    "plt.rcParams['axes.titlepad'] = 5\n",
    "plt.rcParams['axes.titlesize'] = 9\n",
    "plt.rcParams['axes.labelsize'] = 8\n",
    "plt.rcParams['axes.labelpad'] = 5\n",
    "plt.rcParams['legend.fontsize'] = 7\n",
    "plt.rcParams['font.family'] = 'serif'\n",
    "plt.rcParams['axes.facecolor'] = 'white'"
   ]
  },
  {
   "cell_type": "markdown",
   "metadata": {},
   "source": [
    "### Import dumps"
   ]
  },
  {
   "cell_type": "code",
   "execution_count": 3,
   "metadata": {},
   "outputs": [],
   "source": [
    "with open(f\"./final dumps/CMF_s_main.json\", \"r\") as f:\n",
    "    d = json.load(f)\n",
    "    covariates = d[\"covariates\"]\n",
    "    median_lower = d[\"lower\"]\n",
    "    median_upper = d[\"upper\"]\n",
    "    \n",
    "    covariates = [[c[0],round(c[1], 5)] for c in covariates]\n",
    "    median_lower = {f\"{[eval(k)[0], round(eval(k)[1],5)]}\": v for k, v in median_lower.items()}\n",
    "    median_upper = {f\"{[eval(k)[0], round(eval(k)[1],5)]}\": v for k, v in median_upper.items()}"
   ]
  },
  {
   "cell_type": "markdown",
   "metadata": {},
   "source": [
    "#### Main specification"
   ]
  },
  {
   "cell_type": "markdown",
   "metadata": {},
   "source": [
    "Table 6 Interval Estimates"
   ]
  },
  {
   "cell_type": "code",
   "execution_count": 4,
   "metadata": {
    "scrolled": false
   },
   "outputs": [
    {
     "name": "stdout",
     "output_type": "stream",
     "text": [
      "[-0.72304565  0.5287823   0.07606162  0.02765301]\n",
      "[-0.7366317608398245, -0.7092798153024473, 0.45827336638139493, 0.6613706029278343, 0.0740221770579519, 0.07813811298624303, 0.020167578272969777, 0.0381033132185715]\n"
     ]
    }
   ],
   "source": [
    "def loss_function1(c):\n",
    "    cef = lambda cov: c[0]+c[1]*cov[0]+c[2]*cov[1]*(1-cov[0])+c[3]*cov[1]*cov[0]\n",
    "    return get_loss_function(covariates, median_upper, median_lower, cef)\n",
    "\n",
    "\n",
    "point1, interval1 = get_estimates(loss_function1, 4, [0,0,0,0])\n",
    "\n",
    "print(point1)\n",
    "print(interval1)"
   ]
  },
  {
   "cell_type": "markdown",
   "metadata": {},
   "source": [
    "#### Dummies specification"
   ]
  },
  {
   "cell_type": "markdown",
   "metadata": {},
   "source": [
    "Table 7 Interval Estimates"
   ]
  },
  {
   "cell_type": "code",
   "execution_count": 5,
   "metadata": {
    "scrolled": false
   },
   "outputs": [
    {
     "name": "stdout",
     "output_type": "stream",
     "text": [
      "[-0.32007818286353046, -0.18880721115695928, -0.49294463386528353, -0.25523733451218195, -0.5074529961119335, -0.29765780110441886, -0.5458859469537944, -0.3232889998360643, -0.5434238863998709, -0.3288647499998074, -0.5355607520847017, -0.3274143621933125, -0.524358189373697, -0.3227715596793128, -0.512019870560192, -0.3161510208088722, -0.49810401630545975, -0.3089888656123103, -0.47920127483449065, -0.29842982609176555, -0.4612840797903791, -0.2888876670566768, -0.4426674397782846, -0.2766280195379127, -0.4311170033951274, -0.2538749247501689, -0.3912275870189216, -0.24920524774673652, -0.34100718965527244, -0.21663080392015538, -0.24876162992495304, -0.08907553102860616, -0.16371470123110074, -0.015176854031463873, -0.02383665403159618, 0.06395757751249452, 0.10343792307469873, 0.19346483971492323, 0.1770606969424977, 0.2784974681799162, -0.30658488115164184, 0.23036348578619262, -0.3246956045400601, 0.20959809474540358, -0.3500760482273506, 0.15333690943663478, -0.37403936823206674, 0.11972430323867891, -0.38301419892586935, 0.11227464126671467, -0.3891383721816875, 0.13333667771475263, -0.3933032187501926, 0.17370816914267193, -0.3813574366457625, 0.1952568383551019, -0.3757209638500069, 0.1994703641498255, -0.3732795576000069, 0.20432804969568716, -0.37034987010000686, 0.20944467566884936, -0.3664322613507468, 0.21481370376671466, -0.369784374608877, 0.22653125567183233, -0.36033390907068713, 0.22673319860429672, -0.35195149289181754, 0.236914705879571, -0.3245414516671162, 0.25322450169013055, -0.2812782676057742, 0.27934970987692814, -0.16057956445279925, 0.30472616004837655, -0.08139427096689604, 0.40667125926298897, 0.025011542183507988, 0.30573518706108055]\n"
     ]
    }
   ],
   "source": [
    "percentile = lambda p: np.percentile([c[1] for c in covariates], p)\n",
    "\n",
    "estimates = []\n",
    "\n",
    "for i in range(2):\n",
    "    for j in range(20):\n",
    "        \n",
    "        if j == 19:\n",
    "            covs = [c for c in covariates if c[1] >= percentile(95) and c[1] <= percentile(100) and c[0] == i]\n",
    "        else:\n",
    "            covs = [c for c in covariates if c[1] >= percentile(j*5) and c[1] < percentile((j+1)*5) and c[0] == i]\n",
    "        \n",
    "        loss_function = lambda c: get_loss_function(covs, median_upper, median_lower, lambda cov: c)\n",
    "        point, interval = get_estimates(loss_function, 1, [0])\n",
    "        estimates += [c[0] for c in interval]\n",
    "        \n",
    "print(estimates)"
   ]
  },
  {
   "cell_type": "markdown",
   "metadata": {},
   "source": [
    "### Bootstrap Confidence Intervals"
   ]
  },
  {
   "cell_type": "code",
   "execution_count": 6,
   "metadata": {},
   "outputs": [],
   "source": [
    "prefixed = [filename for filename in os.listdir(\"./final dumps\") if filename.startswith(\"bootstrap_s_main\")]\n",
    "\n",
    "results = []\n",
    "\n",
    "for name in prefixed:\n",
    "    with open(f\"./final dumps/{name}\", \"r\") as f:\n",
    "        d = json.load(f)\n",
    "        _covariates = d[\"covariates\"]\n",
    "        _median_lower = d[\"lower\"]\n",
    "        _median_upper = d[\"upper\"]\n",
    "        \n",
    "        _covariates = [[c[0],round(c[1], 5)] for c in _covariates]\n",
    "        _median_lower = {f\"{[eval(k)[0], round(eval(k)[1],5)]}\": v for k, v in _median_lower.items()}\n",
    "        _median_upper = {f\"{[eval(k)[0], round(eval(k)[1],5)]}\": v for k, v in _median_upper.items()}\n",
    "        results.append((_covariates, _median_lower, _median_upper))"
   ]
  },
  {
   "cell_type": "markdown",
   "metadata": {},
   "source": [
    "#### Main specification"
   ]
  },
  {
   "cell_type": "code",
   "execution_count": 100,
   "metadata": {},
   "outputs": [],
   "source": [
    "estimates1 = []\n",
    "\n",
    "for result in results:\n",
    "    \n",
    "    def loss_function1(c):\n",
    "        cef = lambda cov: c[0]+c[1]*cov[0]+c[2]*cov[1]*(1-cov[0])+c[3]*cov[1]*cov[0]\n",
    "        return get_loss_function(result[0], result[2], result[1], cef)\n",
    "    \n",
    "    point1, interval1 = get_estimates(loss_function1, 4, [0,0,0,0])\n",
    "    \n",
    "    estimates1.append(interval1)"
   ]
  },
  {
   "cell_type": "markdown",
   "metadata": {},
   "source": [
    "Table 6 Confidence Intervals"
   ]
  },
  {
   "cell_type": "code",
   "execution_count": 102,
   "metadata": {
    "scrolled": false
   },
   "outputs": [
    {
     "name": "stdout",
     "output_type": "stream",
     "text": [
      "95% confidence interval for variable 0:\n",
      "[-0.8566743377817307, -0.2138864943292003]\n",
      "95% confidence interval for variable 1:\n",
      "[0.20009213670860623, 0.7597406957219884]\n",
      "95% confidence interval for variable 2:\n",
      "[0.010947713060212404, 0.10734156718911854]\n",
      "95% confidence interval for variable 3:\n",
      "[-0.020103003490875612, 0.06441849229747894]\n"
     ]
    }
   ],
   "source": [
    "conf_intervals1 = report_intervals(estimates1, 95)"
   ]
  },
  {
   "cell_type": "markdown",
   "metadata": {},
   "source": [
    "#### Dummies specification"
   ]
  },
  {
   "cell_type": "code",
   "execution_count": 9,
   "metadata": {},
   "outputs": [],
   "source": [
    "estimates2 = []\n",
    "percentile = lambda p: np.percentile([c[1] for c in covariates], p)\n",
    "\n",
    "for result in results:\n",
    "\n",
    "    intervals = []\n",
    "\n",
    "    for i in range(2):\n",
    "        for j in range(20):\n",
    "            if j == 19:\n",
    "                covs = [c for c in result[0] if c[1] >= percentile(95) and c[1] <= percentile(100) and c[0] == i]\n",
    "            else:\n",
    "                covs = [c for c in result[0] if c[1] >= percentile(j*5) and c[1] < percentile((j+1)*5) and c[0] == i]\n",
    "\n",
    "            loss_function = lambda c: get_loss_function(covs, result[2], result[1], lambda cov: c)\n",
    "            point, interval = get_estimates(loss_function, 1, [0])\n",
    "            intervals += [c[0] for c in interval]\n",
    "\n",
    "    estimates2.append(intervals)"
   ]
  },
  {
   "cell_type": "markdown",
   "metadata": {},
   "source": [
    "Table 7 Confidence Intervals"
   ]
  },
  {
   "cell_type": "code",
   "execution_count": 10,
   "metadata": {
    "scrolled": true
   },
   "outputs": [
    {
     "name": "stdout",
     "output_type": "stream",
     "text": [
      "95% confidence interval for variable 0:\n",
      "[-0.5867566787213242, 0.08783548254315966]\n",
      "95% confidence interval for variable 1:\n",
      "[-0.5633358569407456, 0.08318274660211589]\n",
      "95% confidence interval for variable 2:\n",
      "[-0.5536933332683168, 0.051310717097445155]\n",
      "95% confidence interval for variable 3:\n",
      "[-0.5925400161178177, -0.005301976256233785]\n",
      "95% confidence interval for variable 4:\n",
      "[-0.5840251979169734, -0.039274387204857264]\n",
      "95% confidence interval for variable 5:\n",
      "[-0.5743105498312541, -0.06515459532646714]\n",
      "95% confidence interval for variable 6:\n",
      "[-0.5590328638708212, -0.08950341103335578]\n",
      "95% confidence interval for variable 7:\n",
      "[-0.537025106150872, -0.08795552359584012]\n",
      "95% confidence interval for variable 8:\n",
      "[-0.5085890739589766, -0.07733343968017675]\n",
      "95% confidence interval for variable 9:\n",
      "[-0.485147262161015, -0.07054600210661373]\n",
      "95% confidence interval for variable 10:\n",
      "[-0.48972233413671573, -0.06665289547707268]\n",
      "95% confidence interval for variable 11:\n",
      "[-0.46184697388445584, -0.04352213425054245]\n",
      "95% confidence interval for variable 12:\n",
      "[-0.466654029400597, -0.027776262221340674]\n",
      "95% confidence interval for variable 13:\n",
      "[-0.4445748063946676, -0.03721801635654741]\n",
      "95% confidence interval for variable 14:\n",
      "[-0.40376261399537355, -0.012473451692989664]\n",
      "95% confidence interval for variable 15:\n",
      "[-0.330926709207912, 0.009074470004969729]\n",
      "95% confidence interval for variable 16:\n",
      "[-0.2643359328087481, 0.09291331112780657]\n",
      "95% confidence interval for variable 17:\n",
      "[-0.19708061255218592, 0.22154313827890296]\n",
      "95% confidence interval for variable 18:\n",
      "[-0.052266054914034646, 0.5031633886450866]\n",
      "95% confidence interval for variable 19:\n",
      "[-0.15329090243950885, 0.4322003084344449]\n",
      "95% confidence interval for variable 20:\n",
      "[-0.3887972293753962, 0.3937097215696958]\n",
      "95% confidence interval for variable 21:\n",
      "[-0.39946898246295437, 0.4212501454400626]\n",
      "95% confidence interval for variable 22:\n",
      "[-0.38277969250906674, 0.32472368478799685]\n",
      "95% confidence interval for variable 23:\n",
      "[-0.4120059443165557, 0.31640671605001436]\n",
      "95% confidence interval for variable 24:\n",
      "[-0.4421579175611696, 0.3154892506136044]\n",
      "95% confidence interval for variable 25:\n",
      "[-0.4682488202565149, 0.29586632162896015]\n",
      "95% confidence interval for variable 26:\n",
      "[-0.4612130203742192, 0.29515957268074355]\n",
      "95% confidence interval for variable 27:\n",
      "[-0.4224259934599358, 0.2909729016798714]\n",
      "95% confidence interval for variable 28:\n",
      "[-0.3958423269925724, 0.28031772882167905]\n",
      "95% confidence interval for variable 29:\n",
      "[-0.3992466242047721, 0.27437366619590975]\n",
      "95% confidence interval for variable 30:\n",
      "[-0.3879261672963423, 0.279493494518197]\n",
      "95% confidence interval for variable 31:\n",
      "[-0.38978582891054503, 0.28945191544079485]\n",
      "95% confidence interval for variable 32:\n",
      "[-0.39450025642029674, 0.31988383396248066]\n",
      "95% confidence interval for variable 33:\n",
      "[-0.38590274403365105, 0.3085941653263195]\n",
      "95% confidence interval for variable 34:\n",
      "[-0.37954363827275817, 0.33305222084747993]\n",
      "95% confidence interval for variable 35:\n",
      "[-0.3318549012662166, 0.3622463642222336]\n",
      "95% confidence interval for variable 36:\n",
      "[-0.28853695135834506, 0.39467256439425547]\n",
      "95% confidence interval for variable 37:\n",
      "[-0.20690945033009117, 0.47024593333531495]\n",
      "95% confidence interval for variable 38:\n",
      "[-0.16199136145990306, 0.6375864146947487]\n",
      "95% confidence interval for variable 39:\n",
      "[-0.1917292615086684, 0.4743245169075234]\n"
     ]
    }
   ],
   "source": [
    "conf_intervals2 = report_intervals(estimates2, 95)"
   ]
  },
  {
   "cell_type": "markdown",
   "metadata": {},
   "source": [
    "### Figure 5"
   ]
  },
  {
   "cell_type": "code",
   "execution_count": 11,
   "metadata": {
    "scrolled": true
   },
   "outputs": [],
   "source": [
    "items = []\n",
    "\n",
    "for i in range(20):\n",
    "    item = {}\n",
    "    \n",
    "    item[\"q1\"] = estimates[i*2]\n",
    "    item[\"q3\"] = estimates[i*2+1]\n",
    "    item[\"med\"] = 0\n",
    "    item[\"whislo\"] = conf_intervals2[i][0]\n",
    "    item[\"whishi\"] = conf_intervals2[i][1]\n",
    "    item[\"label\"] = f\"{i*5}-{(i+1)*5}\"\n",
    "    item[\"fliers\"] = []\n",
    "    \n",
    "    items.append(item)"
   ]
  },
  {
   "cell_type": "code",
   "execution_count": 12,
   "metadata": {},
   "outputs": [],
   "source": [
    "items2 = []\n",
    "\n",
    "for i in range(20):\n",
    "    item = {}\n",
    "    \n",
    "    item[\"q1\"] = estimates[(20+i)*2]\n",
    "    item[\"q3\"] = estimates[(20+i)*2+1]\n",
    "    item[\"med\"] = 0\n",
    "    item[\"whislo\"] = conf_intervals2[20+i][0]\n",
    "    item[\"whishi\"] = conf_intervals2[20+i][1]\n",
    "    item[\"label\"] = f\"{i*5}-{(i+1)*5}\"\n",
    "    item[\"fliers\"] = []\n",
    "    \n",
    "    items2.append(item)"
   ]
  },
  {
   "cell_type": "code",
   "execution_count": 101,
   "metadata": {},
   "outputs": [],
   "source": [
    "func0_l = lambda r: -0.857+r*0.011\n",
    "func0_u = lambda r: -0.214+r*0.107\n",
    "\n",
    "func0_l_ = lambda r: -0.737+r*0.074\n",
    "func0_u_ = lambda r: -0.709+r*0.078\n",
    "\n",
    "func1_l = lambda r: -0.358+r*-0.002\n",
    "func1_u = lambda r: 0.278+r*0.064\n",
    "\n",
    "func1_l_ = lambda r: -0.279+r*0.02\n",
    "func1_u_ = lambda r: -0.048+r*0.038"
   ]
  },
  {
   "cell_type": "code",
   "execution_count": 103,
   "metadata": {
    "scrolled": false
   },
   "outputs": [],
   "source": [
    "import matplotlib.patches as mpatches\n",
    "\n",
    "positions = [(percentile(k*5)+percentile(k*5+5))/2 for k in range(20)]\n",
    "\n",
    "fig, ax = plt.subplots()\n",
    "\n",
    "bplot1 = ax.bxp(items, positions=[p-0.04 for p in positions], widths=0.08, medianprops={\"linewidth\":0}, patch_artist=True, capprops={\"color\": \"red\"}, whiskerprops={\"color\": \"red\"})\n",
    "bplot2 = ax.bxp(items2, positions=[p+0.04 for p in positions], widths=0.08, medianprops={\"linewidth\":0}, patch_artist=True, capprops={\"color\": \"blue\"}, whiskerprops={\"color\": \"blue\"})\n",
    "\n",
    "for patch in bplot1['boxes']:\n",
    "    patch.set_facecolor((1,0,0,0.5))\n",
    "    \n",
    "for patch in bplot2['boxes']:\n",
    "    patch.set_facecolor((0,0,1,0.5))\n",
    "    \n",
    "ax.set_xticks(range(0, 14, 2))\n",
    "ax.set_xticklabels(list(range(0, 14, 2)))\n",
    "\n",
    "ax.set_xlabel(\"Logged seller feedback score\")\n",
    "ax.set_ylabel(\"Normalised willingness to pay\")\n",
    "    \n",
    "red_patch = mpatches.Patch(color='red', label=\"Non-police\")\n",
    "blue_patch = mpatches.Patch(color='blue', label=\"Police\")\n",
    "\n",
    "values = np.linspace(0,11.75,num=200)\n",
    "# plt.plot(values, [func0_l(v) for v in values], color=(1,0,0,0.2))\n",
    "# plt.plot(values, [func0_u(v) for v in values], color=(1,0,0,0.2))\n",
    "\n",
    "plt.plot(values, [func0_l_(v) for v in values], color=(1,0,0,0.3), linestyle=\"--\")\n",
    "plt.plot(values, [func0_u_(v) for v in values], color=(1,0,0,0.3), linestyle=\"--\")\n",
    "\n",
    "\n",
    "# plt.plot(values, [func1_l(v) for v in values], color=(0,0,1,0.2))\n",
    "# plt.plot(values, [func1_u(v) for v in values], color=(0,0,1,0.2))\n",
    "\n",
    "plt.plot(values, [func1_l_(v) for v in values], color=(0,0,1,0.3), linestyle=\"--\")\n",
    "plt.plot(values, [func1_u_(v) for v in values], color=(0,0,1,0.3), linestyle=\"--\")\n",
    "\n",
    "plt.fill_between(values, [func0_l(v) for v in values], [func0_u(v) for v in values], facecolor=\"red\", alpha=0.1)\n",
    "\n",
    "plt.fill_between(values, [func1_l(v) for v in values], [func1_u(v) for v in values], facecolor=\"blue\", alpha=0.1)\n",
    "\n",
    "plt.legend(handles=[red_patch, blue_patch], loc=\"upper left\")\n",
    "\n",
    "plt.tight_layout()\n",
    "fig.savefig(\"result.png\", dpi=fig.dpi, bbox_inches=\"tight\")\n"
   ]
  }
 ],
 "metadata": {
  "kernelspec": {
   "display_name": "Python 3",
   "language": "python",
   "name": "python3"
  },
  "language_info": {
   "codemirror_mode": {
    "name": "ipython",
    "version": 3
   },
   "file_extension": ".py",
   "mimetype": "text/x-python",
   "name": "python",
   "nbconvert_exporter": "python",
   "pygments_lexer": "ipython3",
   "version": "3.8.5"
  }
 },
 "nbformat": 4,
 "nbformat_minor": 4
}
