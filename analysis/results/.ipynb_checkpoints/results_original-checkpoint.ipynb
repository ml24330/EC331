{
 "cells": [
  {
   "cell_type": "code",
   "execution_count": 1,
   "metadata": {},
   "outputs": [
    {
     "name": "stderr",
     "output_type": "stream",
     "text": [
      "/Users/liumukun/anaconda3/lib/python3.8/site-packages/pandas/core/computation/expressions.py:20: UserWarning: Pandas requires version '2.7.3' or newer of 'numexpr' (version '2.7.1' currently installed).\n",
      "  from pandas.core.computation.check import NUMEXPR_INSTALLED\n"
     ]
    }
   ],
   "source": [
    "import json\n",
    "import sys\n",
    "import pandas as pd\n",
    "\n",
    "sys.path.append('../')\n",
    "\n",
    "from functions import *"
   ]
  },
  {
   "cell_type": "code",
   "execution_count": 2,
   "metadata": {
    "scrolled": true
   },
   "outputs": [
    {
     "name": "stderr",
     "output_type": "stream",
     "text": [
      "<ipython-input-2-e678a9d083c5>:14: SettingWithCopyWarning: \n",
      "A value is trying to be set on a copy of a slice from a DataFrame.\n",
      "Try using .loc[row_indexer,col_indexer] = value instead\n",
      "\n",
      "See the caveats in the documentation: https://pandas.pydata.org/pandas-docs/stable/user_guide/indexing.html#returning-a-view-versus-a-copy\n",
      "  include.sellerfeedbackscore = logged_feedback\n"
     ]
    }
   ],
   "source": [
    "data = pd.read_csv(\"../../data/demeaned.csv\")\n",
    "df = data.groupby([\"id\", \"ispolice\", \"endtime\", \"sellerfeedbackscore\", \"bidcount\", \"apple\", \"amazon\", \"samsung\", \"others\", \"increment_residual\"])[\"residual\"].apply(lambda x: x.values).reset_index()\n",
    "df.endtime = pd.to_datetime(df.endtime)\n",
    "df = df.sort_values(\"endtime\").reset_index(drop=True)\n",
    "df[\"early\"] = (df.index < 476).astype(int)\n",
    "\n",
    "valid_bids = list(df[df.ispolice == 1].bidcount.value_counts().index)\n",
    "include = df[(df.bidcount > 1) & (df.bidcount.isin(valid_bids))]\n",
    "\n",
    "bids = list(include.residual)\n",
    "\n",
    "logged_feedback = np.log(include.sellerfeedbackscore+1)\n",
    "logged_feedback = transform_covariates(logged_feedback, 100)\n",
    "include.sellerfeedbackscore = logged_feedback\n",
    "include = include.reset_index(drop=True)\n",
    "\n",
    "o_covariates = np.array(include[[\"ispolice\", \"sellerfeedbackscore\"]])\n",
    "o_covariates = list([list(cov) for cov in o_covariates])\n",
    "o_covariates = [[c[0],round(c[1], 5)] for c in o_covariates]\n",
    "\n",
    "apple_covs = [c for i, c in enumerate(o_covariates) if i in list(include[include.apple == 1].index)]\n",
    "samsung_covs = [c for i, c in enumerate(o_covariates) if i in list(include[include.samsung == 1].index)]\n",
    "amazon_covs = [c for i, c in enumerate(o_covariates) if i in list(include[include.amazon == 1].index)]\n",
    "others_covs = [c for i, c in enumerate(o_covariates) if i in list(include[include.others == 1].index)]\n",
    "\n",
    "early_covs = [c for i, c in enumerate(o_covariates) if i in list(include[include.early == 1].index)]\n",
    "late_covs = [c for i, c in enumerate(o_covariates) if i in list(include[include.early == 0].index)]\n"
   ]
  },
  {
   "cell_type": "markdown",
   "metadata": {},
   "source": [
    "### Import dumps"
   ]
  },
  {
   "cell_type": "code",
   "execution_count": 3,
   "metadata": {},
   "outputs": [],
   "source": [
    "with open(f\"./final dumps/CMF_main.json\", \"r\") as f:\n",
    "    d = json.load(f)\n",
    "    covariates = d[\"covariates\"]\n",
    "    median_lower = d[\"lower\"]\n",
    "    median_upper = d[\"upper\"]\n",
    "    \n",
    "    covariates = [[c[0],round(c[1], 5)] for c in covariates]\n",
    "    median_lower = {f\"{[eval(k)[0], round(eval(k)[1],5)]}\": v for k, v in median_lower.items()}\n",
    "    median_upper = {f\"{[eval(k)[0], round(eval(k)[1],5)]}\": v for k, v in median_upper.items()}"
   ]
  },
  {
   "cell_type": "markdown",
   "metadata": {},
   "source": [
    "#### Main specification"
   ]
  },
  {
   "cell_type": "markdown",
   "metadata": {},
   "source": [
    "Table 4 Interval Estimates"
   ]
  },
  {
   "cell_type": "code",
   "execution_count": 4,
   "metadata": {},
   "outputs": [
    {
     "name": "stdout",
     "output_type": "stream",
     "text": [
      "[-0.90745165  0.28223717  0.10400445  0.04094814]\n",
      "[-0.9199388497314462, -0.8950663933139305, 0.13893647675033916, 0.38034447428177187, 0.10214789387783955, 0.10584955993725813, 0.026805688926432095, 0.050669398793987325]\n"
     ]
    }
   ],
   "source": [
    "def loss_function1(c):\n",
    "    cef = lambda cov: c[0]+c[1]*cov[0]+c[2]*cov[1]*(1-cov[0])+c[3]*cov[1]*cov[0]\n",
    "    return get_loss_function(covariates, median_upper, median_lower, cef)\n",
    "\n",
    "point1, interval1 = get_estimates(loss_function1, 4, [0,0.5,0,0])\n",
    "\n",
    "print(point1)\n",
    "print(interval1)"
   ]
  },
  {
   "cell_type": "markdown",
   "metadata": {},
   "source": [
    "#### Dummies specification"
   ]
  },
  {
   "cell_type": "markdown",
   "metadata": {},
   "source": [
    "Table 5 Interval Estimates"
   ]
  },
  {
   "cell_type": "code",
   "execution_count": 5,
   "metadata": {},
   "outputs": [
    {
     "name": "stdout",
     "output_type": "stream",
     "text": [
      "[-0.3247559666026739, -0.29741491346275456, 0.38966097091661517, 0.49064331054688776, -0.37125561079858116, -0.10598501381650231, -0.3969580529112641, -0.04990031278250435]\n"
     ]
    }
   ],
   "source": [
    "percentile = lambda p: np.percentile(np.array(include.sellerfeedbackscore), p)\n",
    "\n",
    "estimates = []\n",
    "\n",
    "for i in range(2):\n",
    "    \n",
    "    covs1 = [c for c in covariates if c[1] >= percentile(0) and c[1] < percentile(91.5) and c[0] == i]\n",
    "    loss_function = lambda c: get_loss_function(covs1, median_upper, median_lower, lambda cov: c)\n",
    "    \n",
    "    point, interval = get_estimates(loss_function, 1, [0])\n",
    "    estimates += [c[0] for c in interval]\n",
    "    \n",
    "    covs1 = [c for c in covariates if c[1] >= percentile(91.5) and c[1] < percentile(100) and c[0] == i]\n",
    "    loss_function = lambda c: get_loss_function(covs1, median_upper, median_lower, lambda cov: c)\n",
    "    \n",
    "    point, interval = get_estimates(loss_function, 1, [0])\n",
    "    estimates += [c[0] for c in interval]\n",
    "        \n",
    "print(estimates)"
   ]
  },
  {
   "cell_type": "markdown",
   "metadata": {},
   "source": [
    "#### Brand-specific specification"
   ]
  },
  {
   "cell_type": "markdown",
   "metadata": {},
   "source": [
    "Table 10 Amazon Interval Estimates"
   ]
  },
  {
   "cell_type": "code",
   "execution_count": 6,
   "metadata": {
    "scrolled": true
   },
   "outputs": [
    {
     "name": "stdout",
     "output_type": "stream",
     "text": [
      "[-0.87815194  0.50191071  0.09569396  0.0077988 ]\n",
      "[-0.899862519100599, -0.8571986867300674, 0.39245455854887, 0.730288359878228, 0.09243688314783557, 0.09877548096133065, -0.003057203787388995, 0.03046290558692028]\n"
     ]
    }
   ],
   "source": [
    "def loss_function3(c):\n",
    "    cef = lambda cov: c[0]+c[1]*cov[0]+c[2]*cov[1]*(1-cov[0])+c[3]*cov[1]*cov[0]\n",
    "    return get_loss_function(amazon_covs, median_upper, median_lower, cef)\n",
    "\n",
    "point3, interval3 = get_estimates(loss_function3, 4, [0,0.5,0,0])\n",
    "\n",
    "print(point3)\n",
    "print(interval3)"
   ]
  },
  {
   "cell_type": "markdown",
   "metadata": {},
   "source": [
    "Table 10 Samsung Interval Estimates"
   ]
  },
  {
   "cell_type": "code",
   "execution_count": 7,
   "metadata": {},
   "outputs": [
    {
     "name": "stdout",
     "output_type": "stream",
     "text": [
      "[-1.01288497  0.50213164  0.11745596  0.02150855]\n",
      "[-1.0387935802288093, -0.9878180994037266, 0.18133681535700896, 0.9383040661408254, 0.11351952201964623, 0.1211273848327085, -0.01027288264626452, 0.06472055398339122]\n"
     ]
    }
   ],
   "source": [
    "def loss_function4(c):\n",
    "    cef = lambda cov: c[0]+c[1]*cov[0]+c[2]*cov[1]*(1-cov[0])+c[3]*cov[1]*cov[0]\n",
    "    return get_loss_function(samsung_covs, median_upper, median_lower, cef)\n",
    "\n",
    "point4, interval4 = get_estimates(loss_function4, 4, [0,0.5,0,0])\n",
    "\n",
    "print(point4)\n",
    "print(interval4)"
   ]
  },
  {
   "cell_type": "markdown",
   "metadata": {},
   "source": [
    "Table 10 Apple Interval Estimates"
   ]
  },
  {
   "cell_type": "code",
   "execution_count": 8,
   "metadata": {
    "scrolled": true
   },
   "outputs": [
    {
     "name": "stdout",
     "output_type": "stream",
     "text": [
      "[-0.77255189  0.44892765  0.0832867   0.01236126]\n",
      "[-0.7946626465591154, -0.7504345579644409, 0.23795500135126593, 0.6062368711876722, 0.07961059885383935, 0.08694228460701353, -0.008270800106799387, 0.027879734958750214]\n"
     ]
    }
   ],
   "source": [
    "def loss_function5(c):\n",
    "    cef = lambda cov: c[0]+c[1]*cov[0]+c[2]*cov[1]*(1-cov[0])+c[3]*cov[1]*cov[0]\n",
    "    return get_loss_function(apple_covs, median_upper, median_lower, cef)\n",
    "\n",
    "point5, interval5 = get_estimates(loss_function5, 4, [0,0.5,0,0])\n",
    "\n",
    "print(point5)\n",
    "print(interval5)"
   ]
  },
  {
   "cell_type": "markdown",
   "metadata": {},
   "source": [
    "Table 10 Others Interval Estimates"
   ]
  },
  {
   "cell_type": "code",
   "execution_count": 9,
   "metadata": {
    "scrolled": true
   },
   "outputs": [
    {
     "name": "stdout",
     "output_type": "stream",
     "text": [
      "[-1.08632746  0.50336191  0.13633031  0.03377791]\n",
      "[-1.127478008890618, -1.0459915376852535, 0.3536497106499733, 0.6626525754929058, 0.1315970803703769, 0.14085675034966103, 0.018934078368863936, 0.04957834376676532]\n"
     ]
    }
   ],
   "source": [
    "def loss_function6(c):\n",
    "    cef = lambda cov: c[0]+c[1]*cov[0]+c[2]*cov[1]*(1-cov[0])+c[3]*cov[1]*cov[0]\n",
    "    return get_loss_function(others_covs, median_upper, median_lower, cef)\n",
    "\n",
    "point6, interval6 = get_estimates(loss_function6, 4, [0,0.5,0,0])\n",
    "\n",
    "print(point6)\n",
    "print(interval6)"
   ]
  },
  {
   "cell_type": "markdown",
   "metadata": {},
   "source": [
    "#### Time-specific specification"
   ]
  },
  {
   "cell_type": "markdown",
   "metadata": {},
   "source": [
    "Table 11 First Round Interval Estimates"
   ]
  },
  {
   "cell_type": "code",
   "execution_count": 10,
   "metadata": {
    "scrolled": true
   },
   "outputs": [
    {
     "name": "stdout",
     "output_type": "stream",
     "text": [
      "[-0.86658465  0.50116455  0.09396965  0.01164114]\n",
      "[-0.8862100510325743, -0.8479864284187909, 0.38582845280328193, 0.6365670943686139, 0.09093249871458325, 0.09682409139993836, 0.00020554061253534839, 0.02508016804253118]\n"
     ]
    }
   ],
   "source": [
    "def loss_function7(c):\n",
    "    cef = lambda cov: c[0]+c[1]*cov[0]+c[2]*cov[1]*(1-cov[0])+c[3]*cov[1]*cov[0]\n",
    "    return get_loss_function(early_covs, median_upper, median_lower, cef)\n",
    "\n",
    "point7, interval7 = get_estimates(loss_function7, 4, [0,0.5,0,0])\n",
    "\n",
    "print(point7)\n",
    "print(interval7)"
   ]
  },
  {
   "cell_type": "markdown",
   "metadata": {},
   "source": [
    "Table 11 Second Round Interval Estimates"
   ]
  },
  {
   "cell_type": "code",
   "execution_count": 11,
   "metadata": {
    "scrolled": true
   },
   "outputs": [
    {
     "name": "stdout",
     "output_type": "stream",
     "text": [
      "[-0.92583672  0.49962652  0.10949088  0.02501286]\n",
      "[-0.9424638982503822, -0.9090985269846944, 0.20259830534789353, 0.7338237649694392, 0.10712627706404632, 0.11187347220690211, -0.003544049642591064, 0.047672750314096554]\n"
     ]
    }
   ],
   "source": [
    "def loss_function8(c):\n",
    "    cef = lambda cov: c[0]+c[1]*cov[0]+c[2]*cov[1]*(1-cov[0])+c[3]*cov[1]*cov[0]\n",
    "    return get_loss_function(late_covs, median_upper, median_lower, cef)\n",
    "\n",
    "point8, interval8 = get_estimates(loss_function8, 4, [0,0.5,0,0])\n",
    "\n",
    "print(point8)\n",
    "print(interval8)"
   ]
  },
  {
   "cell_type": "markdown",
   "metadata": {},
   "source": [
    "### Bootstrap Confidence Intervals"
   ]
  },
  {
   "cell_type": "code",
   "execution_count": 12,
   "metadata": {},
   "outputs": [],
   "source": [
    "prefixed = [filename for filename in os.listdir(\"./final dumps\") if filename.startswith(\"bootstrap_main\")]\n",
    "\n",
    "results = []\n",
    "\n",
    "for name in prefixed:\n",
    "    with open(f\"./final dumps/{name}\", \"r\") as f:\n",
    "        d = json.load(f)\n",
    "        covariates = d[\"covariates\"]\n",
    "        median_lower = d[\"lower\"]\n",
    "        median_upper = d[\"upper\"]\n",
    "        \n",
    "        covariates = [[c[0],round(c[1], 5)] for c in covariates]\n",
    "        median_lower = {f\"{[eval(k)[0], round(eval(k)[1],5)]}\": v for k, v in median_lower.items()}\n",
    "        median_upper = {f\"{[eval(k)[0], round(eval(k)[1],5)]}\": v for k, v in median_upper.items()}\n",
    "        \n",
    "        results.append((covariates, median_lower, median_upper))"
   ]
  },
  {
   "cell_type": "markdown",
   "metadata": {},
   "source": [
    "#### Main specification"
   ]
  },
  {
   "cell_type": "code",
   "execution_count": 13,
   "metadata": {},
   "outputs": [],
   "source": [
    "estimates1 = []\n",
    "\n",
    "for i, result in enumerate(results):\n",
    "    \n",
    "    def loss_function1(c):\n",
    "        cef = lambda cov: c[0]+c[1]*cov[0]+c[2]*cov[1]*(1-cov[0])+c[3]*cov[1]*cov[0]\n",
    "        return get_loss_function(result[0], result[2], result[1], cef)\n",
    "    \n",
    "    point1, interval1 = get_estimates(loss_function1, 4, [0,0.5,0,0])\n",
    "    \n",
    "    estimates1.append(interval1)"
   ]
  },
  {
   "cell_type": "markdown",
   "metadata": {},
   "source": [
    "Table 4 Confidence Intervals"
   ]
  },
  {
   "cell_type": "code",
   "execution_count": 14,
   "metadata": {
    "scrolled": true
   },
   "outputs": [
    {
     "name": "stdout",
     "output_type": "stream",
     "text": [
      "95% confidence interval for variable 0:\n",
      "[-1.0810805468684106, -0.3010392487266563]\n",
      "95% confidence interval for variable 1:\n",
      "[-0.7828472164970424, 0.6867565956049403]\n",
      "95% confidence interval for variable 2:\n",
      "[0.02197846563836084, 0.1472108526984288]\n",
      "95% confidence interval for variable 3:\n",
      "[-0.03498061749570955, 0.1284245014492054]\n"
     ]
    }
   ],
   "source": [
    "conf_intervals1 = report_intervals(estimates1, 95)"
   ]
  },
  {
   "cell_type": "markdown",
   "metadata": {},
   "source": [
    "#### Dummies specification"
   ]
  },
  {
   "cell_type": "code",
   "execution_count": 15,
   "metadata": {},
   "outputs": [],
   "source": [
    "estimates2 = []\n",
    "\n",
    "percentile = lambda p: np.percentile(np.array(include.sellerfeedbackscore), p)\n",
    "\n",
    "for result in results:\n",
    "    \n",
    "    estimates = []\n",
    "\n",
    "    for i in range(2):\n",
    "\n",
    "        covs1 = [c for c in result[0] if c[1] >= percentile(0) and c[1] < percentile(91.5) and c[0] == i]\n",
    "        loss_function = lambda c: get_loss_function(covs1, result[2], result[1], lambda cov: c)\n",
    "\n",
    "        point, interval = get_estimates(loss_function, 1, [0])\n",
    "        estimates += [c[0] for c in interval]\n",
    "\n",
    "        covs1 = [c for c in result[0] if c[1] >= percentile(91.5) and c[1] < percentile(100) and c[0] == i]\n",
    "        loss_function = lambda c: get_loss_function(covs1, result[2], result[1], lambda cov: c)\n",
    "\n",
    "        point, interval = get_estimates(loss_function, 1, [0])\n",
    "        estimates += [c[0] for c in interval]\n",
    "\n",
    "    estimates2.append(estimates)"
   ]
  },
  {
   "cell_type": "markdown",
   "metadata": {},
   "source": [
    "Table 5 Confidence Intervals"
   ]
  },
  {
   "cell_type": "code",
   "execution_count": 16,
   "metadata": {},
   "outputs": [
    {
     "name": "stdout",
     "output_type": "stream",
     "text": [
      "95% confidence interval for variable 0:\n",
      "[-0.3299511941075753, 0.0020011543577281676]\n",
      "95% confidence interval for variable 1:\n",
      "[0.1408001864173434, 0.6334632345073752]\n",
      "95% confidence interval for variable 2:\n",
      "[-0.40295774739439705, 0.1452468826884603]\n",
      "95% confidence interval for variable 3:\n",
      "[-0.44990847742539486, 0.21725736384777597]\n"
     ]
    },
    {
     "data": {
      "text/plain": [
       "[[-0.3299511941075753, 0.0020011543577281676],\n",
       " [0.1408001864173434, 0.6334632345073752],\n",
       " [-0.40295774739439705, 0.1452468826884603],\n",
       " [-0.44990847742539486, 0.21725736384777597]]"
      ]
     },
     "execution_count": 16,
     "metadata": {},
     "output_type": "execute_result"
    }
   ],
   "source": [
    "report_intervals(estimates2, 95)"
   ]
  },
  {
   "cell_type": "markdown",
   "metadata": {},
   "source": [
    "#### Brand-specific specification"
   ]
  },
  {
   "cell_type": "code",
   "execution_count": 17,
   "metadata": {},
   "outputs": [],
   "source": [
    "estimates_samsung = []\n",
    "\n",
    "for i, result in enumerate(results):\n",
    "    \n",
    "    covs = [c for c in samsung_covs if c in result[0]]\n",
    "    \n",
    "    def loss_function(c):\n",
    "        cef = lambda cov: c[0]*(1-cov[0])+c[1]*cov[0]+c[2]*cov[1]*(1-cov[0])+c[3]*cov[1]*cov[0]\n",
    "        return get_loss_function(covs, result[2], result[1], cef)\n",
    "    \n",
    "    point, interval = get_estimates(loss_function, 4, [0,0.4,0,0])\n",
    "    \n",
    "    estimates_samsung.append(interval)"
   ]
  },
  {
   "cell_type": "markdown",
   "metadata": {},
   "source": [
    "Table 10 Samsung Confidence Intervals"
   ]
  },
  {
   "cell_type": "code",
   "execution_count": 18,
   "metadata": {
    "scrolled": true
   },
   "outputs": [
    {
     "name": "stdout",
     "output_type": "stream",
     "text": [
      "95% confidence interval for variable 0:\n",
      "[-1.2739462786345834, -0.35141800326862904]\n",
      "95% confidence interval for variable 1:\n",
      "[-0.02661613922534855, 0.8588444974618918]\n",
      "95% confidence interval for variable 2:\n",
      "[0.0201321340781108, 0.16443615405624748]\n",
      "95% confidence interval for variable 3:\n",
      "[-0.10253135018689004, 0.0007108926945862543]\n"
     ]
    },
    {
     "data": {
      "text/plain": [
       "[[-1.2739462786345834, -0.35141800326862904],\n",
       " [-0.02661613922534855, 0.8588444974618918],\n",
       " [0.0201321340781108, 0.16443615405624748],\n",
       " [-0.10253135018689004, 0.0007108926945862543]]"
      ]
     },
     "execution_count": 18,
     "metadata": {},
     "output_type": "execute_result"
    }
   ],
   "source": [
    "report_intervals(estimates_samsung,95)"
   ]
  },
  {
   "cell_type": "code",
   "execution_count": 19,
   "metadata": {},
   "outputs": [],
   "source": [
    "estimates_amazon = []\n",
    "\n",
    "for i, result in enumerate(results):\n",
    "    \n",
    "    covs = [c for c in amazon_covs if c in result[0]]\n",
    "    \n",
    "    def loss_function(c):\n",
    "        cef = lambda cov: c[0]+c[1]*cov[0]+c[2]*cov[1]*(1-cov[0])+c[3]*cov[1]*cov[0]\n",
    "        return get_loss_function(covs, result[2], result[1], cef)\n",
    "    \n",
    "    point, interval = get_estimates(loss_function, 4, [0,0.5,0,0])\n",
    "    \n",
    "    estimates_amazon.append(interval)"
   ]
  },
  {
   "cell_type": "markdown",
   "metadata": {},
   "source": [
    "Table 10 Amazon Confidence Intervals"
   ]
  },
  {
   "cell_type": "code",
   "execution_count": 20,
   "metadata": {
    "scrolled": true
   },
   "outputs": [
    {
     "name": "stdout",
     "output_type": "stream",
     "text": [
      "95% confidence interval for variable 0:\n",
      "[-1.098888433579965, -0.28567523184148075]\n",
      "95% confidence interval for variable 1:\n",
      "[-0.5095797130521579, 0.7739827258084678]\n",
      "95% confidence interval for variable 2:\n",
      "[0.011646725417094442, 0.1459846431979715]\n",
      "95% confidence interval for variable 3:\n",
      "[-0.03966619475703053, 0.0682268492734002]\n"
     ]
    },
    {
     "data": {
      "text/plain": [
       "[[-1.098888433579965, -0.28567523184148075],\n",
       " [-0.5095797130521579, 0.7739827258084678],\n",
       " [0.011646725417094442, 0.1459846431979715],\n",
       " [-0.03966619475703053, 0.0682268492734002]]"
      ]
     },
     "execution_count": 20,
     "metadata": {},
     "output_type": "execute_result"
    }
   ],
   "source": [
    "report_intervals(estimates_amazon,95)"
   ]
  },
  {
   "cell_type": "code",
   "execution_count": 21,
   "metadata": {},
   "outputs": [],
   "source": [
    "estimates_apple = []\n",
    "\n",
    "for i, result in enumerate(results):\n",
    "    \n",
    "    covs = [c for c in apple_covs if c in result[0]]\n",
    "    \n",
    "    def loss_function(c):\n",
    "        cef = lambda cov: c[0]+c[1]*cov[0]+c[2]*cov[1]*(1-cov[0])+c[3]*cov[1]*cov[0]\n",
    "        return get_loss_function(covs, result[2], result[1], cef)\n",
    "    \n",
    "    point, interval = get_estimates(loss_function, 4, [0,0.5,0,0])\n",
    "    \n",
    "    estimates_apple.append(interval)"
   ]
  },
  {
   "cell_type": "markdown",
   "metadata": {},
   "source": [
    "Table 10 Apple Confidence Intervals"
   ]
  },
  {
   "cell_type": "code",
   "execution_count": 22,
   "metadata": {},
   "outputs": [
    {
     "name": "stdout",
     "output_type": "stream",
     "text": [
      "95% confidence interval for variable 0:\n",
      "[-0.9922061863524653, -0.14035883826184867]\n",
      "95% confidence interval for variable 1:\n",
      "[-0.8694077218147527, 0.79965824296318]\n",
      "95% confidence interval for variable 2:\n",
      "[0.01979307415094355, 0.13413468379092947]\n",
      "95% confidence interval for variable 3:\n",
      "[-0.04643231736222965, 0.1370384975347045]\n"
     ]
    },
    {
     "data": {
      "text/plain": [
       "[[-0.9922061863524653, -0.14035883826184867],\n",
       " [-0.8694077218147527, 0.79965824296318],\n",
       " [0.01979307415094355, 0.13413468379092947],\n",
       " [-0.04643231736222965, 0.1370384975347045]]"
      ]
     },
     "execution_count": 22,
     "metadata": {},
     "output_type": "execute_result"
    }
   ],
   "source": [
    "report_intervals(estimates_apple,95)"
   ]
  },
  {
   "cell_type": "code",
   "execution_count": 23,
   "metadata": {},
   "outputs": [],
   "source": [
    "estimates_others = []\n",
    "\n",
    "for i, result in enumerate(results):\n",
    "    \n",
    "    covs = [c for c in others_covs if c in result[0]]\n",
    "    \n",
    "    def loss_function(c):\n",
    "        cef = lambda cov: c[0]+c[1]*cov[0]+c[2]*cov[1]*(1-cov[0])+c[3]*cov[1]*cov[0]\n",
    "        return get_loss_function(covs, result[2], result[1], cef)\n",
    "    \n",
    "    point, interval = get_estimates(loss_function, 4, [0,0.5,0,0])\n",
    "    \n",
    "    estimates_others.append(interval)"
   ]
  },
  {
   "cell_type": "markdown",
   "metadata": {},
   "source": [
    "Table 10 Others Confidence Intervals"
   ]
  },
  {
   "cell_type": "code",
   "execution_count": 24,
   "metadata": {},
   "outputs": [
    {
     "name": "stdout",
     "output_type": "stream",
     "text": [
      "95% confidence interval for variable 0:\n",
      "[-1.1944246251873, -0.39725908669172183]\n",
      "95% confidence interval for variable 1:\n",
      "[-0.3686556514612886, 0.6968456694605154]\n",
      "95% confidence interval for variable 2:\n",
      "[0.040047001763240817, 0.16193861485783587]\n",
      "95% confidence interval for variable 3:\n",
      "[-0.03207786601724698, 0.06749234360287949]\n"
     ]
    },
    {
     "data": {
      "text/plain": [
       "[[-1.1944246251873, -0.39725908669172183],\n",
       " [-0.3686556514612886, 0.6968456694605154],\n",
       " [0.040047001763240817, 0.16193861485783587],\n",
       " [-0.03207786601724698, 0.06749234360287949]]"
      ]
     },
     "execution_count": 24,
     "metadata": {},
     "output_type": "execute_result"
    }
   ],
   "source": [
    "report_intervals(estimates_others,95)"
   ]
  },
  {
   "cell_type": "markdown",
   "metadata": {},
   "source": [
    "#### Time-specific estimates"
   ]
  },
  {
   "cell_type": "code",
   "execution_count": 25,
   "metadata": {},
   "outputs": [],
   "source": [
    "estimates_early = []\n",
    "\n",
    "for i, result in enumerate(results):\n",
    "    \n",
    "    covs = [c for c in early_covs if c in result[0]]\n",
    "    \n",
    "    def loss_function(c):\n",
    "        cef = lambda cov: c[0]+c[1]*cov[0]+c[2]*cov[1]*(1-cov[0])+c[3]*cov[1]*cov[0]\n",
    "        return get_loss_function(covs, result[2], result[1], cef)\n",
    "    \n",
    "    point, interval = get_estimates(loss_function, 4, [0,0.5,0,0])\n",
    "    \n",
    "    estimates_early.append(interval)"
   ]
  },
  {
   "cell_type": "markdown",
   "metadata": {},
   "source": [
    "Table 11 First Round Confidence Intervals"
   ]
  },
  {
   "cell_type": "code",
   "execution_count": 26,
   "metadata": {
    "scrolled": true
   },
   "outputs": [
    {
     "name": "stdout",
     "output_type": "stream",
     "text": [
      "95% confidence interval for variable 0:\n",
      "[-1.0789279849790325, -0.24126944460477576]\n",
      "95% confidence interval for variable 1:\n",
      "[-0.4759515676211425, 0.6985894814757462]\n",
      "95% confidence interval for variable 2:\n",
      "[0.014491019836170469, 0.14339843063977145]\n",
      "95% confidence interval for variable 3:\n",
      "[-0.0316428779285742, 0.06408554802720093]\n"
     ]
    },
    {
     "data": {
      "text/plain": [
       "[[-1.0789279849790325, -0.24126944460477576],\n",
       " [-0.4759515676211425, 0.6985894814757462],\n",
       " [0.014491019836170469, 0.14339843063977145],\n",
       " [-0.0316428779285742, 0.06408554802720093]]"
      ]
     },
     "execution_count": 26,
     "metadata": {},
     "output_type": "execute_result"
    }
   ],
   "source": [
    "report_intervals(estimates_early, 95)"
   ]
  },
  {
   "cell_type": "code",
   "execution_count": 27,
   "metadata": {},
   "outputs": [],
   "source": [
    "estimates_late = []\n",
    "\n",
    "for i, result in enumerate(results):\n",
    "    \n",
    "    covs = [c for c in late_covs if c in result[0]]\n",
    "    \n",
    "    def loss_function(c):\n",
    "        cef = lambda cov: c[0]+c[1]*cov[0]+c[2]*cov[1]*(1-cov[0])+c[3]*cov[1]*cov[0]\n",
    "        return get_loss_function(covs, result[2], result[1], cef)\n",
    "    \n",
    "    point, interval = get_estimates(loss_function, 4, [0,0.5,0,0])\n",
    "    \n",
    "    estimates_late.append(interval)"
   ]
  },
  {
   "cell_type": "markdown",
   "metadata": {},
   "source": [
    "Table 11 Second Round Confidence Intervals"
   ]
  },
  {
   "cell_type": "code",
   "execution_count": 28,
   "metadata": {
    "scrolled": false
   },
   "outputs": [
    {
     "name": "stdout",
     "output_type": "stream",
     "text": [
      "95% confidence interval for variable 0:\n",
      "[-1.1097033611270979, -0.30590764217629246]\n",
      "95% confidence interval for variable 1:\n",
      "[-1.0846104614055028, 0.847416485574725]\n",
      "95% confidence interval for variable 2:\n",
      "[0.02921982574074949, 0.14603584303218595]\n",
      "95% confidence interval for variable 3:\n",
      "[-0.07605944190902861, 0.17363535591430765]\n"
     ]
    },
    {
     "data": {
      "text/plain": [
       "[[-1.1097033611270979, -0.30590764217629246],\n",
       " [-1.0846104614055028, 0.847416485574725],\n",
       " [0.02921982574074949, 0.14603584303218595],\n",
       " [-0.07605944190902861, 0.17363535591430765]]"
      ]
     },
     "execution_count": 28,
     "metadata": {},
     "output_type": "execute_result"
    }
   ],
   "source": [
    "report_intervals(estimates_late, 95)"
   ]
  }
 ],
 "metadata": {
  "kernelspec": {
   "display_name": "Python 3",
   "language": "python",
   "name": "python3"
  },
  "language_info": {
   "codemirror_mode": {
    "name": "ipython",
    "version": 3
   },
   "file_extension": ".py",
   "mimetype": "text/x-python",
   "name": "python",
   "nbconvert_exporter": "python",
   "pygments_lexer": "ipython3",
   "version": "3.8.5"
  }
 },
 "nbformat": 4,
 "nbformat_minor": 4
}
