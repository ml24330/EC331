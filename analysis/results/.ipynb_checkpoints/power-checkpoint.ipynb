{
 "cells": [
  {
   "cell_type": "code",
   "execution_count": 1,
   "metadata": {},
   "outputs": [],
   "source": [
    "import sys\n",
    "import numpy as np\n",
    "import json\n",
    "import os\n",
    "\n",
    "sys.path.append('../')\n",
    "\n",
    "from functions import *"
   ]
  },
  {
   "cell_type": "markdown",
   "metadata": {},
   "source": [
    "Table 14 entries"
   ]
  },
  {
   "cell_type": "code",
   "execution_count": 2,
   "metadata": {},
   "outputs": [
    {
     "name": "stdout",
     "output_type": "stream",
     "text": [
      "N=250,j=0\n",
      "95% confidence interval for variable 0:\n",
      "[0.47051358701005264, 0.531925661536882]\n",
      "N=250,j=1\n",
      "95% confidence interval for variable 0:\n",
      "[0.4652590993862013, 0.5455767449900886]\n",
      "N=250,j=2\n",
      "95% confidence interval for variable 0:\n",
      "[0.4777361748953347, 0.5391511200968314]\n",
      "N=500,j=0\n",
      "95% confidence interval for variable 0:\n",
      "[0.48293354288510204, 0.5211433758467983]\n",
      "N=500,j=1\n",
      "95% confidence interval for variable 0:\n",
      "[0.469904069112794, 0.511866901518588]\n",
      "N=500,j=2\n",
      "95% confidence interval for variable 0:\n",
      "[0.49108210250714074, 0.5241952427531116]\n",
      "N=1000,j=0\n",
      "95% confidence interval for variable 0:\n",
      "[0.4685587107091593, 0.513819828512138]\n",
      "N=1000,j=1\n",
      "95% confidence interval for variable 0:\n",
      "[0.46494328155795217, 0.5031602720584976]\n",
      "N=1000,j=2\n",
      "95% confidence interval for variable 0:\n",
      "[0.4503424382893868, 0.4903980462881332]\n",
      "N=2500,j=0\n",
      "95% confidence interval for variable 0:\n",
      "[0.4457313279033073, 0.4626449856425917]\n",
      "N=2500,j=1\n",
      "95% confidence interval for variable 0:\n",
      "[0.4650711941243242, 0.510483742259404]\n",
      "N=2500,j=2\n",
      "95% confidence interval for variable 0:\n",
      "[0.47471105301390376, 0.518826700361967]\n"
     ]
    }
   ],
   "source": [
    "for N in [250,500,1000,2500]:\n",
    "    for j in range(3):\n",
    "\n",
    "        prefixed = [filename for filename in os.listdir(\"./power dumps\") if filename.startswith(f\"bootstrap_power_{N}_{j}\")]\n",
    "\n",
    "        results = []\n",
    "\n",
    "        for name in prefixed:\n",
    "            with open(f\"./power dumps/{name}\", \"r\") as f:\n",
    "                d = json.load(f)\n",
    "                covariates = d[\"covariates\"]\n",
    "                median_lower = d[\"lower\"]\n",
    "                median_upper = d[\"upper\"]\n",
    "                results.append((covariates, median_lower, median_upper))\n",
    "\n",
    "        estimates1 = []\n",
    "\n",
    "        for i, result in enumerate(results):\n",
    "\n",
    "            def loss_function1(c):\n",
    "                cef = lambda cov: c[0]*cov[0]\n",
    "                return get_loss_function(result[0], result[2], result[1], cef)\n",
    "\n",
    "            point1, interval1 = get_estimates2(loss_function1, 1, [0], 1/N**0.5)\n",
    "\n",
    "            estimates1.append(interval1)\n",
    "        \n",
    "        print(f\"N={N},j={j}\")\n",
    "        report_intervals(estimates1, 95)"
   ]
  }
 ],
 "metadata": {
  "kernelspec": {
   "display_name": "Python 3",
   "language": "python",
   "name": "python3"
  },
  "language_info": {
   "codemirror_mode": {
    "name": "ipython",
    "version": 3
   },
   "file_extension": ".py",
   "mimetype": "text/x-python",
   "name": "python",
   "nbconvert_exporter": "python",
   "pygments_lexer": "ipython3",
   "version": "3.8.5"
  }
 },
 "nbformat": 4,
 "nbformat_minor": 4
}
