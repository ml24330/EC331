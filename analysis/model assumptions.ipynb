{
 "cells": [
  {
   "cell_type": "code",
   "execution_count": 2,
   "metadata": {},
   "outputs": [],
   "source": [
    "from scipy import stats\n",
    "from pingouin import multivariate_normality\n",
    "import pandas as pd\n",
    "import numpy as np\n",
    "import matplotlib.pyplot as plt"
   ]
  },
  {
   "cell_type": "code",
   "execution_count": 4,
   "metadata": {},
   "outputs": [],
   "source": [
    "data = pd.read_csv(\"../data/demeaned.csv\")\n",
    "\n",
    "data.sellerfeedbackscore = np.log(data.sellerfeedbackscore+1)"
   ]
  },
  {
   "cell_type": "code",
   "execution_count": 5,
   "metadata": {},
   "outputs": [],
   "source": [
    "apple = data[data.apple == 1].residual.reset_index(drop=True)\n",
    "samsung = data[data.samsung == 1].residual.reset_index(drop=True)\n",
    "amazon = data[data.amazon == 1].residual.reset_index(drop=True)\n",
    "others = data[data.others == 1].residual.reset_index(drop=True)"
   ]
  },
  {
   "cell_type": "code",
   "execution_count": 6,
   "metadata": {},
   "outputs": [],
   "source": [
    "police = data[(data.ispolice == 1) & (data.amazon == 1)].residual\n",
    "nopolice = data[(data.ispolice == 0) & (data.amazon == 1)].residual"
   ]
  },
  {
   "cell_type": "code",
   "execution_count": 7,
   "metadata": {},
   "outputs": [
    {
     "name": "stdout",
     "output_type": "stream",
     "text": [
      "0.240782234633419\n",
      "[0.325 1.226 1.961 2.718 3.752 4.592 6.546]\n"
     ]
    },
    {
     "name": "stderr",
     "output_type": "stream",
     "text": [
      "<ipython-input-7-158c371a7f19>:1: UserWarning: p-value capped: true value larger than 0.25\n",
      "  print(stats.anderson_ksamp([police, nopolice]).statistic)\n",
      "<ipython-input-7-158c371a7f19>:2: UserWarning: p-value capped: true value larger than 0.25\n",
      "  print(stats.anderson_ksamp([police, nopolice]).critical_values)\n"
     ]
    }
   ],
   "source": [
    "print(stats.anderson_ksamp([police, nopolice]).statistic)\n",
    "print(stats.anderson_ksamp([police, nopolice]).critical_values)"
   ]
  },
  {
   "cell_type": "code",
   "execution_count": 8,
   "metadata": {},
   "outputs": [
    {
     "name": "stdout",
     "output_type": "stream",
     "text": [
      "7.612957767925044\n",
      "[0.325 1.226 1.961 2.718 3.752 4.592 6.546]\n"
     ]
    },
    {
     "name": "stderr",
     "output_type": "stream",
     "text": [
      "<ipython-input-8-46f9e5afcf9d>:1: UserWarning: p-value floored: true value smaller than 0.001\n",
      "  print(stats.anderson_ksamp([others, amazon]).statistic)\n",
      "<ipython-input-8-46f9e5afcf9d>:2: UserWarning: p-value floored: true value smaller than 0.001\n",
      "  print(stats.anderson_ksamp([others, amazon]).critical_values)\n"
     ]
    }
   ],
   "source": [
    "print(stats.anderson_ksamp([others, amazon]).statistic)\n",
    "print(stats.anderson_ksamp([others, amazon]).critical_values)"
   ]
  },
  {
   "cell_type": "code",
   "execution_count": 9,
   "metadata": {},
   "outputs": [
    {
     "data": {
      "text/plain": [
       "KstestResult(statistic=0.09802014756216693, pvalue=3.548333037937194e-49, statistic_location=0.44063115, statistic_sign=1)"
      ]
     },
     "execution_count": 9,
     "metadata": {},
     "output_type": "execute_result"
    }
   ],
   "source": [
    "stats.kstest(data.residual, \"norm\")"
   ]
  },
  {
   "cell_type": "code",
   "execution_count": 10,
   "metadata": {},
   "outputs": [
    {
     "data": {
      "text/plain": [
       "HZResults(hz=32.24666819298106, pval=8.090810445381964e-68, normal=False)"
      ]
     },
     "execution_count": 10,
     "metadata": {},
     "output_type": "execute_result"
    }
   ],
   "source": [
    "multivariate_normality(data[[\"residual2\", \"sellerfeedbackscore\"]])"
   ]
  }
 ],
 "metadata": {
  "kernelspec": {
   "display_name": "Python 3",
   "language": "python",
   "name": "python3"
  },
  "language_info": {
   "codemirror_mode": {
    "name": "ipython",
    "version": 3
   },
   "file_extension": ".py",
   "mimetype": "text/x-python",
   "name": "python",
   "nbconvert_exporter": "python",
   "pygments_lexer": "ipython3",
   "version": "3.8.5"
  }
 },
 "nbformat": 4,
 "nbformat_minor": 4
}
