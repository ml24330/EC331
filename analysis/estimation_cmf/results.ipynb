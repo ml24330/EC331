{
 "cells": [
  {
   "cell_type": "code",
   "execution_count": 9,
   "metadata": {},
   "outputs": [
    {
     "name": "stderr",
     "output_type": "stream",
     "text": [
      "/Users/liumukun/anaconda3/lib/python3.8/site-packages/pandas/core/computation/expressions.py:20: UserWarning: Pandas requires version '2.7.3' or newer of 'numexpr' (version '2.7.1' currently installed).\n",
      "  from pandas.core.computation.check import NUMEXPR_INSTALLED\n"
     ]
    }
   ],
   "source": [
    "import sys\n",
    "import numpy as np\n",
    "import pandas as pd\n",
    "import json\n",
    " \n",
    "sys.path.append('../')\n",
    "\n",
    "from functions import *"
   ]
  },
  {
   "cell_type": "code",
   "execution_count": 10,
   "metadata": {},
   "outputs": [
    {
     "name": "stderr",
     "output_type": "stream",
     "text": [
      "<ipython-input-10-3210d6cab888>:11: SettingWithCopyWarning: \n",
      "A value is trying to be set on a copy of a slice from a DataFrame.\n",
      "Try using .loc[row_indexer,col_indexer] = value instead\n",
      "\n",
      "See the caveats in the documentation: https://pandas.pydata.org/pandas-docs/stable/user_guide/indexing.html#returning-a-view-versus-a-copy\n",
      "  include.sellerfeedbackscore = logged_feedback\n"
     ]
    }
   ],
   "source": [
    "data = pd.read_csv(\"../../data/demeaned.csv\")\n",
    "df = data.groupby([\"id\", \"ispolice\", \"sellerfeedbackscore\", \"bidcount\", \"apple\", \"amazon\", \"increment_residual\"])[\"residual\"].apply(lambda x: x.values).reset_index()\n",
    "\n",
    "valid_bids = list(df[df.ispolice == 1].bidcount.value_counts().index)\n",
    "include = df[(df.bidcount > 1) & (df.bidcount.isin(valid_bids))]\n",
    "\n",
    "bids = list(include.residual)\n",
    "\n",
    "logged_feedback = np.log(include.sellerfeedbackscore+1)\n",
    "logged_feedback = transform_covariates(logged_feedback, 100)\n",
    "include.sellerfeedbackscore = logged_feedback\n",
    "\n",
    "covariates = np.array(include[[\"ispolice\", \"sellerfeedbackscore\"]])\n",
    "covariates = list([list(cov) for cov in covariates])\n",
    "incremented = list(include.increment_residual)"
   ]
  },
  {
   "cell_type": "code",
   "execution_count": 5,
   "metadata": {},
   "outputs": [],
   "source": [
    "with open(\"../dumps/CMF_main.json\", \"r\") as f:\n",
    "    d = json.load(f)\n",
    "    median_lower = d[\"lower\"]\n",
    "    median_upper = d[\"upper\"]"
   ]
  },
  {
   "cell_type": "code",
   "execution_count": 11,
   "metadata": {},
   "outputs": [],
   "source": [
    "percentile = lambda p: np.percentile(np.array(include.sellerfeedbackscore), p)\n",
    "\n",
    "cef1 = lambda c, cov: c[0]*(1-cov[0])+c[1]*cov[0]+c[2]*cov[1]*(1-cov[0])+c[3]*cov[1]*cov[0]\n",
    "n_cov1 = 4\n",
    "\n",
    "def cef2(c, cov):\n",
    "    low = int(cov[1] >= percentile(0) and cov[1] < percentile(91.5))\n",
    "    high = int(cov[1] >= percentile(91.5) and cov[1] <= percentile(100))\n",
    "    return c[0]*cov[1] + c[1]*(1-cov[1]) + c[2]*cov[1]*high + c[3]*(1-cov[1])*high\n",
    "n_cov2 = 4\n",
    "\n",
    "def cef3(c,cov):\n",
    "    feedback = np.exp(cov[1])-1\n",
    "    return c[0]*(1-cov[0]) + c[1]*cov[0] + c[2]*feedback*(1-cov[0]) + c[3]*feedback*cov[0] + \\\n",
    "        c[4]*feedback**2*(1-cov[0]) + c[5]*feedback**2*cov[0]\n",
    "n_cov3 = 6\n",
    "\n",
    "def cef4(c,cov):\n",
    "    feedback = np.exp(cov[1])-1\n",
    "    return c[0]*(1-cov[0]) + c[1]*cov[0] + c[2]*feedback*(1-cov[0]) + c[3]*feedback*cov[0] + \\\n",
    "        c[4]*feedback**2*(1-cov[0]) + c[5]*feedback**2*cov[0] + c[6]*feedback**3*(1-cov[0]) + \\\n",
    "        c[7]*feedback**3*cov[0]\n",
    "n_cov3 = 8"
   ]
  },
  {
   "cell_type": "code",
   "execution_count": null,
   "metadata": {},
   "outputs": [],
   "source": [
    "def loss_function2(c):\n",
    "    cef = lambda cov: cef2(c, cov)\n",
    "    return get_loss_function(covariates, median_upper, median_lower, cef)\n",
    "\n",
    "point2, interval2 = get_estimates(loss_function2, n_cov2)\n",
    "\n",
    "print(point2)\n",
    "print(interval2)"
   ]
  },
  {
   "cell_type": "code",
   "execution_count": null,
   "metadata": {},
   "outputs": [],
   "source": [
    "def loss_function3(c):\n",
    "    cef = lambda cov: cef3(c, cov)\n",
    "    return get_loss_function(covariates, median_upper, median_lower, cef)\n",
    "\n",
    "point3, interval3 = get_estimates(loss_function3, n_cov3)\n",
    "\n",
    "print(point3)\n",
    "print(interval3)"
   ]
  },
  {
   "cell_type": "code",
   "execution_count": null,
   "metadata": {},
   "outputs": [],
   "source": [
    "def loss_function4(c):\n",
    "    cef = lambda cov: cef3(c, cov)\n",
    "    return get_loss_function(covariates, median_upper, median_lower, cef)\n",
    "\n",
    "point4, interval4 = get_estimates(loss_function4, n_cov4)\n",
    "\n",
    "print(point4)\n",
    "print(interval4)"
   ]
  }
 ],
 "metadata": {
  "kernelspec": {
   "display_name": "Python 3",
   "language": "python",
   "name": "python3"
  },
  "language_info": {
   "codemirror_mode": {
    "name": "ipython",
    "version": 3
   },
   "file_extension": ".py",
   "mimetype": "text/x-python",
   "name": "python",
   "nbconvert_exporter": "python",
   "pygments_lexer": "ipython3",
   "version": "3.8.5"
  }
 },
 "nbformat": 4,
 "nbformat_minor": 4
}
