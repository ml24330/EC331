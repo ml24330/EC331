{
 "cells": [
  {
   "cell_type": "markdown",
   "metadata": {},
   "source": [
    "Here we estimate the following conditional median function:\n",
    "$$\n",
    "\\text{med}[valuation_i|ispolice_i]=\\alpha+\\beta_1 ispolice_i,\n",
    "$$\n",
    "using the entire sample where the number of bids received is strictly between 3 and 12."
   ]
  },
  {
   "cell_type": "code",
   "execution_count": 1,
   "metadata": {},
   "outputs": [],
   "source": [
    "import sys\n",
    "import pandas as pd\n",
    " \n",
    "sys.path.append('../')\n",
    "\n",
    "from functions import *\n",
    "\n",
    "data = pd.read_csv(\"../../data/demeaned.csv\")\n",
    "df = data.groupby([\"id\", \"ispolice\", \"sellerfeedbackscore\", \"bidcount\", \"apple\", \"amazon\"])[\"bids\"].apply(lambda x: x.values).reset_index()"
   ]
  },
  {
   "cell_type": "code",
   "execution_count": 2,
   "metadata": {},
   "outputs": [],
   "source": [
    "include = df[(df.bidcount > 3) & (df.bidcount < 12)]\n",
    "\n",
    "bids = list(include.bids)\n",
    "covariates = [[cov] for cov in list(include.ispolice)]"
   ]
  },
  {
   "cell_type": "code",
   "execution_count": 3,
   "metadata": {},
   "outputs": [
    {
     "name": "stdout",
     "output_type": "stream",
     "text": [
      "calculating values for covariate: [0] (1/2)\n",
      "total time elapsed: 0.00012406600000014478s\n",
      "calculating values for covariate: [1] (2/2)\n",
      "total time elapsed: 42.536446702000006s\n"
     ]
    }
   ],
   "source": [
    "median_upper, median_lower = estimate_median(bids, covariates, (0,9))"
   ]
  },
  {
   "cell_type": "code",
   "execution_count": 4,
   "metadata": {},
   "outputs": [],
   "source": [
    "def loss_function(c):\n",
    "    a, b = c\n",
    "    cef = lambda cov: a+b*cov[0]\n",
    "    return get_loss_function(covariates, median_upper, median_lower, cef)\n",
    "\n",
    "b_hat = optimize.brute(loss_function, ranges=[(0,2), (-1,1)])\n",
    "# interval_lower = optimize.newton(lambda a_l, b_l: loss_function(a_l, b_l)-loss_function(b_hat)-10, b_hat-0.1)\n",
    "# interval_upper = optimize.newton(lambda b_l, b_u: loss_function(b_l, b_u)-loss_function(b_hat)-10, b_hat+0.1)"
   ]
  },
  {
   "cell_type": "code",
   "execution_count": 5,
   "metadata": {
    "scrolled": true
   },
   "outputs": [
    {
     "data": {
      "text/plain": [
       "array([2.24449891, 1.62873385])"
      ]
     },
     "execution_count": 5,
     "metadata": {},
     "output_type": "execute_result"
    }
   ],
   "source": [
    "b_hat"
   ]
  },
  {
   "cell_type": "code",
   "execution_count": 6,
   "metadata": {},
   "outputs": [],
   "source": [
    "from random import choices\n",
    "\n",
    "def bootstrap(bids, covariates, repetition):\n",
    "    \n",
    "    a_lower = []\n",
    "    a_upper = []\n",
    "    \n",
    "    b_lower = []\n",
    "    b_upper = []\n",
    "    \n",
    "    data_pairs = [(bid, covariate) for bid, covariate in zip(bids, covariates)]\n",
    "\n",
    "    for i in range(repetition):\n",
    "        \n",
    "        resampled = choices(data_pairs, k=len(bids))\n",
    "        \n",
    "        for n in range(4,12):\n",
    "            police_n = include[(include.ispolice == 1) & (include.bidcount == n)]\n",
    "            police_listing_n = (list(police_n.bids)[0], [1])\n",
    "            \n",
    "            covariates_n = set([listing[1][0] for listing in resampled if len(listing[0]) == n])\n",
    "            if not 1 in covariates_n:\n",
    "                resampled.append(police_listing_n)\n",
    "                \n",
    "        \n",
    "        _bids = [r[0] for r in resampled]\n",
    "        _covariates = [r[1] for r in resampled]\n",
    "\n",
    "        median_upper, median_lower = estimate_median(_bids, _covariates, (0,9))\n",
    "        \n",
    "        def loss_function(c):\n",
    "            a, b = c\n",
    "            cef = lambda cov: a+b*cov[0]\n",
    "            return get_loss_function(covariates, median_upper, median_lower, cef)\n",
    "        \n",
    "        b_hat = optimize.brute(loss_function, ranges=[(0,2),(-1,1)])\n",
    "        \n",
    "        try:\n",
    "            interval_lower_b = optimize.newton(lambda b_l: loss_function([b_hat[0], b_l])-loss_function(b_hat)-1, b_hat[1]-0.1)\n",
    "            interval_upper_b = optimize.newton(lambda b_l: loss_function([b_hat[0], b_l])-loss_function(b_hat)-1, b_hat[1]+0.1)\n",
    "\n",
    "            interval_lower_a = optimize.newton(lambda b_l: loss_function([b_l, b_hat[1]])-loss_function(b_hat)-1, b_hat[0]-0.1)\n",
    "            interval_upper_a = optimize.newton(lambda b_l: loss_function([b_l, b_hat[1]])-loss_function(b_hat)-1, b_hat[0]+0.1)\n",
    "\n",
    "            b_lower.append(interval_lower_b)\n",
    "            b_upper.append(interval_upper_b)\n",
    "            a_lower.append(interval_lower_a)\n",
    "            a_upper.append(interval_upper_a)\n",
    "            \n",
    "        except:\n",
    "            print(f\"An error occured while calculating intervals on iteration {i}!\")\n",
    "            \n",
    "\n",
    "    return (a_lower, a_upper, b_lower, b_upper)\n",
    "    "
   ]
  },
  {
   "cell_type": "code",
   "execution_count": 7,
   "metadata": {
    "scrolled": true
   },
   "outputs": [
    {
     "name": "stdout",
     "output_type": "stream",
     "text": [
      "calculating values for covariate: [0] (1/2)\n",
      "total time elapsed: 9.12939999864193e-05s\n",
      "calculating values for covariate: [1] (2/2)\n",
      "total time elapsed: 41.062363959999985s\n",
      "calculating values for covariate: [0] (1/2)\n",
      "total time elapsed: 0.0001056109999808541s\n",
      "calculating values for covariate: [1] (2/2)\n",
      "total time elapsed: 43.71287456599998s\n",
      "calculating values for covariate: [0] (1/2)\n",
      "total time elapsed: 0.00013225700001839868s\n",
      "calculating values for covariate: [1] (2/2)\n",
      "total time elapsed: 32.14267426800001s\n",
      "calculating values for covariate: [0] (1/2)\n",
      "total time elapsed: 0.00011712900004567928s\n",
      "calculating values for covariate: [1] (2/2)\n",
      "total time elapsed: 32.95487569800002s\n",
      "calculating values for covariate: [0] (1/2)\n",
      "total time elapsed: 0.00010537999997950465s\n",
      "calculating values for covariate: [1] (2/2)\n",
      "total time elapsed: 50.92789041999998s\n",
      "calculating values for covariate: [0] (1/2)\n",
      "total time elapsed: 0.0001012179999406726s\n",
      "calculating values for covariate: [1] (2/2)\n",
      "total time elapsed: 27.107331969999905s\n",
      "calculating values for covariate: [0] (1/2)\n",
      "total time elapsed: 9.851799995885813e-05s\n",
      "calculating values for covariate: [1] (2/2)\n",
      "total time elapsed: 43.171090524999954s\n",
      "calculating values for covariate: [0] (1/2)\n",
      "total time elapsed: 0.00013627700002416532s\n",
      "calculating values for covariate: [1] (2/2)\n",
      "total time elapsed: 51.018402826000056s\n",
      "calculating values for covariate: [0] (1/2)\n",
      "total time elapsed: 0.0001024079999751848s\n",
      "calculating values for covariate: [1] (2/2)\n",
      "total time elapsed: 47.928020192000076s\n",
      "calculating values for covariate: [0] (1/2)\n",
      "total time elapsed: 9.669000007761497e-05s\n",
      "calculating values for covariate: [1] (2/2)\n",
      "total time elapsed: 32.25427751699999s\n"
     ]
    },
    {
     "data": {
      "text/plain": [
       "([1.6456316632018753,\n",
       "  2.2773442729005913,\n",
       "  2.244386525403595,\n",
       "  2.5552988325223382,\n",
       "  1.8269041467885696,\n",
       "  1.3479015253062043,\n",
       "  1.8565662996572527,\n",
       "  1.639036684346147,\n",
       "  2.0795916937064107,\n",
       "  1.174316113672176],\n",
       " [1.7041021981649418,\n",
       "  2.3358148098252065,\n",
       "  2.3028570610577184,\n",
       "  2.6137693705144436,\n",
       "  1.8853746828709725,\n",
       "  1.4063720633990118,\n",
       "  1.9150368345614839,\n",
       "  1.6975072206065625,\n",
       "  2.1380622286225175,\n",
       "  1.2327866482986658],\n",
       " [2.0547412601630195,\n",
       "  1.9657646346627027,\n",
       "  0.007986017832672174,\n",
       "  1.2796498463467825,\n",
       "  0.5165190834748958,\n",
       "  2.7633733098314397,\n",
       "  1.8476578847709422,\n",
       "  2.064628371965225,\n",
       "  1.7152697578094176,\n",
       "  2.6524023370316594],\n",
       " [2.3375839766747197,\n",
       "  2.248607347495876,\n",
       "  0.2908287334572574,\n",
       "  1.5624925588251135,\n",
       "  0.841379440300229,\n",
       "  3.0462160259517974,\n",
       "  2.1305006055169713,\n",
       "  2.347471102922231,\n",
       "  1.9981124773268844,\n",
       "  2.935245052275887])"
      ]
     },
     "execution_count": 7,
     "metadata": {},
     "output_type": "execute_result"
    }
   ],
   "source": [
    "bootstrap(bids, covariates, 10)"
   ]
  },
  {
   "cell_type": "code",
   "execution_count": 13,
   "metadata": {},
   "outputs": [
    {
     "name": "stdout",
     "output_type": "stream",
     "text": [
      "0\n",
      "oops\n"
     ]
    }
   ],
   "source": [
    "for i in range(2):\n",
    "    print(i)\n",
    "    try:\n",
    "        9/0\n",
    "    except:\n",
    "        print(\"oops\")\n",
    "        break"
   ]
  },
  {
   "cell_type": "code",
   "execution_count": 8,
   "metadata": {},
   "outputs": [
    {
     "data": {
      "text/plain": [
       "(2.2152711100544935, 2.273741646586146, 1.4873097178144254, 1.770152430343714)"
      ]
     },
     "execution_count": 8,
     "metadata": {},
     "output_type": "execute_result"
    }
   ],
   "source": [
    "interval_lower_b = optimize.newton(lambda b_l: loss_function([b_hat[0], b_l])-loss_function(b_hat)-1, b_hat[1]-0.1)\n",
    "interval_upper_b = optimize.newton(lambda b_l: loss_function([b_hat[0], b_l])-loss_function(b_hat)-1, b_hat[1]+0.1)\n",
    "\n",
    "interval_lower_a = optimize.newton(lambda b_l: loss_function([b_l, b_hat[1]])-loss_function(b_hat)-1, b_hat[0]-0.1)\n",
    "interval_upper_a = optimize.newton(lambda b_l: loss_function([b_l, b_hat[1]])-loss_function(b_hat)-1, b_hat[0]+0.1)\n",
    "\n",
    "interval_lower_a, interval_upper_a, interval_lower_b, interval_upper_b"
   ]
  },
  {
   "cell_type": "code",
   "execution_count": 9,
   "metadata": {},
   "outputs": [
    {
     "data": {
      "text/plain": [
       "7067.461452988165"
      ]
     },
     "execution_count": 9,
     "metadata": {},
     "output_type": "execute_result"
    }
   ],
   "source": [
    "loss_function([-0.1275, b_hat[0]])"
   ]
  },
  {
   "cell_type": "code",
   "execution_count": 10,
   "metadata": {},
   "outputs": [
    {
     "data": {
      "text/plain": [
       "array([2.24449891, 1.62873385])"
      ]
     },
     "execution_count": 10,
     "metadata": {},
     "output_type": "execute_result"
    }
   ],
   "source": [
    "b_hat"
   ]
  },
  {
   "cell_type": "code",
   "execution_count": 11,
   "metadata": {},
   "outputs": [
    {
     "name": "stdout",
     "output_type": "stream",
     "text": [
      "----POLICE----\n",
      "               0\n",
      "count  18.000000\n",
      "mean    1.044880\n",
      "std     0.591867\n",
      "min     0.234618\n",
      "25%     0.604805\n",
      "50%     0.957006\n",
      "75%     1.423913\n",
      "max     2.229976\n",
      "----NON-POLICE----\n",
      "                0\n",
      "count  558.000000\n",
      "mean     1.466115\n",
      "std      0.886428\n",
      "min      0.020939\n",
      "25%      0.835709\n",
      "50%      1.350666\n",
      "75%      1.853666\n",
      "max      6.747107\n"
     ]
    }
   ],
   "source": [
    "include = df[df.bidcount == 6]\n",
    "\n",
    "ispolice = include[include.ispolice == 1]\n",
    "police_bids = list(ispolice.bids)\n",
    "\n",
    "nopolice = include[include.ispolice == 0]\n",
    "bids = list(nopolice.bids)\n",
    "\n",
    "b1 = [item for sublist in police_bids for item in sublist]\n",
    "print(\"----POLICE----\")\n",
    "print(pd.DataFrame(b1).describe())\n",
    "\n",
    "b2 = [item for sublist in bids for item in sublist]\n",
    "print(\"----NON-POLICE----\")\n",
    "print(pd.DataFrame(b2).describe())"
   ]
  },
  {
   "cell_type": "code",
   "execution_count": 12,
   "metadata": {},
   "outputs": [
    {
     "data": {
      "image/png": "[encoded data removed]",
      "text/plain": [
       "<Figure size 432x288 with 1 Axes>"
      ]
     },
     "metadata": {
      "needs_background": "light"
     },
     "output_type": "display_data"
    }
   ],
   "source": [
    "import matplotlib.pyplot as plt\n",
    "\n",
    "b = np.array(list(data.bids))\n",
    "plt.hist(np.log(b+1), bins=20)\n",
    "plt.show()"
   ]
  }
 ],
 "metadata": {
  "kernelspec": {
   "display_name": "Python 3",
   "language": "python",
   "name": "python3"
  },
  "language_info": {
   "codemirror_mode": {
    "name": "ipython",
    "version": 3
   },
   "file_extension": ".py",
   "mimetype": "text/x-python",
   "name": "python",
   "nbconvert_exporter": "python",
   "pygments_lexer": "ipython3",
   "version": "3.8.5"
  }
 },
 "nbformat": 4,
 "nbformat_minor": 4
}
