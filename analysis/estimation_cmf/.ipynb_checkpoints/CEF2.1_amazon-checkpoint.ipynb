{
 "cells": [
  {
   "cell_type": "markdown",
   "metadata": {},
   "source": [
    "Here we estimate the following conditional expectation function:\n",
    "$$\n",
    "\\mathbb{E}[valuation_i|sellerfeedbackscore_i]=\\alpha+\\beta_1 sellerfeedbackscore_i,\n",
    "$$\n",
    "using listings of amazon tablets where the number of bids received is strictly between 3 and 12."
   ]
  },
  {
   "cell_type": "code",
   "execution_count": 1,
   "metadata": {},
   "outputs": [],
   "source": [
    "import pandas as pd\n",
    "import numpy as np\n",
    "from scipy import optimize\n",
    "from main import estimate_mean, get_loss_function\n",
    "\n",
    "data = pd.read_csv(\"../../data/demeaned.csv\")\n",
    "df = data.groupby([\"id\", \"ispolice\", \"sellerfeedbackscore\", \"bidcount\", \"apple\", \"amazon\"])[\"bids\"].apply(lambda x: x.values).reset_index()"
   ]
  },
  {
   "cell_type": "code",
   "execution_count": 2,
   "metadata": {},
   "outputs": [],
   "source": [
    "amazon_bids = list(df[(df.amazon == 1) & (df.ispolice == 1)].bidcount.value_counts().index)\n",
    "include = df[(df.bidcount > 3) & (df.bidcount < 12) & (df.amazon == 1) & (df.bidcount.isin(amazon_bids))]\n",
    "\n",
    "bids = list(include.bids)\n",
    "logged_feedback = np.log(include.sellerfeedbackscore+1)\n",
    "covariates = [[cov] for cov in list(logged_feedback)]\n",
    "\n",
    "covariates = [[cov] for cov in transform_covariates([cov[0] for cov in covariates],100)]"
   ]
  },
  {
   "cell_type": "code",
   "execution_count": 3,
   "metadata": {},
   "outputs": [
    {
     "name": "stdout",
     "output_type": "stream",
     "text": [
      "calculating values for covariate: [7.462789157412447] (1/100)\n",
      "total time elapsed: 0.00023839700000038988s\n"
     ]
    },
    {
     "name": "stderr",
     "output_type": "stream",
     "text": [
      "/Users/liumukun/anaconda3/lib/python3.8/site-packages/scipy/stats/_distn_infrastructure.py:1695: IntegrationWarning: The maximum number of subdivisions (50) has been achieved.\n",
      "  If increasing the limit yields no improvement it is advised to analyze \n",
      "  the integrand in order to determine the difficulties.  If the position of a \n",
      "  local difficulty can be determined (singularity, discontinuity) one will \n",
      "  probably gain from splitting up the interval and calling the integrator \n",
      "  on the subranges.  Perhaps a special-purpose integrator should be used.\n",
      "  return integrate.quad(self._mom_integ1, 0, 1, args=(m,)+args)[0]\n"
     ]
    },
    {
     "name": "stdout",
     "output_type": "stream",
     "text": [
      "calculating values for covariate: [6.677083461247136] (2/100)\n",
      "total time elapsed: 49.351677912s\n",
      "calculating values for covariate: [6.401917196727186] (3/100)\n",
      "total time elapsed: 93.170858684s\n",
      "calculating values for covariate: [6.206575926724928] (4/100)\n",
      "total time elapsed: 136.760382389s\n",
      "calculating values for covariate: [6.473890696352274] (5/100)\n",
      "total time elapsed: 182.453314713s\n",
      "calculating values for covariate: [9.955277308666151] (6/100)\n",
      "total time elapsed: 222.523888214s\n",
      "calculating values for covariate: [6.230481447578482] (7/100)\n",
      "total time elapsed: 264.717034309s\n",
      "calculating values for covariate: [7.691200097522863] (8/100)\n",
      "total time elapsed: 308.206211177s\n",
      "calculating values for covariate: [5.706558089675363] (9/100)\n",
      "total time elapsed: 348.22071537s\n",
      "calculating values for covariate: [5.551688515712215] (10/100)\n",
      "total time elapsed: 388.162539871s\n",
      "calculating values for covariate: [6.685860947068359] (11/100)\n",
      "total time elapsed: 428.450415503s\n",
      "calculating values for covariate: [6.51025834052315] (12/100)\n",
      "total time elapsed: 468.257142435s\n",
      "calculating values for covariate: [6.340359303727752] (13/100)\n",
      "total time elapsed: 514.5894690780001s\n",
      "calculating values for covariate: [3.9874384502794378] (14/100)\n",
      "total time elapsed: 554.6488001990001s\n",
      "calculating values for covariate: [6.043802187577048] (15/100)\n",
      "total time elapsed: 596.903555941s\n",
      "calculating values for covariate: [4.504601450462294] (16/100)\n",
      "total time elapsed: 638.061067294s\n",
      "calculating values for covariate: [2.8919125911648687] (17/100)\n",
      "total time elapsed: 690.479417096s\n",
      "calculating values for covariate: [6.411818267709897] (18/100)\n",
      "total time elapsed: 730.781287356s\n",
      "calculating values for covariate: [9.26416545867109] (19/100)\n",
      "total time elapsed: 770.7493549870001s\n",
      "calculating values for covariate: [6.118237066161038] (20/100)\n",
      "total time elapsed: 811.465137453s\n",
      "calculating values for covariate: [6.748759547491679] (21/100)\n",
      "total time elapsed: 854.6169330780001s\n",
      "calculating values for covariate: [4.317399216745251] (22/100)\n",
      "total time elapsed: 895.182392452s\n",
      "calculating values for covariate: [5.238812973256936] (23/100)\n",
      "total time elapsed: 939.431100631s\n",
      "calculating values for covariate: [5.106023078897017] (24/100)\n",
      "total time elapsed: 979.644336822s\n",
      "calculating values for covariate: [6.7464121285733745] (25/100)\n",
      "total time elapsed: 1019.002356015s\n",
      "calculating values for covariate: [8.140315540159985] (26/100)\n",
      "total time elapsed: 1062.133484525s\n",
      "calculating values for covariate: [6.88653164253051] (27/100)\n",
      "total time elapsed: 1101.694439871s\n",
      "calculating values for covariate: [6.823286122355687] (28/100)\n",
      "total time elapsed: 1141.0928769280001s\n",
      "calculating values for covariate: [7.7142311448490855] (29/100)\n",
      "total time elapsed: 1180.734530806s\n",
      "calculating values for covariate: [6.736966958001855] (30/100)\n",
      "total time elapsed: 1221.7432432330002s\n",
      "calculating values for covariate: [6.591673732008658] (31/100)\n",
      "total time elapsed: 1261.327409248s\n",
      "calculating values for covariate: [6.5250296578434615] (32/100)\n",
      "total time elapsed: 1301.1850685910001s\n",
      "calculating values for covariate: [4.787179145085087] (33/100)\n",
      "total time elapsed: 1341.130750326s\n",
      "calculating values for covariate: [13.275246150920841] (34/100)\n",
      "total time elapsed: 1380.96374578s\n",
      "calculating values for covariate: [5.016731314478937] (35/100)\n",
      "total time elapsed: 1421.771630963s\n"
     ]
    },
    {
     "name": "stderr",
     "output_type": "stream",
     "text": [
      "/Users/liumukun/anaconda3/lib/python3.8/site-packages/scipy/stats/_distn_infrastructure.py:1695: IntegrationWarning: The occurrence of roundoff error is detected, which prevents \n",
      "  the requested tolerance from being achieved.  The error may be \n",
      "  underestimated.\n",
      "  return integrate.quad(self._mom_integ1, 0, 1, args=(m,)+args)[0]\n"
     ]
    },
    {
     "name": "stdout",
     "output_type": "stream",
     "text": [
      "calculating values for covariate: [6.234410725718371] (36/100)\n",
      "total time elapsed: 1465.387728362s\n",
      "calculating values for covariate: [6.882437470997846] (37/100)\n",
      "total time elapsed: 1506.656569032s\n",
      "calculating values for covariate: [6.902742737158593] (38/100)\n",
      "total time elapsed: 1546.5718076590001s\n",
      "calculating values for covariate: [6.079765600547129] (39/100)\n",
      "total time elapsed: 1588.542601957s\n",
      "calculating values for covariate: [6.741700694652055] (40/100)\n",
      "total time elapsed: 1628.252380762s\n",
      "calculating values for covariate: [8.031710375322042] (41/100)\n",
      "total time elapsed: 1668.668715049s\n",
      "calculating values for covariate: [6.054436591076521] (42/100)\n",
      "total time elapsed: 1709.476032456s\n",
      "calculating values for covariate: [6.895682697747867] (43/100)\n",
      "total time elapsed: 1749.411310814s\n",
      "calculating values for covariate: [7.4360278163518485] (44/100)\n",
      "total time elapsed: 1789.105117329s\n",
      "calculating values for covariate: [6.1601245927962225] (45/100)\n",
      "total time elapsed: 1831.1437432320001s\n",
      "calculating values for covariate: [2.1972245773362196] (46/100)\n",
      "total time elapsed: 1871.0362232100001s\n",
      "calculating values for covariate: [6.526494859570789] (47/100)\n",
      "total time elapsed: 1910.76585204s\n",
      "calculating values for covariate: [2.3937458713910233] (48/100)\n",
      "total time elapsed: 1953.627273372s\n",
      "calculating values for covariate: [9.962043589246067] (49/100)\n",
      "total time elapsed: 1995.529489994s\n",
      "calculating values for covariate: [9.054154288786854] (50/100)\n",
      "total time elapsed: 2036.688472092s\n",
      "calculating values for covariate: [6.242223265455165] (51/100)\n",
      "total time elapsed: 2077.688982919s\n",
      "calculating values for covariate: [8.126518168780708] (52/100)\n",
      "total time elapsed: 2127.369530708s\n",
      "calculating values for covariate: [5.178966641432957] (53/100)\n",
      "total time elapsed: 2173.639431861s\n",
      "calculating values for covariate: [6.33682573114644] (54/100)\n",
      "total time elapsed: 2216.703574522s\n",
      "calculating values for covariate: [4.905247342843482] (55/100)\n",
      "total time elapsed: 2273.372029192s\n",
      "calculating values for covariate: [9.803145478962218] (56/100)\n",
      "total time elapsed: 2315.318514742s\n",
      "calculating values for covariate: [6.490723534502507] (57/100)\n",
      "total time elapsed: 2358.471942816s\n",
      "calculating values for covariate: [6.171698418196696] (58/100)\n",
      "total time elapsed: 2401.20861066s\n",
      "calculating values for covariate: [5.310590496757037] (59/100)\n",
      "total time elapsed: 2441.760563504s\n",
      "calculating values for covariate: [7.312553498102598] (60/100)\n",
      "total time elapsed: 2482.590210792s\n",
      "calculating values for covariate: [8.182559264068663] (61/100)\n",
      "total time elapsed: 2522.862008721s\n",
      "calculating values for covariate: [12.689765831250803] (62/100)\n",
      "total time elapsed: 2562.96266513s\n",
      "calculating values for covariate: [9.481255893085342] (63/100)\n",
      "total time elapsed: 2603.082070202s\n",
      "calculating values for covariate: [7.160845906664298] (64/100)\n",
      "total time elapsed: 2643.290320624s\n",
      "calculating values for covariate: [4.952293473989714] (65/100)\n",
      "total time elapsed: 2683.753920679s\n",
      "calculating values for covariate: [6.669498089857879] (66/100)\n",
      "total time elapsed: 2724.38677533s\n",
      "calculating values for covariate: [6.9726062513017535] (67/100)\n",
      "total time elapsed: 2764.217403671s\n",
      "calculating values for covariate: [5.803025721479856] (68/100)\n",
      "total time elapsed: 2804.2832703980002s\n",
      "calculating values for covariate: [4.6959141240107805] (69/100)\n",
      "total time elapsed: 2844.515917629s\n",
      "calculating values for covariate: [5.277997506814689] (70/100)\n",
      "total time elapsed: 2884.622878485s\n",
      "calculating values for covariate: [0.8958797346140275] (71/100)\n",
      "total time elapsed: 2924.802605623s\n",
      "calculating values for covariate: [5.864687329495856] (72/100)\n",
      "total time elapsed: 2964.764955366s\n",
      "calculating values for covariate: [4.731327150295087] (73/100)\n",
      "total time elapsed: 3005.218321357s\n",
      "calculating values for covariate: [5.629145623282325] (74/100)\n",
      "total time elapsed: 3045.786967738s\n",
      "calculating values for covariate: [4.398320729470457] (75/100)\n",
      "total time elapsed: 3088.099752394s\n",
      "calculating values for covariate: [5.4293071540977405] (76/100)\n",
      "total time elapsed: 3128.196550542s\n",
      "calculating values for covariate: [7.039660349862076] (77/100)\n",
      "total time elapsed: 3168.721771516s\n",
      "calculating values for covariate: [6.498282149476434] (78/100)\n",
      "total time elapsed: 3208.853687613s\n",
      "calculating values for covariate: [7.809135398120539] (79/100)\n",
      "total time elapsed: 3249.055877173s\n",
      "calculating values for covariate: [13.293416061617572] (80/100)\n",
      "total time elapsed: 3289.100318633s\n",
      "calculating values for covariate: [6.64639051484773] (81/100)\n",
      "total time elapsed: 3329.295471731s\n",
      "calculating values for covariate: [7.412160334945206] (82/100)\n",
      "total time elapsed: 3369.311970535s\n",
      "calculating values for covariate: [4.609154270812679] (83/100)\n",
      "total time elapsed: 3409.3293401290002s\n",
      "calculating values for covariate: [4.17141990213573] (84/100)\n",
      "total time elapsed: 3449.5359939630002s\n",
      "calculating values for covariate: [5.917526220727529] (85/100)\n",
      "total time elapsed: 3489.553013359s\n"
     ]
    }
   ],
   "source": [
    "expected_upper, expected_lower = estimate_mean(bids, covariates, (0,9))"
   ]
  },
  {
   "cell_type": "code",
   "execution_count": 4,
   "metadata": {},
   "outputs": [],
   "source": [
    "def loss_function(c):\n",
    "    a, b = c\n",
    "    cef = lambda cov: a+b*cov[0]\n",
    "    return get_loss_function(covariates, expected_upper, expected_lower, cef)\n",
    "\n",
    "b_hat = optimize.brute(loss_function, ranges=[(0,2), (-1,1)])\n",
    "# interval_lower = optimize.newton(lambda a_l, b_l: loss_function(a_l, b_l)-loss_function(b_hat)-10, b_hat-0.1)\n",
    "# interval_upper = optimize.newton(lambda b_l, b_u: loss_function(b_l, b_u)-loss_function(b_hat)-10, b_hat+0.1)"
   ]
  },
  {
   "cell_type": "code",
   "execution_count": 5,
   "metadata": {},
   "outputs": [
    {
     "data": {
      "text/plain": [
       "array([ 5.34600882e-01, -5.17296347e-04])"
      ]
     },
     "execution_count": 5,
     "metadata": {},
     "output_type": "execute_result"
    }
   ],
   "source": [
    "b_hat"
   ]
  }
 ],
 "metadata": {
  "kernelspec": {
   "display_name": "Python 3",
   "language": "python",
   "name": "python3"
  },
  "language_info": {
   "codemirror_mode": {
    "name": "ipython",
    "version": 3
   },
   "file_extension": ".py",
   "mimetype": "text/x-python",
   "name": "python",
   "nbconvert_exporter": "python",
   "pygments_lexer": "ipython3",
   "version": "3.8.5"
  }
 },
 "nbformat": 4,
 "nbformat_minor": 4
}
