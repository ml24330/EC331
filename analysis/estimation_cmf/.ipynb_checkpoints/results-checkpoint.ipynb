{
 "cells": [
  {
   "cell_type": "code",
   "execution_count": null,
   "metadata": {},
   "outputs": [],
   "source": [
    "import sys\n",
    "import numpy as np\n",
    " \n",
    "sys.path.append('../')\n",
    "\n",
    "from functions import *"
   ]
  },
  {
   "cell_type": "code",
   "execution_count": null,
   "metadata": {},
   "outputs": [],
   "source": [
    "percentile = lambda p: np.percentile(np.array(include.sellerfeedbackscore), p)\n",
    "\n",
    "cef1 = lambda c, cov: c[0]*(1-cov[0])+c[1]*cov[0]+c[2]*cov[1]*(1-cov[0])+c[3]*cov[1]*cov[0]\n",
    "n_cov1 = 4\n",
    "\n",
    "def cef2(c, cov):\n",
    "    low = int(cov[1] >= percentile(0) and cov[1] < percentile(91.5))\n",
    "    high = int(cov[1] >= percentile(91.5) and cov[1] <= percentile(100))\n",
    "    return c[0]*cov[1] + c[1]*(1-cov[1]) + c[2]*cov[1]*high + c[3]*(1-cov[1])*high\n",
    "n_cov2 = 4\n",
    "\n",
    "def cef3(c,cov):\n",
    "    feedback = np.exp(cov[1])-1\n",
    "    return c[0]*(1-cov[0]) + c[1]*cov[0] + c[2]*feedback*(1-cov[0]) + c[3]*feedback*cov[0] + \\\n",
    "        c[4]*feedback**2*(1-cov[0]) + c[5]*feedback**2*cov[0]\n",
    "n_cov3 = 6\n",
    "\n",
    "def cef4(c,cov):\n",
    "    feedback = np.exp(cov[1])-1\n",
    "    return c[0]*(1-cov[0]) + c[1]*cov[0] + c[2]*feedback*(1-cov[0]) + c[3]*feedback*cov[0] + \\\n",
    "        c[4]*feedback**2*(1-cov[0]) + c[5]*feedback**2*cov[0] + c[6]*feedback**3*(1-cov[0]) + \\\n",
    "        c[7]*feedback**3*cov[0]\n",
    "n_cov3 = 8"
   ]
  }
 ],
 "metadata": {
  "kernelspec": {
   "display_name": "Python 3",
   "language": "python",
   "name": "python3"
  },
  "language_info": {
   "codemirror_mode": {
    "name": "ipython",
    "version": 3
   },
   "file_extension": ".py",
   "mimetype": "text/x-python",
   "name": "python",
   "nbconvert_exporter": "python",
   "pygments_lexer": "ipython3",
   "version": "3.8.5"
  }
 },
 "nbformat": 4,
 "nbformat_minor": 4
}
