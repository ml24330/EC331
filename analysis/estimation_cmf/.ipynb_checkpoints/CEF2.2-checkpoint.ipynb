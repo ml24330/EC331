{
 "cells": [
  {
   "cell_type": "markdown",
   "metadata": {},
   "source": [
    "Here we estimate the following conditional median function:\n",
    "$$\n",
    "\\text{med}[valuation_i|ispolice_i, sellerfeedbackscore_i]=\\alpha+\\beta_1 ispolice_i+\\beta_2 sellerfeedbackscore_i\n",
    "$$\n",
    "using the entire sample where the number of bids received is strictly between 3 and 12."
   ]
  },
  {
   "cell_type": "code",
   "execution_count": 1,
   "metadata": {},
   "outputs": [],
   "source": [
    "import pandas as pd\n",
    "import numpy as np\n",
    "from scipy import optimize\n",
    "from main import estimate_median, get_loss_function, transform_covariates\n",
    "\n",
    "data = pd.read_csv(\"../../data/demeaned.csv\")\n",
    "df = data.groupby([\"id\", \"ispolice\", \"sellerfeedbackscore\", \"bidcount\", \"apple\", \"amazon\"])[\"bids\"].apply(lambda x: x.values).reset_index()"
   ]
  },
  {
   "cell_type": "code",
   "execution_count": 2,
   "metadata": {},
   "outputs": [
    {
     "name": "stderr",
     "output_type": "stream",
     "text": [
      "/Users/liumukun/anaconda3/lib/python3.8/site-packages/pandas/core/generic.py:5168: SettingWithCopyWarning: \n",
      "A value is trying to be set on a copy of a slice from a DataFrame.\n",
      "Try using .loc[row_indexer,col_indexer] = value instead\n",
      "\n",
      "See the caveats in the documentation: https://pandas.pydata.org/pandas-docs/stable/user_guide/indexing.html#returning-a-view-versus-a-copy\n",
      "  self[name] = value\n"
     ]
    }
   ],
   "source": [
    "include = df[(df.bidcount > 3) & (df.bidcount < 12)]\n",
    "\n",
    "bids = list(include.bids)\n",
    "\n",
    "logged_feedback = np.log(include.sellerfeedbackscore+1)\n",
    "logged_feedback = transform_covariates(logged_feedback, 100)\n",
    "include.sellerfeedbackscore = logged_feedback\n",
    "\n",
    "covariates = np.array(include[[\"ispolice\", \"sellerfeedbackscore\"]])\n",
    "covariates = list([list(cov) for cov in covariates])"
   ]
  },
  {
   "cell_type": "code",
   "execution_count": 3,
   "metadata": {
    "scrolled": true
   },
   "outputs": [
    {
     "name": "stdout",
     "output_type": "stream",
     "text": [
      "calculating values for covariate: [0.0, 9.869815537797194] (1/97)\n",
      "total time elapsed: 0.00018111799999998013s\n",
      "calculating values for covariate: [0.0, 3.4599452524466194] (2/97)\n",
      "total time elapsed: 11.745001254s\n",
      "calculating values for covariate: [0.0, 5.3228978543165555] (3/97)\n",
      "total time elapsed: 25.413597884999998s\n",
      "calculating values for covariate: [0.0, 5.439956999893489] (4/97)\n",
      "total time elapsed: 37.780208802s\n",
      "calculating values for covariate: [0.0, 1.4606755448912938] (5/97)\n",
      "total time elapsed: 50.133579372s\n",
      "calculating values for covariate: [0.0, 5.724391198805521] (6/97)\n",
      "total time elapsed: 62.81763041199999s\n",
      "calculating values for covariate: [0.0, 3.5636780469053466] (7/97)\n",
      "total time elapsed: 74.809073286s\n",
      "calculating values for covariate: [0.0, 2.440017827490736] (8/97)\n",
      "total time elapsed: 86.337803323s\n",
      "calculating values for covariate: [0.0, 6.926257377649698] (9/97)\n",
      "total time elapsed: 98.045221716s\n",
      "calculating values for covariate: [0.0, 4.257356013476545] (10/97)\n",
      "total time elapsed: 110.990836809s\n",
      "calculating values for covariate: [0.0, 9.326772384676856] (11/97)\n",
      "total time elapsed: 124.283659623s\n",
      "calculating values for covariate: [0.0, 8.152854356966778] (12/97)\n",
      "total time elapsed: 136.70933143899998s\n",
      "calculating values for covariate: [0.0, 2.6382048128374636] (13/97)\n",
      "total time elapsed: 149.44646344999998s\n",
      "calculating values for covariate: [0.0, 5.5305814555449] (14/97)\n",
      "total time elapsed: 162.112516845s\n",
      "calculating values for covariate: [0.0, 6.477198688929868] (15/97)\n",
      "total time elapsed: 175.06181765699998s\n",
      "calculating values for covariate: [0.0, 8.065994060969556] (16/97)\n",
      "total time elapsed: 187.954233693s\n",
      "calculating values for covariate: [0.0, 6.1847907076514455] (17/97)\n",
      "total time elapsed: 200.917756537s\n",
      "calculating values for covariate: [0.0, 3.788964368618553] (18/97)\n",
      "total time elapsed: 213.790994278s\n",
      "calculating values for covariate: [0.0, 4.524991125708574] (19/97)\n",
      "total time elapsed: 226.43659824399998s\n",
      "calculating values for covariate: [0.0, 0.41415110829800006] (20/97)\n",
      "total time elapsed: 238.833944075s\n",
      "calculating values for covariate: [0.0, 5.279759127133993] (21/97)\n",
      "total time elapsed: 250.76838779s\n",
      "calculating values for covariate: [1.0, 9.869815537797194] (22/97)\n",
      "total time elapsed: 262.668255639s\n",
      "calculating values for covariate: [0.0, 4.629835190084681] (23/97)\n",
      "total time elapsed: 278.371513079s\n",
      "calculating values for covariate: [0.0, 3.068021212980124] (24/97)\n",
      "total time elapsed: 290.139664669s\n",
      "calculating values for covariate: [0.0, 4.671045179100367] (25/97)\n",
      "total time elapsed: 301.980576397s\n",
      "calculating values for covariate: [0.0, 6.209200480046122] (26/97)\n",
      "total time elapsed: 313.724595395s\n",
      "calculating values for covariate: [0.0, 6.529878897592179] (27/97)\n",
      "total time elapsed: 326.520727558s\n",
      "calculating values for covariate: [0.0, 5.991300162400525] (28/97)\n",
      "total time elapsed: 339.342158489s\n",
      "calculating values for covariate: [0.0, 4.854573442825112] (29/97)\n",
      "total time elapsed: 352.091796626s\n",
      "calculating values for covariate: [0.0, 8.614192444326441] (30/97)\n",
      "total time elapsed: 364.51446269499996s\n",
      "calculating values for covariate: [0.0, 6.770959824175819] (31/97)\n",
      "total time elapsed: 377.028416069s\n",
      "calculating values for covariate: [0.0, 4.9077165238076725] (32/97)\n",
      "total time elapsed: 389.806575831s\n",
      "calculating values for covariate: [0.0, 5.024759016353102] (33/97)\n",
      "total time elapsed: 402.63835707699997s\n",
      "calculating values for covariate: [0.0, 8.19617291542806] (34/97)\n",
      "total time elapsed: 415.440863059s\n",
      "calculating values for covariate: [0.0, 4.036995642605026] (35/97)\n",
      "total time elapsed: 428.444684183s\n",
      "calculating values for covariate: [0.0, 1.9586675592637988] (36/97)\n",
      "total time elapsed: 441.53127538399997s\n",
      "calculating values for covariate: [0.0, 4.428487623303901] (37/97)\n",
      "total time elapsed: 454.025245274s\n",
      "calculating values for covariate: [0.0, 5.766751125474357] (38/97)\n",
      "total time elapsed: 465.941676993s\n",
      "calculating values for covariate: [0.0, 3.914989883079457] (39/97)\n",
      "total time elapsed: 479.224739209s\n",
      "calculating values for covariate: [0.0, 6.496501923204321] (40/97)\n",
      "total time elapsed: 492.178026411s\n",
      "calculating values for covariate: [0.0, 6.6168343069380064] (41/97)\n",
      "total time elapsed: 503.673514589s\n",
      "calculating values for covariate: [0.0, 10.753805903787349] (42/97)\n",
      "total time elapsed: 515.261966013s\n",
      "calculating values for covariate: [0.0, 10.394073463078007] (43/97)\n",
      "total time elapsed: 526.847373131s\n",
      "calculating values for covariate: [0.0, 2.214784663279191] (44/97)\n",
      "total time elapsed: 538.365307126s\n",
      "calculating values for covariate: [0.0, 7.547578938867713] (45/97)\n",
      "total time elapsed: 549.91062272s\n",
      "calculating values for covariate: [0.0, 6.664737647261995] (46/97)\n",
      "total time elapsed: 561.4660234849999s\n",
      "calculating values for covariate: [0.0, 5.487479969875509] (47/97)\n",
      "total time elapsed: 573.026003277s\n",
      "calculating values for covariate: [1.0, 9.956630564782134] (48/97)\n",
      "total time elapsed: 584.552039018s\n",
      "calculating values for covariate: [0.0, 6.10671937212663] (49/97)\n",
      "total time elapsed: 601.061893221s\n",
      "calculating values for covariate: [0.0, 9.481255893085342] (50/97)\n",
      "total time elapsed: 613.309055593s\n",
      "calculating values for covariate: [0.0, 5.664566951481543] (51/97)\n",
      "total time elapsed: 625.110052696s\n",
      "calculating values for covariate: [0.0, 4.7432581672086735] (52/97)\n",
      "total time elapsed: 636.965727794s\n",
      "calculating values for covariate: [0.0, 6.130073340709003] (53/97)\n",
      "total time elapsed: 648.771526324s\n",
      "calculating values for covariate: [0.0, 5.902142456688845] (54/97)\n",
      "total time elapsed: 660.592925968s\n",
      "calculating values for covariate: [0.0, 5.8185067592433874] (55/97)\n",
      "total time elapsed: 672.534439042s\n",
      "calculating values for covariate: [0.0, 9.546066487834448] (56/97)\n",
      "total time elapsed: 684.188760801s\n",
      "calculating values for covariate: [0.0, 5.619738966403259] (57/97)\n",
      "total time elapsed: 696.062056708s\n",
      "calculating values for covariate: [0.0, 6.041815672014075] (58/97)\n",
      "total time elapsed: 708.009119186s\n",
      "calculating values for covariate: [0.0, 6.603441216193141] (59/97)\n",
      "total time elapsed: 720.2724189529999s\n",
      "calculating values for covariate: [0.0, 4.32625977490886] (60/97)\n",
      "total time elapsed: 732.234816257s\n",
      "calculating values for covariate: [0.0, 13.165418051265528] (61/97)\n",
      "total time elapsed: 744.327570495s\n",
      "calculating values for covariate: [0.0, 11.68206575054986] (62/97)\n",
      "total time elapsed: 756.453918132s\n",
      "calculating values for covariate: [0.0, 6.264731630328883] (63/97)\n",
      "total time elapsed: 770.334348513s\n",
      "calculating values for covariate: [0.0, 4.960181290315768] (64/97)\n",
      "total time elapsed: 781.841365893s\n",
      "calculating values for covariate: [0.0, 6.429454348161926] (65/97)\n",
      "total time elapsed: 794.182375327s\n",
      "calculating values for covariate: [0.0, 5.144745708587448] (66/97)\n",
      "total time elapsed: 806.461532005s\n",
      "calculating values for covariate: [0.0, 7.8389144152221] (67/97)\n",
      "total time elapsed: 817.953952359s\n",
      "calculating values for covariate: [0.0, 5.869154893191772] (68/97)\n",
      "total time elapsed: 829.349205516s\n",
      "calculating values for covariate: [0.0, 7.219781812527486] (69/97)\n",
      "total time elapsed: 840.9719378359999s\n",
      "calculating values for covariate: [0.0, 9.487024917706549] (70/97)\n",
      "total time elapsed: 852.971425269s\n",
      "calculating values for covariate: [0.0, 4.118494243165093] (71/97)\n",
      "total time elapsed: 864.405197275s\n",
      "calculating values for covariate: [0.0, 6.994899757932196] (72/97)\n",
      "total time elapsed: 876.148942371s\n",
      "calculating values for covariate: [1.0, 8.614192444326441] (73/97)\n",
      "total time elapsed: 888.670802898s\n",
      "calculating values for covariate: [0.0, 5.19096600654078] (74/97)\n",
      "total time elapsed: 905.960224237s\n",
      "calculating values for covariate: [0.0, 7.3678710667543355] (75/97)\n",
      "total time elapsed: 917.257959687s\n",
      "calculating values for covariate: [0.0, 3.2814532169047825] (76/97)\n",
      "total time elapsed: 928.483148895s\n",
      "calculating values for covariate: [0.0, 5.585861746144869] (77/97)\n",
      "total time elapsed: 939.72253389s\n",
      "calculating values for covariate: [0.0, 6.72282706079569] (78/97)\n",
      "total time elapsed: 950.830057983s\n",
      "calculating values for covariate: [0.0, 7.461911921004982] (79/97)\n",
      "total time elapsed: 962.085114889s\n",
      "calculating values for covariate: [0.0, 6.164360431972145] (80/97)\n",
      "total time elapsed: 973.31034045s\n"
     ]
    },
    {
     "name": "stdout",
     "output_type": "stream",
     "text": [
      "calculating values for covariate: [0.0, 8.288236466386568] (81/97)\n",
      "total time elapsed: 984.452227641s\n",
      "calculating values for covariate: [0.0, 6.3836558487392425] (82/97)\n",
      "total time elapsed: 995.765655001s\n",
      "calculating values for covariate: [0.0, 7.307635641656483] (83/97)\n",
      "total time elapsed: 1006.969052057s\n",
      "calculating values for covariate: [0.0, 6.882170651082656] (84/97)\n",
      "total time elapsed: 1018.082968108s\n",
      "calculating values for covariate: [1.0, 10.394073463078007] (85/97)\n",
      "total time elapsed: 1029.2971318730001s\n",
      "calculating values for covariate: [0.0, 8.007850269063637] (86/97)\n",
      "total time elapsed: 1044.7591175450002s\n",
      "calculating values for covariate: [0.0, 6.33767709149798] (87/97)\n",
      "total time elapsed: 1057.136864387s\n",
      "calculating values for covariate: [0.0, 6.07562674059974] (88/97)\n",
      "total time elapsed: 1070.6770655290002s\n",
      "calculating values for covariate: [0.0, 5.25221821313404] (89/97)\n",
      "total time elapsed: 1083.7502285080002s\n",
      "calculating values for covariate: [0.0, 7.680821506025506] (90/97)\n",
      "total time elapsed: 1097.790576432s\n",
      "calculating values for covariate: [0.0, 5.382785465251274] (91/97)\n",
      "total time elapsed: 1110.880036962s\n",
      "calculating values for covariate: [0.0, 7.087856994191715] (92/97)\n",
      "total time elapsed: 1123.2726674520002s\n",
      "calculating values for covariate: [0.0, 4.8079701103174095] (93/97)\n",
      "total time elapsed: 1137.411058392s\n",
      "calculating values for covariate: [0.0, 5.940066707879528] (94/97)\n",
      "total time elapsed: 1149.200445393s\n",
      "calculating values for covariate: [0.0, 4.579683341430985] (95/97)\n",
      "total time elapsed: 1162.1680898910001s\n",
      "calculating values for covariate: [1.0, 9.955277308666151] (96/97)\n",
      "total time elapsed: 1173.442728406s\n",
      "calculating values for covariate: [0.0, 6.559323467581696] (97/97)\n",
      "total time elapsed: 1188.3777509000001s\n"
     ]
    }
   ],
   "source": [
    "median_upper, median_lower = estimate_median(bids, covariates, (0,9))"
   ]
  },
  {
   "cell_type": "code",
   "execution_count": 4,
   "metadata": {},
   "outputs": [],
   "source": [
    "def loss_function(c):\n",
    "    a, b1, b2 = c\n",
    "    cef = lambda cov: a+b1*cov[0]+b2*cov[1]\n",
    "    return get_loss_function(covariates, median_upper, median_lower, cef)\n",
    "\n",
    "b_hat = optimize.brute(loss_function, ranges=[(0,2), (-1,1), (-1,1)])\n",
    "# interval_lower = optimize.newton(lambda a_l, b_l: loss_function(a_l, b_l)-loss_function(b_hat)-10, b_hat-0.1)\n",
    "# interval_upper = optimize.newton(lambda b_l, b_u: loss_function(b_l, b_u)-loss_function(b_hat)-10, b_hat+0.1)"
   ]
  },
  {
   "cell_type": "code",
   "execution_count": 5,
   "metadata": {},
   "outputs": [
    {
     "name": "stdout",
     "output_type": "stream",
     "text": [
      "[ 0.18945957  0.1948784  -0.01004716]\n",
      "[-0.01405975 -0.00478646 -0.01663363]\n"
     ]
    }
   ],
   "source": [
    "def fun(c):\n",
    "    return loss_function(c)-loss_function(b_hat)-10\n",
    "\n",
    "print(optimize.newton(fun, [b_hat[0]+5,b_hat[1]+5,b_hat[2]+4]))\n",
    "print(optimize.newton(fun, [b_hat[0]-2,b_hat[1]-2,b_hat[2]-2]))"
   ]
  },
  {
   "cell_type": "code",
   "execution_count": 6,
   "metadata": {},
   "outputs": [
    {
     "data": {
      "text/plain": [
       "180.79211345877812"
      ]
     },
     "execution_count": 6,
     "metadata": {},
     "output_type": "execute_result"
    }
   ],
   "source": [
    "loss_function([0.13918062, 0.13635494, 0.06331243])"
   ]
  },
  {
   "cell_type": "code",
   "execution_count": 7,
   "metadata": {},
   "outputs": [
    {
     "data": {
      "text/plain": [
       "array([ 0.0072902 ,  0.03465769, -0.00030587])"
      ]
     },
     "execution_count": 7,
     "metadata": {},
     "output_type": "execute_result"
    }
   ],
   "source": [
    "b_hat"
   ]
  },
  {
   "cell_type": "code",
   "execution_count": 8,
   "metadata": {},
   "outputs": [],
   "source": [
    "def loss_function(c):\n",
    "    a, b1, b2, b3 = c\n",
    "    cef = lambda cov: a+b1*cov[0]+b2*cov[1]+b3*cov[0]*cov[1]\n",
    "    return get_loss_function(covariates, median_upper, median_lower, cef)\n",
    "\n",
    "b_hat_2 = optimize.brute(loss_function, ranges=[(0,2), (-1,1), (-1,1), (-1,1)])\n",
    "# interval_lower = optimize.newton(lambda a_l, b_l: loss_function(a_l, b_l)-loss_function(b_hat)-10, b_hat-0.1)\n",
    "# interval_upper = optimize.newton(lambda b_l, b_u: loss_function(b_l, b_u)-loss_function(b_hat)-10, b_hat+0.1)"
   ]
  },
  {
   "cell_type": "code",
   "execution_count": 10,
   "metadata": {},
   "outputs": [
    {
     "ename": "SyntaxError",
     "evalue": "closing parenthesis ')' does not match opening parenthesis '[' (<ipython-input-10-15b61a5d1a22>, line 4)",
     "output_type": "error",
     "traceback": [
      "\u001b[0;36m  File \u001b[0;32m\"<ipython-input-10-15b61a5d1a22>\"\u001b[0;36m, line \u001b[0;32m4\u001b[0m\n\u001b[0;31m    interval_lower_b2 = optimize.newton(lambda b_l: loss_function([b_hat[0], b_hat[1], b_l)-loss_function(b_hat)-1, b_hat[2]-0.1)\u001b[0m\n\u001b[0m                                                                                          ^\u001b[0m\n\u001b[0;31mSyntaxError\u001b[0m\u001b[0;31m:\u001b[0m closing parenthesis ')' does not match opening parenthesis '['\n"
     ]
    }
   ],
   "source": [
    "interval_lower_b1 = optimize.newton(lambda b_l: loss_function([b_hat[0], b_l, b_hat[2]])-loss_function(b_hat)-1, b_hat[1]-0.1)\n",
    "interval_upper_b1 = optimize.newton(lambda b_l: loss_function([b_hat[0], b_l, b_hat[2]])-loss_function(b_hat)-1, b_hat[1]+0.1)\n",
    "\n",
    "interval_lower_b2 = optimize.newton(lambda b_l: loss_function([b_hat[0], b_hat[1], b_l]])-loss_function(b_hat)-1, b_hat[2]-0.1)\n",
    "interval_upper_b2 = optimize.newton(lambda b_l: loss_function([b_hat[0], b_hat[1], b_l]])-loss_function(b_hat)-1, b_hat[2]+0.1)\n",
    "\n",
    "interval_lower_a = optimize.newton(lambda b_l: loss_function([b_l, b_hat[1], b_hat[2]])-loss_function(b_hat)-1, b_hat[0]-0.1)\n",
    "interval_upper_a = optimize.newton(lambda b_l: loss_function([b_l, b_hat[1], b_hat[2]])-loss_function(b_hat)-1, b_hat[0]+0.1)\n"
   ]
  },
  {
   "cell_type": "code",
   "execution_count": 9,
   "metadata": {},
   "outputs": [
    {
     "data": {
      "text/plain": [
       "array([ 0.00745954, -0.32908332, -0.00033118,  0.03668607])"
      ]
     },
     "execution_count": 9,
     "metadata": {},
     "output_type": "execute_result"
    }
   ],
   "source": [
    "interval_lower_a, interval_upper_a, interval_lower_b, interval_upper_b"
   ]
  }
 ],
 "metadata": {
  "kernelspec": {
   "display_name": "Python 3",
   "language": "python",
   "name": "python3"
  },
  "language_info": {
   "codemirror_mode": {
    "name": "ipython",
    "version": 3
   },
   "file_extension": ".py",
   "mimetype": "text/x-python",
   "name": "python",
   "nbconvert_exporter": "python",
   "pygments_lexer": "ipython3",
   "version": "3.8.5"
  }
 },
 "nbformat": 4,
 "nbformat_minor": 4
}
