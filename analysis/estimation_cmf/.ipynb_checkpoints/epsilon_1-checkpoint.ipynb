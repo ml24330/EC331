{
 "cells": [
  {
   "cell_type": "code",
   "execution_count": 1,
   "metadata": {},
   "outputs": [],
   "source": [
    "import pandas as pd\n",
    "import numpy as np\n",
    "from scipy import optimize\n",
    "from main import estimate_median, get_loss_function, transform_covariates\n",
    "\n",
    "data = pd.read_csv(\"../../data/demeaned.csv\")\n",
    "df = data.groupby([\"id\", \"ispolice\", \"sellerfeedbackscore\", \"bidcount\", \"apple\", \"amazon\"])[\"bids\"].apply(lambda x: x.values).reset_index()"
   ]
  },
  {
   "cell_type": "code",
   "execution_count": 2,
   "metadata": {},
   "outputs": [],
   "source": [
    "from scipy import stats\n",
    "\n",
    "def simulate(row, c):\n",
    "    b0, b1, b2 = c\n",
    "    ispolice = row.ispolice\n",
    "    feedbackscore = np.log(row.sellerfeedbackscore+1)\n",
    "    bidcount = row.bidcount\n",
    "    median = b0+ispolice*b1+feedbackscore*b2\n",
    "    bids = stats.norm.rvs(loc=median, scale=0.5, size=bidcount)\n",
    "    \n",
    "    return sorted(bids)"
   ]
  },
  {
   "cell_type": "code",
   "execution_count": 3,
   "metadata": {},
   "outputs": [],
   "source": [
    "deviations = []"
   ]
  },
  {
   "cell_type": "code",
   "execution_count": 4,
   "metadata": {},
   "outputs": [
    {
     "name": "stdout",
     "output_type": "stream",
     "text": [
      "Starting round 1/50...\n",
      "calculating values for covariate: [0] (1/2)\n",
      "total time elapsed: 0.00011703499999971001s\n",
      "calculating values for covariate: [1] (2/2)\n",
      "total time elapsed: 38.158023269s\n"
     ]
    },
    {
     "ename": "ValueError",
     "evalue": "too many values to unpack (expected 2)",
     "output_type": "error",
     "traceback": [
      "\u001b[0;31m---------------------------------------------------------------------------\u001b[0m",
      "\u001b[0;31mValueError\u001b[0m                                Traceback (most recent call last)",
      "\u001b[0;32m<ipython-input-4-ae5f59fa76ba>\u001b[0m in \u001b[0;36m<module>\u001b[0;34m\u001b[0m\n\u001b[1;32m     30\u001b[0m     \u001b[0mb_hat\u001b[0m \u001b[0;34m=\u001b[0m \u001b[0moptimize\u001b[0m\u001b[0;34m.\u001b[0m\u001b[0mbrute\u001b[0m\u001b[0;34m(\u001b[0m\u001b[0mloss_function\u001b[0m\u001b[0;34m,\u001b[0m \u001b[0mranges\u001b[0m\u001b[0;34m=\u001b[0m\u001b[0;34m[\u001b[0m\u001b[0;34m(\u001b[0m\u001b[0;36m0\u001b[0m\u001b[0;34m,\u001b[0m\u001b[0;36m2\u001b[0m\u001b[0;34m)\u001b[0m\u001b[0;34m,\u001b[0m \u001b[0;34m(\u001b[0m\u001b[0;34m-\u001b[0m\u001b[0;36m1\u001b[0m\u001b[0;34m,\u001b[0m\u001b[0;36m1\u001b[0m\u001b[0;34m)\u001b[0m\u001b[0;34m]\u001b[0m\u001b[0;34m)\u001b[0m\u001b[0;34m\u001b[0m\u001b[0;34m\u001b[0m\u001b[0m\n\u001b[1;32m     31\u001b[0m \u001b[0;34m\u001b[0m\u001b[0m\n\u001b[0;32m---> 32\u001b[0;31m     \u001b[0mdeviation\u001b[0m \u001b[0;34m=\u001b[0m \u001b[0mloss_function\u001b[0m\u001b[0;34m(\u001b[0m\u001b[0;34m[\u001b[0m\u001b[0mb0\u001b[0m\u001b[0;34m,\u001b[0m \u001b[0mb1\u001b[0m\u001b[0;34m,\u001b[0m \u001b[0mb2\u001b[0m\u001b[0;34m]\u001b[0m\u001b[0;34m)\u001b[0m\u001b[0;34m-\u001b[0m\u001b[0mloss_function\u001b[0m\u001b[0;34m(\u001b[0m\u001b[0mb_hat\u001b[0m\u001b[0;34m)\u001b[0m\u001b[0;34m\u001b[0m\u001b[0;34m\u001b[0m\u001b[0m\n\u001b[0m\u001b[1;32m     33\u001b[0m \u001b[0;34m\u001b[0m\u001b[0m\n\u001b[1;32m     34\u001b[0m     \u001b[0mdeviations\u001b[0m\u001b[0;34m.\u001b[0m\u001b[0mappend\u001b[0m\u001b[0;34m(\u001b[0m\u001b[0mdeviation\u001b[0m\u001b[0;34m)\u001b[0m\u001b[0;34m\u001b[0m\u001b[0;34m\u001b[0m\u001b[0m\n",
      "\u001b[0;32m<ipython-input-4-ae5f59fa76ba>\u001b[0m in \u001b[0;36mloss_function\u001b[0;34m(c)\u001b[0m\n\u001b[1;32m     24\u001b[0m \u001b[0;34m\u001b[0m\u001b[0m\n\u001b[1;32m     25\u001b[0m     \u001b[0;32mdef\u001b[0m \u001b[0mloss_function\u001b[0m\u001b[0;34m(\u001b[0m\u001b[0mc\u001b[0m\u001b[0;34m)\u001b[0m\u001b[0;34m:\u001b[0m\u001b[0;34m\u001b[0m\u001b[0;34m\u001b[0m\u001b[0m\n\u001b[0;32m---> 26\u001b[0;31m         \u001b[0ma\u001b[0m\u001b[0;34m,\u001b[0m \u001b[0mb\u001b[0m \u001b[0;34m=\u001b[0m \u001b[0mc\u001b[0m\u001b[0;34m\u001b[0m\u001b[0;34m\u001b[0m\u001b[0m\n\u001b[0m\u001b[1;32m     27\u001b[0m         \u001b[0mcef\u001b[0m \u001b[0;34m=\u001b[0m \u001b[0;32mlambda\u001b[0m \u001b[0mcov\u001b[0m\u001b[0;34m:\u001b[0m \u001b[0ma\u001b[0m\u001b[0;34m+\u001b[0m\u001b[0mb\u001b[0m\u001b[0;34m*\u001b[0m\u001b[0mcov\u001b[0m\u001b[0;34m[\u001b[0m\u001b[0;36m0\u001b[0m\u001b[0;34m]\u001b[0m\u001b[0;34m\u001b[0m\u001b[0;34m\u001b[0m\u001b[0m\n\u001b[1;32m     28\u001b[0m         \u001b[0;32mreturn\u001b[0m \u001b[0mget_loss_function\u001b[0m\u001b[0;34m(\u001b[0m\u001b[0mcovariates\u001b[0m\u001b[0;34m,\u001b[0m \u001b[0mmedian_upper\u001b[0m\u001b[0;34m,\u001b[0m \u001b[0mmedian_lower\u001b[0m\u001b[0;34m,\u001b[0m \u001b[0mcef\u001b[0m\u001b[0;34m)\u001b[0m\u001b[0;34m\u001b[0m\u001b[0;34m\u001b[0m\u001b[0m\n",
      "\u001b[0;31mValueError\u001b[0m: too many values to unpack (expected 2)"
     ]
    }
   ],
   "source": [
    "for i in range(50):\n",
    "    print(f\"Starting round {i+1}/50...\")\n",
    "    \n",
    "    b0 = np.random.random()\n",
    "    # b0 = 0\n",
    "\n",
    "    b1 = np.random.random()\n",
    "    # b1 = 0\n",
    "\n",
    "    # b2 = np.random.random()/2\n",
    "    b2 = 0\n",
    "\n",
    "\n",
    "    df.bids = df.apply(lambda row: simulate(row, (b0,b1,b2)), axis=1)\n",
    "    df.bids = df.bids.apply(lambda bids: [bid-min([bid[0] for bid in list(df.bids)]) for bid in bids])\n",
    "\n",
    "    include = df[(df.bidcount > 3) & (df.bidcount < 12)]\n",
    "\n",
    "    bids = list(include.bids)\n",
    "    covariates = [[cov] for cov in list(include.ispolice)]\n",
    "    \n",
    "    \n",
    "    median_upper, median_lower = estimate_median(bids, covariates, (0,10))\n",
    "    \n",
    "    def loss_function(c):\n",
    "        a, b = c\n",
    "        cef = lambda cov: a+b*cov[0]\n",
    "        return get_loss_function(covariates, median_upper, median_lower, cef)\n",
    "    \n",
    "    b_hat = optimize.brute(loss_function, ranges=[(0,2), (-1,1)])\n",
    "    \n",
    "    deviation = loss_function([b0, b1])-loss_function(b_hat)\n",
    "    \n",
    "    deviations.append(deviation)\n",
    "    \n",
    "    print(f\"difference is {deviation}\")"
   ]
  },
  {
   "cell_type": "code",
   "execution_count": null,
   "metadata": {},
   "outputs": [],
   "source": [
    "b_hat = optimize.brute(loss_function, ranges=[(0,2), (-1,1)])\n",
    "# interval_lower = optimize.newton(lambda a_l, b_l: loss_function(a_l, b_l)-loss_function(b_hat)-10, b_hat-0.1)\n",
    "# interval_upper = optimize.newton(lambda b_l, b_u: loss_function(b_l, b_u)-loss_function(b_hat)-10, b_hat+0.1)"
   ]
  },
  {
   "cell_type": "code",
   "execution_count": null,
   "metadata": {
    "scrolled": true
   },
   "outputs": [],
   "source": [
    "print(loss_function(b_hat))\n",
    "print(loss_function([b0, b2]))"
   ]
  },
  {
   "cell_type": "code",
   "execution_count": null,
   "metadata": {},
   "outputs": [],
   "source": [
    "print(b_hat)\n",
    "print([b0, b2])"
   ]
  },
  {
   "cell_type": "code",
   "execution_count": null,
   "metadata": {},
   "outputs": [],
   "source": [
    "import matplotlib.pyplot as plt\n",
    "\n",
    "x_points = np.linspace(0,2,num=50)\n",
    "y_points = np.linspace(0,2,num=50)\n",
    "\n",
    "fig = plt.figure(figsize = (10,10))\n",
    "ax = plt.axes(projection='3d')\n",
    "\n",
    "X, Y = np.meshgrid(x_points, y_points)\n",
    "dps = ([np.ravel(X), np.ravel(Y)])\n",
    "zs = np.array([loss_function(pair) for pair in list(zip(np.ravel(X), np.ravel(Y)))])\n",
    "Z = zs.reshape(X.shape)\n",
    "\n",
    "ax.plot_surface(X,Y,Z)\n",
    "\n",
    "plt.show()"
   ]
  }
 ],
 "metadata": {
  "kernelspec": {
   "display_name": "Python 3",
   "language": "python",
   "name": "python3"
  },
  "language_info": {
   "codemirror_mode": {
    "name": "ipython",
    "version": 3
   },
   "file_extension": ".py",
   "mimetype": "text/x-python",
   "name": "python",
   "nbconvert_exporter": "python",
   "pygments_lexer": "ipython3",
   "version": "3.8.5"
  }
 },
 "nbformat": 4,
 "nbformat_minor": 4
}
