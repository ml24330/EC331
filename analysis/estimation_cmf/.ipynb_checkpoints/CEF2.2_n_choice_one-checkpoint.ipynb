{
 "cells": [
  {
   "cell_type": "markdown",
   "metadata": {},
   "source": [
    "Here we estimate the following conditional expectation function:\n",
    "$$\n",
    "\\mathbb{E}[valuation_i|ispolice_i, log\\_sellerfeedbackscore_i]=\\alpha+\\beta_1 ispolice_i + \\beta_2log\\_sellerfeedbackscore_i,\n",
    "$$\n",
    "using the entire sample where the number of bids received is equal to 6."
   ]
  },
  {
   "cell_type": "code",
   "execution_count": 1,
   "metadata": {},
   "outputs": [],
   "source": [
    "import pandas as pd\n",
    "import numpy as np\n",
    "from scipy import optimize\n",
    "from main import estimate_mean, get_loss_function\n",
    "\n",
    "data = pd.read_csv(\"../../data/demeaned.csv\")\n",
    "df = data.groupby([\"id\", \"ispolice\", \"sellerfeedbackscore\", \"bidcount\", \"apple\", \"amazon\"])[\"bids\"].apply(lambda x: x.values).reset_index()"
   ]
  },
  {
   "cell_type": "code",
   "execution_count": 2,
   "metadata": {},
   "outputs": [
    {
     "name": "stderr",
     "output_type": "stream",
     "text": [
      "/Users/liumukun/Desktop/projects/eme/analysis/estimation/main.py:300: RuntimeWarning: Mean of empty slice.\n",
      "  covariates[order] = covariates[order].mean()\n",
      "/Users/liumukun/anaconda3/lib/python3.8/site-packages/numpy/core/_methods.py:189: RuntimeWarning: invalid value encountered in double_scalars\n",
      "  ret = ret.dtype.type(ret / rcount)\n",
      "/Users/liumukun/anaconda3/lib/python3.8/site-packages/pandas/core/generic.py:5168: SettingWithCopyWarning: \n",
      "A value is trying to be set on a copy of a slice from a DataFrame.\n",
      "Try using .loc[row_indexer,col_indexer] = value instead\n",
      "\n",
      "See the caveats in the documentation: https://pandas.pydata.org/pandas-docs/stable/user_guide/indexing.html#returning-a-view-versus-a-copy\n",
      "  self[name] = value\n"
     ]
    }
   ],
   "source": [
    "include = df[df.bidcount == 6]\n",
    "\n",
    "bids = list(include.bids)\n",
    "\n",
    "logged_feedback = np.log(include.sellerfeedbackscore+1)\n",
    "logged_feedback = transform_covariates(logged_feedback, 100)\n",
    "include.sellerfeedbackscore = logged_feedback\n",
    "\n",
    "covariates = np.array(include[[\"ispolice\", \"sellerfeedbackscore\"]])\n",
    "covariates = list([list(cov) for cov in covariates])"
   ]
  },
  {
   "cell_type": "code",
   "execution_count": 3,
   "metadata": {
    "scrolled": true
   },
   "outputs": [
    {
     "name": "stdout",
     "output_type": "stream",
     "text": [
      "calculating values for covariate: [0.0, 7.6290038896529575] (1/100)\n",
      "total time elapsed: 0.008287569000000161s\n"
     ]
    },
    {
     "name": "stderr",
     "output_type": "stream",
     "text": [
      "/Users/liumukun/anaconda3/lib/python3.8/site-packages/scipy/stats/_distn_infrastructure.py:1695: IntegrationWarning: The maximum number of subdivisions (50) has been achieved.\n",
      "  If increasing the limit yields no improvement it is advised to analyze \n",
      "  the integrand in order to determine the difficulties.  If the position of a \n",
      "  local difficulty can be determined (singularity, discontinuity) one will \n",
      "  probably gain from splitting up the interval and calling the integrator \n",
      "  on the subranges.  Perhaps a special-purpose integrator should be used.\n",
      "  return integrate.quad(self._mom_integ1, 0, 1, args=(m,)+args)[0]\n"
     ]
    },
    {
     "name": "stdout",
     "output_type": "stream",
     "text": [
      "calculating values for covariate: [0.0, 4.653960350157523] (2/100)\n",
      "total time elapsed: 26.894708074s\n",
      "calculating values for covariate: [0.0, 6.882437470997846] (3/100)\n",
      "total time elapsed: 55.598566273s\n",
      "calculating values for covariate: [0.0, 5.605802066295998] (4/100)\n",
      "total time elapsed: 79.223135931s\n",
      "calculating values for covariate: [0.0, 3.8918202981106265] (5/100)\n",
      "total time elapsed: 101.878826628s\n",
      "calculating values for covariate: [0.0, 7.789868559054706] (6/100)\n",
      "total time elapsed: 129.235715138s\n",
      "calculating values for covariate: [0.0, 5.420534999272286] (7/100)\n",
      "total time elapsed: 150.208779248s\n",
      "calculating values for covariate: [0.0, 6.410174881966167] (8/100)\n",
      "total time elapsed: 170.177853923s\n",
      "calculating values for covariate: [0.0, 5.545177444479562] (9/100)\n",
      "total time elapsed: 190.915861865s\n",
      "calculating values for covariate: [0.0, 6.862757913051401] (10/100)\n",
      "total time elapsed: 215.476407237s\n",
      "calculating values for covariate: [0.0, 6.7464121285733745] (11/100)\n",
      "total time elapsed: 238.226960508s\n",
      "calculating values for covariate: [0.0, 5.768320995793772] (12/100)\n",
      "total time elapsed: 261.680267665s\n",
      "calculating values for covariate: [0.0, 8.41027590907016] (13/100)\n",
      "total time elapsed: 285.99199589399996s\n",
      "calculating values for covariate: [0.0, 7.480992162869525] (14/100)\n",
      "total time elapsed: 311.83574033099995s\n",
      "calculating values for covariate: [0.0, 4.983606621708336] (15/100)\n",
      "total time elapsed: 338.80465687199995s\n",
      "calculating values for covariate: [0.0, 5.627621113690637] (16/100)\n",
      "total time elapsed: 361.36821520999996s\n",
      "calculating values for covariate: [0.0, 2.1972245773362196] (17/100)\n",
      "total time elapsed: 384.16989914s\n",
      "calculating values for covariate: [0.0, 6.33682573114644] (18/100)\n",
      "total time elapsed: 407.214968738s\n",
      "calculating values for covariate: [0.0, 10.693511775638694] (19/100)\n",
      "total time elapsed: 429.925651659s\n",
      "calculating values for covariate: [0.0, 9.803145478962218] (20/100)\n",
      "total time elapsed: 452.466197594s\n",
      "calculating values for covariate: [0.0, 6.194405391104673] (21/100)\n",
      "total time elapsed: 475.244952035s\n",
      "calculating values for covariate: [0.0, 3.091042453358316] (22/100)\n",
      "total time elapsed: 498.10948712799996s\n",
      "calculating values for covariate: [0.0, 5.176149732573829] (23/100)\n",
      "total time elapsed: 520.3821695280001s\n",
      "calculating values for covariate: [0.0, 5.003946305945459] (24/100)\n",
      "total time elapsed: 542.7777255990001s\n",
      "calculating values for covariate: [0.0, 12.689765831250803] (25/100)\n",
      "total time elapsed: 565.258983119s\n",
      "calculating values for covariate: [0.0, 4.543294782270004] (26/100)\n",
      "total time elapsed: 587.982900221s\n",
      "calculating values for covariate: [0.0, 3.5263605246161616] (27/100)\n",
      "total time elapsed: 610.51756107s\n",
      "calculating values for covariate: [0.0, 4.007333185232471] (28/100)\n",
      "total time elapsed: 633.391622857s\n",
      "calculating values for covariate: [0.0, 4.30406509320417] (29/100)\n",
      "total time elapsed: 655.68673518s\n",
      "calculating values for covariate: [0.0, 5.4638318050256105] (30/100)\n",
      "total time elapsed: 678.570484934s\n",
      "calculating values for covariate: [0.0, 5.820082930352362] (31/100)\n",
      "total time elapsed: 700.9862251640001s\n",
      "calculating values for covariate: [0.0, 7.805882040228622] (32/100)\n",
      "total time elapsed: 725.4088607040001s\n",
      "calculating values for covariate: [0.0, 5.758901773877281] (33/100)\n",
      "total time elapsed: 751.275358581s\n",
      "calculating values for covariate: [0.0, 6.9726062513017535] (34/100)\n",
      "total time elapsed: 777.961649531s\n",
      "calculating values for covariate: [0.0, 5.267858159063328] (35/100)\n",
      "total time elapsed: 815.4534551400001s\n",
      "calculating values for covariate: [0.0, 4.330733340286331] (36/100)\n",
      "total time elapsed: 851.6073725570001s\n",
      "calculating values for covariate: [0.0, 5.288267030694535] (37/100)\n",
      "total time elapsed: 885.1189523310001s\n",
      "calculating values for covariate: [0.0, 5.877735781779639] (38/100)\n",
      "total time elapsed: 916.264409923s\n",
      "calculating values for covariate: [0.0, 8.27614021955846] (39/100)\n",
      "total time elapsed: 944.799070096s\n",
      "calculating values for covariate: [0.0, 5.509388336627977] (40/100)\n",
      "total time elapsed: 975.917494744s\n",
      "calculating values for covariate: [0.0, 6.570882962339584] (41/100)\n",
      "total time elapsed: 1004.5394351580001s\n",
      "calculating values for covariate: [0.0, 7.809135398120539] (42/100)\n",
      "total time elapsed: 1032.832916643s\n",
      "calculating values for covariate: [0.0, 13.293416061617572] (43/100)\n",
      "total time elapsed: 1058.4468061740001s\n",
      "calculating values for covariate: [0.0, 6.954638864880987] (44/100)\n",
      "total time elapsed: 1085.414939488s\n",
      "calculating values for covariate: [0.0, 6.049733455231958] (45/100)\n",
      "total time elapsed: 1110.21390175s\n",
      "calculating values for covariate: [0.0, 8.155362120328135] (46/100)\n",
      "total time elapsed: 1136.613357774s\n",
      "calculating values for covariate: [0.0, 3.4657359027997265] (47/100)\n",
      "total time elapsed: 1162.758926921s\n",
      "calculating values for covariate: [0.0, 9.568023907115768] (48/100)\n",
      "total time elapsed: 1187.525728731s\n",
      "calculating values for covariate: [0.0, 10.753805903787349] (49/100)\n",
      "total time elapsed: 1213.594650739s\n",
      "calculating values for covariate: [0.0, 8.033999530910515] (50/100)\n",
      "total time elapsed: 1243.833005966s\n",
      "calculating values for covariate: [0.0, 6.606935861605327] (51/100)\n",
      "total time elapsed: 1268.079482057s\n",
      "calculating values for covariate: [0.0, 2.6390573296152584] (52/100)\n",
      "total time elapsed: 1292.8534419520001s\n",
      "calculating values for covariate: [0.0, 8.182559264068663] (53/100)\n",
      "total time elapsed: 1317.428828803s\n",
      "calculating values for covariate: [0.0, 5.659482215759621] (54/100)\n",
      "total time elapsed: 1343.302457033s\n",
      "calculating values for covariate: [0.0, 9.481255893085342] (55/100)\n",
      "total time elapsed: 1372.567758428s\n",
      "calculating values for covariate: [0.0, 6.492239835020471] (56/100)\n",
      "total time elapsed: 1411.267677966s\n",
      "calculating values for covariate: [0.0, 5.293304824724492] (57/100)\n",
      "total time elapsed: 1437.7408970230001s\n",
      "calculating values for covariate: [0.0, 4.9487598903781675] (58/100)\n",
      "total time elapsed: 1462.183834782s\n",
      "calculating values for covariate: [0.0, 6.669498089857879] (59/100)\n",
      "total time elapsed: 1483.192903059s\n",
      "calculating values for covariate: [0.0, 4.6443908991413725] (60/100)\n",
      "total time elapsed: 1503.123493556s\n",
      "calculating values for covariate: [0.0, 3.828641396489095] (61/100)\n",
      "total time elapsed: 1524.5046672170001s\n",
      "calculating values for covariate: [0.0, 1.0986122886681098] (62/100)\n",
      "total time elapsed: 1547.4294688s\n",
      "calculating values for covariate: [0.0, 6.778784897685177] (63/100)\n",
      "total time elapsed: 1569.582257655s\n",
      "calculating values for covariate: [0.0, 7.304515946460155] (64/100)\n",
      "total time elapsed: 1595.016007502s\n",
      "calculating values for covariate: [0.0, 9.487024917706549] (65/100)\n",
      "total time elapsed: 1617.039768634s\n",
      "calculating values for covariate: [0.0, 6.056784013228625] (66/100)\n",
      "total time elapsed: 1638.944935922s\n",
      "calculating values for covariate: [0.0, 5.017279836814924] (67/100)\n",
      "total time elapsed: 1660.12431085s\n",
      "calculating values for covariate: [0.0, 6.61046362201656] (68/100)\n",
      "total time elapsed: 1681.961106122s\n",
      "calculating values for covariate: [0.0, 6.1882641230825906] (69/100)\n",
      "total time elapsed: 1702.122837069s\n",
      "calculating values for covariate: [0.0, 4.060443010546419] (70/100)\n",
      "total time elapsed: 1724.265139467s\n",
      "calculating values for covariate: [0.0, 7.412160334945206] (71/100)\n",
      "total time elapsed: 1744.590921231s\n",
      "calculating values for covariate: [0.0, 5.910796644040528] (72/100)\n",
      "total time elapsed: 1764.056607399s\n",
      "calculating values for covariate: [0.0, 0.6931471805599453] (73/100)\n",
      "total time elapsed: 1784.321136926s\n",
      "calculating values for covariate: [0.0, 2.0794415416798357] (74/100)\n",
      "total time elapsed: 1807.446428228s\n",
      "calculating values for covariate: [0.0, 1.3862943611198906] (75/100)\n",
      "total time elapsed: 1829.429090901s\n",
      "calculating values for covariate: [0.0, 6.401917196727186] (76/100)\n",
      "total time elapsed: 1850.553304581s\n",
      "calculating values for covariate: [0.0, 6.061456918928017] (77/100)\n",
      "total time elapsed: 1871.6167373370001s\n",
      "calculating values for covariate: [0.0, 6.823286122355687] (78/100)\n",
      "total time elapsed: 1894.00533568s\n",
      "calculating values for covariate: [0.0, 7.7142311448490855] (79/100)\n",
      "total time elapsed: 1915.607439589s\n",
      "calculating values for covariate: [0.0, 4.110873864173311] (80/100)\n",
      "total time elapsed: 1941.923984945s\n"
     ]
    },
    {
     "name": "stdout",
     "output_type": "stream",
     "text": [
      "calculating values for covariate: [0.0, 6.093569770045136] (81/100)\n",
      "total time elapsed: 1962.459825656s\n",
      "calculating values for covariate: [0.0, 2.302585092994046] (82/100)\n",
      "total time elapsed: 1981.360362358s\n",
      "calculating values for covariate: [0.0, 4.700480365792417] (83/100)\n",
      "total time elapsed: 2000.407768847s\n",
      "calculating values for covariate: [0.0, 5.8916442118257715] (84/100)\n",
      "total time elapsed: 2020.841184765s\n",
      "calculating values for covariate: [1.0, 9.955277308666151] (85/100)\n",
      "total time elapsed: 2037.516462813s\n"
     ]
    }
   ],
   "source": [
    "expected_upper, expected_lower = estimate_mean(bids, covariates, (0,9))"
   ]
  },
  {
   "cell_type": "code",
   "execution_count": 4,
   "metadata": {},
   "outputs": [],
   "source": [
    "def loss_function(c):\n",
    "    a, b1, b2 = c\n",
    "    cef = lambda cov: a+b1*cov[0]+b2*cov[1]\n",
    "    return get_loss_function(covariates, expected_upper, expected_lower, cef)\n",
    "\n",
    "b_hat = optimize.brute(loss_function, ranges=[(0,2), (-1,1), (-1,1)])\n",
    "# interval_lower = optimize.newton(lambda a_l, b_l: loss_function(a_l, b_l)-loss_function(b_hat)-10, b_hat-0.1)\n",
    "# interval_upper = optimize.newton(lambda b_l, b_u: loss_function(b_l, b_u)-loss_function(b_hat)-10, b_hat+0.1)"
   ]
  },
  {
   "cell_type": "code",
   "execution_count": 5,
   "metadata": {},
   "outputs": [
    {
     "data": {
      "text/plain": [
       "array([0.59476515, 0.15436438, 0.00078184])"
      ]
     },
     "execution_count": 5,
     "metadata": {},
     "output_type": "execute_result"
    }
   ],
   "source": [
    "b_hat"
   ]
  },
  {
   "cell_type": "code",
   "execution_count": 6,
   "metadata": {},
   "outputs": [],
   "source": [
    "def loss_function(c):\n",
    "    a, b1, b2, b3 = c\n",
    "    cef = lambda cov: a+b1*cov[0]+b2*cov[1]+b3*cov[0]*cov[1]\n",
    "    return get_loss_function(covariates, expected_upper, expected_lower, cef)\n",
    "\n",
    "b_hat_2 = optimize.brute(loss_function, ranges=[(0,2), (-1,1), (-1,1), (-1,1)])\n",
    "# interval_lower = optimize.newton(lambda a_l, b_l: loss_function(a_l, b_l)-loss_function(b_hat)-10, b_hat-0.1)\n",
    "# interval_upper = optimize.newton(lambda b_l, b_u: loss_function(b_l, b_u)-loss_function(b_hat)-10, b_hat+0.1)"
   ]
  },
  {
   "cell_type": "code",
   "execution_count": 7,
   "metadata": {},
   "outputs": [
    {
     "data": {
      "text/plain": [
       "array([ 0.5947999 , -0.43161861,  0.0007786 ,  0.04905682])"
      ]
     },
     "execution_count": 7,
     "metadata": {},
     "output_type": "execute_result"
    }
   ],
   "source": [
    "b_hat_2"
   ]
  }
 ],
 "metadata": {
  "kernelspec": {
   "display_name": "Python 3",
   "language": "python",
   "name": "python3"
  },
  "language_info": {
   "codemirror_mode": {
    "name": "ipython",
    "version": 3
   },
   "file_extension": ".py",
   "mimetype": "text/x-python",
   "name": "python",
   "nbconvert_exporter": "python",
   "pygments_lexer": "ipython3",
   "version": "3.8.5"
  }
 },
 "nbformat": 4,
 "nbformat_minor": 4
}
