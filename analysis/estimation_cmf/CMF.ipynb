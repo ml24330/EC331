{
 "cells": [
  {
   "cell_type": "code",
   "execution_count": 2,
   "metadata": {},
   "outputs": [
    {
     "name": "stderr",
     "output_type": "stream",
     "text": [
      "/Users/liumukun/anaconda3/lib/python3.8/site-packages/pandas/core/computation/expressions.py:20: UserWarning: Pandas requires version '2.7.3' or newer of 'numexpr' (version '2.7.1' currently installed).\n",
      "  from pandas.core.computation.check import NUMEXPR_INSTALLED\n"
     ]
    }
   ],
   "source": [
    "import sys\n",
    "import pandas as pd\n",
    " \n",
    "sys.path.append('../')\n",
    "\n",
    "from functions import *\n",
    "\n",
    "data = pd.read_csv(\"../../data/demeaned.csv\")\n",
    "df = data.groupby([\"id\", \"ispolice\", \"sellerfeedbackscore\", \"bidcount\", \"apple\", \"amazon\", \"increment_residual\"])[\"residual\"].apply(lambda x: x.values).reset_index()"
   ]
  },
  {
   "cell_type": "code",
   "execution_count": 3,
   "metadata": {},
   "outputs": [
    {
     "name": "stderr",
     "output_type": "stream",
     "text": [
      "<ipython-input-3-72b2804822f4>:8: SettingWithCopyWarning: \n",
      "A value is trying to be set on a copy of a slice from a DataFrame.\n",
      "Try using .loc[row_indexer,col_indexer] = value instead\n",
      "\n",
      "See the caveats in the documentation: https://pandas.pydata.org/pandas-docs/stable/user_guide/indexing.html#returning-a-view-versus-a-copy\n",
      "  include.sellerfeedbackscore = logged_feedback\n"
     ]
    }
   ],
   "source": [
    "valid_bids = list(df[df.ispolice == 1].bidcount.value_counts().index)\n",
    "include = df[(df.bidcount > 1) & (df.bidcount.isin(valid_bids))]\n",
    "\n",
    "bids = list(include.residual)\n",
    "\n",
    "logged_feedback = np.log(include.sellerfeedbackscore+1)\n",
    "logged_feedback = transform_covariates(logged_feedback, 100)\n",
    "include.sellerfeedbackscore = logged_feedback\n",
    "\n",
    "covariates = np.array(include[[\"ispolice\", \"sellerfeedbackscore\"]])\n",
    "covariates = list([list(cov) for cov in covariates])\n",
    "incremented = list(include.increment_residual)"
   ]
  },
  {
   "cell_type": "code",
   "execution_count": null,
   "metadata": {
    "scrolled": true
   },
   "outputs": [
    {
     "name": "stdout",
     "output_type": "stream",
     "text": [
      "calculating values for covariate: [1.0, 10.094912597722205] (1/99)\n",
      "total time elapsed: 0.0001593980000000883s\n",
      "calculating values for covariate: [0.0, 2.05067072014674] (2/99)\n",
      "total time elapsed: 121.867780628s\n",
      "calculating values for covariate: [0.0, 6.410962598537746] (3/99)\n",
      "total time elapsed: 242.443792789s\n",
      "calculating values for covariate: [0.0, 5.016042433119295] (4/99)\n",
      "total time elapsed: 383.03907105499997s\n",
      "calculating values for covariate: [0.0, 4.849364685574428] (5/99)\n",
      "total time elapsed: 518.99732824s\n",
      "calculating values for covariate: [0.0, 5.270393880865785] (6/99)\n",
      "total time elapsed: 688.041211835s\n",
      "calculating values for covariate: [0.0, 10.59365449453866] (7/99)\n",
      "total time elapsed: 838.332478059s\n",
      "calculating values for covariate: [0.0, 6.655428694493396] (8/99)\n",
      "total time elapsed: 995.444900899s\n",
      "calculating values for covariate: [0.0, 7.677894253006165] (9/99)\n",
      "total time elapsed: 1100.123318155s\n",
      "calculating values for covariate: [0.0, 5.421126171290776] (10/99)\n",
      "total time elapsed: 1201.608179091s\n",
      "calculating values for covariate: [0.0, 7.3673355186747544] (11/99)\n",
      "total time elapsed: 1302.022195657s\n",
      "calculating values for covariate: [0.0, 4.495960890740944] (12/99)\n",
      "total time elapsed: 1403.684517186s\n",
      "calculating values for covariate: [0.0, 6.509948407483026] (13/99)\n",
      "total time elapsed: 1500.1234882850001s\n",
      "calculating values for covariate: [0.0, 7.303470165357671] (14/99)\n",
      "total time elapsed: 1604.507536095s\n",
      "calculating values for covariate: [0.0, 7.058687446432212] (15/99)\n",
      "total time elapsed: 1709.753250368s\n",
      "calculating values for covariate: [0.0, 7.997449812893557] (16/99)\n",
      "total time elapsed: 1818.182528204s\n",
      "calculating values for covariate: [0.0, 8.150916717720165] (17/99)\n",
      "total time elapsed: 2252.285762715s\n"
     ]
    }
   ],
   "source": [
    "median_upper, median_lower = estimate_median(bids, covariates, incremented, (-4,6))\n",
    "dump(median_lower, median_upper, \"CMF_main\")"
   ]
  },
  {
   "cell_type": "code",
   "execution_count": null,
   "metadata": {},
   "outputs": [],
   "source": [
    "percentile = lambda p: np.percentile(np.array(include.sellerfeedbackscore), p)\n",
    "\n",
    "cef1 = lambda c, cov: c[0]*(1-cov[0])+c[1]*cov[0]+c[2]*cov[1]*(1-cov[0])+c[3]*cov[1]*cov[0]\n",
    "n_cov1 = 4\n",
    "\n",
    "def cef2(c, cov):\n",
    "    low = int(cov[1] >= percentile(0) and cov[1] < percentile(91.5))\n",
    "    high = int(cov[1] >= percentile(91.5) and cov[1] <= percentile(100))\n",
    "    return c[0]*cov[1] + c[1]*(1-cov[1]) + c[2]*cov[1]*high + c[3]*(1-cov[1])*high\n",
    "n_cov2 = 4\n",
    "\n",
    "def cef3(c,cov):\n",
    "    feedback = np.exp(cov[1])-1\n",
    "    return c[0]*(1-cov[0]) + c[1]*cov[0] + c[2]*feedback*(1-cov[0]) + c[3]*feedback*cov[0] + \\\n",
    "        c[4]*feedback**2*(1-cov[0]) + c[5]*feedback**2*cov[0]\n",
    "n_cov3 = 6\n",
    "\n",
    "def cef4(c,cov):\n",
    "    feedback = np.exp(cov[1])-1\n",
    "    return c[0]*(1-cov[0]) + c[1]*cov[0] + c[2]*feedback*(1-cov[0]) + c[3]*feedback*cov[0] + \\\n",
    "        c[4]*feedback**2*(1-cov[0]) + c[5]*feedback**2*cov[0] + c[6]*feedback**3*(1-cov[0]) + \\\n",
    "        c[7]*feedback**3*cov[0]\n",
    "n_cov3 = 8"
   ]
  },
  {
   "cell_type": "code",
   "execution_count": null,
   "metadata": {
    "scrolled": true
   },
   "outputs": [],
   "source": [
    "def loss_function1(c):\n",
    "    cef = lambda cov: cef1(c, cov)\n",
    "    return get_loss_function(covariates, median_upper, median_lower, cef)\n",
    "\n",
    "point1, interval1 = get_estimates(loss_function1, n_cov1)\n",
    "\n",
    "print(point1)\n",
    "print(interval1)"
   ]
  },
  {
   "cell_type": "code",
   "execution_count": null,
   "metadata": {},
   "outputs": [],
   "source": [
    "def loss_function2(c):\n",
    "    cef = lambda cov: cef2(c, cov)\n",
    "    return get_loss_function(covariates, median_upper, median_lower, cef)\n",
    "\n",
    "point2, interval2 = get_estimates(loss_function2, n_cov2)\n",
    "\n",
    "print(point2)\n",
    "print(interval2)"
   ]
  },
  {
   "cell_type": "code",
   "execution_count": null,
   "metadata": {},
   "outputs": [],
   "source": [
    "def loss_function3(c):\n",
    "    cef = lambda cov: cef3(c, cov)\n",
    "    return get_loss_function(covariates, median_upper, median_lower, cef)\n",
    "\n",
    "point3, interval3 = get_estimates(loss_function3, n_cov3)\n",
    "\n",
    "print(point3)\n",
    "print(interval3)"
   ]
  },
  {
   "cell_type": "code",
   "execution_count": null,
   "metadata": {},
   "outputs": [],
   "source": [
    "def loss_function4(c):\n",
    "    cef = lambda cov: cef3(c, cov)\n",
    "    return get_loss_function(covariates, median_upper, median_lower, cef)\n",
    "\n",
    "point4, interval4 = get_estimates(loss_function4, n_cov4)\n",
    "\n",
    "print(point4)\n",
    "print(interval4)"
   ]
  },
  {
   "cell_type": "code",
   "execution_count": null,
   "metadata": {
    "scrolled": true
   },
   "outputs": [],
   "source": [
    "results = bootstrap(bids, covariates, incremented, [n_cov1, n_cov2, n_cov3, n_cov4], [cef1, cef2, cef3, cef4], 30, \"main\")"
   ]
  }
 ],
 "metadata": {
  "kernelspec": {
   "display_name": "Python 3",
   "language": "python",
   "name": "python3"
  },
  "language_info": {
   "codemirror_mode": {
    "name": "ipython",
    "version": 3
   },
   "file_extension": ".py",
   "mimetype": "text/x-python",
   "name": "python",
   "nbconvert_exporter": "python",
   "pygments_lexer": "ipython3",
   "version": "3.8.5"
  }
 },
 "nbformat": 4,
 "nbformat_minor": 4
}
