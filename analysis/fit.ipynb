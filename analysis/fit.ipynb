{
 "cells": [
  {
   "cell_type": "code",
   "execution_count": 1,
   "metadata": {
    "scrolled": true
   },
   "outputs": [
    {
     "name": "stderr",
     "output_type": "stream",
     "text": [
      "/Users/liumukun/anaconda3/lib/python3.8/site-packages/pandas/core/generic.py:5168: SettingWithCopyWarning: \n",
      "A value is trying to be set on a copy of a slice from a DataFrame.\n",
      "Try using .loc[row_indexer,col_indexer] = value instead\n",
      "\n",
      "See the caveats in the documentation: https://pandas.pydata.org/pandas-docs/stable/user_guide/indexing.html#returning-a-view-versus-a-copy\n",
      "  self[name] = value\n"
     ]
    }
   ],
   "source": [
    "import pandas as pd\n",
    "import numpy as np\n",
    "from scipy import optimize, stats\n",
    "import seaborn as sns\n",
    "from statsmodels.nonparametric import kernel_regression\n",
    "\n",
    "data = pd.read_csv(\"../data/demeaned.csv\")\n",
    "df = data.groupby([\"id\", \"ispolice\", \"sellerfeedbackscore\", \"bidcount\", \"apple\", \"amazon\", \"increment_residual\"])[\"residual\"].apply(lambda x: x.values).reset_index()\n",
    "valid_bids = list(df[(df.ispolice == 1) & (df.bidcount > 1)].bidcount.value_counts().index)\n",
    "include = df[df.bidcount.isin(valid_bids)]\n",
    "\n",
    "include.sellerfeedbackscore = np.log(include.sellerfeedbackscore+1)\n",
    "nonpolice = include[include.ispolice == 0]\n",
    "ispolice = include[include.ispolice == 1]"
   ]
  },
  {
   "cell_type": "code",
   "execution_count": 2,
   "metadata": {},
   "outputs": [],
   "source": [
    "nonpolice_dict = {}\n",
    "police_dict = {}\n",
    "\n",
    "def get_tuple(row):\n",
    "    return (row.sellerfeedbackscore, row.residual)\n",
    "\n",
    "for i in valid_bids:\n",
    "    nonpolice_dict[f\"{i}\"] = list(nonpolice[nonpolice.bidcount == i].explode(\"residual\").reset_index(drop=True).apply(get_tuple, axis=1))\n",
    "    police_dict[f\"{i}\"] = list(ispolice[ispolice.bidcount == i].explode(\"residual\").reset_index(drop=True).apply(get_tuple, axis=1))"
   ]
  },
  {
   "cell_type": "code",
   "execution_count": 3,
   "metadata": {
    "scrolled": true
   },
   "outputs": [],
   "source": [
    "# y = list(include.explode(\"bids\").bids)\n",
    "# x = list(include.explode(\"bids\").sellerfeedbackscore)\n",
    "# y = [np.log(_y+1) for _y in y]\n",
    "\n",
    "# g = sns.JointGrid(x=x, y=y, marginal_ticks=True)\n",
    "# g.plot_joint(\n",
    "#     sns.histplot, discrete=(True, False),\n",
    "#     cmap=\"light:#03012d\", pmax=.8, cbar=True\n",
    "# )\n",
    "# g.plot_marginals(sns.histplot, element=\"step\", color=\"#03012d\")"
   ]
  },
  {
   "cell_type": "code",
   "execution_count": 4,
   "metadata": {
    "scrolled": true
   },
   "outputs": [],
   "source": [
    "fits = {}\n",
    "\n",
    "l = ispolice.explode(\"residual\")\n",
    "l.residual = l.residual.astype(float)\n",
    "police_cov = np.cov(l.residual, l.sellerfeedbackscore)[0][1]\n",
    "\n",
    "\n",
    "for i in valid_bids:\n",
    "    tuples = nonpolice_dict[f\"{i}\"]\n",
    "    x = np.array([t[0] for t in tuples])\n",
    "    y = np.array([t[1] for t in tuples])\n",
    "    \n",
    "    police_x = np.array([t[0] for t in police_dict[f\"{i}\"]])\n",
    "    police_y = np.array([t[1] for t in police_dict[f\"{i}\"]])\n",
    "    \n",
    "    \n",
    "    non_x0 = x.mean()\n",
    "    non_x_sig = x.var()\n",
    "    non_cov = np.cov(x,y)[0][1]\n",
    "    police_y0 = police_y.mean()\n",
    "    police_y_sig = police_y.var()\n",
    "    cov = np.array([[non_x_sig, police_cov], [police_cov, police_y_sig]])\n",
    "    \n",
    "    min_eig = np.min(np.real(np.linalg.eigvals(cov)))\n",
    "    if min_eig < 0:\n",
    "        cov -= 10*min_eig * np.eye(*cov.shape)\n",
    "    \n",
    "    normal_fit = stats.multivariate_normal(mean=[non_x0, police_y0], cov=cov)\n",
    "    \n",
    "    fits[f\"{i}\"] = normal_fit\n",
    "\n",
    "#     marginal = lambda x: normal_fit.pdf([9.95527731, x])\n",
    "    \n",
    "#     values = np.linspace(-5,5,num=100)\n",
    "#     plt.hist(police_y, bins=10, weights=[1/len(police_y)]*len(police_y))\n",
    "#     plt.plot(values, [marginal(v) for v in values])\n",
    "#     plt.title(f\"{i} bids\")\n",
    "#     plt.show()\n",
    "    "
   ]
  },
  {
   "cell_type": "code",
   "execution_count": 5,
   "metadata": {
    "scrolled": true
   },
   "outputs": [],
   "source": [
    "def get_dist(joint_rv, x):\n",
    "    mean = joint_rv.mean[1] + joint_rv.cov[1][0] * (1 / joint_rv.cov[0][0]) * (x - joint_rv.mean[0])\n",
    "    var = joint_rv.cov[1][1] - (joint_rv.cov[1][0]**2) * (1 / joint_rv.cov[0][0])\n",
    "    return stats.norm(loc=mean, scale=var**0.5)\n",
    "\n",
    "df2 = pd.DataFrame(columns=[\"sellerfeedbackscore\", \"increment_residual\", \"residual\", \"bidcount\"])\n",
    "cols = [\"sellerfeedbackscore\", \"increment_residual\", \"residual\", \"bidcount\", \"ispolice\"]\n",
    "\n",
    "for i in valid_bids:\n",
    "    feedbacks = list(nonpolice[nonpolice.bidcount == i].sellerfeedbackscore)\n",
    "    fit = fits[f\"{i}\"]\n",
    "    simulated = [(f, -1, sorted(get_dist(fit, f).rvs(size=i))[::-1], i, 1) for f in feedbacks]\n",
    "    \n",
    "    new_df = pd.DataFrame(simulated, columns=cols)\n",
    "    df2 = df2.append(new_df, ignore_index=True)\n",
    "    \n",
    "df2 = df2.append(nonpolice[cols], ignore_index=True)"
   ]
  },
  {
   "cell_type": "code",
   "execution_count": 6,
   "metadata": {},
   "outputs": [],
   "source": [
    "exog = df2[df2.increment_residual != -1].residual.apply(lambda x: x[0])\n",
    "endog = df2[df2.increment_residual != -1].increment_residual.astype(float)\n",
    "\n",
    "model = kernel_regression.KernelReg(endog, exog, \"c\")\n",
    "\n",
    "def impute(row):\n",
    "    if row.increment_residual != -1:\n",
    "        return row.increment_residual\n",
    "    else:\n",
    "        return model.fit([row.residual[0]])[0][0]\n",
    "\n",
    "df2.increment_residual = df2.apply(impute, axis=1)"
   ]
  },
  {
   "cell_type": "code",
   "execution_count": 7,
   "metadata": {},
   "outputs": [],
   "source": [
    "df2.to_csv(\"../data/simulated.csv\", index=False)"
   ]
  },
  {
   "cell_type": "code",
   "execution_count": 8,
   "metadata": {},
   "outputs": [],
   "source": [
    "# from scipy import integrate\n",
    "# import matplotlib.pyplot as plt\n",
    "\n",
    "# marginal_1 = lambda x: fits[\"6\"].pdf([0, x])\n",
    "# marginal_2 = lambda x: fits[\"6\"].pdf([-10, x])\n",
    "\n",
    "# cond_1 = lambda x: marginal_1(x)/integrate.quad(marginal_1, a=-np.inf, b=np.inf)[0]\n",
    "# cond_2 = lambda x: marginal_2(x)/integrate.quad(marginal_2, a=-np.inf, b=np.inf)[0]\n",
    "\n",
    "# rv_1 = get_dist(fits[\"6\"], 0)\n",
    "# rv_2 = get_dist(fits[\"6\"], 9)\n",
    "\n",
    "\n",
    "# values = np.linspace(-5,5,num=100)\n",
    "# # plt.plot(values, [cond_1(v) for v in values], label=\"0\")\n",
    "# plt.plot(values, [rv1.pdf(v) for v in values], label=\"0_ref\")\n",
    "\n",
    "\n",
    "# # plt.plot(values, [cond_2(v) for v in values], label=\"10\")\n",
    "# plt.plot(values, [rv2.pdf(v) for v in values], label=\"10_ref\")\n",
    "\n",
    "# plt.legend()"
   ]
  }
 ],
 "metadata": {
  "kernelspec": {
   "display_name": "Python 3",
   "language": "python",
   "name": "python3"
  },
  "language_info": {
   "codemirror_mode": {
    "name": "ipython",
    "version": 3
   },
   "file_extension": ".py",
   "mimetype": "text/x-python",
   "name": "python",
   "nbconvert_exporter": "python",
   "pygments_lexer": "ipython3",
   "version": "3.8.5"
  }
 },
 "nbformat": 4,
 "nbformat_minor": 4
}
