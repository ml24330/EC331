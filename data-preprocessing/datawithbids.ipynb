{
 "cells": [
  {
   "cell_type": "code",
   "execution_count": 1,
   "metadata": {},
   "outputs": [
    {
     "name": "stderr",
     "output_type": "stream",
     "text": [
      "/Users/liumukun/anaconda3/lib/python3.8/site-packages/pandas/core/computation/expressions.py:20: UserWarning: Pandas requires version '2.7.3' or newer of 'numexpr' (version '2.7.1' currently installed).\n",
      "  from pandas.core.computation.check import NUMEXPR_INSTALLED\n"
     ]
    }
   ],
   "source": [
    "import pandas as pd\n",
    "\n",
    "data = pd.read_csv(\"../data/listings.csv\")"
   ]
  },
  {
   "cell_type": "code",
   "execution_count": 2,
   "metadata": {},
   "outputs": [],
   "source": [
    "data = data.drop(data[data[\"isSold\"] == 0].index).reset_index(drop=True)"
   ]
  },
  {
   "cell_type": "code",
   "execution_count": 3,
   "metadata": {},
   "outputs": [],
   "source": [
    "top_two = data.bids.apply(lambda x: eval(x)[:2])"
   ]
  },
  {
   "cell_type": "code",
   "execution_count": 4,
   "metadata": {},
   "outputs": [],
   "source": [
    "def EBAY_INCREMENT(current):\n",
    "    if current < 1:\n",
    "        return 0.05\n",
    "    elif current < 5:\n",
    "        return 0.2\n",
    "    elif current < 15:\n",
    "        return 0.5\n",
    "    elif current < 60:\n",
    "        return 1\n",
    "    elif current < 150:\n",
    "        return 2\n",
    "    elif current < 300:\n",
    "        return 5\n",
    "    elif current < 600:\n",
    "        return 10\n",
    "    elif current < 1500:\n",
    "        return 20\n",
    "    elif current < 3000:\n",
    "        return 50\n",
    "    else:\n",
    "        return 100"
   ]
  },
  {
   "cell_type": "code",
   "execution_count": 5,
   "metadata": {},
   "outputs": [],
   "source": [
    "def INTERVALS(current):\n",
    "    if current < 1:\n",
    "        return 1\n",
    "    elif current < 5:\n",
    "        return 5\n",
    "    elif current < 15:\n",
    "        return 15\n",
    "    elif current < 60:\n",
    "        return 60\n",
    "    elif current < 150:\n",
    "        return 150\n",
    "    elif current < 300:\n",
    "        return 300\n",
    "    elif current < 600:\n",
    "        return 600\n",
    "    elif current < 1500:\n",
    "        return 1500\n",
    "    elif current < 3000:\n",
    "        return 3000"
   ]
  },
  {
   "cell_type": "code",
   "execution_count": 6,
   "metadata": {},
   "outputs": [],
   "source": [
    "def rule_used(bids):\n",
    "    increment = EBAY_INCREMENT(bids[-1])\n",
    "    if bids[0]-bids[-1] != increment:\n",
    "        return 0\n",
    "    else:\n",
    "        return 1\n",
    "\n",
    "data[\"ruleTriggered\"] = top_two.apply(rule_used)\n",
    "data[\"increment\"] = data.bids.apply(lambda x: eval(x)[0]+EBAY_INCREMENT(eval(x)[0]))\n",
    "data.increment = data.increment.astype(float)"
   ]
  },
  {
   "cell_type": "code",
   "execution_count": 7,
   "metadata": {},
   "outputs": [],
   "source": [
    "from ast import literal_eval\n",
    "\n",
    "data.bids = data.bids.apply(literal_eval)"
   ]
  },
  {
   "cell_type": "code",
   "execution_count": 8,
   "metadata": {},
   "outputs": [],
   "source": [
    "new_data = data.explode(\"bids\").reset_index(drop=True)"
   ]
  },
  {
   "cell_type": "code",
   "execution_count": 9,
   "metadata": {},
   "outputs": [],
   "source": [
    "def get_order(row):\n",
    "    _id = row.id\n",
    "    bid = row.bids\n",
    "    original_bids = data[data.id == _id].bids.iloc[0]\n",
    "    return original_bids.index(bid)+1\n",
    "\n",
    "new_data[\"nobid\"] = new_data.apply(get_order, axis=1)"
   ]
  },
  {
   "cell_type": "code",
   "execution_count": 10,
   "metadata": {
    "scrolled": true
   },
   "outputs": [],
   "source": [
    "for _id in new_data[\"id\"].unique():\n",
    "    listing = new_data[new_data[\"id\"] == _id]\n",
    "    for index, count in zip(list(listing[\"nobid\"].value_counts().index), listing[\"nobid\"].value_counts().values):\n",
    "        for i in range(count-1):\n",
    "            for j in range(i+1):\n",
    "                l = new_data[(new_data[\"id\"] == _id) & (new_data[\"nobid\"] == index)].index[0]\n",
    "                new_data.iloc[l,-1] = new_data.iloc[l,-1] + j + 1"
   ]
  },
  {
   "cell_type": "code",
   "execution_count": 11,
   "metadata": {},
   "outputs": [],
   "source": [
    "apple = new_data[new_data.apple == 1]\n",
    "samsung = new_data[new_data.samsung == 1]\n",
    "amazon = new_data[new_data.amazon == 1]\n",
    "others = new_data[new_data.others == 1]\n",
    "\n",
    "new_data.loc[apple.index,[\"bids\",\"startingPrice\", \"price\", \"increment\"]] = (apple[[\"bids\",\"startingPrice\", \"price\", \"increment\"]]/apple.bids.std())\n",
    "new_data.loc[samsung.index,[\"bids\",\"startingPrice\", \"price\", \"increment\"]] = (samsung[[\"bids\",\"startingPrice\", \"price\", \"increment\"]]/samsung.bids.std())\n",
    "new_data.loc[amazon.index,[\"bids\",\"startingPrice\", \"price\", \"increment\"]] = (amazon[[\"bids\",\"startingPrice\", \"price\", \"increment\"]]/amazon.bids.std())\n",
    "new_data.loc[others.index,[\"bids\",\"startingPrice\", \"price\", \"increment\"]] = (others[[\"bids\",\"startingPrice\", \"price\", \"increment\"]]/others.bids.std())"
   ]
  },
  {
   "cell_type": "code",
   "execution_count": 12,
   "metadata": {},
   "outputs": [],
   "source": [
    "new_data.to_csv(\"../data/bids.csv\", index=False)"
   ]
  }
 ],
 "metadata": {
  "kernelspec": {
   "display_name": "Python 3",
   "language": "python",
   "name": "python3"
  },
  "language_info": {
   "codemirror_mode": {
    "name": "ipython",
    "version": 3
   },
   "file_extension": ".py",
   "mimetype": "text/x-python",
   "name": "python",
   "nbconvert_exporter": "python",
   "pygments_lexer": "ipython3",
   "version": "3.8.5"
  }
 },
 "nbformat": 4,
 "nbformat_minor": 4
}
