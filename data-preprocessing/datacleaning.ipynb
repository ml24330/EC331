{
 "cells": [
  {
   "cell_type": "markdown",
   "metadata": {},
   "source": [
    "Importing relevant modules and raw data."
   ]
  },
  {
   "cell_type": "code",
   "execution_count": 1,
   "metadata": {},
   "outputs": [
    {
     "name": "stderr",
     "output_type": "stream",
     "text": [
      "/Users/liumukun/anaconda3/lib/python3.8/site-packages/pandas/core/computation/expressions.py:20: UserWarning: Pandas requires version '2.7.3' or newer of 'numexpr' (version '2.7.1' currently installed).\n",
      "  from pandas.core.computation.check import NUMEXPR_INSTALLED\n"
     ]
    }
   ],
   "source": [
    "from db_utils import QueryAll\n",
    "import pandas as pd"
   ]
  },
  {
   "cell_type": "code",
   "execution_count": 2,
   "metadata": {},
   "outputs": [],
   "source": [
    "columns = [\"id\", \"url\", \"location\", \"brand\", \"model\", \"screenSize\", \"storage\", \"postage\", \"shippingType\", \n",
    "          \"endTime\", \"returnsAccepted\", \"returnsDays\", \"condition\", \"sellerFeedbackScore\", \"sellerPositivePercent\", \n",
    "          \"sellerName\", \"price\", \"bids\", \"ram\", \"resolution\", \"sellerPositive\", \"sellerNegative\", \"quantity\", \n",
    "          \"sellerItemsSold\", \"sellerRecordedFeedback\"]\n",
    "data = pd.DataFrame(QueryAll())\n",
    "data.columns = columns"
   ]
  },
  {
   "cell_type": "markdown",
   "metadata": {},
   "source": [
    "The ```isPolice``` column identifies whether a listing is sold by a police auctioneer."
   ]
  },
  {
   "cell_type": "code",
   "execution_count": 3,
   "metadata": {},
   "outputs": [],
   "source": [
    "data[\"isPolice\"] = (data.sellerName == \"leicester_police_property_disposa...\") | (data.sellerName == \"sussexpolice-auctions\")\n",
    "data.isPolice = data.isPolice.astype(int)"
   ]
  },
  {
   "cell_type": "markdown",
   "metadata": {},
   "source": [
    "The ```ram``` column specifies the memory of the device sold, in gigabytes. Any listings with recorded RAM higher than 10 GB are treated as missing values, as those sellers mistakenly thought memory meant storage."
   ]
  },
  {
   "cell_type": "code",
   "execution_count": 4,
   "metadata": {},
   "outputs": [],
   "source": [
    "data.ram = data.ram.astype(float)\n",
    "data.loc[data.ram > 10, \"ram\"] = -1"
   ]
  },
  {
   "cell_type": "markdown",
   "metadata": {},
   "source": [
    "The ```storage``` column specifies the storage of the device sold, in gigabytes. Here it is casted to integers."
   ]
  },
  {
   "cell_type": "code",
   "execution_count": 5,
   "metadata": {},
   "outputs": [],
   "source": [
    "data.storage = data.storage.astype(int)"
   ]
  },
  {
   "cell_type": "markdown",
   "metadata": {},
   "source": [
    "The ```sellerLifePercent``` column stores the percentage of positive feedback received by the seller of a listing throughout their time on eBay. The ```sellerYearPercent``` stores this percentage restricted to listings sold within the past year."
   ]
  },
  {
   "cell_type": "code",
   "execution_count": 6,
   "metadata": {},
   "outputs": [],
   "source": [
    "data.sellerPositive = data.sellerPositive.astype(str).str.replace(\",\",\"\").astype(int)\n",
    "data.sellerNegative = data.sellerNegative.astype(str).str.replace(\",\",\"\").astype(int)"
   ]
  },
  {
   "cell_type": "code",
   "execution_count": 7,
   "metadata": {},
   "outputs": [],
   "source": [
    "data[\"sellerLifePercent\"] = data.sellerPositivePercent.str.replace(\"%\",\"\").astype(float)\n",
    "data[\"sellerYearPercent\"] = data.sellerPositive/(data.sellerPositive+data.sellerNegative).astype(float)*100\n",
    "data.sellerYearPercent = data.sellerYearPercent.round()\n",
    "data.loc[data.sellerYearPercent.isna(), \"sellerYearPercent\"] = 0"
   ]
  },
  {
   "cell_type": "markdown",
   "metadata": {},
   "source": [
    "The ```brand``` and ```model``` columns contain specifications of the device, and here all whitespaces are removed and text made lower case."
   ]
  },
  {
   "cell_type": "code",
   "execution_count": 8,
   "metadata": {},
   "outputs": [],
   "source": [
    "data.brand = data.brand.str.lower().str.strip()\n",
    "data.model = data.model.str.lower().str.strip()"
   ]
  },
  {
   "cell_type": "markdown",
   "metadata": {},
   "source": [
    "The brands of listings are converted to dummy variables for major brands present."
   ]
  },
  {
   "cell_type": "code",
   "execution_count": 9,
   "metadata": {},
   "outputs": [],
   "source": [
    "data[\"apple\"] = (data.brand == \"apple\").astype(int)\n",
    "data[\"samsung\"] = (data.brand == \"samsung\").astype(int)\n",
    "data[\"amazon\"] = (data.brand == \"amazon\").astype(int)\n",
    "data[\"others\"] = ((data.brand != \"apple\") & (data.brand != \"samsung\") & (data.brand != \"amazon\")).astype(int)"
   ]
  },
  {
   "cell_type": "markdown",
   "metadata": {},
   "source": [
    "The ```sellerItemsSold``` column stores the total number of listings sold by the seller."
   ]
  },
  {
   "cell_type": "code",
   "execution_count": 10,
   "metadata": {},
   "outputs": [],
   "source": [
    "def repl(num):\n",
    "    n = num.group(0)\n",
    "    if \"K\" in n:\n",
    "        if \".\" in n:\n",
    "            return n.replace(\".\",\"\").replace(\"K\",\"\") + \"00\"\n",
    "        else:\n",
    "            return n.replace(\"K\",\"\") + \"000\"\n",
    "    elif \"M\" in n:\n",
    "        if \".\" in n:\n",
    "            return n.replace(\".\",\"\").replace(\"M\",\"\") + \"00000\"\n",
    "        else:\n",
    "            return n.replace(\"M\",\"\") + \"000000\"\n",
    "    \n",
    "data.sellerItemsSold = data.sellerItemsSold.astype(str).str.replace(\"[0-9,.]+(M|K)\", repl, regex=True).astype(int)"
   ]
  },
  {
   "cell_type": "markdown",
   "metadata": {},
   "source": [
    "The ```postage``` column stores the cost of shipping of the listing. Free postage is recorded as 0."
   ]
  },
  {
   "cell_type": "code",
   "execution_count": 11,
   "metadata": {},
   "outputs": [],
   "source": [
    "def transform_p(po):\n",
    "    p = str(po)\n",
    "    if p == \"Free\" or p == \"0\":\n",
    "        return 0\n",
    "    elif p.startswith(\"£\"):\n",
    "        return p[1:]\n",
    "    elif p.startswith(\"EUR\"):\n",
    "        return float(p[4:])*0.88\n",
    "\n",
    "data.postage = data.postage.apply(transform_p)"
   ]
  },
  {
   "cell_type": "markdown",
   "metadata": {},
   "source": [
    "The ```isUsed``` column specifies if the device sold is brand new or used. The ```isBroken``` column specifies if it is partly not working. "
   ]
  },
  {
   "cell_type": "code",
   "execution_count": 12,
   "metadata": {},
   "outputs": [],
   "source": [
    "data[\"isUsed\"] = (data.condition == \"Used\") | (data.condition == \"For parts or not working\") \\\n",
    "    | (data.condition == \"Good - Refurbished\")\n",
    "data[\"isBroken\"] = (data.condition == \"For parts or not working\")\n",
    "data.isUsed = data.isUsed.astype(int)\n",
    "data.isBroken = data.isBroken.astype(int)"
   ]
  },
  {
   "cell_type": "markdown",
   "metadata": {},
   "source": [
    "The ```deliverySpeed``` column specifies the speed of the postage service used by the seller, labeled from 0 to 2, where 0 is the slowest (economy) and 2 is the fastest (express or courier)."
   ]
  },
  {
   "cell_type": "code",
   "execution_count": 13,
   "metadata": {},
   "outputs": [],
   "source": [
    "def transform_d(de):\n",
    "    if de == \"Economy Delivery\" or de == \"An Post International\" or de ==\"Free collection in person\":\n",
    "        return 0\n",
    "    elif de == \"Standard Delivery\":\n",
    "        return 1\n",
    "    elif de == \"Express Delivery\" or de == \"Courier\":\n",
    "        return 2\n",
    "\n",
    "data[\"deliverySpeed\"] = data.shippingType.apply(transform_d)"
   ]
  },
  {
   "cell_type": "markdown",
   "metadata": {},
   "source": [
    "The ```startingPrice``` column stores the minimum price set by the seller. This includes the postage."
   ]
  },
  {
   "cell_type": "code",
   "execution_count": 14,
   "metadata": {},
   "outputs": [],
   "source": [
    "def transform_s(row):\n",
    "    b = eval(row.bids)\n",
    "    _b = b[-1].replace(\",\",\"\")\n",
    "    if _b.startswith(\"£\"):\n",
    "        return float(b[-1][1:])+float(row.postage)\n",
    "    elif _b.startswith(\"EUR\"):\n",
    "        return float(b[-1][4:])*0.88+float(row.postage)\n",
    "    \n",
    "data[\"startingPrice\"] = data.apply(transform_s, axis=1)"
   ]
  },
  {
   "cell_type": "markdown",
   "metadata": {},
   "source": [
    "The ```bids``` column contains arrays of highest bids made by distinct bidders, in descending order. It contains the winning price but not the minimum price, all inclusive of the postage."
   ]
  },
  {
   "cell_type": "code",
   "execution_count": 15,
   "metadata": {},
   "outputs": [],
   "source": [
    "def transform_b(row):\n",
    "    b = eval(row.bids)[:-1]\n",
    "    _bids = []\n",
    "    for bid in b:\n",
    "        _bid = bid.replace(\",\",\"\")\n",
    "        if bid.startswith(\"£\"):\n",
    "            _bids.append(_bid[1:])\n",
    "        elif bid.startswith(\"EUR\"):\n",
    "            _bids.append(float(_bid[4:])*0.88)\n",
    "        \n",
    "    bids_with_postage = [float(bid) + float(row.postage) for bid in _bids]\n",
    "    return bids_with_postage\n",
    "\n",
    "data.bids = data.apply(transform_b, axis=1)"
   ]
  },
  {
   "cell_type": "markdown",
   "metadata": {},
   "source": [
    "The ```isSold``` column indicates whether a listing received at least one bid."
   ]
  },
  {
   "cell_type": "code",
   "execution_count": 16,
   "metadata": {},
   "outputs": [],
   "source": [
    "data[\"isSold\"] = data.bids.astype(bool).astype(int)"
   ]
  },
  {
   "cell_type": "markdown",
   "metadata": {},
   "source": [
    "The ```price``` column records the transaction price of the listing. It is not the highest bid but an increment of the second highest, as per eBay rules. This includes the postage."
   ]
  },
  {
   "cell_type": "code",
   "execution_count": 17,
   "metadata": {},
   "outputs": [],
   "source": [
    "def transform_pr(row):\n",
    "    p = str(row.price)\n",
    "    _p = p.replace(\",\",\"\")\n",
    "    if p.startswith(\"£\"):\n",
    "        return float(_p[1:])+float(row.postage)\n",
    "    elif p.startswith(\"EUR\"):\n",
    "        return float(_p[4:])*0.88+float(row.postage)\n",
    "\n",
    "data.price = data.apply(transform_pr, axis=1)"
   ]
  },
  {
   "cell_type": "markdown",
   "metadata": {},
   "source": [
    "Here, all price related columns are adjusted for the quantity of devices sold within each listing."
   ]
  },
  {
   "cell_type": "code",
   "execution_count": 18,
   "metadata": {},
   "outputs": [],
   "source": [
    "def transform_q(row):\n",
    "    row.bids = [round(float(bid)/row.quantity, 2) for bid in row.bids]\n",
    "    row.startingPrice = round(float(row.startingPrice)/row.quantity, 2)\n",
    "    row.price = round(float(row.price)/row.quantity, 2)\n",
    "    return row\n",
    "    \n",
    "data = data.apply(transform_q, axis=1)"
   ]
  },
  {
   "cell_type": "markdown",
   "metadata": {},
   "source": [
    "The ```bidCount``` column stores the number of bids a auction received."
   ]
  },
  {
   "cell_type": "code",
   "execution_count": 19,
   "metadata": {},
   "outputs": [],
   "source": [
    "data[\"bidCount\"] = data.bids.apply(lambda a: len(a))"
   ]
  },
  {
   "cell_type": "code",
   "execution_count": 20,
   "metadata": {},
   "outputs": [
    {
     "data": {
      "text/plain": [
       "0       08 Dec, 2022 20:12:01 GMT\n",
       "1       12 Dec, 2022 22:37:46 GMT\n",
       "2       17 Dec, 2022 11:01:15 GMT\n",
       "3       13 Dec, 2022 13:57:13 GMT\n",
       "4       14 Dec, 2022 20:50:56 GMT\n",
       "                  ...            \n",
       "1059    10 Feb, 2023 20:48:54 GMT\n",
       "1060    08 Jan, 2023 22:40:01 GMT\n",
       "1061    11 Jan, 2023 18:14:29 GMT\n",
       "1062    28 Feb, 2023 22:25:37 GMT\n",
       "1063    08 Dec, 2022 18:02:58 GMT\n",
       "Name: endTime, Length: 1064, dtype: object"
      ]
     },
     "execution_count": 20,
     "metadata": {},
     "output_type": "execute_result"
    }
   ],
   "source": [
    "data.endTime"
   ]
  },
  {
   "cell_type": "markdown",
   "metadata": {},
   "source": [
    "The ```isNight``` column stores whether an auction ended during night time, defined as being after 5PM and before 2AM."
   ]
  },
  {
   "cell_type": "code",
   "execution_count": 21,
   "metadata": {},
   "outputs": [],
   "source": [
    "import dateutil\n",
    "\n",
    "tzmapping = {\"GMT\": dateutil.tz.gettz(\"Europe/London\"),\n",
    "             \"BST\": dateutil.tz.gettz(\"Europe/London\")}\n",
    "\n",
    "data.endTime = data.endTime.apply(dateutil.parser.parse, tzinfos=tzmapping).dt.tz_convert(\"UTC\")\n",
    "\n",
    "data.endTime = pd.to_datetime(data.endTime)\n",
    "data[\"isNight\"] = ((data.endTime.dt.hour > 16) | (data.endTime.dt.hour < 2)).astype(int)"
   ]
  },
  {
   "cell_type": "code",
   "execution_count": 22,
   "metadata": {
    "scrolled": true
   },
   "outputs": [],
   "source": [
    "data.sellerRecordedFeedback = data.sellerRecordedFeedback.astype(str).str.replace(\",\",\"\").astype(int)"
   ]
  },
  {
   "cell_type": "code",
   "execution_count": 23,
   "metadata": {
    "scrolled": true
   },
   "outputs": [],
   "source": [
    "import statsmodels.api as sm\n",
    "\n",
    "X = data[data[\"sellerFeedbackScore\"] >= 0][\"sellerRecordedFeedback\"]\n",
    "y = data[data[\"sellerFeedbackScore\"] >= 0][\"sellerFeedbackScore\"]\n",
    "\n",
    "exog = sm.add_constant(X)\n",
    "\n",
    "result = sm.OLS(y,exog).fit()\n",
    "\n",
    "data.loc[data[data[\"sellerFeedbackScore\"] == -1].index,\"sellerFeedbackScore\"] = \\\n",
    "data[data[\"sellerFeedbackScore\"] == -1].sellerRecordedFeedback.apply(lambda n: result.predict([1,n])[0])"
   ]
  },
  {
   "cell_type": "markdown",
   "metadata": {},
   "source": [
    "The data is exported as a ```.csv``` file for further analysis."
   ]
  },
  {
   "cell_type": "code",
   "execution_count": 24,
   "metadata": {},
   "outputs": [],
   "source": [
    "keep = [\"id\", \"apple\", \"samsung\", \"amazon\", \"others\", \"model\", \"screenSize\", \"storage\", \"isNight\", \"returnsAccepted\", \"returnsDays\", \n",
    "           \"sellerFeedbackScore\", \"bids\", \"price\", \"ram\", \"resolution\", \"sellerItemsSold\", \"isPolice\", \"sellerLifePercent\",\n",
    "           \"sellerYearPercent\", \"isUsed\", \"isBroken\", \"deliverySpeed\", \"startingPrice\", \"isSold\", \"bidCount\"]\n",
    "data = data[keep]"
   ]
  },
  {
   "cell_type": "code",
   "execution_count": 25,
   "metadata": {},
   "outputs": [],
   "source": [
    "data.to_csv(\"../data/listings.csv\", index=False)"
   ]
  }
 ],
 "metadata": {
  "kernelspec": {
   "display_name": "Python 3",
   "language": "python",
   "name": "python3"
  },
  "language_info": {
   "codemirror_mode": {
    "name": "ipython",
    "version": 3
   },
   "file_extension": ".py",
   "mimetype": "text/x-python",
   "name": "python",
   "nbconvert_exporter": "python",
   "pygments_lexer": "ipython3",
   "version": "3.8.5"
  }
 },
 "nbformat": 4,
 "nbformat_minor": 4
}
