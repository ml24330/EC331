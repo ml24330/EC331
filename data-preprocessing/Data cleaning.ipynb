{
 "cells": [
  {
   "cell_type": "markdown",
   "metadata": {},
   "source": [
    "Importing relevant modules and raw data."
   ]
  },
  {
   "cell_type": "code",
   "execution_count": 1,
   "metadata": {},
   "outputs": [],
   "source": [
    "from db_utils import QueryAll\n",
    "import pandas as pd"
   ]
  },
  {
   "cell_type": "code",
   "execution_count": 2,
   "metadata": {},
   "outputs": [],
   "source": [
    "columns = [\"id\", \"url\", \"location\", \"brand\", \"model\", \"screenSize\", \"storage\", \"postage\", \"shippingType\", \n",
    "          \"endTime\", \"returnsAccepted\", \"returnsDays\", \"condition\", \"sellerFeedbackScore\", \"sellerPositivePercent\", \n",
    "          \"sellerName\", \"price\", \"bids\", \"ram\", \"resolution\", \"sellerPositive\", \"sellerNegative\", \"quantity\", \n",
    "          \"sellerItemsSold\"]\n",
    "data = pd.DataFrame(QueryAll())\n",
    "data.columns = columns"
   ]
  },
  {
   "cell_type": "markdown",
   "metadata": {},
   "source": [
    "The ```isPolice``` column identifies whether a listing is sold by a police auctioneer."
   ]
  },
  {
   "cell_type": "code",
   "execution_count": 3,
   "metadata": {},
   "outputs": [],
   "source": [
    "data[\"isPolice\"] = (data.sellerName == \"leicester_police_property_disposa...\") | (data.sellerName == \"sussexpolice-auctions\")\n",
    "data.isPolice = data.isPolice.astype(int)"
   ]
  },
  {
   "cell_type": "markdown",
   "metadata": {},
   "source": [
    "The ```ram``` column specifies the memory of the device sold, in gigabytes. Any listings with recorded RAM higher than 10 GB are treated as missing values, as those sellers mistakenly thought memory meant storage."
   ]
  },
  {
   "cell_type": "code",
   "execution_count": 4,
   "metadata": {},
   "outputs": [],
   "source": [
    "data.ram = data.ram.astype(float)\n",
    "data.loc[data.ram > 10, \"ram\"] = -1"
   ]
  },
  {
   "cell_type": "markdown",
   "metadata": {},
   "source": [
    "The ```storage``` column specifies the storage of the device sold, in gigabytes. Here it is casted to integers."
   ]
  },
  {
   "cell_type": "code",
   "execution_count": 5,
   "metadata": {},
   "outputs": [],
   "source": [
    "data.storage = data.storage.astype(int)"
   ]
  },
  {
   "cell_type": "markdown",
   "metadata": {},
   "source": [
    "The ```sellerLifePercent``` column stores the percentage of positive feedback received by the seller of a listing throughout their time on eBay. The ```sellerYearPercent``` stores this percentage restricted to listings sold within the past year."
   ]
  },
  {
   "cell_type": "code",
   "execution_count": 6,
   "metadata": {},
   "outputs": [],
   "source": [
    "data.sellerPositive = data.sellerPositive.astype(str).str.replace(\",\",\"\").astype(int)\n",
    "data.sellerNegative = data.sellerNegative.astype(str).str.replace(\",\",\"\").astype(int)"
   ]
  },
  {
   "cell_type": "code",
   "execution_count": 7,
   "metadata": {},
   "outputs": [],
   "source": [
    "data[\"sellerLifePercent\"] = data.sellerPositivePercent.str.replace(\"%\",\"\").astype(float)\n",
    "data[\"sellerYearPercent\"] = data.sellerPositive/(data.sellerPositive+data.sellerNegative).astype(float)*100\n",
    "data.sellerYearPercent = data.sellerYearPercent.round()\n",
    "data.loc[data.sellerYearPercent.isna(), \"sellerYearPercent\"] = 0"
   ]
  },
  {
   "cell_type": "markdown",
   "metadata": {},
   "source": [
    "The ```sellerItemsSold``` column stores the total number of listings sold by the seller."
   ]
  },
  {
   "cell_type": "code",
   "execution_count": 8,
   "metadata": {},
   "outputs": [],
   "source": [
    "def repl(num):\n",
    "    n = num.group(0)\n",
    "    if \"K\" in n:\n",
    "        if \".\" in n:\n",
    "            return n.replace(\".\",\"\").replace(\"K\",\"\") + \"00\"\n",
    "        else:\n",
    "            return n.replace(\"K\",\"\") + \"000\"\n",
    "    elif \"M\" in n:\n",
    "        if \".\" in n:\n",
    "            return n.replace(\".\",\"\").replace(\"M\",\"\") + \"00000\"\n",
    "        else:\n",
    "            return n.replace(\"M\",\"\") + \"000000\"\n",
    "    \n",
    "data.sellerItemsSold = data.sellerItemsSold.astype(str).str.replace(\"[0-9,.]+(M|K)\", repl, regex=True).astype(int)"
   ]
  },
  {
   "cell_type": "markdown",
   "metadata": {},
   "source": [
    "The ```postage``` column stores the cost of shipping of the listing. Free postage is recorded as 0."
   ]
  },
  {
   "cell_type": "code",
   "execution_count": 9,
   "metadata": {},
   "outputs": [],
   "source": [
    "def transform_p(po):\n",
    "    p = str(po)\n",
    "    if p == \"Free\" or p == \"0\":\n",
    "        return 0\n",
    "    elif p.startswith(\"£\"):\n",
    "        return p[1:]\n",
    "    elif p.startswith(\"EUR\"):\n",
    "        return float(p[4:])*0.88\n",
    "\n",
    "data.postage = data.postage.apply(transform_p)"
   ]
  },
  {
   "cell_type": "markdown",
   "metadata": {},
   "source": [
    "The ```isUsed``` column specifies if the device sold is brand new or used. The ```isBroken``` column specifies if it is partly not working. "
   ]
  },
  {
   "cell_type": "code",
   "execution_count": 10,
   "metadata": {},
   "outputs": [],
   "source": [
    "data[\"isUsed\"] = (data.condition == \"Used\") | (data.condition == \"For parts or not working\") \\\n",
    "    | (data.condition == \"Good - Refurbished\")\n",
    "data[\"isBroken\"] = (data.condition == \"For parts or not working\")\n",
    "data.isUsed = data.isUsed.astype(int)\n",
    "data.isBroken = data.isBroken.astype(int)"
   ]
  },
  {
   "cell_type": "markdown",
   "metadata": {},
   "source": [
    "The ```deliverySpeed``` column specifies the speed of the postage service used by the seller, labeled from 0 to 2, where 0 is the slowest (economy) and 2 is the fastest (express or courier)."
   ]
  },
  {
   "cell_type": "code",
   "execution_count": 11,
   "metadata": {},
   "outputs": [],
   "source": [
    "def transform_d(de):\n",
    "    if de == \"Economy Delivery\" or de == \"An Post International\" or de ==\"Free collection in person\":\n",
    "        return 0\n",
    "    elif de == \"Standard Delivery\":\n",
    "        return 1\n",
    "    elif de == \"Express Delivery\" or de == \"Courier\":\n",
    "        return 2\n",
    "\n",
    "data[\"deliverySpeed\"] = data.shippingType.apply(transform_d)"
   ]
  },
  {
   "cell_type": "markdown",
   "metadata": {},
   "source": [
    "The ```startingPrice``` column stores the minimum price set by the seller."
   ]
  },
  {
   "cell_type": "code",
   "execution_count": 12,
   "metadata": {},
   "outputs": [],
   "source": [
    "def transform_s(bids):\n",
    "    b = eval(bids)\n",
    "    _b = b[-1].replace(\",\",\"\")\n",
    "    if _b.startswith(\"£\"):\n",
    "        return b[-1][1:]\n",
    "    elif _b.startswith(\"EUR\"):\n",
    "        return float(b[-1][4:])*0.88\n",
    "    \n",
    "data[\"startingPrice\"] = data.bids.apply(transform_s)"
   ]
  },
  {
   "cell_type": "markdown",
   "metadata": {},
   "source": [
    "The ```bids``` column contains arrays of highest bids made by distinct bidders, in descending order. It contains the winning price but not the minimum price."
   ]
  },
  {
   "cell_type": "code",
   "execution_count": 13,
   "metadata": {},
   "outputs": [],
   "source": [
    "def transform_b(bids):\n",
    "    b = eval(bids)[:-1]\n",
    "    _bids = []\n",
    "    for bid in b:\n",
    "        _bid = bid.replace(\",\",\"\")\n",
    "        if bid.startswith(\"£\"):\n",
    "            _bids.append(_bid[1:])\n",
    "        elif bid.startswith(\"EUR\"):\n",
    "            _bids.append(float(_bid[4:])*0.88)\n",
    "    return _bids\n",
    "\n",
    "data.bids = data.bids.apply(transform_b)"
   ]
  },
  {
   "cell_type": "markdown",
   "metadata": {},
   "source": [
    "The ```isSold``` column indicates whether a listing received at least one bid."
   ]
  },
  {
   "cell_type": "code",
   "execution_count": 14,
   "metadata": {},
   "outputs": [],
   "source": [
    "data[\"isSold\"] = data.bids.astype(bool).astype(int)"
   ]
  },
  {
   "cell_type": "markdown",
   "metadata": {},
   "source": [
    "The ```price``` column records the transaction price of the listing. It is not the highest bid but an increment of the second highest, as per eBay rules."
   ]
  },
  {
   "cell_type": "code",
   "execution_count": 15,
   "metadata": {},
   "outputs": [],
   "source": [
    "def transform_pr(p):\n",
    "    _p = p.replace(\",\",\"\")\n",
    "    if p.startswith(\"£\"):\n",
    "        return _p[1:]\n",
    "    elif p.startswith(\"EUR\"):\n",
    "        return float(_p[4:])*0.88\n",
    "\n",
    "data.price = data.price.astype(str).apply(transform_pr)"
   ]
  },
  {
   "cell_type": "markdown",
   "metadata": {},
   "source": [
    "Here, all price related columns are adjusted for the quantity of devices sold within each listing."
   ]
  },
  {
   "cell_type": "code",
   "execution_count": 16,
   "metadata": {},
   "outputs": [],
   "source": [
    "def transform_q(row):\n",
    "    row.bids = [round(float(bid)/row.quantity, 2) for bid in row.bids]\n",
    "    row.startingPrice = round(float(row.startingPrice)/row.quantity, 2)\n",
    "    row.price = round(float(row.price)/row.quantity, 2)\n",
    "    return row\n",
    "    \n",
    "data = data.apply(transform_q, axis=1)"
   ]
  },
  {
   "cell_type": "markdown",
   "metadata": {},
   "source": [
    "The ```brand``` and ```model``` columns contain specifications of the device, and here all whitespaces are removed and text made lower case."
   ]
  },
  {
   "cell_type": "code",
   "execution_count": 17,
   "metadata": {},
   "outputs": [],
   "source": [
    "data.brand = data.brand.str.lower().str.strip()\n",
    "data.model = data.model.str.lower().str.strip()"
   ]
  },
  {
   "cell_type": "markdown",
   "metadata": {},
   "source": [
    "The data is exported as a ```.csv``` file for further analysis."
   ]
  },
  {
   "cell_type": "code",
   "execution_count": 19,
   "metadata": {},
   "outputs": [],
   "source": [
    "keep = [\"id\", \"brand\", \"model\", \"screenSize\", \"storage\", \"postage\", \"endTime\", \"returnsAccepted\", \"returnsDays\", \n",
    "           \"sellerFeedbackScore\", \"bids\", \"price\", \"ram\", \"resolution\", \"sellerItemsSold\", \"isPolice\", \"sellerLifePercent\",\n",
    "           \"sellerYearPercent\", \"isUsed\", \"isBroken\", \"deliverySpeed\", \"startingPrice\", \"isSold\"]\n",
    "data = data[keep]"
   ]
  },
  {
   "cell_type": "code",
   "execution_count": 23,
   "metadata": {},
   "outputs": [],
   "source": [
    "data.to_csv(\"listings.csv\", index=False)"
   ]
  }
 ],
 "metadata": {
  "kernelspec": {
   "display_name": "Python 3",
   "language": "python",
   "name": "python3"
  },
  "language_info": {
   "codemirror_mode": {
    "name": "ipython",
    "version": 3
   },
   "file_extension": ".py",
   "mimetype": "text/x-python",
   "name": "python",
   "nbconvert_exporter": "python",
   "pygments_lexer": "ipython3",
   "version": "3.8.5"
  }
 },
 "nbformat": 4,
 "nbformat_minor": 4
}
