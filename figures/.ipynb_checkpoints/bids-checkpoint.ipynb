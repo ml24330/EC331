{
 "cells": [
  {
   "cell_type": "code",
   "execution_count": 2,
   "metadata": {},
   "outputs": [],
   "source": [
    "import pandas as pd\n",
    "\n",
    "data = pd.read_csv(\"listings.csv\")"
   ]
  },
  {
   "cell_type": "code",
   "execution_count": 19,
   "metadata": {},
   "outputs": [],
   "source": [
    "top_two = data[data.isSold == 1].bids.apply(lambda x: eval(x)[:2])"
   ]
  },
  {
   "cell_type": "markdown",
   "metadata": {},
   "source": [
    "Source: [eBay article on automatic bidding](https://www.ebay.co.uk/help/buying/bidding/automatic-bidding?id=4014#:~:text=When%20someone%20else%20places%20a,larger%20in%20higher%20price%20brackets.&text=Occasionally%20you'll%20see%20bids%20increase%20by%20less)"
   ]
  },
  {
   "cell_type": "code",
   "execution_count": 24,
   "metadata": {},
   "outputs": [],
   "source": [
    "def EBAY_INCREMENT(current):\n",
    "    if current < 1:\n",
    "        return 0.05\n",
    "    elif current < 5:\n",
    "        return 0.2\n",
    "    elif current < 15:\n",
    "        return 0.5\n",
    "    elif current < 60:\n",
    "        return 1\n",
    "    elif current < 150:\n",
    "        return 2\n",
    "    elif current < 300:\n",
    "        return 5\n",
    "    elif current < 600:\n",
    "        return 10\n",
    "    elif current < 1500:\n",
    "        return 20\n",
    "    elif current < 3000:\n",
    "        return 50\n",
    "    else:\n",
    "        return 100"
   ]
  },
  {
   "cell_type": "code",
   "execution_count": 27,
   "metadata": {},
   "outputs": [],
   "source": [
    "def INTERVALS(current):\n",
    "    if current < 1:\n",
    "        return 1\n",
    "    elif current < 5:\n",
    "        return 5\n",
    "    elif current < 15:\n",
    "        return 15\n",
    "    elif current < 60:\n",
    "        return 60\n",
    "    elif current < 150:\n",
    "        return 150\n",
    "    elif current < 300:\n",
    "        return 300\n",
    "    elif current < 600:\n",
    "        return 600\n",
    "    elif current < 1500:\n",
    "        return 1500\n",
    "    elif current < 3000:\n",
    "        return 3000"
   ]
  },
  {
   "cell_type": "code",
   "execution_count": 49,
   "metadata": {},
   "outputs": [],
   "source": [
    "def rule_used(bids):\n",
    "    increment = EBAY_INCREMENT(bids[-1])\n",
    "    if bids[0]-bids[-1] != increment:\n",
    "        return 0\n",
    "    else:\n",
    "        return 1\n",
    "\n",
    "df = pd.DataFrame()\n",
    "df[\"ruleTriggered\"] = top_two.apply(rule_used)\n",
    "df[\"interval\"] = top_two.apply(lambda bids: INTERVALS(bids[-1]))"
   ]
  },
  {
   "cell_type": "code",
   "execution_count": 53,
   "metadata": {},
   "outputs": [
    {
     "data": {
      "text/html": [
       "<div>\n",
       "<style scoped>\n",
       "    .dataframe tbody tr th:only-of-type {\n",
       "        vertical-align: middle;\n",
       "    }\n",
       "\n",
       "    .dataframe tbody tr th {\n",
       "        vertical-align: top;\n",
       "    }\n",
       "\n",
       "    .dataframe thead tr th {\n",
       "        text-align: left;\n",
       "    }\n",
       "\n",
       "    .dataframe thead tr:last-of-type th {\n",
       "        text-align: right;\n",
       "    }\n",
       "</style>\n",
       "<table border=\"1\" class=\"dataframe\">\n",
       "  <thead>\n",
       "    <tr>\n",
       "      <th></th>\n",
       "      <th colspan=\"3\" halign=\"left\">ruleTriggered</th>\n",
       "    </tr>\n",
       "    <tr>\n",
       "      <th></th>\n",
       "      <th>sum</th>\n",
       "      <th>count</th>\n",
       "      <th>mean</th>\n",
       "    </tr>\n",
       "    <tr>\n",
       "      <th>interval</th>\n",
       "      <th></th>\n",
       "      <th></th>\n",
       "      <th></th>\n",
       "    </tr>\n",
       "  </thead>\n",
       "  <tbody>\n",
       "    <tr>\n",
       "      <th>1</th>\n",
       "      <td>0</td>\n",
       "      <td>1</td>\n",
       "      <td>0.000000</td>\n",
       "    </tr>\n",
       "    <tr>\n",
       "      <th>5</th>\n",
       "      <td>0</td>\n",
       "      <td>3</td>\n",
       "      <td>0.000000</td>\n",
       "    </tr>\n",
       "    <tr>\n",
       "      <th>15</th>\n",
       "      <td>32</td>\n",
       "      <td>56</td>\n",
       "      <td>0.571429</td>\n",
       "    </tr>\n",
       "    <tr>\n",
       "      <th>60</th>\n",
       "      <td>154</td>\n",
       "      <td>216</td>\n",
       "      <td>0.712963</td>\n",
       "    </tr>\n",
       "    <tr>\n",
       "      <th>150</th>\n",
       "      <td>31</td>\n",
       "      <td>48</td>\n",
       "      <td>0.645833</td>\n",
       "    </tr>\n",
       "    <tr>\n",
       "      <th>300</th>\n",
       "      <td>13</td>\n",
       "      <td>15</td>\n",
       "      <td>0.866667</td>\n",
       "    </tr>\n",
       "    <tr>\n",
       "      <th>600</th>\n",
       "      <td>47</td>\n",
       "      <td>65</td>\n",
       "      <td>0.723077</td>\n",
       "    </tr>\n",
       "    <tr>\n",
       "      <th>1500</th>\n",
       "      <td>48</td>\n",
       "      <td>68</td>\n",
       "      <td>0.705882</td>\n",
       "    </tr>\n",
       "    <tr>\n",
       "      <th>3000</th>\n",
       "      <td>2</td>\n",
       "      <td>2</td>\n",
       "      <td>1.000000</td>\n",
       "    </tr>\n",
       "  </tbody>\n",
       "</table>\n",
       "</div>"
      ],
      "text/plain": [
       "         ruleTriggered                \n",
       "                   sum count      mean\n",
       "interval                              \n",
       "1                    0     1  0.000000\n",
       "5                    0     3  0.000000\n",
       "15                  32    56  0.571429\n",
       "60                 154   216  0.712963\n",
       "150                 31    48  0.645833\n",
       "300                 13    15  0.866667\n",
       "600                 47    65  0.723077\n",
       "1500                48    68  0.705882\n",
       "3000                 2     2  1.000000"
      ]
     },
     "execution_count": 53,
     "metadata": {},
     "output_type": "execute_result"
    }
   ],
   "source": [
    "df.groupby(\"interval\").agg([\"sum\", \"count\", \"mean\"])"
   ]
  }
 ],
 "metadata": {
  "kernelspec": {
   "display_name": "Python 3",
   "language": "python",
   "name": "python3"
  },
  "language_info": {
   "codemirror_mode": {
    "name": "ipython",
    "version": 3
   },
   "file_extension": ".py",
   "mimetype": "text/x-python",
   "name": "python",
   "nbconvert_exporter": "python",
   "pygments_lexer": "ipython3",
   "version": "3.8.5"
  }
 },
 "nbformat": 4,
 "nbformat_minor": 4
}
